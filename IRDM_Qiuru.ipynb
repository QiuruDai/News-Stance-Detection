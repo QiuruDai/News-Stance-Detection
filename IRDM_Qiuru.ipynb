{
 "cells": [
  {
   "cell_type": "markdown",
   "metadata": {},
   "source": [
    "News Stance Detection"
   ]
  },
  {
   "cell_type": "markdown",
   "metadata": {},
   "source": [
    "import package"
   ]
  },
  {
   "cell_type": "code",
   "execution_count": 1,
   "metadata": {
    "collapsed": true
   },
   "outputs": [],
   "source": [
    "import pandas as pd\n",
    "import numpy as np\n",
    "import matplotlib.pyplot as plt\n",
    "import seaborn as sns\n",
    "from collections import Counter"
   ]
  },
  {
   "cell_type": "code",
   "execution_count": 2,
   "metadata": {
    "collapsed": true
   },
   "outputs": [],
   "source": [
    "#self defined function from .py files\n",
    "import clean as cl\n",
    "import tfidf as ti\n",
    "import feature as fe\n",
    "import language_model as lm\n",
    "import model as md"
   ]
  },
  {
   "cell_type": "markdown",
   "metadata": {},
   "source": [
    "load data"
   ]
  },
  {
   "cell_type": "code",
   "execution_count": 3,
   "metadata": {},
   "outputs": [
    {
     "ename": "FileNotFoundError",
     "evalue": "File b'./fnc-1/train_bodies.csv' does not exist",
     "output_type": "error",
     "traceback": [
      "\u001b[0;31m---------------------------------------------------------------------------\u001b[0m",
      "\u001b[0;31mFileNotFoundError\u001b[0m                         Traceback (most recent call last)",
      "\u001b[0;32m<ipython-input-3-e4ca47f882c7>\u001b[0m in \u001b[0;36m<module>\u001b[0;34m()\u001b[0m\n\u001b[0;32m----> 1\u001b[0;31m \u001b[0mtrain_bodies\u001b[0m \u001b[0;34m=\u001b[0m \u001b[0mpd\u001b[0m\u001b[0;34m.\u001b[0m\u001b[0mread_csv\u001b[0m\u001b[0;34m(\u001b[0m\u001b[0;34m'./fnc-1/train_bodies.csv'\u001b[0m\u001b[0;34m)\u001b[0m\u001b[0;34m\u001b[0m\u001b[0m\n\u001b[0m\u001b[1;32m      2\u001b[0m \u001b[0mtrain_stances\u001b[0m \u001b[0;34m=\u001b[0m \u001b[0mpd\u001b[0m\u001b[0;34m.\u001b[0m\u001b[0mread_csv\u001b[0m\u001b[0;34m(\u001b[0m\u001b[0;34m'./fnc-1/train_stances.csv'\u001b[0m\u001b[0;34m)\u001b[0m\u001b[0;34m\u001b[0m\u001b[0m\n\u001b[1;32m      3\u001b[0m \u001b[0mtest_bodies\u001b[0m \u001b[0;34m=\u001b[0m \u001b[0mpd\u001b[0m\u001b[0;34m.\u001b[0m\u001b[0mread_csv\u001b[0m\u001b[0;34m(\u001b[0m\u001b[0;34m'./fnc-1/competition_test_bodies.csv'\u001b[0m\u001b[0;34m)\u001b[0m\u001b[0;34m\u001b[0m\u001b[0m\n\u001b[1;32m      4\u001b[0m \u001b[0mtest_stances\u001b[0m \u001b[0;34m=\u001b[0m \u001b[0mpd\u001b[0m\u001b[0;34m.\u001b[0m\u001b[0mread_csv\u001b[0m\u001b[0;34m(\u001b[0m\u001b[0;34m'./fnc-1/competition_test_stances.csv'\u001b[0m\u001b[0;34m)\u001b[0m\u001b[0;34m\u001b[0m\u001b[0m\n",
      "\u001b[0;32m/Applications/anaconda3/lib/python3.6/site-packages/pandas/io/parsers.py\u001b[0m in \u001b[0;36mparser_f\u001b[0;34m(filepath_or_buffer, sep, delimiter, header, names, index_col, usecols, squeeze, prefix, mangle_dupe_cols, dtype, engine, converters, true_values, false_values, skipinitialspace, skiprows, nrows, na_values, keep_default_na, na_filter, verbose, skip_blank_lines, parse_dates, infer_datetime_format, keep_date_col, date_parser, dayfirst, iterator, chunksize, compression, thousands, decimal, lineterminator, quotechar, quoting, escapechar, comment, encoding, dialect, tupleize_cols, error_bad_lines, warn_bad_lines, skipfooter, skip_footer, doublequote, delim_whitespace, as_recarray, compact_ints, use_unsigned, low_memory, buffer_lines, memory_map, float_precision)\u001b[0m\n\u001b[1;32m    653\u001b[0m                     skip_blank_lines=skip_blank_lines)\n\u001b[1;32m    654\u001b[0m \u001b[0;34m\u001b[0m\u001b[0m\n\u001b[0;32m--> 655\u001b[0;31m         \u001b[0;32mreturn\u001b[0m \u001b[0m_read\u001b[0m\u001b[0;34m(\u001b[0m\u001b[0mfilepath_or_buffer\u001b[0m\u001b[0;34m,\u001b[0m \u001b[0mkwds\u001b[0m\u001b[0;34m)\u001b[0m\u001b[0;34m\u001b[0m\u001b[0m\n\u001b[0m\u001b[1;32m    656\u001b[0m \u001b[0;34m\u001b[0m\u001b[0m\n\u001b[1;32m    657\u001b[0m     \u001b[0mparser_f\u001b[0m\u001b[0;34m.\u001b[0m\u001b[0m__name__\u001b[0m \u001b[0;34m=\u001b[0m \u001b[0mname\u001b[0m\u001b[0;34m\u001b[0m\u001b[0m\n",
      "\u001b[0;32m/Applications/anaconda3/lib/python3.6/site-packages/pandas/io/parsers.py\u001b[0m in \u001b[0;36m_read\u001b[0;34m(filepath_or_buffer, kwds)\u001b[0m\n\u001b[1;32m    403\u001b[0m \u001b[0;34m\u001b[0m\u001b[0m\n\u001b[1;32m    404\u001b[0m     \u001b[0;31m# Create the parser.\u001b[0m\u001b[0;34m\u001b[0m\u001b[0;34m\u001b[0m\u001b[0m\n\u001b[0;32m--> 405\u001b[0;31m     \u001b[0mparser\u001b[0m \u001b[0;34m=\u001b[0m \u001b[0mTextFileReader\u001b[0m\u001b[0;34m(\u001b[0m\u001b[0mfilepath_or_buffer\u001b[0m\u001b[0;34m,\u001b[0m \u001b[0;34m**\u001b[0m\u001b[0mkwds\u001b[0m\u001b[0;34m)\u001b[0m\u001b[0;34m\u001b[0m\u001b[0m\n\u001b[0m\u001b[1;32m    406\u001b[0m \u001b[0;34m\u001b[0m\u001b[0m\n\u001b[1;32m    407\u001b[0m     \u001b[0;32mif\u001b[0m \u001b[0mchunksize\u001b[0m \u001b[0;32mor\u001b[0m \u001b[0miterator\u001b[0m\u001b[0;34m:\u001b[0m\u001b[0;34m\u001b[0m\u001b[0m\n",
      "\u001b[0;32m/Applications/anaconda3/lib/python3.6/site-packages/pandas/io/parsers.py\u001b[0m in \u001b[0;36m__init__\u001b[0;34m(self, f, engine, **kwds)\u001b[0m\n\u001b[1;32m    762\u001b[0m             \u001b[0mself\u001b[0m\u001b[0;34m.\u001b[0m\u001b[0moptions\u001b[0m\u001b[0;34m[\u001b[0m\u001b[0;34m'has_index_names'\u001b[0m\u001b[0;34m]\u001b[0m \u001b[0;34m=\u001b[0m \u001b[0mkwds\u001b[0m\u001b[0;34m[\u001b[0m\u001b[0;34m'has_index_names'\u001b[0m\u001b[0;34m]\u001b[0m\u001b[0;34m\u001b[0m\u001b[0m\n\u001b[1;32m    763\u001b[0m \u001b[0;34m\u001b[0m\u001b[0m\n\u001b[0;32m--> 764\u001b[0;31m         \u001b[0mself\u001b[0m\u001b[0;34m.\u001b[0m\u001b[0m_make_engine\u001b[0m\u001b[0;34m(\u001b[0m\u001b[0mself\u001b[0m\u001b[0;34m.\u001b[0m\u001b[0mengine\u001b[0m\u001b[0;34m)\u001b[0m\u001b[0;34m\u001b[0m\u001b[0m\n\u001b[0m\u001b[1;32m    765\u001b[0m \u001b[0;34m\u001b[0m\u001b[0m\n\u001b[1;32m    766\u001b[0m     \u001b[0;32mdef\u001b[0m \u001b[0mclose\u001b[0m\u001b[0;34m(\u001b[0m\u001b[0mself\u001b[0m\u001b[0;34m)\u001b[0m\u001b[0;34m:\u001b[0m\u001b[0;34m\u001b[0m\u001b[0m\n",
      "\u001b[0;32m/Applications/anaconda3/lib/python3.6/site-packages/pandas/io/parsers.py\u001b[0m in \u001b[0;36m_make_engine\u001b[0;34m(self, engine)\u001b[0m\n\u001b[1;32m    983\u001b[0m     \u001b[0;32mdef\u001b[0m \u001b[0m_make_engine\u001b[0m\u001b[0;34m(\u001b[0m\u001b[0mself\u001b[0m\u001b[0;34m,\u001b[0m \u001b[0mengine\u001b[0m\u001b[0;34m=\u001b[0m\u001b[0;34m'c'\u001b[0m\u001b[0;34m)\u001b[0m\u001b[0;34m:\u001b[0m\u001b[0;34m\u001b[0m\u001b[0m\n\u001b[1;32m    984\u001b[0m         \u001b[0;32mif\u001b[0m \u001b[0mengine\u001b[0m \u001b[0;34m==\u001b[0m \u001b[0;34m'c'\u001b[0m\u001b[0;34m:\u001b[0m\u001b[0;34m\u001b[0m\u001b[0m\n\u001b[0;32m--> 985\u001b[0;31m             \u001b[0mself\u001b[0m\u001b[0;34m.\u001b[0m\u001b[0m_engine\u001b[0m \u001b[0;34m=\u001b[0m \u001b[0mCParserWrapper\u001b[0m\u001b[0;34m(\u001b[0m\u001b[0mself\u001b[0m\u001b[0;34m.\u001b[0m\u001b[0mf\u001b[0m\u001b[0;34m,\u001b[0m \u001b[0;34m**\u001b[0m\u001b[0mself\u001b[0m\u001b[0;34m.\u001b[0m\u001b[0moptions\u001b[0m\u001b[0;34m)\u001b[0m\u001b[0;34m\u001b[0m\u001b[0m\n\u001b[0m\u001b[1;32m    986\u001b[0m         \u001b[0;32melse\u001b[0m\u001b[0;34m:\u001b[0m\u001b[0;34m\u001b[0m\u001b[0m\n\u001b[1;32m    987\u001b[0m             \u001b[0;32mif\u001b[0m \u001b[0mengine\u001b[0m \u001b[0;34m==\u001b[0m \u001b[0;34m'python'\u001b[0m\u001b[0;34m:\u001b[0m\u001b[0;34m\u001b[0m\u001b[0m\n",
      "\u001b[0;32m/Applications/anaconda3/lib/python3.6/site-packages/pandas/io/parsers.py\u001b[0m in \u001b[0;36m__init__\u001b[0;34m(self, src, **kwds)\u001b[0m\n\u001b[1;32m   1603\u001b[0m         \u001b[0mkwds\u001b[0m\u001b[0;34m[\u001b[0m\u001b[0;34m'allow_leading_cols'\u001b[0m\u001b[0;34m]\u001b[0m \u001b[0;34m=\u001b[0m \u001b[0mself\u001b[0m\u001b[0;34m.\u001b[0m\u001b[0mindex_col\u001b[0m \u001b[0;32mis\u001b[0m \u001b[0;32mnot\u001b[0m \u001b[0;32mFalse\u001b[0m\u001b[0;34m\u001b[0m\u001b[0m\n\u001b[1;32m   1604\u001b[0m \u001b[0;34m\u001b[0m\u001b[0m\n\u001b[0;32m-> 1605\u001b[0;31m         \u001b[0mself\u001b[0m\u001b[0;34m.\u001b[0m\u001b[0m_reader\u001b[0m \u001b[0;34m=\u001b[0m \u001b[0mparsers\u001b[0m\u001b[0;34m.\u001b[0m\u001b[0mTextReader\u001b[0m\u001b[0;34m(\u001b[0m\u001b[0msrc\u001b[0m\u001b[0;34m,\u001b[0m \u001b[0;34m**\u001b[0m\u001b[0mkwds\u001b[0m\u001b[0;34m)\u001b[0m\u001b[0;34m\u001b[0m\u001b[0m\n\u001b[0m\u001b[1;32m   1606\u001b[0m \u001b[0;34m\u001b[0m\u001b[0m\n\u001b[1;32m   1607\u001b[0m         \u001b[0;31m# XXX\u001b[0m\u001b[0;34m\u001b[0m\u001b[0;34m\u001b[0m\u001b[0m\n",
      "\u001b[0;32mpandas/_libs/parsers.pyx\u001b[0m in \u001b[0;36mpandas._libs.parsers.TextReader.__cinit__ (pandas/_libs/parsers.c:4209)\u001b[0;34m()\u001b[0m\n",
      "\u001b[0;32mpandas/_libs/parsers.pyx\u001b[0m in \u001b[0;36mpandas._libs.parsers.TextReader._setup_parser_source (pandas/_libs/parsers.c:8873)\u001b[0;34m()\u001b[0m\n",
      "\u001b[0;31mFileNotFoundError\u001b[0m: File b'./fnc-1/train_bodies.csv' does not exist"
     ]
    }
   ],
   "source": [
    "train_bodies = pd.read_csv('./fnc-1/train_bodies.csv')\n",
    "train_stances = pd.read_csv('./fnc-1/train_stances.csv')\n",
    "test_bodies = pd.read_csv('./fnc-1/competition_test_bodies.csv')\n",
    "test_stances = pd.read_csv('./fnc-1/competition_test_stances.csv')"
   ]
  },
  {
   "cell_type": "code",
   "execution_count": null,
   "metadata": {},
   "outputs": [],
   "source": [
    "train_bodies.head()"
   ]
  },
  {
   "cell_type": "code",
   "execution_count": null,
   "metadata": {},
   "outputs": [],
   "source": [
    "train_bodies.shape"
   ]
  },
  {
   "cell_type": "code",
   "execution_count": null,
   "metadata": {},
   "outputs": [],
   "source": [
    "train_stances.head()"
   ]
  },
  {
   "cell_type": "code",
   "execution_count": null,
   "metadata": {},
   "outputs": [],
   "source": [
    "train_stances.shape"
   ]
  },
  {
   "cell_type": "code",
   "execution_count": null,
   "metadata": {},
   "outputs": [],
   "source": [
    "test_bodies.shape"
   ]
  },
  {
   "cell_type": "code",
   "execution_count": null,
   "metadata": {},
   "outputs": [],
   "source": [
    "test_stances.shape"
   ]
  },
  {
   "cell_type": "markdown",
   "metadata": {},
   "source": [
    "clean data"
   ]
  },
  {
   "cell_type": "code",
   "execution_count": null,
   "metadata": {
    "collapsed": true
   },
   "outputs": [],
   "source": [
    "clean_stances = train_stances.copy()\n",
    "clean_bodies = train_bodies.copy()"
   ]
  },
  {
   "cell_type": "code",
   "execution_count": null,
   "metadata": {
    "collapsed": true
   },
   "outputs": [],
   "source": [
    "clean_headline = [cl.clean_sentence(sentence) for sentence in clean_stances['Headline']]   \n",
    "clean_article = [cl.clean_sentence(sentence) for sentence in clean_bodies['articleBody']]  "
   ]
  },
  {
   "cell_type": "code",
   "execution_count": null,
   "metadata": {
    "collapsed": true
   },
   "outputs": [],
   "source": [
    "clean_stances['Headline'] = clean_headline\n",
    "clean_bodies['articleBody'] = clean_article"
   ]
  },
  {
   "cell_type": "code",
   "execution_count": null,
   "metadata": {
    "collapsed": true
   },
   "outputs": [],
   "source": [
    "#test set\n",
    "clean_test_stances = test_stances.copy()\n",
    "clean_test_bodies = test_bodies.copy()"
   ]
  },
  {
   "cell_type": "code",
   "execution_count": null,
   "metadata": {
    "collapsed": true
   },
   "outputs": [],
   "source": [
    "clean_test_headline = [cl.clean_sentence(sentence) for sentence in clean_test_stances['Headline']]   \n",
    "clean_test_article = [cl.clean_sentence(sentence) for sentence in clean_test_bodies['articleBody']]  "
   ]
  },
  {
   "cell_type": "code",
   "execution_count": null,
   "metadata": {
    "collapsed": true
   },
   "outputs": [],
   "source": [
    "clean_test_stances['Headline'] = clean_test_headline\n",
    "clean_test_bodies['articleBody'] = clean_test_article"
   ]
  },
  {
   "cell_type": "code",
   "execution_count": null,
   "metadata": {},
   "outputs": [],
   "source": [
    "clean_stances.head()"
   ]
  },
  {
   "cell_type": "code",
   "execution_count": null,
   "metadata": {},
   "outputs": [],
   "source": [
    "clean_stances.shape"
   ]
  },
  {
   "cell_type": "code",
   "execution_count": null,
   "metadata": {},
   "outputs": [],
   "source": [
    "clean_bodies.head()"
   ]
  },
  {
   "cell_type": "code",
   "execution_count": null,
   "metadata": {},
   "outputs": [],
   "source": [
    "clean_bodies.shape"
   ]
  },
  {
   "cell_type": "code",
   "execution_count": null,
   "metadata": {},
   "outputs": [],
   "source": [
    "clean_test_stances.head()"
   ]
  },
  {
   "cell_type": "code",
   "execution_count": null,
   "metadata": {},
   "outputs": [],
   "source": [
    "clean_test_bodies.head()"
   ]
  },
  {
   "cell_type": "markdown",
   "metadata": {},
   "source": [
    "observe unique headlines and bodies"
   ]
  },
  {
   "cell_type": "code",
   "execution_count": null,
   "metadata": {
    "collapsed": true
   },
   "outputs": [],
   "source": [
    "uni_head = train_stances['Headline'].unique()"
   ]
  },
  {
   "cell_type": "code",
   "execution_count": null,
   "metadata": {
    "collapsed": true
   },
   "outputs": [],
   "source": [
    "uni_body = train_bodies['articleBody'].unique()"
   ]
  },
  {
   "cell_type": "code",
   "execution_count": null,
   "metadata": {
    "collapsed": true
   },
   "outputs": [],
   "source": [
    "clean_uni_head = [cl.clean_sentence(sentence) for sentence in uni_head]   \n",
    "clean_uni_body = [cl.clean_sentence(sentence) for sentence in uni_body]  "
   ]
  },
  {
   "cell_type": "code",
   "execution_count": null,
   "metadata": {
    "scrolled": false
   },
   "outputs": [],
   "source": [
    "len(clean_uni_body)"
   ]
  },
  {
   "cell_type": "code",
   "execution_count": null,
   "metadata": {
    "scrolled": false
   },
   "outputs": [],
   "source": [
    "len(clean_uni_head)"
   ]
  },
  {
   "cell_type": "code",
   "execution_count": null,
   "metadata": {
    "collapsed": true
   },
   "outputs": [],
   "source": [
    "clean_uni_all = clean_uni_head + clean_uni_body"
   ]
  },
  {
   "cell_type": "code",
   "execution_count": null,
   "metadata": {
    "scrolled": true
   },
   "outputs": [],
   "source": [
    "len(clean_uni_all)"
   ]
  },
  {
   "cell_type": "markdown",
   "metadata": {},
   "source": [
    "merge body and stance"
   ]
  },
  {
   "cell_type": "code",
   "execution_count": null,
   "metadata": {
    "collapsed": true
   },
   "outputs": [],
   "source": [
    "clean_merge = pd.merge(clean_stances, clean_bodies, how='left', on=['Body ID', 'Body ID'])"
   ]
  },
  {
   "cell_type": "code",
   "execution_count": null,
   "metadata": {
    "scrolled": false
   },
   "outputs": [],
   "source": [
    "clean_merge.head()"
   ]
  },
  {
   "cell_type": "code",
   "execution_count": null,
   "metadata": {},
   "outputs": [],
   "source": [
    "sum(clean_merge.Headline == clean_stances.Headline)"
   ]
  },
  {
   "cell_type": "code",
   "execution_count": null,
   "metadata": {
    "scrolled": false
   },
   "outputs": [],
   "source": [
    "clean_merge.shape"
   ]
  },
  {
   "cell_type": "code",
   "execution_count": null,
   "metadata": {
    "collapsed": true
   },
   "outputs": [],
   "source": [
    "clean_test_merge = pd.merge(clean_test_stances, clean_test_bodies, how='left', on=['Body ID', 'Body ID'])"
   ]
  },
  {
   "cell_type": "code",
   "execution_count": null,
   "metadata": {
    "scrolled": false
   },
   "outputs": [],
   "source": [
    "clean_test_merge.head()"
   ]
  },
  {
   "cell_type": "code",
   "execution_count": null,
   "metadata": {},
   "outputs": [],
   "source": [
    "sum(clean_test_merge.Headline == clean_test_stances.Headline)"
   ]
  },
  {
   "cell_type": "code",
   "execution_count": null,
   "metadata": {
    "scrolled": false
   },
   "outputs": [],
   "source": [
    "clean_test_merge.shape"
   ]
  },
  {
   "cell_type": "markdown",
   "metadata": {},
   "source": [
    "###  subtask 2. vector representation and cosine  similarity"
   ]
  },
  {
   "cell_type": "markdown",
   "metadata": {},
   "source": [
    "build vocabulary"
   ]
  },
  {
   "cell_type": "code",
   "execution_count": null,
   "metadata": {
    "collapsed": true,
    "scrolled": true
   },
   "outputs": [],
   "source": [
    "#all voc\n",
    "voc_all = []\n",
    "for sentence in clean_uni_all:\n",
    "    voc_all = voc_all + sentence"
   ]
  },
  {
   "cell_type": "code",
   "execution_count": null,
   "metadata": {
    "collapsed": true,
    "scrolled": false
   },
   "outputs": [],
   "source": [
    "voc_all = set(voc_all)"
   ]
  },
  {
   "cell_type": "code",
   "execution_count": null,
   "metadata": {
    "scrolled": false
   },
   "outputs": [],
   "source": [
    "len(voc_all)"
   ]
  },
  {
   "cell_type": "code",
   "execution_count": null,
   "metadata": {
    "collapsed": true
   },
   "outputs": [],
   "source": [
    "#add index\n",
    "inx_voc_all = dict(zip(voc_all,range(len(voc_all))))"
   ]
  },
  {
   "cell_type": "markdown",
   "metadata": {},
   "source": [
    "tf-idf"
   ]
  },
  {
   "cell_type": "code",
   "execution_count": null,
   "metadata": {},
   "outputs": [],
   "source": [
    "'''\n",
    "#idf was calculated and saved\n",
    "idf = ti.calculate_idf(voc_all,clean_uni_all)\n",
    "\n",
    "import json\n",
    "# Writing idf\n",
    "with open('idf.json', 'w') as f:\n",
    "    json.dump(idf, f)\n",
    "'''"
   ]
  },
  {
   "cell_type": "code",
   "execution_count": null,
   "metadata": {
    "collapsed": true
   },
   "outputs": [],
   "source": [
    "import json\n",
    "# Reading idf\n",
    "with open('idf.json', 'r') as f:\n",
    "    idf = json.load(f)"
   ]
  },
  {
   "cell_type": "markdown",
   "metadata": {},
   "source": [
    "feature selection for tfidf"
   ]
  },
  {
   "cell_type": "code",
   "execution_count": null,
   "metadata": {
    "collapsed": true,
    "scrolled": true
   },
   "outputs": [],
   "source": [
    "voc_key = []\n",
    "for sentence in clean_uni_head:\n",
    "    voc_key = voc_key + ti.tfidf_filter(3, sentence, idf)\n",
    "for sentence in clean_uni_body:\n",
    "    voc_key = voc_key + ti.tfidf_filter(30, sentence, idf)"
   ]
  },
  {
   "cell_type": "code",
   "execution_count": null,
   "metadata": {
    "collapsed": true
   },
   "outputs": [],
   "source": [
    "voc_key = set(voc_key)"
   ]
  },
  {
   "cell_type": "code",
   "execution_count": null,
   "metadata": {},
   "outputs": [],
   "source": [
    "len(voc_key)"
   ]
  },
  {
   "cell_type": "code",
   "execution_count": null,
   "metadata": {
    "collapsed": true
   },
   "outputs": [],
   "source": [
    "#add index\n",
    "inx_voc_key = dict(zip(voc_key,range(len(voc_key))))"
   ]
  },
  {
   "cell_type": "markdown",
   "metadata": {},
   "source": [
    "word2vec"
   ]
  },
  {
   "cell_type": "code",
   "execution_count": null,
   "metadata": {
    "collapsed": true
   },
   "outputs": [],
   "source": [
    "clean_all = clean_merge['Headline']+clean_merge['articleBody']"
   ]
  },
  {
   "cell_type": "code",
   "execution_count": null,
   "metadata": {},
   "outputs": [],
   "source": [
    "len(clean_all)"
   ]
  },
  {
   "cell_type": "code",
   "execution_count": null,
   "metadata": {
    "collapsed": true
   },
   "outputs": [],
   "source": [
    "from gensim.models import Word2Vec"
   ]
  },
  {
   "cell_type": "code",
   "execution_count": null,
   "metadata": {
    "collapsed": true
   },
   "outputs": [],
   "source": [
    "dim = 200\n",
    "w2v_model = Word2Vec(sentences=clean_all, min_count=1, size = dim)"
   ]
  },
  {
   "cell_type": "code",
   "execution_count": null,
   "metadata": {},
   "outputs": [],
   "source": [
    "voc_w2v = list(w2v_model.wv.vocab.keys()) \n",
    "len(voc_w2v)"
   ]
  },
  {
   "cell_type": "code",
   "execution_count": null,
   "metadata": {
    "collapsed": true
   },
   "outputs": [],
   "source": [
    "def word2vec_vector(sentence, model, voc, dim):\n",
    "    vector = np.zeros(dim)\n",
    "    for word in sentence:\n",
    "        if word in voc:\n",
    "            vector = np.add(vector, model.wv.word_vec(word))\n",
    "    vector = vector / np.linalg.norm(vector)\n",
    "    return vector  "
   ]
  },
  {
   "cell_type": "markdown",
   "metadata": {},
   "source": [
    "calculate cosine"
   ]
  },
  {
   "cell_type": "code",
   "execution_count": null,
   "metadata": {
    "collapsed": true
   },
   "outputs": [],
   "source": [
    "all_merge = clean_merge.copy()"
   ]
  },
  {
   "cell_type": "code",
   "execution_count": null,
   "metadata": {
    "scrolled": false
   },
   "outputs": [],
   "source": [
    "all_merge[0:5]"
   ]
  },
  {
   "cell_type": "code",
   "execution_count": null,
   "metadata": {},
   "outputs": [],
   "source": [
    "len(all_merge)"
   ]
  },
  {
   "cell_type": "code",
   "execution_count": null,
   "metadata": {
    "collapsed": true,
    "scrolled": true
   },
   "outputs": [],
   "source": [
    "all_merge['cos_sim'] = 0.00"
   ]
  },
  {
   "cell_type": "code",
   "execution_count": null,
   "metadata": {
    "collapsed": true
   },
   "outputs": [],
   "source": [
    "col = 4\n",
    "for i in range(len(all_merge)):\n",
    "    h1 = all_merge.iat[i,0]\n",
    "    b1 = all_merge.iat[i,3]\n",
    "    vh1 = ti.calculate_tfidf_vector(h1, idf, inx_voc_all)\n",
    "    vb1 = ti.calculate_tfidf_vector(b1, idf, inx_voc_all)\n",
    "    all_merge.iat[i,col] = fe.cos_similar(vh1,vb1)\n",
    "#     print(cos_similar(vh1,vb1))"
   ]
  },
  {
   "cell_type": "code",
   "execution_count": null,
   "metadata": {
    "collapsed": true,
    "scrolled": true
   },
   "outputs": [],
   "source": [
    "all_merge['cos_sim_key'] = 0.0"
   ]
  },
  {
   "cell_type": "code",
   "execution_count": null,
   "metadata": {
    "collapsed": true
   },
   "outputs": [],
   "source": [
    "col = 5\n",
    "for i in range(len(all_merge)):\n",
    "    h1 = all_merge.iat[i,0]\n",
    "    b1 = all_merge.iat[i,3]\n",
    "    vh1 = ti.calculate_tfidf_vector_key(h1, idf, inx_voc_key, voc_key)\n",
    "    vb1 = ti.calculate_tfidf_vector_key(b1, idf, inx_voc_key, voc_key)\n",
    "    all_merge.iat[i,col] = fe.cos_similar(vh1,vb1)"
   ]
  },
  {
   "cell_type": "code",
   "execution_count": null,
   "metadata": {
    "collapsed": true,
    "scrolled": true
   },
   "outputs": [],
   "source": [
    "all_merge['cos_sim_w2v'] = 0.0"
   ]
  },
  {
   "cell_type": "code",
   "execution_count": null,
   "metadata": {
    "collapsed": true
   },
   "outputs": [],
   "source": [
    "col = 6\n",
    "for i in range(len(all_merge)):\n",
    "    h1 = all_merge.iat[i,0]\n",
    "    b1 = all_merge.iat[i,3]\n",
    "    vh1 = word2vec_vector(h1, w2v_model,voc_w2v,dim)\n",
    "    vb1 = word2vec_vector(b1, w2v_model,voc_w2v,dim)\n",
    "    all_merge.iat[i,col] = fe.cos_similar(vh1,vb1)"
   ]
  },
  {
   "cell_type": "markdown",
   "metadata": {},
   "source": [
    "test set"
   ]
  },
  {
   "cell_type": "code",
   "execution_count": null,
   "metadata": {
    "collapsed": true
   },
   "outputs": [],
   "source": [
    "all_test_merge = clean_test_merge.copy()"
   ]
  },
  {
   "cell_type": "code",
   "execution_count": null,
   "metadata": {},
   "outputs": [],
   "source": [
    "all_test_merge[0:2]"
   ]
  },
  {
   "cell_type": "code",
   "execution_count": null,
   "metadata": {
    "collapsed": true,
    "scrolled": true
   },
   "outputs": [],
   "source": [
    "all_test_merge['cos_sim'] = 0.00"
   ]
  },
  {
   "cell_type": "code",
   "execution_count": null,
   "metadata": {},
   "outputs": [],
   "source": [
    "col = 4\n",
    "for i in range(len(all_test_merge)):\n",
    "    h1 = all_test_merge.iat[i,0]\n",
    "    b1 = all_test_merge.iat[i,3]\n",
    "    vh1 = ti.calculate_tfidf_vector_key(h1, idf, inx_voc_all, voc_all)\n",
    "    vb1 = ti.calculate_tfidf_vector_key(b1, idf, inx_voc_all, voc_all)\n",
    "    all_test_merge.iat[i,col] = fe.cos_similar(vh1,vb1)"
   ]
  },
  {
   "cell_type": "code",
   "execution_count": null,
   "metadata": {
    "collapsed": true,
    "scrolled": true
   },
   "outputs": [],
   "source": [
    "all_test_merge['cos_sim_key'] = 0.0"
   ]
  },
  {
   "cell_type": "code",
   "execution_count": null,
   "metadata": {},
   "outputs": [],
   "source": [
    "col = 5\n",
    "for i in range(len(all_test_merge)):\n",
    "    h1 = all_test_merge.iat[i,0]\n",
    "    b1 = all_test_merge.iat[i,3]\n",
    "    vh1 = ti.calculate_tfidf_vector_key(h1, idf, inx_voc_key, voc_key)\n",
    "    vb1 = ti.calculate_tfidf_vector_key(b1, idf, inx_voc_key, voc_key)\n",
    "    all_test_merge.iat[i,col] = fe.cos_similar(vh1,vb1)"
   ]
  },
  {
   "cell_type": "code",
   "execution_count": null,
   "metadata": {
    "collapsed": true,
    "scrolled": true
   },
   "outputs": [],
   "source": [
    "all_test_merge['cos_sim_w2v'] = 0.0"
   ]
  },
  {
   "cell_type": "code",
   "execution_count": null,
   "metadata": {},
   "outputs": [],
   "source": [
    "col = 6\n",
    "for i in range(len(all_test_merge)):\n",
    "    h1 = all_test_merge.iat[i,0]\n",
    "    b1 = all_test_merge.iat[i,3]\n",
    "    vh1 = word2vec_vector(h1, w2v_model,voc_w2v,dim)\n",
    "    vb1 = word2vec_vector(b1, w2v_model,voc_w2v,dim)\n",
    "    all_test_merge.iat[i,col] = fe.cos_similar(vh1,vb1)"
   ]
  },
  {
   "cell_type": "markdown",
   "metadata": {},
   "source": [
    "###  subtask 3. language model"
   ]
  },
  {
   "cell_type": "code",
   "execution_count": null,
   "metadata": {
    "collapsed": true
   },
   "outputs": [],
   "source": [
    "def create_unigram(sentence):\n",
    "    unigram = lm.Ngram_lm(sentence,1)\n",
    "    return unigram"
   ]
  },
  {
   "cell_type": "code",
   "execution_count": null,
   "metadata": {
    "collapsed": true
   },
   "outputs": [],
   "source": [
    "def create_bigram(sentence):\n",
    "    alpha1=0.7\n",
    "    unigram = lm.Ngram_lm(sentence,1)\n",
    "    bigram = lm.Ngram_lm(sentence,2)\n",
    "    bi_unigram=lm.Inter_lm(bigram,unigram,alpha1)\n",
    "    return bi_unigram"
   ]
  },
  {
   "cell_type": "code",
   "execution_count": null,
   "metadata": {
    "collapsed": true,
    "scrolled": true
   },
   "outputs": [],
   "source": [
    "all_merge['kl_head_uni'] = 0.0"
   ]
  },
  {
   "cell_type": "code",
   "execution_count": null,
   "metadata": {
    "collapsed": true,
    "scrolled": true
   },
   "outputs": [],
   "source": [
    "#use models to predict head\n",
    "col = 7\n",
    "for i in range(len(all_merge)):\n",
    "    h = all_merge.iat[i,0]\n",
    "    b = all_merge.iat[i,3]\n",
    "    lm1 = create_unigram(h)\n",
    "    lm2 = create_unigram(b)\n",
    "    p = lm.lm_vector(h, lm1)\n",
    "    q = lm.lm_vector(h, lm2)\n",
    "    all_merge.iat[i,col] = lm.kl_div(p, q)"
   ]
  },
  {
   "cell_type": "code",
   "execution_count": null,
   "metadata": {
    "collapsed": true,
    "scrolled": true
   },
   "outputs": [],
   "source": [
    "all_merge['kl_head_bi'] = 0.0"
   ]
  },
  {
   "cell_type": "code",
   "execution_count": null,
   "metadata": {
    "collapsed": true,
    "scrolled": true
   },
   "outputs": [],
   "source": [
    "#use models to predict head\n",
    "col = 8\n",
    "for i in range(len(all_merge)):\n",
    "    h = all_merge.iat[i,0]\n",
    "    b = all_merge.iat[i,3]\n",
    "    lm1 = create_bigram(h)\n",
    "    lm2 = create_bigram(b)\n",
    "    p = lm.lm_vector(h, lm1)\n",
    "    q = lm.lm_vector(h, lm2)\n",
    "    all_merge.iat[i,col] = lm.kl_div(p, q)"
   ]
  },
  {
   "cell_type": "markdown",
   "metadata": {},
   "source": [
    "test set"
   ]
  },
  {
   "cell_type": "code",
   "execution_count": null,
   "metadata": {
    "collapsed": true,
    "scrolled": true
   },
   "outputs": [],
   "source": [
    "all_test_merge['kl_head_uni'] = 0.0"
   ]
  },
  {
   "cell_type": "code",
   "execution_count": null,
   "metadata": {
    "collapsed": true,
    "scrolled": true
   },
   "outputs": [],
   "source": [
    "#use models to predict head\n",
    "col = 7\n",
    "for i in range(len(all_test_merge)):\n",
    "    h = all_test_merge.iat[i,0]\n",
    "    b = all_test_merge.iat[i,3]\n",
    "    lm1 = create_unigram(h)\n",
    "    lm2 = create_unigram(b)\n",
    "    p = lm.lm_vector(h, lm1)\n",
    "    q = lm.lm_vector(h, lm2)\n",
    "    all_test_merge.iat[i,col] = lm.kl_div(p, q)"
   ]
  },
  {
   "cell_type": "code",
   "execution_count": null,
   "metadata": {
    "collapsed": true,
    "scrolled": true
   },
   "outputs": [],
   "source": [
    "all_test_merge['kl_head_bi'] = 0.0"
   ]
  },
  {
   "cell_type": "code",
   "execution_count": null,
   "metadata": {
    "collapsed": true,
    "scrolled": true
   },
   "outputs": [],
   "source": [
    "#use models to predict head\n",
    "col = 8\n",
    "for i in range(len(all_test_merge)):\n",
    "    h = all_test_merge.iat[i,0]\n",
    "    b = all_test_merge.iat[i,3]\n",
    "    lm1 = create_bigram(h)\n",
    "    lm2 = create_bigram(b)\n",
    "    p = lm.lm_vector(h, lm1)\n",
    "    q = lm.lm_vector(h, lm2)\n",
    "    all_test_merge.iat[i,col] = lm.kl_div(p, q)"
   ]
  },
  {
   "cell_type": "markdown",
   "metadata": {},
   "source": [
    "###  subtask 4. Propose and implement alternative features/distances"
   ]
  },
  {
   "cell_type": "markdown",
   "metadata": {},
   "source": [
    "Euclidean distance"
   ]
  },
  {
   "cell_type": "code",
   "execution_count": null,
   "metadata": {
    "collapsed": true,
    "scrolled": true
   },
   "outputs": [],
   "source": [
    "all_merge['euc_dist'] = 0.0"
   ]
  },
  {
   "cell_type": "code",
   "execution_count": null,
   "metadata": {
    "collapsed": true
   },
   "outputs": [],
   "source": [
    "col = 9\n",
    "for i in range(len(all_merge)):\n",
    "    h1 = all_merge.iat[i,0]\n",
    "    b1 = all_merge.iat[i,3]\n",
    "    vh1 = ti.calculate_tfidf_vector(h1, idf, inx_voc_all)\n",
    "    vb1 = ti.calculate_tfidf_vector(b1, idf, inx_voc_all)\n",
    "    all_merge.iat[i,col] = fe.euc_dist(vh1,vb1)\n",
    "#     print(cos_similar(vh1,vb1))"
   ]
  },
  {
   "cell_type": "code",
   "execution_count": null,
   "metadata": {
    "collapsed": true,
    "scrolled": true
   },
   "outputs": [],
   "source": [
    "all_merge['euc_dist_key'] = 0.0"
   ]
  },
  {
   "cell_type": "code",
   "execution_count": null,
   "metadata": {
    "collapsed": true
   },
   "outputs": [],
   "source": [
    "col = 10\n",
    "for i in range(len(all_merge)):\n",
    "    h1 = all_merge.iat[i,0]\n",
    "    b1 = all_merge.iat[i,3]\n",
    "    vh1 = ti.calculate_tfidf_vector_key(h1, idf, inx_voc_key, voc_key)\n",
    "    vb1 = ti.calculate_tfidf_vector_key(b1, idf, inx_voc_key, voc_key)\n",
    "    all_merge.iat[i,col] = fe.euc_dist(vh1,vb1)"
   ]
  },
  {
   "cell_type": "code",
   "execution_count": null,
   "metadata": {
    "collapsed": true,
    "scrolled": true
   },
   "outputs": [],
   "source": [
    "all_merge['euc_dist_w2v'] = 0.0"
   ]
  },
  {
   "cell_type": "code",
   "execution_count": null,
   "metadata": {
    "collapsed": true
   },
   "outputs": [],
   "source": [
    "col = 11\n",
    "for i in range(len(all_merge)):\n",
    "    h1 = all_merge.iat[i,0]\n",
    "    b1 = all_merge.iat[i,3]\n",
    "    vh1 = word2vec_vector(h1, w2v_model,voc_w2v,dim)\n",
    "    vb1 = word2vec_vector(b1, w2v_model,voc_w2v,dim)\n",
    "    all_merge.iat[i,col] = fe.euc_dist(vh1,vb1)"
   ]
  },
  {
   "cell_type": "markdown",
   "metadata": {},
   "source": [
    "Spearman correlation "
   ]
  },
  {
   "cell_type": "code",
   "execution_count": null,
   "metadata": {
    "collapsed": true,
    "scrolled": true
   },
   "outputs": [],
   "source": [
    "all_merge['spear_corr'] = 0.0"
   ]
  },
  {
   "cell_type": "code",
   "execution_count": null,
   "metadata": {
    "collapsed": true
   },
   "outputs": [],
   "source": [
    "col = 12\n",
    "for i in range(len(all_merge)):\n",
    "    h1 = all_merge.iat[i,0]\n",
    "    b1 = all_merge.iat[i,3]\n",
    "    vh1 = ti.calculate_tfidf_vector(h1, idf, inx_voc_all)\n",
    "    vb1 = ti.calculate_tfidf_vector(b1, idf, inx_voc_all)\n",
    "    all_merge.iat[i,col] = fe.spearman_corr(vh1,vb1)\n",
    "#     print(cos_similar(vh1,vb1))"
   ]
  },
  {
   "cell_type": "code",
   "execution_count": null,
   "metadata": {
    "collapsed": true,
    "scrolled": true
   },
   "outputs": [],
   "source": [
    "all_merge['spear_corr_key'] = 0.0"
   ]
  },
  {
   "cell_type": "code",
   "execution_count": null,
   "metadata": {
    "collapsed": true
   },
   "outputs": [],
   "source": [
    "col = 13\n",
    "for i in range(len(all_merge)):\n",
    "    h1 = all_merge.iat[i,0]\n",
    "    b1 = all_merge.iat[i,3]\n",
    "    vh1 = ti.calculate_tfidf_vector_key(h1, idf, inx_voc_key, voc_key)\n",
    "    vb1 = ti.calculate_tfidf_vector_key(b1, idf, inx_voc_key, voc_key)\n",
    "    all_merge.iat[i,col] = fe.spearman_corr(vh1,vb1)"
   ]
  },
  {
   "cell_type": "code",
   "execution_count": null,
   "metadata": {
    "collapsed": true,
    "scrolled": true
   },
   "outputs": [],
   "source": [
    "all_merge['spear_corr_w2v'] = 0.0"
   ]
  },
  {
   "cell_type": "code",
   "execution_count": null,
   "metadata": {
    "collapsed": true
   },
   "outputs": [],
   "source": [
    "col = 14\n",
    "for i in range(len(all_merge)):\n",
    "    h1 = all_merge.iat[i,0]\n",
    "    b1 = all_merge.iat[i,3]\n",
    "    vh1 = word2vec_vector(h1, w2v_model,voc_w2v,dim)\n",
    "    vb1 = word2vec_vector(b1, w2v_model,voc_w2v,dim)\n",
    "    all_merge.iat[i,col] = fe.spearman_corr(vh1,vb1)"
   ]
  },
  {
   "cell_type": "markdown",
   "metadata": {},
   "source": [
    "same words"
   ]
  },
  {
   "cell_type": "code",
   "execution_count": null,
   "metadata": {
    "collapsed": true
   },
   "outputs": [],
   "source": [
    "all_merge['same_word'] = 0.0"
   ]
  },
  {
   "cell_type": "code",
   "execution_count": null,
   "metadata": {
    "collapsed": true
   },
   "outputs": [],
   "source": [
    "col = 15\n",
    "for i in range(len(all_merge)):\n",
    "    h1 = all_merge.iat[i,0]\n",
    "    b1 = all_merge.iat[i,3]\n",
    "    all_merge.iat[i,col] = fe.same_word(h1,b1)"
   ]
  },
  {
   "cell_type": "markdown",
   "metadata": {},
   "source": [
    "test set"
   ]
  },
  {
   "cell_type": "markdown",
   "metadata": {},
   "source": [
    "Euclidean distance"
   ]
  },
  {
   "cell_type": "code",
   "execution_count": null,
   "metadata": {
    "collapsed": true,
    "scrolled": true
   },
   "outputs": [],
   "source": [
    "all_test_merge['euc_dist'] = 0.0"
   ]
  },
  {
   "cell_type": "code",
   "execution_count": null,
   "metadata": {
    "collapsed": true
   },
   "outputs": [],
   "source": [
    "col = 9\n",
    "for i in range(len(all_test_merge)):\n",
    "    h1 = all_test_merge.iat[i,0]\n",
    "    b1 = all_test_merge.iat[i,3]\n",
    "    vh1 = ti.calculate_tfidf_vector_key(h1, idf, inx_voc_all, voc_all)\n",
    "    vb1 = ti.calculate_tfidf_vector_key(b1, idf, inx_voc_all, voc_all)\n",
    "    all_test_merge.iat[i,col] = fe.euc_dist(vh1,vb1)\n",
    "#     print(cos_similar(vh1,vb1))"
   ]
  },
  {
   "cell_type": "code",
   "execution_count": null,
   "metadata": {
    "collapsed": true,
    "scrolled": true
   },
   "outputs": [],
   "source": [
    "all_test_merge['euc_dist_key'] = 0.0"
   ]
  },
  {
   "cell_type": "code",
   "execution_count": null,
   "metadata": {
    "collapsed": true
   },
   "outputs": [],
   "source": [
    "col = 10\n",
    "for i in range(len(all_test_merge)):\n",
    "    h1 = all_test_merge.iat[i,0]\n",
    "    b1 = all_test_merge.iat[i,3]\n",
    "    vh1 = ti.calculate_tfidf_vector_key(h1, idf, inx_voc_key, voc_key)\n",
    "    vb1 = ti.calculate_tfidf_vector_key(b1, idf, inx_voc_key, voc_key)\n",
    "    all_test_merge.iat[i,col] = fe.euc_dist(vh1,vb1)"
   ]
  },
  {
   "cell_type": "code",
   "execution_count": null,
   "metadata": {
    "collapsed": true,
    "scrolled": true
   },
   "outputs": [],
   "source": [
    "all_test_merge['euc_dist_w2v'] = 0.0"
   ]
  },
  {
   "cell_type": "code",
   "execution_count": null,
   "metadata": {},
   "outputs": [],
   "source": [
    "col = 11\n",
    "for i in range(len(all_test_merge)):\n",
    "    h1 = all_test_merge.iat[i,0]\n",
    "    b1 = all_test_merge.iat[i,3]\n",
    "    vh1 = word2vec_vector(h1, w2v_model,voc_w2v,dim)\n",
    "    vb1 = word2vec_vector(b1, w2v_model,voc_w2v,dim)\n",
    "    all_test_merge.iat[i,col] = fe.euc_dist(vh1,vb1)"
   ]
  },
  {
   "cell_type": "markdown",
   "metadata": {},
   "source": [
    "Spearman correlation "
   ]
  },
  {
   "cell_type": "code",
   "execution_count": null,
   "metadata": {
    "collapsed": true,
    "scrolled": true
   },
   "outputs": [],
   "source": [
    "all_test_merge['spear_corr'] = 0.0"
   ]
  },
  {
   "cell_type": "code",
   "execution_count": null,
   "metadata": {
    "collapsed": true
   },
   "outputs": [],
   "source": [
    "col = 12\n",
    "for i in range(len(all_test_merge)):\n",
    "    h1 = all_test_merge.iat[i,0]\n",
    "    b1 = all_test_merge.iat[i,3]\n",
    "    vh1 = ti.calculate_tfidf_vector_key(h1, idf, inx_voc_all, voc_all)\n",
    "    vb1 = ti.calculate_tfidf_vector_key(b1, idf, inx_voc_all, voc_all)\n",
    "    all_test_merge.iat[i,col] = fe.spearman_corr(vh1,vb1)\n",
    "#     print(cos_similar(vh1,vb1))"
   ]
  },
  {
   "cell_type": "code",
   "execution_count": null,
   "metadata": {
    "collapsed": true,
    "scrolled": true
   },
   "outputs": [],
   "source": [
    "all_test_merge['spear_corr_key'] = 0.0"
   ]
  },
  {
   "cell_type": "code",
   "execution_count": null,
   "metadata": {
    "collapsed": true
   },
   "outputs": [],
   "source": [
    "col = 13\n",
    "for i in range(len(all_test_merge)):\n",
    "    h1 = all_test_merge.iat[i,0]\n",
    "    b1 = all_test_merge.iat[i,3]\n",
    "    vh1 = ti.calculate_tfidf_vector_key(h1, idf, inx_voc_key, voc_key)\n",
    "    vb1 = ti.calculate_tfidf_vector_key(b1, idf, inx_voc_key, voc_key)\n",
    "    all_test_merge.iat[i,col] = fe.spearman_corr(vh1,vb1)"
   ]
  },
  {
   "cell_type": "code",
   "execution_count": null,
   "metadata": {
    "collapsed": true,
    "scrolled": true
   },
   "outputs": [],
   "source": [
    "all_test_merge['spear_corr_w2v'] = 0.0"
   ]
  },
  {
   "cell_type": "code",
   "execution_count": null,
   "metadata": {},
   "outputs": [],
   "source": [
    "col = 14\n",
    "for i in range(len(all_test_merge)):\n",
    "    h1 = all_test_merge.iat[i,0]\n",
    "    b1 = all_test_merge.iat[i,3]\n",
    "    vh1 = word2vec_vector(h1, w2v_model,voc_w2v,dim)\n",
    "    vb1 = word2vec_vector(b1, w2v_model,voc_w2v,dim)\n",
    "    all_test_merge.iat[i,col] = fe.spearman_corr(vh1,vb1)"
   ]
  },
  {
   "cell_type": "markdown",
   "metadata": {},
   "source": [
    "same words"
   ]
  },
  {
   "cell_type": "code",
   "execution_count": null,
   "metadata": {
    "collapsed": true
   },
   "outputs": [],
   "source": [
    "all_test_merge['same_word'] = 0.0"
   ]
  },
  {
   "cell_type": "code",
   "execution_count": null,
   "metadata": {
    "collapsed": true
   },
   "outputs": [],
   "source": [
    "col = 15\n",
    "for i in range(len(all_test_merge)):\n",
    "    h1 = all_test_merge.iat[i,0]\n",
    "    b1 = all_test_merge.iat[i,3]\n",
    "    all_test_merge.iat[i,col] = fe.same_word(h1,b1)"
   ]
  },
  {
   "cell_type": "markdown",
   "metadata": {},
   "source": [
    "###  subtask 5.analysis the distributions"
   ]
  },
  {
   "cell_type": "code",
   "execution_count": null,
   "metadata": {
    "collapsed": true
   },
   "outputs": [],
   "source": [
    "# all_merge = pd.read_csv('all_merge.csv')"
   ]
  },
  {
   "cell_type": "code",
   "execution_count": null,
   "metadata": {
    "collapsed": true
   },
   "outputs": [],
   "source": [
    "all_merge[0:2]"
   ]
  },
  {
   "cell_type": "code",
   "execution_count": null,
   "metadata": {
    "collapsed": true
   },
   "outputs": [],
   "source": [
    "all_merge[['Stance','euc_dist','euc_dist_key','euc_dist_w2v','spear_corr','spear_corr_key','spear_corr_w2v','same_word']][0:2]\n"
   ]
  },
  {
   "cell_type": "code",
   "execution_count": null,
   "metadata": {
    "collapsed": true
   },
   "outputs": [],
   "source": [
    "all_merge.shape"
   ]
  },
  {
   "cell_type": "code",
   "execution_count": null,
   "metadata": {
    "collapsed": true
   },
   "outputs": [],
   "source": [
    "# all_merge.to_csv('all_merge.csv')"
   ]
  },
  {
   "cell_type": "code",
   "execution_count": null,
   "metadata": {
    "collapsed": true,
    "scrolled": true
   },
   "outputs": [],
   "source": [
    "all_merge_unrelated = all_merge[all_merge['Stance'] == 'unrelated']\n",
    "all_merge_agree = all_merge[all_merge['Stance'] == 'agree']\n",
    "all_merge_disagree = all_merge[all_merge['Stance'] == 'disagree']\n",
    "all_merge_discuss = all_merge[all_merge['Stance'] == 'discuss']"
   ]
  },
  {
   "cell_type": "code",
   "execution_count": null,
   "metadata": {
    "collapsed": true
   },
   "outputs": [],
   "source": [
    "all_merge_unrelated.shape[0]+all_merge_agree.shape[0]+all_merge_disagree.shape[0]+all_merge_discuss.shape[0]"
   ]
  },
  {
   "cell_type": "code",
   "execution_count": null,
   "metadata": {
    "collapsed": true
   },
   "outputs": [],
   "source": [
    "all_merge.describe()"
   ]
  },
  {
   "cell_type": "code",
   "execution_count": null,
   "metadata": {
    "collapsed": true
   },
   "outputs": [],
   "source": [
    "all_merge_unrelated.describe()"
   ]
  },
  {
   "cell_type": "code",
   "execution_count": null,
   "metadata": {
    "collapsed": true
   },
   "outputs": [],
   "source": [
    "all_merge_agree.describe()"
   ]
  },
  {
   "cell_type": "code",
   "execution_count": null,
   "metadata": {
    "collapsed": true
   },
   "outputs": [],
   "source": [
    "all_merge_disagree.describe()"
   ]
  },
  {
   "cell_type": "code",
   "execution_count": null,
   "metadata": {
    "collapsed": true
   },
   "outputs": [],
   "source": [
    "all_merge_discuss.describe()"
   ]
  },
  {
   "cell_type": "code",
   "execution_count": null,
   "metadata": {
    "collapsed": true
   },
   "outputs": [],
   "source": [
    "feature_name = 'cos_sim'\n",
    "# Plot the frequency distribution (Pearson Correlation Coefficient)\n",
    "plt.figure(figsize = (10, 10))\n",
    "\n",
    "sns.distplot(all_merge_unrelated[feature_name], kde=False,  bins=100, color=\"blue\",  label = 'Unrelated')\n",
    "sns.distplot(all_merge_discuss[feature_name], kde=False,  bins=100, color=\"yellow\",  label = 'Discuss')\n",
    "sns.distplot(all_merge_agree[feature_name], kde=False,  bins=100, color=\"pink\", label='Agree')\n",
    "sns.distplot(all_merge_disagree[feature_name], kde=False,  bins=100, color=\"red\", label = 'Disagree')\n",
    "\n",
    "plt.ylim(0,1500)\n",
    "# plt.title('The Distribution of the Pearson Correlation Coefficients for the Four Class')\n",
    "plt.xlabel(feature_name)\n",
    "plt.ylabel('Frequency')\n",
    "plt.legend()\n",
    "plt.show()"
   ]
  },
  {
   "cell_type": "code",
   "execution_count": null,
   "metadata": {
    "collapsed": true
   },
   "outputs": [],
   "source": [
    "feature_name = 'cos_sim_key'\n",
    "# Plot the frequency distribution (Pearson Correlation Coefficient)\n",
    "plt.figure(figsize = (10, 10))\n",
    "\n",
    "sns.distplot(all_merge_unrelated[feature_name], kde=False,  bins=100, color=\"blue\",  label = 'Unrelated')\n",
    "sns.distplot(all_merge_discuss[feature_name], kde=False,  bins=100, color=\"yellow\",  label = 'Discuss')\n",
    "sns.distplot(all_merge_agree[feature_name], kde=False,  bins=100, color=\"pink\", label='Agree')\n",
    "sns.distplot(all_merge_disagree[feature_name], kde=False,  bins=100, color=\"red\", label = 'Disagree')\n",
    "\n",
    "plt.ylim(0,1000)\n",
    "# plt.title('The Distribution of the Pearson Correlation Coefficients for the Four Class')\n",
    "plt.xlabel(feature_name)\n",
    "plt.ylabel('Frequency')\n",
    "plt.legend()\n",
    "plt.show()"
   ]
  },
  {
   "cell_type": "code",
   "execution_count": null,
   "metadata": {
    "collapsed": true
   },
   "outputs": [],
   "source": [
    "feature_name = 'cos_sim_w2v'\n",
    "# Plot the frequency distribution (Pearson Correlation Coefficient)\n",
    "plt.figure(figsize = (10, 10))\n",
    "\n",
    "sns.distplot(all_merge_unrelated[feature_name], kde=False,  bins=100, color=\"blue\",  label = 'Unrelated')\n",
    "sns.distplot(all_merge_discuss[feature_name], kde=False,  bins=100, color=\"yellow\",  label = 'Discuss')\n",
    "sns.distplot(all_merge_agree[feature_name], kde=False,  bins=100, color=\"pink\", label='Agree')\n",
    "sns.distplot(all_merge_disagree[feature_name], kde=False,  bins=100, color=\"red\", label = 'Disagree')\n",
    "\n",
    "# plt.title('The Distribution of the Pearson Correlation Coefficients for the Four Class')\n",
    "plt.xlabel(feature_name)\n",
    "plt.ylabel('Frequency')\n",
    "plt.legend()\n",
    "plt.show()"
   ]
  },
  {
   "cell_type": "code",
   "execution_count": null,
   "metadata": {
    "collapsed": true
   },
   "outputs": [],
   "source": [
    "feature_name = 'kl_head_uni'\n",
    "# Plot the frequency distribution (Pearson Correlation Coefficient)\n",
    "plt.figure(figsize = (10, 10))\n",
    "\n",
    "sns.distplot(all_merge_unrelated[feature_name], kde=False,  bins=100, color=\"blue\",  label = 'Unrelated')\n",
    "sns.distplot(all_merge_discuss[feature_name], kde=False,  bins=100, color=\"yellow\",  label = 'Discuss')\n",
    "sns.distplot(all_merge_agree[feature_name], kde=False,  bins=100, color=\"pink\", label='Agree')\n",
    "sns.distplot(all_merge_disagree[feature_name], kde=False,  bins=100, color=\"red\", label = 'Disagree')\n",
    "plt.ylim(0,1000)\n",
    "# plt.title('The Distribution of the Pearson Correlation Coefficients for the Four Class')\n",
    "plt.xlabel(feature_name)\n",
    "plt.ylabel('Frequency')\n",
    "plt.legend()\n",
    "plt.show()"
   ]
  },
  {
   "cell_type": "code",
   "execution_count": null,
   "metadata": {
    "collapsed": true
   },
   "outputs": [],
   "source": [
    "feature_name = 'kl_head_bi'\n",
    "# Plot the frequency distribution (Pearson Correlation Coefficient)\n",
    "plt.figure(figsize = (10, 10))\n",
    "\n",
    "sns.distplot(all_merge_unrelated[feature_name], kde=False,  bins=100, color=\"blue\",  label = 'Unrelated')\n",
    "sns.distplot(all_merge_discuss[feature_name], kde=False,  bins=100, color=\"yellow\",  label = 'Discuss')\n",
    "sns.distplot(all_merge_agree[feature_name], kde=False,  bins=100, color=\"pink\", label='Agree')\n",
    "sns.distplot(all_merge_disagree[feature_name], kde=False,  bins=100, color=\"red\", label = 'Disagree')\n",
    "\n",
    "plt.ylim(0,1500)\n",
    "# plt.title('The Distribution of the Pearson Correlation Coefficients for the Four Class')\n",
    "plt.xlabel(feature_name)\n",
    "plt.ylabel('Frequency')\n",
    "plt.legend()\n",
    "plt.show()"
   ]
  },
  {
   "cell_type": "code",
   "execution_count": null,
   "metadata": {
    "collapsed": true
   },
   "outputs": [],
   "source": [
    "feature_name = 'euc_dist'\n",
    "# Plot the frequency distribution (Pearson Correlation Coefficient)\n",
    "plt.figure(figsize = (10, 10))\n",
    "\n",
    "sns.distplot(all_merge_unrelated[feature_name], kde=False,  bins=100, color=\"blue\",  label = 'Unrelated')\n",
    "sns.distplot(all_merge_discuss[feature_name], kde=False,  bins=100, color=\"yellow\",  label = 'Discuss')\n",
    "sns.distplot(all_merge_agree[feature_name], kde=False,  bins=100, color=\"pink\", label='Agree')\n",
    "sns.distplot(all_merge_disagree[feature_name], kde=False,  bins=100, color=\"red\", label = 'Disagree')\n",
    "\n",
    "plt.ylim(0,1500)\n",
    "# plt.title('The Distribution of the Pearson Correlation Coefficients for the Four Class')\n",
    "plt.xlabel(feature_name)\n",
    "plt.ylabel('Frequency')\n",
    "plt.legend()\n",
    "plt.show()"
   ]
  },
  {
   "cell_type": "code",
   "execution_count": null,
   "metadata": {
    "collapsed": true
   },
   "outputs": [],
   "source": [
    "feature_name = 'euc_dist_key'\n",
    "# Plot the frequency distribution (Pearson Correlation Coefficient)\n",
    "plt.figure(figsize = (10, 10))\n",
    "\n",
    "sns.distplot(all_merge_unrelated[feature_name], kde=False,  bins=100, color=\"blue\",  label = 'Unrelated')\n",
    "sns.distplot(all_merge_discuss[feature_name], kde=False,  bins=100, color=\"yellow\",  label = 'Discuss')\n",
    "sns.distplot(all_merge_agree[feature_name], kde=False,  bins=100, color=\"pink\", label='Agree')\n",
    "sns.distplot(all_merge_disagree[feature_name], kde=False,  bins=100, color=\"red\", label = 'Disagree')\n",
    "\n",
    "plt.ylim(0,1500)\n",
    "# plt.title('The Distribution of the Pearson Correlation Coefficients for the Four Class')\n",
    "plt.xlabel(feature_name)\n",
    "plt.ylabel('Frequency')\n",
    "plt.legend()\n",
    "plt.show()"
   ]
  },
  {
   "cell_type": "code",
   "execution_count": null,
   "metadata": {
    "collapsed": true
   },
   "outputs": [],
   "source": [
    "feature_name = 'euc_dist_w2v'\n",
    "# Plot the frequency distribution (Pearson Correlation Coefficient)\n",
    "plt.figure(figsize = (10, 10))\n",
    "\n",
    "sns.distplot(all_merge_unrelated[feature_name], kde=False,  bins=100, color=\"blue\",  label = 'Unrelated')\n",
    "sns.distplot(all_merge_discuss[feature_name], kde=False,  bins=100, color=\"yellow\",  label = 'Discuss')\n",
    "sns.distplot(all_merge_agree[feature_name], kde=False,  bins=100, color=\"pink\", label='Agree')\n",
    "sns.distplot(all_merge_disagree[feature_name], kde=False,  bins=100, color=\"red\", label = 'Disagree')\n",
    "\n",
    "plt.ylim(0,1500)\n",
    "# plt.title('The Distribution of the Pearson Correlation Coefficients for the Four Class')\n",
    "plt.xlabel(feature_name)\n",
    "plt.ylabel('Frequency')\n",
    "plt.legend()\n",
    "plt.show()"
   ]
  },
  {
   "cell_type": "code",
   "execution_count": null,
   "metadata": {
    "collapsed": true
   },
   "outputs": [],
   "source": [
    "feature_name = 'spear_corr'\n",
    "# Plot the frequency distribution (Pearson Correlation Coefficient)\n",
    "plt.figure(figsize = (10, 10))\n",
    "\n",
    "sns.distplot(all_merge_unrelated[feature_name], kde=False,  bins=100, color=\"blue\",  label = 'Unrelated')\n",
    "sns.distplot(all_merge_discuss[feature_name], kde=False,  bins=100, color=\"yellow\",  label = 'Discuss')\n",
    "sns.distplot(all_merge_agree[feature_name], kde=False,  bins=100, color=\"pink\", label='Agree')\n",
    "sns.distplot(all_merge_disagree[feature_name], kde=False,  bins=100, color=\"red\", label = 'Disagree')\n",
    "\n",
    "plt.ylim(0,1500)\n",
    "# plt.title('The Distribution of the Pearson Correlation Coefficients for the Four Class')\n",
    "plt.xlabel(feature_name)\n",
    "plt.ylabel('Frequency')\n",
    "plt.legend()\n",
    "plt.show()"
   ]
  },
  {
   "cell_type": "code",
   "execution_count": null,
   "metadata": {
    "collapsed": true
   },
   "outputs": [],
   "source": [
    "feature_name = 'spear_corr_key'\n",
    "# Plot the frequency distribution (Pearson Correlation Coefficient)\n",
    "plt.figure(figsize = (10, 10))\n",
    "\n",
    "sns.distplot(all_merge_unrelated[feature_name], kde=False,  bins=100, color=\"blue\",  label = 'Unrelated')\n",
    "sns.distplot(all_merge_discuss[feature_name], kde=False,  bins=100, color=\"yellow\",  label = 'Discuss')\n",
    "sns.distplot(all_merge_agree[feature_name], kde=False,  bins=100, color=\"olive\", label='Agree')\n",
    "sns.distplot(all_merge_disagree[feature_name], kde=False,  bins=100, color=\"red\", label = 'Disagree')\n",
    "\n",
    "# plt.title('The Distribution of the Pearson Correlation Coefficients for the Four Class')\n",
    "plt.xlabel(feature_name)\n",
    "plt.ylabel('Frequency')\n",
    "plt.legend()\n",
    "plt.show()"
   ]
  },
  {
   "cell_type": "code",
   "execution_count": null,
   "metadata": {
    "collapsed": true
   },
   "outputs": [],
   "source": [
    "feature_name = 'spear_corr_w2v'\n",
    "# Plot the frequency distribution (Pearson Correlation Coefficient)\n",
    "plt.figure(figsize = (10, 10))\n",
    "\n",
    "sns.distplot(all_merge_unrelated[feature_name], kde=False,  bins=100, color=\"blue\",  label = 'Unrelated')\n",
    "sns.distplot(all_merge_discuss[feature_name], kde=False,  bins=100, color=\"yellow\",  label = 'Discuss')\n",
    "sns.distplot(all_merge_agree[feature_name], kde=False,  bins=100, color=\"pink\", label='Agree')\n",
    "sns.distplot(all_merge_disagree[feature_name], kde=False,  bins=100, color=\"red\", label = 'Disagree')\n",
    "\n",
    "plt.ylim(0,1500)\n",
    "# plt.title('The Distribution of the Pearson Correlation Coefficients for the Four Class')\n",
    "plt.xlabel(feature_name)\n",
    "plt.ylabel('Frequency')\n",
    "plt.legend()\n",
    "plt.show()"
   ]
  },
  {
   "cell_type": "code",
   "execution_count": null,
   "metadata": {
    "collapsed": true
   },
   "outputs": [],
   "source": [
    "feature_name = 'same_word'\n",
    "# Plot the frequency distribution (Pearson Correlation Coefficient)\n",
    "plt.figure(figsize = (10, 10))\n",
    "\n",
    "sns.distplot(all_merge_unrelated[feature_name], kde=False,  bins=100, color=\"blue\",  label = 'Unrelated')\n",
    "sns.distplot(all_merge_discuss[feature_name], kde=False,  bins=100, color=\"yellow\",  label = 'Discuss')\n",
    "sns.distplot(all_merge_agree[feature_name], kde=False,  bins=100, color=\"olive\", label='Agree')\n",
    "sns.distplot(all_merge_disagree[feature_name], kde=False,  bins=100, color=\"red\", label = 'Disagree')\n",
    "\n",
    "# plt.title('The Distribution of the Pearson Correlation Coefficients for the Four Class')\n",
    "plt.xlabel(feature_name)\n",
    "plt.ylabel('Frequency')\n",
    "plt.legend()\n",
    "plt.show()"
   ]
  },
  {
   "cell_type": "markdown",
   "metadata": {},
   "source": [
    "test set"
   ]
  },
  {
   "cell_type": "code",
   "execution_count": null,
   "metadata": {
    "collapsed": true
   },
   "outputs": [],
   "source": [
    "all_test_merge[0:2]"
   ]
  },
  {
   "cell_type": "code",
   "execution_count": null,
   "metadata": {
    "collapsed": true
   },
   "outputs": [],
   "source": [
    "all_test_merge_copy = all_test_merge.copy()"
   ]
  },
  {
   "cell_type": "code",
   "execution_count": null,
   "metadata": {
    "collapsed": true
   },
   "outputs": [],
   "source": [
    "all_test_merge.shape"
   ]
  },
  {
   "cell_type": "code",
   "execution_count": null,
   "metadata": {
    "collapsed": true
   },
   "outputs": [],
   "source": [
    "(all_test_merge.dropna()).shape"
   ]
  },
  {
   "cell_type": "code",
   "execution_count": null,
   "metadata": {
    "collapsed": true
   },
   "outputs": [],
   "source": [
    "#There are some out of vocabulary words are reset to 0\n",
    "all_test_merge = all_test_merge.fillna(value=0)"
   ]
  },
  {
   "cell_type": "code",
   "execution_count": null,
   "metadata": {
    "collapsed": true
   },
   "outputs": [],
   "source": [
    "all_test_merge.shape"
   ]
  },
  {
   "cell_type": "code",
   "execution_count": null,
   "metadata": {
    "collapsed": true
   },
   "outputs": [],
   "source": [
    "(all_test_merge.dropna()).shape"
   ]
  },
  {
   "cell_type": "code",
   "execution_count": null,
   "metadata": {
    "collapsed": true
   },
   "outputs": [],
   "source": [
    "# all_test_merge.to_csv('all_test_merge.csv')"
   ]
  },
  {
   "cell_type": "code",
   "execution_count": null,
   "metadata": {
    "collapsed": true
   },
   "outputs": [],
   "source": [
    "# all_test_merge = pd.read_csv('all_test_merge.csv')"
   ]
  },
  {
   "cell_type": "code",
   "execution_count": null,
   "metadata": {
    "collapsed": true,
    "scrolled": true
   },
   "outputs": [],
   "source": [
    "all_test_merge_unrelated = all_test_merge[all_test_merge['Stance'] == 'unrelated']\n",
    "all_test_merge_agree = all_test_merge[all_test_merge['Stance'] == 'agree']\n",
    "all_test_merge_disagree = all_test_merge[all_test_merge['Stance'] == 'disagree']\n",
    "all_test_merge_discuss = all_test_merge[all_test_merge['Stance'] == 'discuss']"
   ]
  },
  {
   "cell_type": "code",
   "execution_count": null,
   "metadata": {
    "collapsed": true
   },
   "outputs": [],
   "source": [
    "all_test_merge.describe()"
   ]
  },
  {
   "cell_type": "code",
   "execution_count": null,
   "metadata": {
    "collapsed": true
   },
   "outputs": [],
   "source": [
    "all_test_merge_unrelated.describe()"
   ]
  },
  {
   "cell_type": "code",
   "execution_count": null,
   "metadata": {
    "collapsed": true
   },
   "outputs": [],
   "source": [
    "all_test_merge_agree.describe()"
   ]
  },
  {
   "cell_type": "code",
   "execution_count": null,
   "metadata": {
    "collapsed": true
   },
   "outputs": [],
   "source": [
    "all_test_merge_disagree.describe()"
   ]
  },
  {
   "cell_type": "code",
   "execution_count": null,
   "metadata": {
    "collapsed": true
   },
   "outputs": [],
   "source": [
    "all_test_merge_discuss.describe()"
   ]
  },
  {
   "cell_type": "code",
   "execution_count": null,
   "metadata": {
    "collapsed": true
   },
   "outputs": [],
   "source": [
    "feature_name = 'cos_sim'\n",
    "# Plot the frequency distribution (Pearson Correlation Coefficient)\n",
    "plt.figure(figsize = (10, 10))\n",
    "\n",
    "sns.distplot(np.nan_to_num(all_test_merge_unrelated[feature_name]), kde=False,  bins=100, color=\"blue\",  label = 'Unrelated')\n",
    "sns.distplot(all_test_merge_discuss[feature_name], kde=False,  bins=100, color=\"yellow\",  label = 'Discuss')\n",
    "sns.distplot(all_test_merge_agree[feature_name], kde=False,  bins=100, color=\"pink\", label='Agree')\n",
    "sns.distplot(all_test_merge_disagree[feature_name], kde=False,  bins=100, color=\"red\", label = 'Disagree')\n",
    "\n",
    "plt.ylim(0,1500)\n",
    "# plt.title('The Distribution of the Pearson Correlation Coefficients for the Four Class')\n",
    "plt.xlabel(feature_name)\n",
    "plt.ylabel('Frequency')\n",
    "plt.legend()\n",
    "plt.show()"
   ]
  },
  {
   "cell_type": "code",
   "execution_count": null,
   "metadata": {
    "collapsed": true
   },
   "outputs": [],
   "source": [
    "#bad feature\n",
    "feature_name = 'cos_sim_key'\n",
    "# Plot the frequency distribution (Pearson Correlation Coefficient)\n",
    "plt.figure(figsize = (10, 10))\n",
    "\n",
    "sns.distplot(all_test_merge_unrelated[feature_name], kde=False,  bins=100, color=\"blue\",  label = 'Unrelated')\n",
    "sns.distplot(all_test_merge_discuss[feature_name], kde=False,  bins=100, color=\"yellow\",  label = 'Discuss')\n",
    "sns.distplot(all_test_merge_agree[feature_name], kde=False,  bins=100, color=\"pink\", label='Agree')\n",
    "sns.distplot(all_test_merge_disagree[feature_name], kde=False,  bins=100, color=\"red\", label = 'Disagree')\n",
    "\n",
    "plt.ylim(0,1500)\n",
    "# plt.title('The Distribution of the Pearson Correlation Coefficients for the Four Class')\n",
    "plt.xlabel(feature_name)\n",
    "plt.ylabel('Frequency')\n",
    "plt.legend()\n",
    "plt.show()"
   ]
  },
  {
   "cell_type": "code",
   "execution_count": null,
   "metadata": {
    "collapsed": true
   },
   "outputs": [],
   "source": [
    "feature_name = 'cos_sim_w2v'\n",
    "# Plot the frequency distribution (Pearson Correlation Coefficient)\n",
    "plt.figure(figsize = (10, 10))\n",
    "\n",
    "sns.distplot(all_test_merge_unrelated[feature_name], kde=False,  bins=100, color=\"blue\",  label = 'Unrelated')\n",
    "sns.distplot(all_test_merge_discuss[feature_name], kde=False,  bins=100, color=\"yellow\",  label = 'Discuss')\n",
    "sns.distplot(all_test_merge_agree[feature_name], kde=False,  bins=100, color=\"pink\", label='Agree')\n",
    "sns.distplot(all_test_merge_disagree[feature_name], kde=False,  bins=100, color=\"red\", label = 'Disagree')\n",
    "\n",
    "plt.ylim(0,1500)\n",
    "# plt.title('The Distribution of the Pearson Correlation Coefficients for the Four Class')\n",
    "plt.xlabel(feature_name)\n",
    "plt.ylabel('Frequency')\n",
    "plt.legend()\n",
    "plt.show()"
   ]
  },
  {
   "cell_type": "code",
   "execution_count": null,
   "metadata": {
    "collapsed": true
   },
   "outputs": [],
   "source": [
    "feature_name = 'kl_head_uni'\n",
    "# Plot the frequency distribution (Pearson Correlation Coefficient)\n",
    "plt.figure(figsize = (10, 10))\n",
    "\n",
    "sns.distplot(all_test_merge_unrelated[feature_name], kde=False,  bins=100, color=\"blue\",  label = 'Unrelated')\n",
    "sns.distplot(all_test_merge_discuss[feature_name], kde=False,  bins=100, color=\"yellow\",  label = 'Discuss')\n",
    "sns.distplot(all_test_merge_agree[feature_name], kde=False,  bins=100, color=\"pink\", label='Agree')\n",
    "sns.distplot(all_test_merge_disagree[feature_name], kde=False,  bins=100, color=\"red\", label = 'Disagree')\n",
    "\n",
    "plt.ylim(0,1500)\n",
    "# plt.title('The Distribution of the Pearson Correlation Coefficients for the Four Class')\n",
    "plt.xlabel(feature_name)\n",
    "plt.ylabel('Frequency')\n",
    "plt.legend()\n",
    "plt.show()"
   ]
  },
  {
   "cell_type": "code",
   "execution_count": null,
   "metadata": {
    "collapsed": true
   },
   "outputs": [],
   "source": [
    "feature_name = 'kl_head_bi'\n",
    "# Plot the frequency distribution (Pearson Correlation Coefficient)\n",
    "plt.figure(figsize = (10, 10))\n",
    "\n",
    "sns.distplot(all_test_merge_unrelated[feature_name], kde=False,  bins=100, color=\"blue\",  label = 'Unrelated')\n",
    "sns.distplot(all_test_merge_discuss[feature_name], kde=False,  bins=100, color=\"yellow\",  label = 'Discuss')\n",
    "sns.distplot(all_test_merge_agree[feature_name], kde=False,  bins=100, color=\"pink\", label='Agree')\n",
    "sns.distplot(all_test_merge_disagree[feature_name], kde=False,  bins=100, color=\"red\", label = 'Disagree')\n",
    "\n",
    "plt.ylim(0,1500)\n",
    "# plt.title('The Distribution of the Pearson Correlation Coefficients for the Four Class')\n",
    "plt.xlabel(feature_name)\n",
    "plt.ylabel('Frequency')\n",
    "plt.legend()\n",
    "plt.show()"
   ]
  },
  {
   "cell_type": "code",
   "execution_count": null,
   "metadata": {
    "collapsed": true
   },
   "outputs": [],
   "source": [
    "#bad feature\n",
    "feature_name = 'euc_dist'\n",
    "plt.figure(figsize = (10, 10))\n",
    "\n",
    "sns.distplot(all_test_merge_unrelated[feature_name], kde=False,  bins=100, color=\"blue\",  label = 'Unrelated')\n",
    "sns.distplot(all_test_merge_discuss[feature_name], kde=False,  bins=100, color=\"yellow\",  label = 'Discuss')\n",
    "sns.distplot(all_test_merge_agree[feature_name], kde=False,  bins=100, color=\"olive\", label='Agree')\n",
    "sns.distplot(all_test_merge_disagree[feature_name], kde=False,  bins=100, color=\"red\", label = 'Disagree')\n",
    "\n",
    "plt.ylim(0,1500)\n",
    "# plt.title('The Distribution of the Pearson Correlation Coefficients for the Four Class')\n",
    "plt.xlabel(feature_name)\n",
    "plt.ylabel('Frequency')\n",
    "plt.legend()\n",
    "plt.show()"
   ]
  },
  {
   "cell_type": "code",
   "execution_count": null,
   "metadata": {
    "collapsed": true
   },
   "outputs": [],
   "source": [
    "#bad feature\n",
    "feature_name = 'euc_dist_key'\n",
    "# Plot the frequency distribution (Pearson Correlation Coefficient)\n",
    "plt.figure(figsize = (10, 10))\n",
    "\n",
    "sns.distplot(all_test_merge_unrelated[feature_name], kde=False,  bins=100, color=\"blue\",  label = 'Unrelated')\n",
    "sns.distplot(all_test_merge_discuss[feature_name], kde=False,  bins=100, color=\"yellow\",  label = 'Discuss')\n",
    "sns.distplot(all_test_merge_agree[feature_name], kde=False,  bins=100, color=\"olive\", label='Agree')\n",
    "sns.distplot(all_test_merge_disagree[feature_name], kde=False,  bins=100, color=\"red\", label = 'Disagree')\n",
    "\n",
    "plt.ylim(0,1500)\n",
    "# plt.title('The Distribution of the Pearson Correlation Coefficients for the Four Class')\n",
    "plt.xlabel(feature_name)\n",
    "plt.ylabel('Frequency')\n",
    "plt.legend()\n",
    "plt.show()"
   ]
  },
  {
   "cell_type": "code",
   "execution_count": null,
   "metadata": {
    "collapsed": true
   },
   "outputs": [],
   "source": [
    "feature_name = 'euc_dist_w2v'\n",
    "# Plot the frequency distribution (Pearson Correlation Coefficient)\n",
    "plt.figure(figsize = (10, 10))\n",
    "\n",
    "sns.distplot(all_test_merge_unrelated[feature_name], kde=False,  bins=100, color=\"blue\",  label = 'Unrelated')\n",
    "sns.distplot(all_test_merge_discuss[feature_name], kde=False,  bins=100, color=\"yellow\",  label = 'Discuss')\n",
    "sns.distplot(all_test_merge_agree[feature_name], kde=False,  bins=100, color=\"pink\", label='Agree')\n",
    "sns.distplot(all_test_merge_disagree[feature_name], kde=False,  bins=100, color=\"red\", label = 'Disagree')\n",
    "\n",
    "plt.ylim(0,1500)\n",
    "# plt.title('The Distribution of the Pearson Correlation Coefficients for the Four Class')\n",
    "plt.xlabel(feature_name)\n",
    "plt.ylabel('Frequency')\n",
    "plt.legend()\n",
    "plt.show()"
   ]
  },
  {
   "cell_type": "code",
   "execution_count": null,
   "metadata": {
    "collapsed": true
   },
   "outputs": [],
   "source": [
    "feature_name = 'spear_corr'\n",
    "# Plot the frequency distribution (Pearson Correlation Coefficient)\n",
    "plt.figure(figsize = (10, 10))\n",
    "\n",
    "sns.distplot(all_test_merge_unrelated[feature_name], kde=False,  bins=100, color=\"blue\",  label = 'Unrelated')\n",
    "sns.distplot(all_test_merge_discuss[feature_name], kde=False,  bins=100, color=\"yellow\",  label = 'Discuss')\n",
    "sns.distplot(all_test_merge_agree[feature_name], kde=False,  bins=100, color=\"pink\", label='Agree')\n",
    "sns.distplot(all_test_merge_disagree[feature_name], kde=False,  bins=100, color=\"red\", label = 'Disagree')\n",
    "\n",
    "plt.ylim(0,1500)\n",
    "# plt.title('The Distribution of the Pearson Correlation Coefficients for the Four Class')\n",
    "plt.xlabel(feature_name)\n",
    "plt.ylabel('Frequency')\n",
    "plt.legend()\n",
    "plt.show()"
   ]
  },
  {
   "cell_type": "code",
   "execution_count": null,
   "metadata": {
    "collapsed": true
   },
   "outputs": [],
   "source": [
    "#bad feature\n",
    "feature_name = 'spear_corr_key'\n",
    "# Plot the frequency distribution (Pearson Correlation Coefficient)\n",
    "plt.figure(figsize = (10, 10))\n",
    "\n",
    "sns.distplot(all_test_merge_unrelated[feature_name], kde=False,  bins=100, color=\"blue\",  label = 'Unrelated')\n",
    "sns.distplot(all_test_merge_discuss[feature_name], kde=False,  bins=100, color=\"yellow\",  label = 'Discuss')\n",
    "sns.distplot(all_test_merge_agree[feature_name], kde=False,  bins=100, color=\"pink\", label='Agree')\n",
    "sns.distplot(all_test_merge_disagree[feature_name], kde=False,  bins=100, color=\"red\", label = 'Disagree')\n",
    "\n",
    "plt.ylim(0,1500)\n",
    "# plt.title('The Distribution of the Pearson Correlation Coefficients for the Four Class')\n",
    "plt.xlabel(feature_name)\n",
    "plt.ylabel('Frequency')\n",
    "plt.legend()\n",
    "plt.show()"
   ]
  },
  {
   "cell_type": "code",
   "execution_count": null,
   "metadata": {
    "collapsed": true
   },
   "outputs": [],
   "source": [
    "feature_name = 'spear_corr_w2v'\n",
    "# Plot the frequency distribution (Pearson Correlation Coefficient)\n",
    "plt.figure(figsize = (10, 10))\n",
    "\n",
    "sns.distplot(all_test_merge_unrelated[feature_name], kde=False,  bins=100, color=\"blue\",  label = 'Unrelated')\n",
    "sns.distplot(all_test_merge_discuss[feature_name], kde=False,  bins=100, color=\"yellow\",  label = 'Discuss')\n",
    "sns.distplot(all_test_merge_agree[feature_name], kde=False,  bins=100, color=\"pink\", label='Agree')\n",
    "sns.distplot(all_test_merge_disagree[feature_name], kde=False,  bins=100, color=\"red\", label = 'Disagree')\n",
    "\n",
    "plt.ylim(0,1500)\n",
    "# plt.title('The Distribution of the Pearson Correlation Coefficients for the Four Class')\n",
    "plt.xlabel(feature_name)\n",
    "plt.ylabel('Frequency')\n",
    "plt.legend()\n",
    "plt.show()"
   ]
  },
  {
   "cell_type": "code",
   "execution_count": null,
   "metadata": {
    "collapsed": true
   },
   "outputs": [],
   "source": [
    "feature_name = 'same_word'\n",
    "# Plot the frequency distribution (Pearson Correlation Coefficient)\n",
    "plt.figure(figsize = (10, 10))\n",
    "\n",
    "sns.distplot(all_test_merge_unrelated[feature_name], kde=False,  bins=100, color=\"blue\",  label = 'Unrelated')\n",
    "sns.distplot(all_test_merge_discuss[feature_name], kde=False,  bins=100, color=\"yellow\",  label = 'Discuss')\n",
    "sns.distplot(all_test_merge_agree[feature_name], kde=False,  bins=100, color=\"olive\", label='Agree')\n",
    "sns.distplot(all_test_merge_disagree[feature_name], kde=False,  bins=100, color=\"red\", label = 'Disagree')\n",
    "\n",
    "plt.ylim(0,1500)\n",
    "# plt.title('The Distribution of the Pearson Correlation Coefficients for the Four Class')\n",
    "plt.xlabel(feature_name)\n",
    "plt.ylabel('Frequency')\n",
    "plt.legend()\n",
    "plt.show()"
   ]
  },
  {
   "cell_type": "markdown",
   "metadata": {},
   "source": [
    "Insert one vs all label"
   ]
  },
  {
   "cell_type": "code",
   "execution_count": null,
   "metadata": {
    "collapsed": true
   },
   "outputs": [],
   "source": [
    "data = all_merge.copy()"
   ]
  },
  {
   "cell_type": "code",
   "execution_count": null,
   "metadata": {
    "collapsed": true
   },
   "outputs": [],
   "source": [
    "data[0:2]"
   ]
  },
  {
   "cell_type": "code",
   "execution_count": null,
   "metadata": {
    "collapsed": true
   },
   "outputs": [],
   "source": [
    "data['lin_unrelated'] = -1\n",
    "data['lin_agree'] = -1\n",
    "data['lin_disagree'] = -1\n",
    "data['lin_discuss'] = -1"
   ]
  },
  {
   "cell_type": "code",
   "execution_count": null,
   "metadata": {
    "collapsed": true
   },
   "outputs": [],
   "source": [
    "data['lr_unrelated'] = 0\n",
    "data['lr_agree'] = 0\n",
    "data['lr_disagree'] = 0\n",
    "data['lr_discuss'] = 0"
   ]
  },
  {
   "cell_type": "code",
   "execution_count": null,
   "metadata": {
    "collapsed": true
   },
   "outputs": [],
   "source": [
    "data['lin_unrelated'][data['Stance'] == 'unrelated'] = 1\n",
    "data['lin_agree'][data['Stance'] == 'agree'] = 1\n",
    "data['lin_disagree'][data['Stance'] == 'disagree'] = 1\n",
    "data['lin_discuss'][data['Stance'] == 'discuss'] = 1\n",
    "\n",
    "data['lr_unrelated'][data['Stance'] == 'unrelated'] = 1\n",
    "data['lr_agree'][data['Stance'] == 'agree'] = 1\n",
    "data['lr_disagree'][data['Stance'] == 'disagree'] = 1\n",
    "data['lr_discuss'][data['Stance'] == 'discuss'] = 1"
   ]
  },
  {
   "cell_type": "code",
   "execution_count": null,
   "metadata": {
    "collapsed": true
   },
   "outputs": [],
   "source": [
    "# data.to_csv('data.csv')"
   ]
  },
  {
   "cell_type": "code",
   "execution_count": null,
   "metadata": {
    "collapsed": true
   },
   "outputs": [],
   "source": [
    "# data = pd.read_csv('data.csv')"
   ]
  },
  {
   "cell_type": "code",
   "execution_count": null,
   "metadata": {
    "collapsed": true
   },
   "outputs": [],
   "source": [
    "test_data = all_test_merge.copy()"
   ]
  },
  {
   "cell_type": "code",
   "execution_count": null,
   "metadata": {
    "collapsed": true
   },
   "outputs": [],
   "source": [
    "test_data[0:2]"
   ]
  },
  {
   "cell_type": "code",
   "execution_count": null,
   "metadata": {
    "collapsed": true
   },
   "outputs": [],
   "source": [
    "test_data['lin_unrelated'] = -1\n",
    "test_data['lin_agree'] = -1\n",
    "test_data['lin_disagree'] = -1\n",
    "test_data['lin_discuss'] = -1"
   ]
  },
  {
   "cell_type": "code",
   "execution_count": null,
   "metadata": {
    "collapsed": true
   },
   "outputs": [],
   "source": [
    "test_data['lr_unrelated'] = 0\n",
    "test_data['lr_agree'] = 0\n",
    "test_data['lr_disagree'] = 0\n",
    "test_data['lr_discuss'] = 0"
   ]
  },
  {
   "cell_type": "code",
   "execution_count": null,
   "metadata": {
    "collapsed": true
   },
   "outputs": [],
   "source": [
    "test_data['lin_unrelated'][test_data['Stance'] == 'unrelated'] = 1\n",
    "test_data['lin_agree'][test_data['Stance'] == 'agree'] = 1\n",
    "test_data['lin_disagree'][test_data['Stance'] == 'disagree'] = 1\n",
    "test_data['lin_discuss'][test_data['Stance'] == 'discuss'] = 1\n",
    "\n",
    "test_data['lr_unrelated'][test_data['Stance'] == 'unrelated'] = 1\n",
    "test_data['lr_agree'][test_data['Stance'] == 'agree'] = 1\n",
    "test_data['lr_disagree'][test_data['Stance'] == 'disagree'] = 1\n",
    "test_data['lr_discuss'][test_data['Stance'] == 'discuss'] = 1"
   ]
  },
  {
   "cell_type": "code",
   "execution_count": null,
   "metadata": {
    "collapsed": true
   },
   "outputs": [],
   "source": [
    "# test_data.to_csv('test_data.csv')"
   ]
  },
  {
   "cell_type": "code",
   "execution_count": null,
   "metadata": {
    "collapsed": true
   },
   "outputs": [],
   "source": [
    "# test_data = pd.read_csv('test_data.csv')"
   ]
  },
  {
   "cell_type": "markdown",
   "metadata": {},
   "source": [
    "###  subtask 1. training set and validation subset split"
   ]
  },
  {
   "cell_type": "code",
   "execution_count": null,
   "metadata": {
    "collapsed": true
   },
   "outputs": [],
   "source": [
    "#shuffle the data\n",
    "data = data.sample(frac=1)"
   ]
  },
  {
   "cell_type": "code",
   "execution_count": null,
   "metadata": {
    "scrolled": true
   },
   "outputs": [],
   "source": [
    "data[0:2]"
   ]
  },
  {
   "cell_type": "code",
   "execution_count": null,
   "metadata": {
    "scrolled": true
   },
   "outputs": [],
   "source": [
    "data.shape"
   ]
  },
  {
   "cell_type": "code",
   "execution_count": null,
   "metadata": {
    "collapsed": true
   },
   "outputs": [],
   "source": [
    "#split the training set and validation set\n",
    "cut = round(49972*0.9)\n",
    "train = data[0:cut]\n",
    "valid = data[cut:49972]"
   ]
  },
  {
   "cell_type": "code",
   "execution_count": null,
   "metadata": {},
   "outputs": [],
   "source": [
    "train.shape"
   ]
  },
  {
   "cell_type": "code",
   "execution_count": null,
   "metadata": {
    "scrolled": false
   },
   "outputs": [],
   "source": [
    "valid.shape"
   ]
  },
  {
   "cell_type": "markdown",
   "metadata": {
    "collapsed": true
   },
   "source": [
    "ratios of the four classes"
   ]
  },
  {
   "cell_type": "markdown",
   "metadata": {
    "collapsed": true
   },
   "source": [
    "ratios of the four classes in the whole set"
   ]
  },
  {
   "cell_type": "code",
   "execution_count": null,
   "metadata": {},
   "outputs": [],
   "source": [
    "train_stances[train_stances['Stance'] == 'agree'].shape[0]/train_stances.shape[0]"
   ]
  },
  {
   "cell_type": "code",
   "execution_count": null,
   "metadata": {},
   "outputs": [],
   "source": [
    "train_stances[train_stances['Stance'] == 'disagree'].shape[0]/train_stances.shape[0]"
   ]
  },
  {
   "cell_type": "code",
   "execution_count": null,
   "metadata": {},
   "outputs": [],
   "source": [
    "train_stances[train_stances['Stance'] == 'discuss'].shape[0]/train_stances.shape[0]"
   ]
  },
  {
   "cell_type": "code",
   "execution_count": null,
   "metadata": {
    "scrolled": false
   },
   "outputs": [],
   "source": [
    "train_stances[train_stances['Stance'] == 'unrelated'].shape[0]/train_stances.shape[0]"
   ]
  },
  {
   "cell_type": "markdown",
   "metadata": {
    "collapsed": true
   },
   "source": [
    "ratios of the four classes in the training set"
   ]
  },
  {
   "cell_type": "code",
   "execution_count": null,
   "metadata": {},
   "outputs": [],
   "source": [
    "train[train['Stance'] == 'agree'].shape[0]/train.shape[0]"
   ]
  },
  {
   "cell_type": "code",
   "execution_count": null,
   "metadata": {},
   "outputs": [],
   "source": [
    "train[train['Stance'] == 'disagree'].shape[0]/train.shape[0]"
   ]
  },
  {
   "cell_type": "code",
   "execution_count": null,
   "metadata": {},
   "outputs": [],
   "source": [
    "train[train['Stance'] == 'discuss'].shape[0]/train.shape[0]"
   ]
  },
  {
   "cell_type": "code",
   "execution_count": null,
   "metadata": {
    "scrolled": true
   },
   "outputs": [],
   "source": [
    "train[train['Stance'] == 'unrelated'].shape[0]/train.shape[0]"
   ]
  },
  {
   "cell_type": "markdown",
   "metadata": {
    "collapsed": true
   },
   "source": [
    "ratios of the four classes in the validation set"
   ]
  },
  {
   "cell_type": "code",
   "execution_count": null,
   "metadata": {},
   "outputs": [],
   "source": [
    "valid[valid['Stance'] == 'agree'].shape[0]/valid.shape[0]"
   ]
  },
  {
   "cell_type": "code",
   "execution_count": null,
   "metadata": {},
   "outputs": [],
   "source": [
    "valid[valid['Stance'] == 'disagree'].shape[0]/valid.shape[0]"
   ]
  },
  {
   "cell_type": "code",
   "execution_count": null,
   "metadata": {},
   "outputs": [],
   "source": [
    "valid[valid['Stance'] == 'discuss'].shape[0]/valid.shape[0]"
   ]
  },
  {
   "cell_type": "code",
   "execution_count": null,
   "metadata": {
    "scrolled": false
   },
   "outputs": [],
   "source": [
    "valid[valid['Stance'] == 'unrelated'].shape[0]/valid.shape[0]"
   ]
  },
  {
   "cell_type": "markdown",
   "metadata": {},
   "source": [
    "###  subtask 6-10. model implementation, evaluation and improvement (Linear, LR, XGBoost)"
   ]
  },
  {
   "cell_type": "code",
   "execution_count": null,
   "metadata": {
    "collapsed": true
   },
   "outputs": [],
   "source": [
    "def downsampling(df, model_name, r = 0.1):\n",
    "    df1 = df[df[model_name]>0]\n",
    "    df0 = df[df[model_name] <= 0]\n",
    "    dfs = df0.sample(frac=r)\n",
    "    sample = pd.concat([df1, dfs],axis=0)\n",
    "    return sample"
   ]
  },
  {
   "cell_type": "code",
   "execution_count": null,
   "metadata": {
    "collapsed": true
   },
   "outputs": [],
   "source": [
    "def onevsall(y_pred):\n",
    "    result = []\n",
    "    _,m = y_pred.shape\n",
    "    y_pred_class = (y_pred == np.max(y_pred, axis = 0))\n",
    "    for i in range(m):\n",
    "        label = ''\n",
    "        if y_pred_class[0,i]:\n",
    "            label = 'unrelated'\n",
    "        elif y_pred_class[1,i]:\n",
    "            label = 'agree'\n",
    "        elif y_pred_class[2,i]:\n",
    "            label = 'disagree'\n",
    "        elif y_pred_class[3,i]:\n",
    "            label = 'discuss'\n",
    "        result.append(label)\n",
    "        \n",
    "    assert len(result) == m\n",
    "    return result"
   ]
  },
  {
   "cell_type": "code",
   "execution_count": null,
   "metadata": {
    "collapsed": true
   },
   "outputs": [],
   "source": [
    "def onevsall_new(y_pred,t=[0,0,0,0]):\n",
    "    result = []\n",
    "    _,m = y_pred.shape #(4,m)\n",
    "    for i in range(m):\n",
    "        is_unrelated = False\n",
    "        is_agree = False\n",
    "        is_disagree = False\n",
    "        is_discuss = False\n",
    "        if y_pred[0,i] > t[0]:\n",
    "            is_unrelated = True\n",
    "        if y_pred[1,i] > t[1]:\n",
    "            is_agree = True\n",
    "        if y_pred[2,i] > t[2]:\n",
    "            is_disagree = True\n",
    "        if y_pred[3,i] > t[3]:\n",
    "            is_discuss = True\n",
    "        \n",
    "        if is_disagree:\n",
    "            label = 'disagree'\n",
    "        elif is_agree:\n",
    "            label = 'agree'\n",
    "        elif is_discuss:\n",
    "            label = 'discuss'\n",
    "        elif is_unrelated:\n",
    "            label = 'unrelated'\n",
    "        \n",
    "        result.append(label)\n",
    "        \n",
    "    assert len(result) == m\n",
    "    return result"
   ]
  },
  {
   "cell_type": "code",
   "execution_count": null,
   "metadata": {
    "scrolled": true
   },
   "outputs": [],
   "source": [
    "train[0:2]"
   ]
  },
  {
   "cell_type": "markdown",
   "metadata": {},
   "source": [
    "prepare X"
   ]
  },
  {
   "cell_type": "code",
   "execution_count": null,
   "metadata": {},
   "outputs": [],
   "source": [
    "list(train.columns)"
   ]
  },
  {
   "cell_type": "code",
   "execution_count": null,
   "metadata": {
    "collapsed": true
   },
   "outputs": [],
   "source": [
    "col = list(train.columns)[4:16]"
   ]
  },
  {
   "cell_type": "code",
   "execution_count": null,
   "metadata": {
    "scrolled": false
   },
   "outputs": [],
   "source": [
    "col"
   ]
  },
  {
   "cell_type": "code",
   "execution_count": null,
   "metadata": {
    "collapsed": true
   },
   "outputs": [],
   "source": [
    "# xcols = ['cos_sim_key','cos_sim_w2v','kl_head_uni','euc_dist_w2v','spear_corr_w2v']\n",
    "xcols = col"
   ]
  },
  {
   "cell_type": "code",
   "execution_count": null,
   "metadata": {
    "collapsed": true
   },
   "outputs": [],
   "source": [
    "train_X = train[xcols].as_matrix()\n",
    "valid_X = valid[xcols].as_matrix()\n",
    "test_X = test_data[xcols].as_matrix()\n",
    "\n",
    "train_X = md.preprocess_X(train_X)\n",
    "valid_X = md.preprocess_X(valid_X)\n",
    "test_X = md.preprocess_X(test_X)"
   ]
  },
  {
   "cell_type": "code",
   "execution_count": null,
   "metadata": {
    "collapsed": true
   },
   "outputs": [],
   "source": [
    "m,n = train_X.shape\n",
    "learning_rate = 0.1\n",
    "iters = 500\n",
    "ini_theta = np.zeros([n,1])"
   ]
  },
  {
   "cell_type": "markdown",
   "metadata": {},
   "source": [
    "linear models"
   ]
  },
  {
   "cell_type": "code",
   "execution_count": null,
   "metadata": {
    "collapsed": true
   },
   "outputs": [],
   "source": [
    "theta_lin = []\n",
    "cost_lin = []\n",
    "model_names_lin = ['lin_unrelated','lin_agree','lin_disagree','lin_discuss']\n",
    "#restore prediction on validation\n",
    "y_pred_lin = np.zeros([4,len(valid_X)]) "
   ]
  },
  {
   "cell_type": "code",
   "execution_count": null,
   "metadata": {
    "scrolled": true
   },
   "outputs": [],
   "source": [
    "#build 4 models\n",
    "#unrelated\n",
    "i = 0\n",
    "model_name = model_names_lin[i]\n",
    "print(model_name)\n",
    "X = train_X\n",
    "y = train[model_name].values.reshape([len(X),1])\n",
    "#training...\n",
    "theta, cost = md.gradient_linear(X, y, ini_theta, learning_rate, iters)\n",
    "# print(theta)\n",
    "theta_lin.append(theta)\n",
    "cost_lin.append(cost)\n",
    "y_pred_lin[i] = (valid_X@theta).reshape(len(valid_X))\n",
    "valid_y = valid[model_name].values.reshape([len(valid),1])"
   ]
  },
  {
   "cell_type": "code",
   "execution_count": null,
   "metadata": {},
   "outputs": [],
   "source": [
    "threshold = 0.2\n",
    "y_pred_class = y_pred_lin[i] > threshold\n",
    "valid_y_class = valid_y > 0\n",
    "md.evaluate(valid_y_class, y_pred_class)"
   ]
  },
  {
   "cell_type": "code",
   "execution_count": null,
   "metadata": {
    "scrolled": true
   },
   "outputs": [],
   "source": [
    "md.roc(valid_y, y_pred_lin[i])"
   ]
  },
  {
   "cell_type": "code",
   "execution_count": null,
   "metadata": {},
   "outputs": [],
   "source": [
    "#agree\n",
    "i = 1\n",
    "model_name = model_names_lin[i]\n",
    "print(model_name)\n",
    "#downsampling\n",
    "# sample = downsampling(train, model_name, r = 1)\n",
    "sample = downsampling(train, model_name, r = 0.3)\n",
    "X = sample[xcols].as_matrix()\n",
    "X = md.preprocess_X(X)\n",
    "y = sample[model_name].values.reshape([len(X),1])\n",
    "#training...\n",
    "theta, cost = md.gradient_linear(X, y, ini_theta, learning_rate, iters)\n",
    "# print(theta)\n",
    "theta_lin.append(theta)\n",
    "cost_lin.append(cost)\n",
    "y_pred_lin[i] = (valid_X@theta).reshape(len(valid_X))\n",
    "valid_y = valid[model_name].values.reshape([len(valid),1])"
   ]
  },
  {
   "cell_type": "code",
   "execution_count": null,
   "metadata": {},
   "outputs": [],
   "source": [
    "threshold = 0\n",
    "y_pred_class = y_pred_lin[i] > threshold\n",
    "valid_y_class = valid_y > 0\n",
    "md.evaluate(valid_y_class, y_pred_class)"
   ]
  },
  {
   "cell_type": "code",
   "execution_count": null,
   "metadata": {
    "scrolled": false
   },
   "outputs": [],
   "source": [
    "md.roc(valid_y, y_pred_lin[i])"
   ]
  },
  {
   "cell_type": "code",
   "execution_count": null,
   "metadata": {},
   "outputs": [],
   "source": [
    "#disagree\n",
    "i = 2\n",
    "model_name = model_names_lin[i]\n",
    "print(model_name)\n",
    "#downsampling\n",
    "# sample = downsampling(train, model_name, r = 1)\n",
    "sample = downsampling(train, model_name, r = 0.05)\n",
    "X = sample[xcols].as_matrix()\n",
    "X = md.preprocess_X(X)\n",
    "y = sample[model_name].values.reshape([len(X),1])\n",
    "#training...\n",
    "theta, cost = md.gradient_linear(X, y, ini_theta, learning_rate, iters)\n",
    "# print(theta)\n",
    "theta_lin.append(theta)\n",
    "cost_lin.append(cost)\n",
    "y_pred_lin[i] = (valid_X@theta).reshape(len(valid_X))"
   ]
  },
  {
   "cell_type": "code",
   "execution_count": null,
   "metadata": {},
   "outputs": [],
   "source": [
    "threshold = -0.3\n",
    "y_pred_class = y_pred_lin[i] > threshold\n",
    "valid_y_class = valid_y > 0\n",
    "md.evaluate(valid_y_class, y_pred_class)"
   ]
  },
  {
   "cell_type": "code",
   "execution_count": null,
   "metadata": {
    "scrolled": false
   },
   "outputs": [],
   "source": [
    "md.roc(valid_y, y_pred_lin[i])"
   ]
  },
  {
   "cell_type": "code",
   "execution_count": null,
   "metadata": {},
   "outputs": [],
   "source": [
    "#discuss\n",
    "i = 3\n",
    "model_name = model_names_lin[i]\n",
    "print(model_name)\n",
    "X = train_X\n",
    "y = train[model_name].values.reshape([len(X),1])\n",
    "#training...\n",
    "theta, cost = md.gradient_linear(X, y, ini_theta, learning_rate, iters)\n",
    "# print(theta)\n",
    "theta_lin.append(theta)\n",
    "cost_lin.append(cost)\n",
    "y_pred_lin[i] = (valid_X@theta).reshape(len(valid_X))"
   ]
  },
  {
   "cell_type": "code",
   "execution_count": null,
   "metadata": {},
   "outputs": [],
   "source": [
    "threshold = -0.1\n",
    "y_pred_class = y_pred_lin[i] > threshold\n",
    "valid_y_class = valid_y > 0\n",
    "md.evaluate(valid_y_class, y_pred_class)"
   ]
  },
  {
   "cell_type": "code",
   "execution_count": null,
   "metadata": {
    "scrolled": true
   },
   "outputs": [],
   "source": [
    "md.roc(valid_y, y_pred_lin[i])"
   ]
  },
  {
   "cell_type": "code",
   "execution_count": null,
   "metadata": {},
   "outputs": [],
   "source": [
    "plt.figure(figsize = (15, 5))\n",
    "plt.scatter(range(len(theta_lin[0])-1),np.abs(theta_lin[0][1:]), color = 'blue', label = 'unrelated')\n",
    "plt.scatter(range(len(theta_lin[1])-1),np.abs(theta_lin[1][1:]), color = 'pink', label = 'agree')\n",
    "plt.scatter(range(len(theta_lin[1])-1),np.abs(theta_lin[2][1:]), color = 'yellow', label = 'disagree')\n",
    "plt.scatter(range(len(theta_lin[1])-1),np.abs(theta_lin[3][1:]), color = 'orange', label = 'discuss')\n",
    "plt.xlabel('Features')\n",
    "plt.ylabel('Theta Values of Linear Models')\n",
    "plt.legend()\n",
    "plt.show()"
   ]
  },
  {
   "cell_type": "code",
   "execution_count": null,
   "metadata": {
    "collapsed": true
   },
   "outputs": [],
   "source": [
    "t = [0.2, 0, -0.3, -0.1]"
   ]
  },
  {
   "cell_type": "code",
   "execution_count": null,
   "metadata": {
    "collapsed": true
   },
   "outputs": [],
   "source": [
    "valid_pred_lin = onevsall(y_pred_lin)"
   ]
  },
  {
   "cell_type": "code",
   "execution_count": null,
   "metadata": {
    "scrolled": false
   },
   "outputs": [],
   "source": [
    "sum(valid_pred_lin == valid['Stance'])/ 4997"
   ]
  },
  {
   "cell_type": "code",
   "execution_count": null,
   "metadata": {
    "scrolled": false
   },
   "outputs": [],
   "source": [
    "from sklearn.metrics import classification_report,confusion_matrix\n",
    "y_true = valid['Stance']\n",
    "y_pred = valid_pred_lin\n",
    "print(classification_report(y_true, y_pred))"
   ]
  },
  {
   "cell_type": "code",
   "execution_count": null,
   "metadata": {
    "collapsed": true
   },
   "outputs": [],
   "source": [
    "valid_pred_lin = onevsall_new(y_pred_lin,t)"
   ]
  },
  {
   "cell_type": "code",
   "execution_count": null,
   "metadata": {
    "scrolled": true
   },
   "outputs": [],
   "source": [
    "sum(valid_pred_lin == valid['Stance'])/ 4997"
   ]
  },
  {
   "cell_type": "code",
   "execution_count": null,
   "metadata": {
    "scrolled": false
   },
   "outputs": [],
   "source": [
    "from sklearn.metrics import classification_report,confusion_matrix\n",
    "y_true = valid['Stance']\n",
    "y_pred = valid_pred_lin\n",
    "print(classification_report(y_true, y_pred))"
   ]
  },
  {
   "cell_type": "code",
   "execution_count": null,
   "metadata": {
    "scrolled": true
   },
   "outputs": [],
   "source": [
    "confusion_matrix(y_true, y_pred, sample_weight=None)"
   ]
  },
  {
   "cell_type": "markdown",
   "metadata": {},
   "source": [
    "result on test set"
   ]
  },
  {
   "cell_type": "code",
   "execution_count": null,
   "metadata": {
    "collapsed": true
   },
   "outputs": [],
   "source": [
    "#restore test results\n",
    "ts_pred_lin = np.zeros([4,len(test_X)]) "
   ]
  },
  {
   "cell_type": "code",
   "execution_count": null,
   "metadata": {
    "collapsed": true
   },
   "outputs": [],
   "source": [
    "for i in range(4):\n",
    "    theta = theta_lin[i]\n",
    "    ts_pred_lin[i] = (test_X@theta).reshape(len(test_X))"
   ]
  },
  {
   "cell_type": "code",
   "execution_count": null,
   "metadata": {
    "collapsed": true
   },
   "outputs": [],
   "source": [
    "test_pred_lin = onevsall(ts_pred_lin)"
   ]
  },
  {
   "cell_type": "code",
   "execution_count": null,
   "metadata": {
    "scrolled": true
   },
   "outputs": [],
   "source": [
    "sum(test_pred_lin == test_data['Stance'])/ len(test_data)"
   ]
  },
  {
   "cell_type": "code",
   "execution_count": null,
   "metadata": {
    "scrolled": false
   },
   "outputs": [],
   "source": [
    "from sklearn.metrics import classification_report,confusion_matrix\n",
    "y_true = test_data['Stance']\n",
    "y_pred = test_pred_lin\n",
    "print(classification_report(y_true, y_pred))"
   ]
  },
  {
   "cell_type": "code",
   "execution_count": null,
   "metadata": {
    "collapsed": true
   },
   "outputs": [],
   "source": [
    "test_pred_lin = onevsall_new(ts_pred_lin,t)"
   ]
  },
  {
   "cell_type": "code",
   "execution_count": null,
   "metadata": {
    "scrolled": true
   },
   "outputs": [],
   "source": [
    "sum(test_pred_lin == test_data['Stance'])/ len(test_data)"
   ]
  },
  {
   "cell_type": "code",
   "execution_count": null,
   "metadata": {
    "scrolled": false
   },
   "outputs": [],
   "source": [
    "from sklearn.metrics import classification_report,confusion_matrix\n",
    "y_true = test_data['Stance']\n",
    "y_pred = test_pred_lin\n",
    "print(classification_report(y_true, y_pred))"
   ]
  },
  {
   "cell_type": "code",
   "execution_count": null,
   "metadata": {
    "scrolled": false
   },
   "outputs": [],
   "source": [
    "confusion_matrix(y_true, y_pred, sample_weight=None)"
   ]
  },
  {
   "cell_type": "code",
   "execution_count": null,
   "metadata": {},
   "outputs": [],
   "source": [
    "col[6]"
   ]
  },
  {
   "cell_type": "markdown",
   "metadata": {},
   "source": [
    "LR models"
   ]
  },
  {
   "cell_type": "code",
   "execution_count": null,
   "metadata": {
    "collapsed": true
   },
   "outputs": [],
   "source": [
    "theta_lr = []\n",
    "cost_lr = []\n",
    "lam = 0.1\n",
    "model_names_lr = ['lr_unrelated','lr_agree','lr_disagree','lr_discuss']\n",
    "#restore prediction on validation\n",
    "y_pred_lr = np.zeros([4,len(valid_X)]) "
   ]
  },
  {
   "cell_type": "code",
   "execution_count": null,
   "metadata": {},
   "outputs": [],
   "source": [
    "#build 4 models\n",
    "#unrelated\n",
    "i = 0\n",
    "model_name = model_names_lr[i]\n",
    "print(model_name)\n",
    "X = train_X\n",
    "y = train[model_name].values.reshape([len(X),1])\n",
    "#training...\n",
    "theta, cost = md.gradient_lr(X, y, ini_theta, learning_rate, iters, lam)\n",
    "theta_lr.append(theta)\n",
    "cost_lr.append(cost)\n",
    "y_pred_lr[i] = (md.sigmoid(valid_X@theta)).reshape(len(valid_X))\n",
    "valid_y = valid[model_name].values.reshape([len(valid),1])"
   ]
  },
  {
   "cell_type": "code",
   "execution_count": null,
   "metadata": {},
   "outputs": [],
   "source": [
    "threshold = 0.7\n",
    "y_pred_class = y_pred_lr[i] > threshold\n",
    "valid_y_class = valid_y > 0.5\n",
    "md.evaluate(valid_y_class, y_pred_class)"
   ]
  },
  {
   "cell_type": "code",
   "execution_count": null,
   "metadata": {
    "scrolled": true
   },
   "outputs": [],
   "source": [
    "md.roc(valid_y, y_pred_lr[i])"
   ]
  },
  {
   "cell_type": "code",
   "execution_count": null,
   "metadata": {},
   "outputs": [],
   "source": [
    "#agree\n",
    "i = 1\n",
    "model_name = model_names_lr[i]\n",
    "print(model_name)\n",
    "#downsampling\n",
    "# sample = downsampling(train, model_name, r = 1)\n",
    "sample = downsampling(train, model_name, r = 0.3)\n",
    "X = sample[xcols].as_matrix()\n",
    "X = md.preprocess_X(X)\n",
    "y = sample[model_name].values.reshape([len(X),1])\n",
    "#training...\n",
    "theta, cost = md.gradient_lr(X, y, ini_theta, learning_rate, iters, lam)\n",
    "theta_lr.append(theta)\n",
    "cost_lr.append(cost)\n",
    "y_pred_lr[i] = (md.sigmoid(valid_X@theta)).reshape(len(valid_X))\n",
    "valid_y = valid[model_name].values.reshape([len(valid),1])"
   ]
  },
  {
   "cell_type": "code",
   "execution_count": null,
   "metadata": {},
   "outputs": [],
   "source": [
    "threshold = 0.3\n",
    "y_pred_class = y_pred_lr[i] > threshold\n",
    "valid_y_class = valid_y > 0.5\n",
    "md.evaluate(valid_y_class, y_pred_class)"
   ]
  },
  {
   "cell_type": "code",
   "execution_count": null,
   "metadata": {
    "scrolled": false
   },
   "outputs": [],
   "source": [
    "md.roc(valid_y, y_pred_lr[i])"
   ]
  },
  {
   "cell_type": "code",
   "execution_count": null,
   "metadata": {},
   "outputs": [],
   "source": [
    "#disagree\n",
    "i = 2\n",
    "model_name = model_names_lr[i]\n",
    "print(model_name)\n",
    "#downsampling\n",
    "# sample = downsampling(train, model_name, r = 1)\n",
    "sample = downsampling(train, model_name, r = 0.1)\n",
    "X = sample[xcols].as_matrix()\n",
    "X = md.preprocess_X(X)\n",
    "y = sample[model_name].values.reshape([len(X),1])\n",
    "#training...\n",
    "theta, cost = md.gradient_lr(X, y, ini_theta, learning_rate, iters, lam)\n",
    "theta_lr.append(theta)\n",
    "cost_lr.append(cost)\n",
    "y_pred_lr[i] = (md.sigmoid(valid_X@theta)).reshape(len(valid_X))\n",
    "valid_y = valid[model_name].values.reshape([len(valid),1])"
   ]
  },
  {
   "cell_type": "code",
   "execution_count": null,
   "metadata": {},
   "outputs": [],
   "source": [
    "threshold = 0.2\n",
    "y_pred_class = y_pred_lr[i] > threshold\n",
    "valid_y_class = valid_y > 0.5\n",
    "md.evaluate(valid_y_class, y_pred_class)"
   ]
  },
  {
   "cell_type": "code",
   "execution_count": null,
   "metadata": {
    "scrolled": true
   },
   "outputs": [],
   "source": [
    "md.roc(valid_y, y_pred_lr[i])"
   ]
  },
  {
   "cell_type": "code",
   "execution_count": null,
   "metadata": {},
   "outputs": [],
   "source": [
    "#discuss\n",
    "i = 3\n",
    "model_name = model_names_lr[i]\n",
    "print(model_name)\n",
    "X = train_X\n",
    "y = train[model_name].values.reshape([len(X),1])\n",
    "#training...\n",
    "theta, cost = md.gradient_lr(X, y, ini_theta, learning_rate, iters, lam)\n",
    "theta_lr.append(theta)\n",
    "cost_lr.append(cost)\n",
    "y_pred_lr[i] = (md.sigmoid(valid_X@theta)).reshape(len(valid_X))\n",
    "valid_y = valid[model_name].values.reshape([len(valid),1])"
   ]
  },
  {
   "cell_type": "code",
   "execution_count": null,
   "metadata": {},
   "outputs": [],
   "source": [
    "threshold = 0.2\n",
    "y_pred_class = y_pred_lr[i] > threshold\n",
    "valid_y_class = valid_y > 0.5\n",
    "md.evaluate(valid_y_class, y_pred_class)"
   ]
  },
  {
   "cell_type": "code",
   "execution_count": null,
   "metadata": {
    "scrolled": true
   },
   "outputs": [],
   "source": [
    "md.roc(valid_y, y_pred_lr[i])"
   ]
  },
  {
   "cell_type": "code",
   "execution_count": null,
   "metadata": {},
   "outputs": [],
   "source": [
    "plt.figure(figsize = (15, 5))\n",
    "plt.scatter(range(len(theta_lin[0])-1),np.abs(theta_lr[0][1:]), color = 'blue', label = 'unrelated')\n",
    "plt.scatter(range(len(theta_lin[1])-1),np.abs(theta_lr[1][1:]), color = 'pink', label = 'agree')\n",
    "plt.scatter(range(len(theta_lin[1])-1),np.abs(theta_lr[2][1:]), color = 'yellow', label = 'disagree')\n",
    "plt.scatter(range(len(theta_lin[1])-1),np.abs(theta_lr[3][1:]), color = 'orange', label = 'discuss')\n",
    "plt.xlabel('Features')\n",
    "plt.ylabel('Theta Values of LR Models')\n",
    "plt.legend()\n",
    "plt.show()"
   ]
  },
  {
   "cell_type": "code",
   "execution_count": null,
   "metadata": {
    "collapsed": true
   },
   "outputs": [],
   "source": [
    "t = [0.7,0.3,0.2,0.2]"
   ]
  },
  {
   "cell_type": "code",
   "execution_count": null,
   "metadata": {
    "collapsed": true
   },
   "outputs": [],
   "source": [
    "valid_pred_lr = onevsall(y_pred_lr)"
   ]
  },
  {
   "cell_type": "code",
   "execution_count": null,
   "metadata": {
    "scrolled": true
   },
   "outputs": [],
   "source": [
    "sum(valid_pred_lr == valid['Stance'])/ 4997"
   ]
  },
  {
   "cell_type": "code",
   "execution_count": null,
   "metadata": {
    "scrolled": false
   },
   "outputs": [],
   "source": [
    "from sklearn.metrics import classification_report,confusion_matrix\n",
    "y_true = valid['Stance']\n",
    "y_pred = valid_pred_lr\n",
    "print(classification_report(y_true, y_pred))"
   ]
  },
  {
   "cell_type": "code",
   "execution_count": null,
   "metadata": {
    "collapsed": true
   },
   "outputs": [],
   "source": [
    "valid_pred_lr = onevsall_new(y_pred_lr,t)"
   ]
  },
  {
   "cell_type": "code",
   "execution_count": null,
   "metadata": {
    "scrolled": true
   },
   "outputs": [],
   "source": [
    "sum(valid_pred_lr == valid['Stance'])/ 4997"
   ]
  },
  {
   "cell_type": "code",
   "execution_count": null,
   "metadata": {
    "scrolled": false
   },
   "outputs": [],
   "source": [
    "from sklearn.metrics import classification_report,confusion_matrix\n",
    "y_true = valid['Stance']\n",
    "y_pred = valid_pred_lr\n",
    "print(classification_report(y_true, y_pred))"
   ]
  },
  {
   "cell_type": "code",
   "execution_count": null,
   "metadata": {
    "scrolled": false
   },
   "outputs": [],
   "source": [
    "confusion_matrix(y_true, y_pred, sample_weight=None)"
   ]
  },
  {
   "cell_type": "markdown",
   "metadata": {},
   "source": [
    "result on test set"
   ]
  },
  {
   "cell_type": "code",
   "execution_count": null,
   "metadata": {
    "collapsed": true
   },
   "outputs": [],
   "source": [
    "#restore test results\n",
    "ts_pred_lr = np.zeros([4,len(test_X)]) "
   ]
  },
  {
   "cell_type": "code",
   "execution_count": null,
   "metadata": {
    "collapsed": true
   },
   "outputs": [],
   "source": [
    "for i in range(4):\n",
    "    theta = theta_lr[i]\n",
    "    ts_pred_lr[i] = (md.sigmoid(test_X@theta)).reshape(len(test_X))"
   ]
  },
  {
   "cell_type": "code",
   "execution_count": null,
   "metadata": {
    "collapsed": true
   },
   "outputs": [],
   "source": [
    "test_pred_lr = onevsall(ts_pred_lr)"
   ]
  },
  {
   "cell_type": "code",
   "execution_count": null,
   "metadata": {
    "scrolled": true
   },
   "outputs": [],
   "source": [
    "sum(test_pred_lr == test_data['Stance'])/ len(test_data)"
   ]
  },
  {
   "cell_type": "code",
   "execution_count": null,
   "metadata": {
    "scrolled": false
   },
   "outputs": [],
   "source": [
    "from sklearn.metrics import classification_report,confusion_matrix\n",
    "y_true = test_data['Stance']\n",
    "y_pred = test_pred_lr\n",
    "print(classification_report(y_true, y_pred))"
   ]
  },
  {
   "cell_type": "code",
   "execution_count": null,
   "metadata": {
    "collapsed": true
   },
   "outputs": [],
   "source": [
    "test_pred_lr = onevsall_new(ts_pred_lr,t)"
   ]
  },
  {
   "cell_type": "code",
   "execution_count": null,
   "metadata": {
    "scrolled": true
   },
   "outputs": [],
   "source": [
    "sum(test_pred_lr == test_data['Stance'])/ len(test_data)"
   ]
  },
  {
   "cell_type": "code",
   "execution_count": null,
   "metadata": {
    "scrolled": false
   },
   "outputs": [],
   "source": [
    "from sklearn.metrics import classification_report,confusion_matrix\n",
    "y_true = test_data['Stance']\n",
    "y_pred = test_pred_lr\n",
    "print(classification_report(y_true, y_pred))"
   ]
  },
  {
   "cell_type": "code",
   "execution_count": null,
   "metadata": {
    "scrolled": false
   },
   "outputs": [],
   "source": [
    "confusion_matrix(y_true, y_pred, sample_weight=None)"
   ]
  },
  {
   "cell_type": "markdown",
   "metadata": {
    "collapsed": true
   },
   "source": [
    "Xgboost model"
   ]
  },
  {
   "cell_type": "code",
   "execution_count": null,
   "metadata": {
    "collapsed": true
   },
   "outputs": [],
   "source": [
    "import xgboost as xgb  "
   ]
  },
  {
   "cell_type": "code",
   "execution_count": null,
   "metadata": {
    "collapsed": true
   },
   "outputs": [],
   "source": [
    "sample0 = (train[train['Stance'] == 'unrelated'].copy()).sample(frac = 0.2)\n",
    "sample1 = train[train['Stance'] != 'unrelated'].copy()"
   ]
  },
  {
   "cell_type": "code",
   "execution_count": null,
   "metadata": {
    "collapsed": true
   },
   "outputs": [],
   "source": [
    "sample = pd.concat([sample0, sample1],axis=0)"
   ]
  },
  {
   "cell_type": "code",
   "execution_count": null,
   "metadata": {},
   "outputs": [],
   "source": [
    "sample.shape"
   ]
  },
  {
   "cell_type": "code",
   "execution_count": null,
   "metadata": {
    "collapsed": true
   },
   "outputs": [],
   "source": [
    "col = list(sample.columns)[4:16]"
   ]
  },
  {
   "cell_type": "code",
   "execution_count": null,
   "metadata": {
    "scrolled": false
   },
   "outputs": [],
   "source": [
    "col"
   ]
  },
  {
   "cell_type": "code",
   "execution_count": null,
   "metadata": {
    "collapsed": true
   },
   "outputs": [],
   "source": [
    "tr_X = sample[col].values.copy()\n",
    "vl_X = valid[col].values.copy()\n",
    "ts_X = test_data[col].values.copy()"
   ]
  },
  {
   "cell_type": "code",
   "execution_count": null,
   "metadata": {
    "collapsed": true
   },
   "outputs": [],
   "source": [
    "tr_Y = sample['Stance'].values.copy()\n",
    "vl_Y = valid['Stance'].values.copy()\n",
    "ts_Y = test_data['Stance'].values.copy()"
   ]
  },
  {
   "cell_type": "code",
   "execution_count": null,
   "metadata": {
    "collapsed": true
   },
   "outputs": [],
   "source": [
    "for i in range(len(tr_Y)):\n",
    "    if tr_Y[i] == 'unrelated':\n",
    "        tr_Y[i] = 0\n",
    "    elif tr_Y[i] == 'agree':\n",
    "        tr_Y[i] = 1\n",
    "    elif tr_Y[i] == 'disagree':\n",
    "        tr_Y[i] = 2\n",
    "    elif tr_Y[i] == 'discuss':\n",
    "        tr_Y[i] = 3"
   ]
  },
  {
   "cell_type": "code",
   "execution_count": null,
   "metadata": {
    "collapsed": true
   },
   "outputs": [],
   "source": [
    "for i in range(len(vl_Y)):\n",
    "    if vl_Y[i] == 'unrelated':\n",
    "        vl_Y[i] = 0\n",
    "    elif vl_Y[i] == 'agree':\n",
    "        vl_Y[i] = 1\n",
    "    elif vl_Y[i] == 'disagree':\n",
    "        vl_Y[i] = 2\n",
    "    elif vl_Y[i] == 'discuss':\n",
    "        vl_Y[i] = 3"
   ]
  },
  {
   "cell_type": "code",
   "execution_count": null,
   "metadata": {
    "collapsed": true
   },
   "outputs": [],
   "source": [
    "params={\n",
    "'booster':'gbtree',\n",
    "'objective': 'multi:softmax', \n",
    "'num_class':4, \n",
    "'gamma':0.05, \n",
    "'max_depth':15, \n",
    "# 'lambda':50, \n",
    "'subsample':0.3, \n",
    "'colsample_bytree':0.7, \n",
    "'silent':1 ,\n",
    "'eta': 0.2, \n",
    "'seed':710,\n",
    "'nthread':4,\n",
    "}\n",
    "\n",
    "plst = list(params.items())\n",
    "\n",
    "num_rounds = 100 \n",
    "xg_train = xgb.DMatrix(tr_X, label=tr_Y)\n",
    "xg_val = xgb.DMatrix(vl_X, label=vl_Y)\n",
    "xg_test = xgb.DMatrix(ts_X)\n",
    "watchlist = [(xg_train, 'train'),(xg_val, 'val')]\n",
    "\n",
    "# training...\n",
    "model = xgb.train(plst, xg_train, num_rounds, watchlist,early_stopping_rounds=100)\n",
    "preds = model.predict(xg_test,ntree_limit=model.best_iteration)"
   ]
  },
  {
   "cell_type": "code",
   "execution_count": null,
   "metadata": {},
   "outputs": [],
   "source": [
    "set(preds)"
   ]
  },
  {
   "cell_type": "code",
   "execution_count": null,
   "metadata": {
    "collapsed": true
   },
   "outputs": [],
   "source": [
    "pred_class = []\n",
    "for i in range(len(preds)):\n",
    "    if preds[i] == 0:\n",
    "        pred_class.append('unrelated')\n",
    "    elif preds[i] == 1:\n",
    "        pred_class.append('agree')\n",
    "    elif preds[i] == 2:\n",
    "        pred_class.append('disagree')\n",
    "    elif preds[i] == 3:\n",
    "        pred_class.append('discuss')\n",
    "assert len(pred_class) == len(preds)"
   ]
  },
  {
   "cell_type": "code",
   "execution_count": null,
   "metadata": {
    "scrolled": false
   },
   "outputs": [],
   "source": [
    "from sklearn.metrics import classification_report,confusion_matrix\n",
    "y_true = ts_Y\n",
    "y_pred = pred_class\n",
    "print(classification_report(y_true, y_pred))"
   ]
  },
  {
   "cell_type": "code",
   "execution_count": null,
   "metadata": {
    "scrolled": true
   },
   "outputs": [],
   "source": [
    "confusion_matrix(y_true, y_pred, sample_weight=None)"
   ]
  },
  {
   "cell_type": "code",
   "execution_count": null,
   "metadata": {
    "scrolled": false
   },
   "outputs": [],
   "source": [
    "sum(y_pred == y_true)/len(y_true)"
   ]
  },
  {
   "cell_type": "code",
   "execution_count": null,
   "metadata": {
    "scrolled": false
   },
   "outputs": [],
   "source": [
    "fig, ax = plt.subplots(figsize=(5, 8))\n",
    "xgb.plot_importance(model, ax=ax, max_num_features=20)\n",
    "plt.show()"
   ]
  },
  {
   "cell_type": "code",
   "execution_count": null,
   "metadata": {
    "scrolled": true
   },
   "outputs": [],
   "source": [
    "col[8]"
   ]
  },
  {
   "cell_type": "code",
   "execution_count": null,
   "metadata": {
    "scrolled": true
   },
   "outputs": [],
   "source": [
    "col[3]"
   ]
  },
  {
   "cell_type": "code",
   "execution_count": null,
   "metadata": {},
   "outputs": [],
   "source": [
    "col[9]"
   ]
  },
  {
   "cell_type": "code",
   "execution_count": null,
   "metadata": {},
   "outputs": [],
   "source": [
    "col[5]"
   ]
  },
  {
   "cell_type": "code",
   "execution_count": null,
   "metadata": {},
   "outputs": [],
   "source": [
    "col[2]"
   ]
  },
  {
   "cell_type": "code",
   "execution_count": null,
   "metadata": {},
   "outputs": [],
   "source": [
    "col[4]"
   ]
  },
  {
   "cell_type": "code",
   "execution_count": null,
   "metadata": {},
   "outputs": [],
   "source": [
    "col[7]"
   ]
  },
  {
   "cell_type": "code",
   "execution_count": null,
   "metadata": {},
   "outputs": [],
   "source": [
    "col[11]"
   ]
  },
  {
   "cell_type": "code",
   "execution_count": null,
   "metadata": {
    "collapsed": true
   },
   "outputs": [],
   "source": []
  }
 ],
 "metadata": {
  "kernelspec": {
   "display_name": "Python 3",
   "language": "python",
   "name": "python3"
  },
  "language_info": {
   "codemirror_mode": {
    "name": "ipython",
    "version": 3
   },
   "file_extension": ".py",
   "mimetype": "text/x-python",
   "name": "python",
   "nbconvert_exporter": "python",
   "pygments_lexer": "ipython3",
   "version": "3.6.2"
  }
 },
 "nbformat": 4,
 "nbformat_minor": 2
}
