{
 "cells": [
  {
   "cell_type": "markdown",
   "metadata": {},
   "source": [
    "News Stance Detection"
   ]
  },
  {
   "cell_type": "markdown",
   "metadata": {},
   "source": [
    "import package"
   ]
  },
  {
   "cell_type": "code",
   "execution_count": 1,
   "metadata": {
    "collapsed": true
   },
   "outputs": [],
   "source": [
    "import pandas as pd\n",
    "import numpy as np\n",
    "import matplotlib.pyplot as plt\n",
    "import seaborn as sns\n",
    "from collections import Counter"
   ]
  },
  {
   "cell_type": "code",
   "execution_count": 2,
   "metadata": {
    "collapsed": true
   },
   "outputs": [],
   "source": [
    "#self defined function from .py files\n",
    "import clean as cl\n",
    "import tfidf as ti\n",
    "import feature as fe\n",
    "import language_model as lm\n",
    "import model as md"
   ]
  },
  {
   "cell_type": "markdown",
   "metadata": {},
   "source": [
    "load data"
   ]
  },
  {
   "cell_type": "code",
   "execution_count": 3,
   "metadata": {
    "collapsed": true
   },
   "outputs": [],
   "source": [
    "train_bodies = pd.read_csv('./fnc-1/train_bodies.csv')\n",
    "train_stances = pd.read_csv('./fnc-1/train_stances.csv')\n",
    "test_bodies = pd.read_csv('./fnc-1/competition_test_bodies.csv')\n",
    "test_stances = pd.read_csv('./fnc-1/competition_test_stances.csv')"
   ]
  },
  {
   "cell_type": "code",
   "execution_count": 4,
   "metadata": {},
   "outputs": [
    {
     "data": {
      "text/html": [
       "<div>\n",
       "<style>\n",
       "    .dataframe thead tr:only-child th {\n",
       "        text-align: right;\n",
       "    }\n",
       "\n",
       "    .dataframe thead th {\n",
       "        text-align: left;\n",
       "    }\n",
       "\n",
       "    .dataframe tbody tr th {\n",
       "        vertical-align: top;\n",
       "    }\n",
       "</style>\n",
       "<table border=\"1\" class=\"dataframe\">\n",
       "  <thead>\n",
       "    <tr style=\"text-align: right;\">\n",
       "      <th></th>\n",
       "      <th>Body ID</th>\n",
       "      <th>articleBody</th>\n",
       "    </tr>\n",
       "  </thead>\n",
       "  <tbody>\n",
       "    <tr>\n",
       "      <th>0</th>\n",
       "      <td>0</td>\n",
       "      <td>A small meteorite crashed into a wooded area i...</td>\n",
       "    </tr>\n",
       "    <tr>\n",
       "      <th>1</th>\n",
       "      <td>4</td>\n",
       "      <td>Last week we hinted at what was to come as Ebo...</td>\n",
       "    </tr>\n",
       "    <tr>\n",
       "      <th>2</th>\n",
       "      <td>5</td>\n",
       "      <td>(NEWSER) – Wonder how long a Quarter Pounder w...</td>\n",
       "    </tr>\n",
       "    <tr>\n",
       "      <th>3</th>\n",
       "      <td>6</td>\n",
       "      <td>Posting photos of a gun-toting child online, I...</td>\n",
       "    </tr>\n",
       "    <tr>\n",
       "      <th>4</th>\n",
       "      <td>7</td>\n",
       "      <td>At least 25 suspected Boko Haram insurgents we...</td>\n",
       "    </tr>\n",
       "  </tbody>\n",
       "</table>\n",
       "</div>"
      ],
      "text/plain": [
       "   Body ID                                        articleBody\n",
       "0        0  A small meteorite crashed into a wooded area i...\n",
       "1        4  Last week we hinted at what was to come as Ebo...\n",
       "2        5  (NEWSER) – Wonder how long a Quarter Pounder w...\n",
       "3        6  Posting photos of a gun-toting child online, I...\n",
       "4        7  At least 25 suspected Boko Haram insurgents we..."
      ]
     },
     "execution_count": 4,
     "metadata": {},
     "output_type": "execute_result"
    }
   ],
   "source": [
    "train_bodies.head()"
   ]
  },
  {
   "cell_type": "code",
   "execution_count": 5,
   "metadata": {},
   "outputs": [
    {
     "data": {
      "text/plain": [
       "(1683, 2)"
      ]
     },
     "execution_count": 5,
     "metadata": {},
     "output_type": "execute_result"
    }
   ],
   "source": [
    "train_bodies.shape"
   ]
  },
  {
   "cell_type": "code",
   "execution_count": 6,
   "metadata": {},
   "outputs": [
    {
     "data": {
      "text/html": [
       "<div>\n",
       "<style>\n",
       "    .dataframe thead tr:only-child th {\n",
       "        text-align: right;\n",
       "    }\n",
       "\n",
       "    .dataframe thead th {\n",
       "        text-align: left;\n",
       "    }\n",
       "\n",
       "    .dataframe tbody tr th {\n",
       "        vertical-align: top;\n",
       "    }\n",
       "</style>\n",
       "<table border=\"1\" class=\"dataframe\">\n",
       "  <thead>\n",
       "    <tr style=\"text-align: right;\">\n",
       "      <th></th>\n",
       "      <th>Headline</th>\n",
       "      <th>Body ID</th>\n",
       "      <th>Stance</th>\n",
       "    </tr>\n",
       "  </thead>\n",
       "  <tbody>\n",
       "    <tr>\n",
       "      <th>0</th>\n",
       "      <td>Police find mass graves with at least '15 bodi...</td>\n",
       "      <td>712</td>\n",
       "      <td>unrelated</td>\n",
       "    </tr>\n",
       "    <tr>\n",
       "      <th>1</th>\n",
       "      <td>Hundreds of Palestinians flee floods in Gaza a...</td>\n",
       "      <td>158</td>\n",
       "      <td>agree</td>\n",
       "    </tr>\n",
       "    <tr>\n",
       "      <th>2</th>\n",
       "      <td>Christian Bale passes on role of Steve Jobs, a...</td>\n",
       "      <td>137</td>\n",
       "      <td>unrelated</td>\n",
       "    </tr>\n",
       "    <tr>\n",
       "      <th>3</th>\n",
       "      <td>HBO and Apple in Talks for $15/Month Apple TV ...</td>\n",
       "      <td>1034</td>\n",
       "      <td>unrelated</td>\n",
       "    </tr>\n",
       "    <tr>\n",
       "      <th>4</th>\n",
       "      <td>Spider burrowed through tourist's stomach and ...</td>\n",
       "      <td>1923</td>\n",
       "      <td>disagree</td>\n",
       "    </tr>\n",
       "  </tbody>\n",
       "</table>\n",
       "</div>"
      ],
      "text/plain": [
       "                                            Headline  Body ID     Stance\n",
       "0  Police find mass graves with at least '15 bodi...      712  unrelated\n",
       "1  Hundreds of Palestinians flee floods in Gaza a...      158      agree\n",
       "2  Christian Bale passes on role of Steve Jobs, a...      137  unrelated\n",
       "3  HBO and Apple in Talks for $15/Month Apple TV ...     1034  unrelated\n",
       "4  Spider burrowed through tourist's stomach and ...     1923   disagree"
      ]
     },
     "execution_count": 6,
     "metadata": {},
     "output_type": "execute_result"
    }
   ],
   "source": [
    "train_stances.head()"
   ]
  },
  {
   "cell_type": "code",
   "execution_count": 7,
   "metadata": {},
   "outputs": [
    {
     "data": {
      "text/plain": [
       "(49972, 3)"
      ]
     },
     "execution_count": 7,
     "metadata": {},
     "output_type": "execute_result"
    }
   ],
   "source": [
    "train_stances.shape"
   ]
  },
  {
   "cell_type": "code",
   "execution_count": 8,
   "metadata": {},
   "outputs": [
    {
     "data": {
      "text/plain": [
       "(904, 2)"
      ]
     },
     "execution_count": 8,
     "metadata": {},
     "output_type": "execute_result"
    }
   ],
   "source": [
    "test_bodies.shape"
   ]
  },
  {
   "cell_type": "code",
   "execution_count": 9,
   "metadata": {},
   "outputs": [
    {
     "data": {
      "text/plain": [
       "(25413, 3)"
      ]
     },
     "execution_count": 9,
     "metadata": {},
     "output_type": "execute_result"
    }
   ],
   "source": [
    "test_stances.shape"
   ]
  },
  {
   "cell_type": "markdown",
   "metadata": {},
   "source": [
    "clean data"
   ]
  },
  {
   "cell_type": "code",
   "execution_count": 10,
   "metadata": {
    "collapsed": true
   },
   "outputs": [],
   "source": [
    "clean_stances = train_stances.copy()\n",
    "clean_bodies = train_bodies.copy()"
   ]
  },
  {
   "cell_type": "code",
   "execution_count": 11,
   "metadata": {
    "collapsed": true
   },
   "outputs": [],
   "source": [
    "clean_headline = [cl.clean_sentence(sentence) for sentence in clean_stances['Headline']]   \n",
    "clean_article = [cl.clean_sentence(sentence) for sentence in clean_bodies['articleBody']]  "
   ]
  },
  {
   "cell_type": "code",
   "execution_count": 12,
   "metadata": {
    "collapsed": true
   },
   "outputs": [],
   "source": [
    "clean_stances['Headline'] = clean_headline\n",
    "clean_bodies['articleBody'] = clean_article"
   ]
  },
  {
   "cell_type": "code",
   "execution_count": 13,
   "metadata": {
    "collapsed": true
   },
   "outputs": [],
   "source": [
    "#test set\n",
    "clean_test_stances = test_stances.copy()\n",
    "clean_test_bodies = test_bodies.copy()"
   ]
  },
  {
   "cell_type": "code",
   "execution_count": 14,
   "metadata": {
    "collapsed": true
   },
   "outputs": [],
   "source": [
    "clean_test_headline = [cl.clean_sentence(sentence) for sentence in clean_test_stances['Headline']]   \n",
    "clean_test_article = [cl.clean_sentence(sentence) for sentence in clean_test_bodies['articleBody']]  "
   ]
  },
  {
   "cell_type": "code",
   "execution_count": 15,
   "metadata": {
    "collapsed": true
   },
   "outputs": [],
   "source": [
    "clean_test_stances['Headline'] = clean_test_headline\n",
    "clean_test_bodies['articleBody'] = clean_test_article"
   ]
  },
  {
   "cell_type": "code",
   "execution_count": 16,
   "metadata": {},
   "outputs": [
    {
     "data": {
      "text/html": [
       "<div>\n",
       "<style>\n",
       "    .dataframe thead tr:only-child th {\n",
       "        text-align: right;\n",
       "    }\n",
       "\n",
       "    .dataframe thead th {\n",
       "        text-align: left;\n",
       "    }\n",
       "\n",
       "    .dataframe tbody tr th {\n",
       "        vertical-align: top;\n",
       "    }\n",
       "</style>\n",
       "<table border=\"1\" class=\"dataframe\">\n",
       "  <thead>\n",
       "    <tr style=\"text-align: right;\">\n",
       "      <th></th>\n",
       "      <th>Headline</th>\n",
       "      <th>Body ID</th>\n",
       "      <th>Stance</th>\n",
       "    </tr>\n",
       "  </thead>\n",
       "  <tbody>\n",
       "    <tr>\n",
       "      <th>0</th>\n",
       "      <td>[police, find, mass, graf, least, body, near, ...</td>\n",
       "      <td>712</td>\n",
       "      <td>unrelated</td>\n",
       "    </tr>\n",
       "    <tr>\n",
       "      <th>1</th>\n",
       "      <td>[hundreds, palestinians, flee, flood, gaza, is...</td>\n",
       "      <td>158</td>\n",
       "      <td>agree</td>\n",
       "    </tr>\n",
       "    <tr>\n",
       "      <th>2</th>\n",
       "      <td>[christian, bale, pass, role, steve, jobs, act...</td>\n",
       "      <td>137</td>\n",
       "      <td>unrelated</td>\n",
       "    </tr>\n",
       "    <tr>\n",
       "      <th>3</th>\n",
       "      <td>[hbo, apple, talks, month, apple, tv, streamin...</td>\n",
       "      <td>1034</td>\n",
       "      <td>unrelated</td>\n",
       "    </tr>\n",
       "    <tr>\n",
       "      <th>4</th>\n",
       "      <td>[spider, burrow, tourist, stomach, chest]</td>\n",
       "      <td>1923</td>\n",
       "      <td>disagree</td>\n",
       "    </tr>\n",
       "  </tbody>\n",
       "</table>\n",
       "</div>"
      ],
      "text/plain": [
       "                                            Headline  Body ID     Stance\n",
       "0  [police, find, mass, graf, least, body, near, ...      712  unrelated\n",
       "1  [hundreds, palestinians, flee, flood, gaza, is...      158      agree\n",
       "2  [christian, bale, pass, role, steve, jobs, act...      137  unrelated\n",
       "3  [hbo, apple, talks, month, apple, tv, streamin...     1034  unrelated\n",
       "4          [spider, burrow, tourist, stomach, chest]     1923   disagree"
      ]
     },
     "execution_count": 16,
     "metadata": {},
     "output_type": "execute_result"
    }
   ],
   "source": [
    "clean_stances.head()"
   ]
  },
  {
   "cell_type": "code",
   "execution_count": 17,
   "metadata": {},
   "outputs": [
    {
     "data": {
      "text/plain": [
       "(49972, 3)"
      ]
     },
     "execution_count": 17,
     "metadata": {},
     "output_type": "execute_result"
    }
   ],
   "source": [
    "clean_stances.shape"
   ]
  },
  {
   "cell_type": "code",
   "execution_count": 18,
   "metadata": {},
   "outputs": [
    {
     "data": {
      "text/html": [
       "<div>\n",
       "<style>\n",
       "    .dataframe thead tr:only-child th {\n",
       "        text-align: right;\n",
       "    }\n",
       "\n",
       "    .dataframe thead th {\n",
       "        text-align: left;\n",
       "    }\n",
       "\n",
       "    .dataframe tbody tr th {\n",
       "        vertical-align: top;\n",
       "    }\n",
       "</style>\n",
       "<table border=\"1\" class=\"dataframe\">\n",
       "  <thead>\n",
       "    <tr style=\"text-align: right;\">\n",
       "      <th></th>\n",
       "      <th>Body ID</th>\n",
       "      <th>articleBody</th>\n",
       "    </tr>\n",
       "  </thead>\n",
       "  <tbody>\n",
       "    <tr>\n",
       "      <th>0</th>\n",
       "      <td>0</td>\n",
       "      <td>[small, meteorite, crash, wooded, area, nicara...</td>\n",
       "    </tr>\n",
       "    <tr>\n",
       "      <th>1</th>\n",
       "      <td>4</td>\n",
       "      <td>[last, week, hint, come, ebola, fear, spread, ...</td>\n",
       "    </tr>\n",
       "    <tr>\n",
       "      <th>2</th>\n",
       "      <td>5</td>\n",
       "      <td>[newser, wonder, long, quarter, pounder, chees...</td>\n",
       "    </tr>\n",
       "    <tr>\n",
       "      <th>3</th>\n",
       "      <td>6</td>\n",
       "      <td>[posting, photo, gun, tot, child, online, isis...</td>\n",
       "    </tr>\n",
       "    <tr>\n",
       "      <th>4</th>\n",
       "      <td>7</td>\n",
       "      <td>[least, suspected, boko, haram, insurgent, kil...</td>\n",
       "    </tr>\n",
       "  </tbody>\n",
       "</table>\n",
       "</div>"
      ],
      "text/plain": [
       "   Body ID                                        articleBody\n",
       "0        0  [small, meteorite, crash, wooded, area, nicara...\n",
       "1        4  [last, week, hint, come, ebola, fear, spread, ...\n",
       "2        5  [newser, wonder, long, quarter, pounder, chees...\n",
       "3        6  [posting, photo, gun, tot, child, online, isis...\n",
       "4        7  [least, suspected, boko, haram, insurgent, kil..."
      ]
     },
     "execution_count": 18,
     "metadata": {},
     "output_type": "execute_result"
    }
   ],
   "source": [
    "clean_bodies.head()"
   ]
  },
  {
   "cell_type": "code",
   "execution_count": 19,
   "metadata": {},
   "outputs": [
    {
     "data": {
      "text/plain": [
       "(1683, 2)"
      ]
     },
     "execution_count": 19,
     "metadata": {},
     "output_type": "execute_result"
    }
   ],
   "source": [
    "clean_bodies.shape"
   ]
  },
  {
   "cell_type": "code",
   "execution_count": 20,
   "metadata": {},
   "outputs": [
    {
     "data": {
      "text/html": [
       "<div>\n",
       "<style>\n",
       "    .dataframe thead tr:only-child th {\n",
       "        text-align: right;\n",
       "    }\n",
       "\n",
       "    .dataframe thead th {\n",
       "        text-align: left;\n",
       "    }\n",
       "\n",
       "    .dataframe tbody tr th {\n",
       "        vertical-align: top;\n",
       "    }\n",
       "</style>\n",
       "<table border=\"1\" class=\"dataframe\">\n",
       "  <thead>\n",
       "    <tr style=\"text-align: right;\">\n",
       "      <th></th>\n",
       "      <th>Headline</th>\n",
       "      <th>Body ID</th>\n",
       "      <th>Stance</th>\n",
       "    </tr>\n",
       "  </thead>\n",
       "  <tbody>\n",
       "    <tr>\n",
       "      <th>0</th>\n",
       "      <td>[ferguson, riot, pregnant, woman, lose, eye, c...</td>\n",
       "      <td>2008</td>\n",
       "      <td>unrelated</td>\n",
       "    </tr>\n",
       "    <tr>\n",
       "      <th>1</th>\n",
       "      <td>[crazy, conservatives, sure, gitmo, detainee, ...</td>\n",
       "      <td>1550</td>\n",
       "      <td>unrelated</td>\n",
       "    </tr>\n",
       "    <tr>\n",
       "      <th>2</th>\n",
       "      <td>[russian, guy, says, justin, bieber, ringtone,...</td>\n",
       "      <td>2</td>\n",
       "      <td>unrelated</td>\n",
       "    </tr>\n",
       "    <tr>\n",
       "      <th>3</th>\n",
       "      <td>[zombie, cat, buried, kitty, believed, dead, m...</td>\n",
       "      <td>1793</td>\n",
       "      <td>unrelated</td>\n",
       "    </tr>\n",
       "    <tr>\n",
       "      <th>4</th>\n",
       "      <td>[argentina, president, adopts, boy, end, werew...</td>\n",
       "      <td>37</td>\n",
       "      <td>unrelated</td>\n",
       "    </tr>\n",
       "  </tbody>\n",
       "</table>\n",
       "</div>"
      ],
      "text/plain": [
       "                                            Headline  Body ID     Stance\n",
       "0  [ferguson, riot, pregnant, woman, lose, eye, c...     2008  unrelated\n",
       "1  [crazy, conservatives, sure, gitmo, detainee, ...     1550  unrelated\n",
       "2  [russian, guy, says, justin, bieber, ringtone,...        2  unrelated\n",
       "3  [zombie, cat, buried, kitty, believed, dead, m...     1793  unrelated\n",
       "4  [argentina, president, adopts, boy, end, werew...       37  unrelated"
      ]
     },
     "execution_count": 20,
     "metadata": {},
     "output_type": "execute_result"
    }
   ],
   "source": [
    "clean_test_stances.head()"
   ]
  },
  {
   "cell_type": "code",
   "execution_count": 21,
   "metadata": {},
   "outputs": [
    {
     "data": {
      "text/html": [
       "<div>\n",
       "<style>\n",
       "    .dataframe thead tr:only-child th {\n",
       "        text-align: right;\n",
       "    }\n",
       "\n",
       "    .dataframe thead th {\n",
       "        text-align: left;\n",
       "    }\n",
       "\n",
       "    .dataframe tbody tr th {\n",
       "        vertical-align: top;\n",
       "    }\n",
       "</style>\n",
       "<table border=\"1\" class=\"dataframe\">\n",
       "  <thead>\n",
       "    <tr style=\"text-align: right;\">\n",
       "      <th></th>\n",
       "      <th>Body ID</th>\n",
       "      <th>articleBody</th>\n",
       "    </tr>\n",
       "  </thead>\n",
       "  <tbody>\n",
       "    <tr>\n",
       "      <th>0</th>\n",
       "      <td>1</td>\n",
       "      <td>[al, sisi, deny, israeli, report, state, offer...</td>\n",
       "    </tr>\n",
       "    <tr>\n",
       "      <th>1</th>\n",
       "      <td>2</td>\n",
       "      <td>[bereave, afghan, mother, take, revenge, talib...</td>\n",
       "    </tr>\n",
       "    <tr>\n",
       "      <th>2</th>\n",
       "      <td>3</td>\n",
       "      <td>[cnbc, report, tesla, choose, nevada, site, gi...</td>\n",
       "    </tr>\n",
       "    <tr>\n",
       "      <th>3</th>\n",
       "      <td>12</td>\n",
       "      <td>[inch, version, iphone, say, development, repl...</td>\n",
       "    </tr>\n",
       "    <tr>\n",
       "      <th>4</th>\n",
       "      <td>19</td>\n",
       "      <td>[gr, editor, note, report, western, mainstream...</td>\n",
       "    </tr>\n",
       "  </tbody>\n",
       "</table>\n",
       "</div>"
      ],
      "text/plain": [
       "   Body ID                                        articleBody\n",
       "0        1  [al, sisi, deny, israeli, report, state, offer...\n",
       "1        2  [bereave, afghan, mother, take, revenge, talib...\n",
       "2        3  [cnbc, report, tesla, choose, nevada, site, gi...\n",
       "3       12  [inch, version, iphone, say, development, repl...\n",
       "4       19  [gr, editor, note, report, western, mainstream..."
      ]
     },
     "execution_count": 21,
     "metadata": {},
     "output_type": "execute_result"
    }
   ],
   "source": [
    "clean_test_bodies.head()"
   ]
  },
  {
   "cell_type": "markdown",
   "metadata": {},
   "source": [
    "observe unique headlines and bodies"
   ]
  },
  {
   "cell_type": "code",
   "execution_count": 22,
   "metadata": {
    "collapsed": true
   },
   "outputs": [],
   "source": [
    "uni_head = train_stances['Headline'].unique()"
   ]
  },
  {
   "cell_type": "code",
   "execution_count": 23,
   "metadata": {
    "collapsed": true
   },
   "outputs": [],
   "source": [
    "uni_body = train_bodies['articleBody'].unique()"
   ]
  },
  {
   "cell_type": "code",
   "execution_count": 24,
   "metadata": {
    "collapsed": true
   },
   "outputs": [],
   "source": [
    "clean_uni_head = [cl.clean_sentence(sentence) for sentence in uni_head]   \n",
    "clean_uni_body = [cl.clean_sentence(sentence) for sentence in uni_body]  "
   ]
  },
  {
   "cell_type": "code",
   "execution_count": 25,
   "metadata": {
    "scrolled": false
   },
   "outputs": [
    {
     "data": {
      "text/plain": [
       "1669"
      ]
     },
     "execution_count": 25,
     "metadata": {},
     "output_type": "execute_result"
    }
   ],
   "source": [
    "len(clean_uni_body)"
   ]
  },
  {
   "cell_type": "code",
   "execution_count": 26,
   "metadata": {
    "scrolled": false
   },
   "outputs": [
    {
     "data": {
      "text/plain": [
       "1648"
      ]
     },
     "execution_count": 26,
     "metadata": {},
     "output_type": "execute_result"
    }
   ],
   "source": [
    "len(clean_uni_head)"
   ]
  },
  {
   "cell_type": "code",
   "execution_count": 27,
   "metadata": {
    "collapsed": true
   },
   "outputs": [],
   "source": [
    "clean_uni_all = clean_uni_head + clean_uni_body"
   ]
  },
  {
   "cell_type": "code",
   "execution_count": 28,
   "metadata": {
    "scrolled": true
   },
   "outputs": [
    {
     "data": {
      "text/plain": [
       "3317"
      ]
     },
     "execution_count": 28,
     "metadata": {},
     "output_type": "execute_result"
    }
   ],
   "source": [
    "len(clean_uni_all)"
   ]
  },
  {
   "cell_type": "markdown",
   "metadata": {},
   "source": [
    "merge body and stance"
   ]
  },
  {
   "cell_type": "code",
   "execution_count": 29,
   "metadata": {
    "collapsed": true
   },
   "outputs": [],
   "source": [
    "clean_merge = pd.merge(clean_stances, clean_bodies, how='left', on=['Body ID', 'Body ID'])"
   ]
  },
  {
   "cell_type": "code",
   "execution_count": 30,
   "metadata": {
    "scrolled": false
   },
   "outputs": [
    {
     "data": {
      "text/html": [
       "<div>\n",
       "<style>\n",
       "    .dataframe thead tr:only-child th {\n",
       "        text-align: right;\n",
       "    }\n",
       "\n",
       "    .dataframe thead th {\n",
       "        text-align: left;\n",
       "    }\n",
       "\n",
       "    .dataframe tbody tr th {\n",
       "        vertical-align: top;\n",
       "    }\n",
       "</style>\n",
       "<table border=\"1\" class=\"dataframe\">\n",
       "  <thead>\n",
       "    <tr style=\"text-align: right;\">\n",
       "      <th></th>\n",
       "      <th>Headline</th>\n",
       "      <th>Body ID</th>\n",
       "      <th>Stance</th>\n",
       "      <th>articleBody</th>\n",
       "    </tr>\n",
       "  </thead>\n",
       "  <tbody>\n",
       "    <tr>\n",
       "      <th>0</th>\n",
       "      <td>[police, find, mass, graf, least, body, near, ...</td>\n",
       "      <td>712</td>\n",
       "      <td>unrelated</td>\n",
       "      <td>[danny, boyle, direct, untitled, film, seth, r...</td>\n",
       "    </tr>\n",
       "    <tr>\n",
       "      <th>1</th>\n",
       "      <td>[hundreds, palestinians, flee, flood, gaza, is...</td>\n",
       "      <td>158</td>\n",
       "      <td>agree</td>\n",
       "      <td>[hundreds, palestinians, evacuate, home, sunda...</td>\n",
       "    </tr>\n",
       "    <tr>\n",
       "      <th>2</th>\n",
       "      <td>[christian, bale, pass, role, steve, jobs, act...</td>\n",
       "      <td>137</td>\n",
       "      <td>unrelated</td>\n",
       "      <td>[year, old, moscow, resident, hospitalize, wou...</td>\n",
       "    </tr>\n",
       "    <tr>\n",
       "      <th>3</th>\n",
       "      <td>[hbo, apple, talks, month, apple, tv, streamin...</td>\n",
       "      <td>1034</td>\n",
       "      <td>unrelated</td>\n",
       "      <td>[reuters, canadian, soldier, shoot, canadian, ...</td>\n",
       "    </tr>\n",
       "    <tr>\n",
       "      <th>4</th>\n",
       "      <td>[spider, burrow, tourist, stomach, chest]</td>\n",
       "      <td>1923</td>\n",
       "      <td>disagree</td>\n",
       "      <td>[fear, arachnophobes, story, bunbury, spiderma...</td>\n",
       "    </tr>\n",
       "  </tbody>\n",
       "</table>\n",
       "</div>"
      ],
      "text/plain": [
       "                                            Headline  Body ID     Stance  \\\n",
       "0  [police, find, mass, graf, least, body, near, ...      712  unrelated   \n",
       "1  [hundreds, palestinians, flee, flood, gaza, is...      158      agree   \n",
       "2  [christian, bale, pass, role, steve, jobs, act...      137  unrelated   \n",
       "3  [hbo, apple, talks, month, apple, tv, streamin...     1034  unrelated   \n",
       "4          [spider, burrow, tourist, stomach, chest]     1923   disagree   \n",
       "\n",
       "                                         articleBody  \n",
       "0  [danny, boyle, direct, untitled, film, seth, r...  \n",
       "1  [hundreds, palestinians, evacuate, home, sunda...  \n",
       "2  [year, old, moscow, resident, hospitalize, wou...  \n",
       "3  [reuters, canadian, soldier, shoot, canadian, ...  \n",
       "4  [fear, arachnophobes, story, bunbury, spiderma...  "
      ]
     },
     "execution_count": 30,
     "metadata": {},
     "output_type": "execute_result"
    }
   ],
   "source": [
    "clean_merge.head()"
   ]
  },
  {
   "cell_type": "code",
   "execution_count": 31,
   "metadata": {},
   "outputs": [
    {
     "data": {
      "text/plain": [
       "49972"
      ]
     },
     "execution_count": 31,
     "metadata": {},
     "output_type": "execute_result"
    }
   ],
   "source": [
    "sum(clean_merge.Headline == clean_stances.Headline)"
   ]
  },
  {
   "cell_type": "code",
   "execution_count": 32,
   "metadata": {
    "scrolled": false
   },
   "outputs": [
    {
     "data": {
      "text/plain": [
       "(49972, 4)"
      ]
     },
     "execution_count": 32,
     "metadata": {},
     "output_type": "execute_result"
    }
   ],
   "source": [
    "clean_merge.shape"
   ]
  },
  {
   "cell_type": "code",
   "execution_count": 33,
   "metadata": {
    "collapsed": true
   },
   "outputs": [],
   "source": [
    "clean_test_merge = pd.merge(clean_test_stances, clean_test_bodies, how='left', on=['Body ID', 'Body ID'])"
   ]
  },
  {
   "cell_type": "code",
   "execution_count": 34,
   "metadata": {
    "scrolled": false
   },
   "outputs": [
    {
     "data": {
      "text/html": [
       "<div>\n",
       "<style>\n",
       "    .dataframe thead tr:only-child th {\n",
       "        text-align: right;\n",
       "    }\n",
       "\n",
       "    .dataframe thead th {\n",
       "        text-align: left;\n",
       "    }\n",
       "\n",
       "    .dataframe tbody tr th {\n",
       "        vertical-align: top;\n",
       "    }\n",
       "</style>\n",
       "<table border=\"1\" class=\"dataframe\">\n",
       "  <thead>\n",
       "    <tr style=\"text-align: right;\">\n",
       "      <th></th>\n",
       "      <th>Headline</th>\n",
       "      <th>Body ID</th>\n",
       "      <th>Stance</th>\n",
       "      <th>articleBody</th>\n",
       "    </tr>\n",
       "  </thead>\n",
       "  <tbody>\n",
       "    <tr>\n",
       "      <th>0</th>\n",
       "      <td>[ferguson, riot, pregnant, woman, lose, eye, c...</td>\n",
       "      <td>2008</td>\n",
       "      <td>unrelated</td>\n",
       "      <td>[respected, senior, french, police, officer, i...</td>\n",
       "    </tr>\n",
       "    <tr>\n",
       "      <th>1</th>\n",
       "      <td>[crazy, conservatives, sure, gitmo, detainee, ...</td>\n",
       "      <td>1550</td>\n",
       "      <td>unrelated</td>\n",
       "      <td>[dave, morin, social, network, company, path, ...</td>\n",
       "    </tr>\n",
       "    <tr>\n",
       "      <th>2</th>\n",
       "      <td>[russian, guy, says, justin, bieber, ringtone,...</td>\n",
       "      <td>2</td>\n",
       "      <td>unrelated</td>\n",
       "      <td>[bereave, afghan, mother, take, revenge, talib...</td>\n",
       "    </tr>\n",
       "    <tr>\n",
       "      <th>3</th>\n",
       "      <td>[zombie, cat, buried, kitty, believed, dead, m...</td>\n",
       "      <td>1793</td>\n",
       "      <td>unrelated</td>\n",
       "      <td>[hewlett, packard, officially, split, two, fol...</td>\n",
       "    </tr>\n",
       "    <tr>\n",
       "      <th>4</th>\n",
       "      <td>[argentina, president, adopts, boy, end, werew...</td>\n",
       "      <td>37</td>\n",
       "      <td>unrelated</td>\n",
       "      <td>[airline, passenger, head, dallas, remove, pla...</td>\n",
       "    </tr>\n",
       "  </tbody>\n",
       "</table>\n",
       "</div>"
      ],
      "text/plain": [
       "                                            Headline  Body ID     Stance  \\\n",
       "0  [ferguson, riot, pregnant, woman, lose, eye, c...     2008  unrelated   \n",
       "1  [crazy, conservatives, sure, gitmo, detainee, ...     1550  unrelated   \n",
       "2  [russian, guy, says, justin, bieber, ringtone,...        2  unrelated   \n",
       "3  [zombie, cat, buried, kitty, believed, dead, m...     1793  unrelated   \n",
       "4  [argentina, president, adopts, boy, end, werew...       37  unrelated   \n",
       "\n",
       "                                         articleBody  \n",
       "0  [respected, senior, french, police, officer, i...  \n",
       "1  [dave, morin, social, network, company, path, ...  \n",
       "2  [bereave, afghan, mother, take, revenge, talib...  \n",
       "3  [hewlett, packard, officially, split, two, fol...  \n",
       "4  [airline, passenger, head, dallas, remove, pla...  "
      ]
     },
     "execution_count": 34,
     "metadata": {},
     "output_type": "execute_result"
    }
   ],
   "source": [
    "clean_test_merge.head()"
   ]
  },
  {
   "cell_type": "code",
   "execution_count": 35,
   "metadata": {},
   "outputs": [
    {
     "data": {
      "text/plain": [
       "25413"
      ]
     },
     "execution_count": 35,
     "metadata": {},
     "output_type": "execute_result"
    }
   ],
   "source": [
    "sum(clean_test_merge.Headline == clean_test_stances.Headline)"
   ]
  },
  {
   "cell_type": "code",
   "execution_count": 36,
   "metadata": {
    "scrolled": false
   },
   "outputs": [
    {
     "data": {
      "text/plain": [
       "(25413, 4)"
      ]
     },
     "execution_count": 36,
     "metadata": {},
     "output_type": "execute_result"
    }
   ],
   "source": [
    "clean_test_merge.shape"
   ]
  },
  {
   "cell_type": "markdown",
   "metadata": {},
   "source": [
    "###  subtask 2. vector representation and cosine  similarity"
   ]
  },
  {
   "cell_type": "markdown",
   "metadata": {},
   "source": [
    "build vocabulary"
   ]
  },
  {
   "cell_type": "code",
   "execution_count": 37,
   "metadata": {
    "collapsed": true,
    "scrolled": true
   },
   "outputs": [],
   "source": [
    "#all voc\n",
    "voc_all = []\n",
    "for sentence in clean_uni_all:\n",
    "    voc_all = voc_all + sentence"
   ]
  },
  {
   "cell_type": "code",
   "execution_count": 38,
   "metadata": {
    "collapsed": true,
    "scrolled": false
   },
   "outputs": [],
   "source": [
    "voc_all = set(voc_all)"
   ]
  },
  {
   "cell_type": "code",
   "execution_count": 39,
   "metadata": {
    "scrolled": false
   },
   "outputs": [
    {
     "data": {
      "text/plain": [
       "19102"
      ]
     },
     "execution_count": 39,
     "metadata": {},
     "output_type": "execute_result"
    }
   ],
   "source": [
    "len(voc_all)"
   ]
  },
  {
   "cell_type": "code",
   "execution_count": 40,
   "metadata": {
    "collapsed": true
   },
   "outputs": [],
   "source": [
    "#add index\n",
    "inx_voc_all = dict(zip(voc_all,range(len(voc_all))))"
   ]
  },
  {
   "cell_type": "markdown",
   "metadata": {},
   "source": [
    "tf-idf"
   ]
  },
  {
   "cell_type": "code",
   "execution_count": 41,
   "metadata": {},
   "outputs": [
    {
     "data": {
      "text/plain": [
       "\"\\n#idf was calculated and saved\\nidf = ti.calculate_idf(voc_all,clean_uni_all)\\n\\nimport json\\n# Writing idf\\nwith open('idf.json', 'w') as f:\\n    json.dump(idf, f)\\n\""
      ]
     },
     "execution_count": 41,
     "metadata": {},
     "output_type": "execute_result"
    }
   ],
   "source": [
    "'''\n",
    "#idf was calculated and saved\n",
    "idf = ti.calculate_idf(voc_all,clean_uni_all)\n",
    "\n",
    "import json\n",
    "# Writing idf\n",
    "with open('idf.json', 'w') as f:\n",
    "    json.dump(idf, f)\n",
    "'''"
   ]
  },
  {
   "cell_type": "code",
   "execution_count": 42,
   "metadata": {
    "collapsed": true
   },
   "outputs": [],
   "source": [
    "import json\n",
    "# Reading idf\n",
    "with open('idf.json', 'r') as f:\n",
    "    idf = json.load(f)"
   ]
  },
  {
   "cell_type": "markdown",
   "metadata": {},
   "source": [
    "feature selection for tfidf"
   ]
  },
  {
   "cell_type": "code",
   "execution_count": 43,
   "metadata": {
    "collapsed": true,
    "scrolled": true
   },
   "outputs": [],
   "source": [
    "voc_key = []\n",
    "for sentence in clean_uni_head:\n",
    "    voc_key = voc_key + ti.tfidf_filter(3, sentence, idf)\n",
    "for sentence in clean_uni_body:\n",
    "    voc_key = voc_key + ti.tfidf_filter(30, sentence, idf)"
   ]
  },
  {
   "cell_type": "code",
   "execution_count": 44,
   "metadata": {
    "collapsed": true
   },
   "outputs": [],
   "source": [
    "voc_key = set(voc_key)"
   ]
  },
  {
   "cell_type": "code",
   "execution_count": 45,
   "metadata": {},
   "outputs": [
    {
     "data": {
      "text/plain": [
       "3338"
      ]
     },
     "execution_count": 45,
     "metadata": {},
     "output_type": "execute_result"
    }
   ],
   "source": [
    "len(voc_key)"
   ]
  },
  {
   "cell_type": "code",
   "execution_count": 46,
   "metadata": {
    "collapsed": true
   },
   "outputs": [],
   "source": [
    "#add index\n",
    "inx_voc_key = dict(zip(voc_key,range(len(voc_key))))"
   ]
  },
  {
   "cell_type": "markdown",
   "metadata": {},
   "source": [
    "word2vec"
   ]
  },
  {
   "cell_type": "code",
   "execution_count": 47,
   "metadata": {
    "collapsed": true
   },
   "outputs": [],
   "source": [
    "clean_all = clean_merge['Headline']+clean_merge['articleBody']"
   ]
  },
  {
   "cell_type": "code",
   "execution_count": 48,
   "metadata": {},
   "outputs": [
    {
     "data": {
      "text/plain": [
       "49972"
      ]
     },
     "execution_count": 48,
     "metadata": {},
     "output_type": "execute_result"
    }
   ],
   "source": [
    "len(clean_all)"
   ]
  },
  {
   "cell_type": "code",
   "execution_count": 49,
   "metadata": {
    "collapsed": true
   },
   "outputs": [],
   "source": [
    "from gensim.models import Word2Vec"
   ]
  },
  {
   "cell_type": "code",
   "execution_count": 50,
   "metadata": {
    "collapsed": true
   },
   "outputs": [],
   "source": [
    "dim = 200\n",
    "w2v_model = Word2Vec(sentences=clean_all, min_count=1, size = dim)"
   ]
  },
  {
   "cell_type": "code",
   "execution_count": 51,
   "metadata": {},
   "outputs": [
    {
     "data": {
      "text/plain": [
       "19102"
      ]
     },
     "execution_count": 51,
     "metadata": {},
     "output_type": "execute_result"
    }
   ],
   "source": [
    "voc_w2v = list(w2v_model.wv.vocab.keys()) \n",
    "len(voc_w2v)"
   ]
  },
  {
   "cell_type": "code",
   "execution_count": 52,
   "metadata": {
    "collapsed": true
   },
   "outputs": [],
   "source": [
    "def word2vec_vector(sentence, model, voc, dim):\n",
    "    vector = np.zeros(dim)\n",
    "    for word in sentence:\n",
    "        if word in voc:\n",
    "            vector = np.add(vector, model.wv.word_vec(word))\n",
    "    vector = vector / np.linalg.norm(vector)\n",
    "    return vector  "
   ]
  },
  {
   "cell_type": "markdown",
   "metadata": {},
   "source": [
    "calculate cosine"
   ]
  },
  {
   "cell_type": "code",
   "execution_count": 53,
   "metadata": {
    "collapsed": true
   },
   "outputs": [],
   "source": [
    "all_merge = clean_merge.copy()"
   ]
  },
  {
   "cell_type": "code",
   "execution_count": 54,
   "metadata": {
    "scrolled": false
   },
   "outputs": [
    {
     "data": {
      "text/html": [
       "<div>\n",
       "<style>\n",
       "    .dataframe thead tr:only-child th {\n",
       "        text-align: right;\n",
       "    }\n",
       "\n",
       "    .dataframe thead th {\n",
       "        text-align: left;\n",
       "    }\n",
       "\n",
       "    .dataframe tbody tr th {\n",
       "        vertical-align: top;\n",
       "    }\n",
       "</style>\n",
       "<table border=\"1\" class=\"dataframe\">\n",
       "  <thead>\n",
       "    <tr style=\"text-align: right;\">\n",
       "      <th></th>\n",
       "      <th>Headline</th>\n",
       "      <th>Body ID</th>\n",
       "      <th>Stance</th>\n",
       "      <th>articleBody</th>\n",
       "    </tr>\n",
       "  </thead>\n",
       "  <tbody>\n",
       "    <tr>\n",
       "      <th>0</th>\n",
       "      <td>[police, find, mass, graf, least, body, near, ...</td>\n",
       "      <td>712</td>\n",
       "      <td>unrelated</td>\n",
       "      <td>[danny, boyle, direct, untitled, film, seth, r...</td>\n",
       "    </tr>\n",
       "    <tr>\n",
       "      <th>1</th>\n",
       "      <td>[hundreds, palestinians, flee, flood, gaza, is...</td>\n",
       "      <td>158</td>\n",
       "      <td>agree</td>\n",
       "      <td>[hundreds, palestinians, evacuate, home, sunda...</td>\n",
       "    </tr>\n",
       "    <tr>\n",
       "      <th>2</th>\n",
       "      <td>[christian, bale, pass, role, steve, jobs, act...</td>\n",
       "      <td>137</td>\n",
       "      <td>unrelated</td>\n",
       "      <td>[year, old, moscow, resident, hospitalize, wou...</td>\n",
       "    </tr>\n",
       "    <tr>\n",
       "      <th>3</th>\n",
       "      <td>[hbo, apple, talks, month, apple, tv, streamin...</td>\n",
       "      <td>1034</td>\n",
       "      <td>unrelated</td>\n",
       "      <td>[reuters, canadian, soldier, shoot, canadian, ...</td>\n",
       "    </tr>\n",
       "    <tr>\n",
       "      <th>4</th>\n",
       "      <td>[spider, burrow, tourist, stomach, chest]</td>\n",
       "      <td>1923</td>\n",
       "      <td>disagree</td>\n",
       "      <td>[fear, arachnophobes, story, bunbury, spiderma...</td>\n",
       "    </tr>\n",
       "  </tbody>\n",
       "</table>\n",
       "</div>"
      ],
      "text/plain": [
       "                                            Headline  Body ID     Stance  \\\n",
       "0  [police, find, mass, graf, least, body, near, ...      712  unrelated   \n",
       "1  [hundreds, palestinians, flee, flood, gaza, is...      158      agree   \n",
       "2  [christian, bale, pass, role, steve, jobs, act...      137  unrelated   \n",
       "3  [hbo, apple, talks, month, apple, tv, streamin...     1034  unrelated   \n",
       "4          [spider, burrow, tourist, stomach, chest]     1923   disagree   \n",
       "\n",
       "                                         articleBody  \n",
       "0  [danny, boyle, direct, untitled, film, seth, r...  \n",
       "1  [hundreds, palestinians, evacuate, home, sunda...  \n",
       "2  [year, old, moscow, resident, hospitalize, wou...  \n",
       "3  [reuters, canadian, soldier, shoot, canadian, ...  \n",
       "4  [fear, arachnophobes, story, bunbury, spiderma...  "
      ]
     },
     "execution_count": 54,
     "metadata": {},
     "output_type": "execute_result"
    }
   ],
   "source": [
    "all_merge[0:5]"
   ]
  },
  {
   "cell_type": "code",
   "execution_count": 55,
   "metadata": {},
   "outputs": [
    {
     "data": {
      "text/plain": [
       "49972"
      ]
     },
     "execution_count": 55,
     "metadata": {},
     "output_type": "execute_result"
    }
   ],
   "source": [
    "len(all_merge)"
   ]
  },
  {
   "cell_type": "code",
   "execution_count": 56,
   "metadata": {
    "collapsed": true,
    "scrolled": true
   },
   "outputs": [],
   "source": [
    "all_merge['cos_sim'] = 0.00"
   ]
  },
  {
   "cell_type": "code",
   "execution_count": 57,
   "metadata": {
    "collapsed": true
   },
   "outputs": [],
   "source": [
    "col = 4\n",
    "for i in range(len(all_merge)):\n",
    "    h1 = all_merge.iat[i,0]\n",
    "    b1 = all_merge.iat[i,3]\n",
    "    vh1 = ti.calculate_tfidf_vector(h1, idf, inx_voc_all)\n",
    "    vb1 = ti.calculate_tfidf_vector(b1, idf, inx_voc_all)\n",
    "    all_merge.iat[i,col] = fe.cos_similar(vh1,vb1)\n",
    "#     print(cos_similar(vh1,vb1))"
   ]
  },
  {
   "cell_type": "code",
   "execution_count": 58,
   "metadata": {
    "collapsed": true,
    "scrolled": true
   },
   "outputs": [],
   "source": [
    "all_merge['cos_sim_key'] = 0.0"
   ]
  },
  {
   "cell_type": "code",
   "execution_count": 59,
   "metadata": {
    "collapsed": true
   },
   "outputs": [],
   "source": [
    "col = 5\n",
    "for i in range(len(all_merge)):\n",
    "    h1 = all_merge.iat[i,0]\n",
    "    b1 = all_merge.iat[i,3]\n",
    "    vh1 = ti.calculate_tfidf_vector_key(h1, idf, inx_voc_key, voc_key)\n",
    "    vb1 = ti.calculate_tfidf_vector_key(b1, idf, inx_voc_key, voc_key)\n",
    "    all_merge.iat[i,col] = fe.cos_similar(vh1,vb1)"
   ]
  },
  {
   "cell_type": "code",
   "execution_count": 60,
   "metadata": {
    "collapsed": true,
    "scrolled": true
   },
   "outputs": [],
   "source": [
    "all_merge['cos_sim_w2v'] = 0.0"
   ]
  },
  {
   "cell_type": "code",
   "execution_count": 61,
   "metadata": {
    "collapsed": true
   },
   "outputs": [],
   "source": [
    "col = 6\n",
    "for i in range(len(all_merge)):\n",
    "    h1 = all_merge.iat[i,0]\n",
    "    b1 = all_merge.iat[i,3]\n",
    "    vh1 = word2vec_vector(h1, w2v_model,voc_w2v,dim)\n",
    "    vb1 = word2vec_vector(b1, w2v_model,voc_w2v,dim)\n",
    "    all_merge.iat[i,col] = fe.cos_similar(vh1,vb1)"
   ]
  },
  {
   "cell_type": "markdown",
   "metadata": {},
   "source": [
    "test set"
   ]
  },
  {
   "cell_type": "code",
   "execution_count": 62,
   "metadata": {
    "collapsed": true
   },
   "outputs": [],
   "source": [
    "all_test_merge = clean_test_merge.copy()"
   ]
  },
  {
   "cell_type": "code",
   "execution_count": 63,
   "metadata": {},
   "outputs": [
    {
     "data": {
      "text/html": [
       "<div>\n",
       "<style>\n",
       "    .dataframe thead tr:only-child th {\n",
       "        text-align: right;\n",
       "    }\n",
       "\n",
       "    .dataframe thead th {\n",
       "        text-align: left;\n",
       "    }\n",
       "\n",
       "    .dataframe tbody tr th {\n",
       "        vertical-align: top;\n",
       "    }\n",
       "</style>\n",
       "<table border=\"1\" class=\"dataframe\">\n",
       "  <thead>\n",
       "    <tr style=\"text-align: right;\">\n",
       "      <th></th>\n",
       "      <th>Headline</th>\n",
       "      <th>Body ID</th>\n",
       "      <th>Stance</th>\n",
       "      <th>articleBody</th>\n",
       "    </tr>\n",
       "  </thead>\n",
       "  <tbody>\n",
       "    <tr>\n",
       "      <th>0</th>\n",
       "      <td>[ferguson, riot, pregnant, woman, lose, eye, c...</td>\n",
       "      <td>2008</td>\n",
       "      <td>unrelated</td>\n",
       "      <td>[respected, senior, french, police, officer, i...</td>\n",
       "    </tr>\n",
       "    <tr>\n",
       "      <th>1</th>\n",
       "      <td>[crazy, conservatives, sure, gitmo, detainee, ...</td>\n",
       "      <td>1550</td>\n",
       "      <td>unrelated</td>\n",
       "      <td>[dave, morin, social, network, company, path, ...</td>\n",
       "    </tr>\n",
       "  </tbody>\n",
       "</table>\n",
       "</div>"
      ],
      "text/plain": [
       "                                            Headline  Body ID     Stance  \\\n",
       "0  [ferguson, riot, pregnant, woman, lose, eye, c...     2008  unrelated   \n",
       "1  [crazy, conservatives, sure, gitmo, detainee, ...     1550  unrelated   \n",
       "\n",
       "                                         articleBody  \n",
       "0  [respected, senior, french, police, officer, i...  \n",
       "1  [dave, morin, social, network, company, path, ...  "
      ]
     },
     "execution_count": 63,
     "metadata": {},
     "output_type": "execute_result"
    }
   ],
   "source": [
    "all_test_merge[0:2]"
   ]
  },
  {
   "cell_type": "code",
   "execution_count": 64,
   "metadata": {
    "collapsed": true,
    "scrolled": true
   },
   "outputs": [],
   "source": [
    "all_test_merge['cos_sim'] = 0.00"
   ]
  },
  {
   "cell_type": "code",
   "execution_count": 65,
   "metadata": {},
   "outputs": [
    {
     "name": "stderr",
     "output_type": "stream",
     "text": [
      "/Users/qrdai/IR/irdm-assignment/feature.py:5: RuntimeWarning: invalid value encountered in double_scalars\n",
      "  cos = np.dot(v1,v2)/(np.linalg.norm(v1)*(np.linalg.norm(v2)))\n"
     ]
    }
   ],
   "source": [
    "col = 4\n",
    "for i in range(len(all_test_merge)):\n",
    "    h1 = all_test_merge.iat[i,0]\n",
    "    b1 = all_test_merge.iat[i,3]\n",
    "    vh1 = ti.calculate_tfidf_vector_key(h1, idf, inx_voc_all, voc_all)\n",
    "    vb1 = ti.calculate_tfidf_vector_key(b1, idf, inx_voc_all, voc_all)\n",
    "    all_test_merge.iat[i,col] = fe.cos_similar(vh1,vb1)"
   ]
  },
  {
   "cell_type": "code",
   "execution_count": 66,
   "metadata": {
    "collapsed": true,
    "scrolled": true
   },
   "outputs": [],
   "source": [
    "all_test_merge['cos_sim_key'] = 0.0"
   ]
  },
  {
   "cell_type": "code",
   "execution_count": 67,
   "metadata": {},
   "outputs": [
    {
     "name": "stderr",
     "output_type": "stream",
     "text": [
      "/Users/qrdai/IR/irdm-assignment/feature.py:5: RuntimeWarning: invalid value encountered in double_scalars\n",
      "  cos = np.dot(v1,v2)/(np.linalg.norm(v1)*(np.linalg.norm(v2)))\n"
     ]
    }
   ],
   "source": [
    "col = 5\n",
    "for i in range(len(all_test_merge)):\n",
    "    h1 = all_test_merge.iat[i,0]\n",
    "    b1 = all_test_merge.iat[i,3]\n",
    "    vh1 = ti.calculate_tfidf_vector_key(h1, idf, inx_voc_key, voc_key)\n",
    "    vb1 = ti.calculate_tfidf_vector_key(b1, idf, inx_voc_key, voc_key)\n",
    "    all_test_merge.iat[i,col] = fe.cos_similar(vh1,vb1)"
   ]
  },
  {
   "cell_type": "code",
   "execution_count": 68,
   "metadata": {
    "collapsed": true,
    "scrolled": true
   },
   "outputs": [],
   "source": [
    "all_test_merge['cos_sim_w2v'] = 0.0"
   ]
  },
  {
   "cell_type": "code",
   "execution_count": 69,
   "metadata": {},
   "outputs": [
    {
     "name": "stderr",
     "output_type": "stream",
     "text": [
      "/Applications/anaconda3/lib/python3.6/site-packages/ipykernel_launcher.py:6: RuntimeWarning: invalid value encountered in true_divide\n",
      "  \n"
     ]
    }
   ],
   "source": [
    "col = 6\n",
    "for i in range(len(all_test_merge)):\n",
    "    h1 = all_test_merge.iat[i,0]\n",
    "    b1 = all_test_merge.iat[i,3]\n",
    "    vh1 = word2vec_vector(h1, w2v_model,voc_w2v,dim)\n",
    "    vb1 = word2vec_vector(b1, w2v_model,voc_w2v,dim)\n",
    "    all_test_merge.iat[i,col] = fe.cos_similar(vh1,vb1)"
   ]
  },
  {
   "cell_type": "markdown",
   "metadata": {},
   "source": [
    "###  subtask 3. language model"
   ]
  },
  {
   "cell_type": "code",
   "execution_count": 70,
   "metadata": {
    "collapsed": true
   },
   "outputs": [],
   "source": [
    "def create_unigram(sentence):\n",
    "    unigram = lm.Ngram_lm(sentence,1)\n",
    "    return unigram"
   ]
  },
  {
   "cell_type": "code",
   "execution_count": 71,
   "metadata": {
    "collapsed": true
   },
   "outputs": [],
   "source": [
    "def create_bigram(sentence):\n",
    "    alpha1=0.7\n",
    "    unigram = lm.Ngram_lm(sentence,1)\n",
    "    bigram = lm.Ngram_lm(sentence,2)\n",
    "    bi_unigram=lm.Inter_lm(bigram,unigram,alpha1)\n",
    "    return bi_unigram"
   ]
  },
  {
   "cell_type": "code",
   "execution_count": 72,
   "metadata": {
    "collapsed": true,
    "scrolled": true
   },
   "outputs": [],
   "source": [
    "all_merge['kl_head_uni'] = 0.0"
   ]
  },
  {
   "cell_type": "code",
   "execution_count": 73,
   "metadata": {
    "collapsed": true,
    "scrolled": true
   },
   "outputs": [],
   "source": [
    "#use models to predict head\n",
    "col = 7\n",
    "for i in range(len(all_merge)):\n",
    "    h = all_merge.iat[i,0]\n",
    "    b = all_merge.iat[i,3]\n",
    "    lm1 = create_unigram(h)\n",
    "    lm2 = create_unigram(b)\n",
    "    p = lm.lm_vector(h, lm1)\n",
    "    q = lm.lm_vector(h, lm2)\n",
    "    all_merge.iat[i,col] = lm.kl_div(p, q)"
   ]
  },
  {
   "cell_type": "code",
   "execution_count": 74,
   "metadata": {
    "collapsed": true,
    "scrolled": true
   },
   "outputs": [],
   "source": [
    "all_merge['kl_head_bi'] = 0.0"
   ]
  },
  {
   "cell_type": "code",
   "execution_count": 75,
   "metadata": {
    "collapsed": true,
    "scrolled": true
   },
   "outputs": [],
   "source": [
    "#use models to predict head\n",
    "col = 8\n",
    "for i in range(len(all_merge)):\n",
    "    h = all_merge.iat[i,0]\n",
    "    b = all_merge.iat[i,3]\n",
    "    lm1 = create_bigram(h)\n",
    "    lm2 = create_bigram(b)\n",
    "    p = lm.lm_vector(h, lm1)\n",
    "    q = lm.lm_vector(h, lm2)\n",
    "    all_merge.iat[i,col] = lm.kl_div(p, q)"
   ]
  },
  {
   "cell_type": "markdown",
   "metadata": {},
   "source": [
    "test set"
   ]
  },
  {
   "cell_type": "code",
   "execution_count": 76,
   "metadata": {
    "collapsed": true,
    "scrolled": true
   },
   "outputs": [],
   "source": [
    "all_test_merge['kl_head_uni'] = 0.0"
   ]
  },
  {
   "cell_type": "code",
   "execution_count": 77,
   "metadata": {
    "collapsed": true,
    "scrolled": true
   },
   "outputs": [],
   "source": [
    "#use models to predict head\n",
    "col = 7\n",
    "for i in range(len(all_test_merge)):\n",
    "    h = all_test_merge.iat[i,0]\n",
    "    b = all_test_merge.iat[i,3]\n",
    "    lm1 = create_unigram(h)\n",
    "    lm2 = create_unigram(b)\n",
    "    p = lm.lm_vector(h, lm1)\n",
    "    q = lm.lm_vector(h, lm2)\n",
    "    all_test_merge.iat[i,col] = lm.kl_div(p, q)"
   ]
  },
  {
   "cell_type": "code",
   "execution_count": 78,
   "metadata": {
    "collapsed": true,
    "scrolled": true
   },
   "outputs": [],
   "source": [
    "all_test_merge['kl_head_bi'] = 0.0"
   ]
  },
  {
   "cell_type": "code",
   "execution_count": 79,
   "metadata": {
    "collapsed": true,
    "scrolled": true
   },
   "outputs": [],
   "source": [
    "#use models to predict head\n",
    "col = 8\n",
    "for i in range(len(all_test_merge)):\n",
    "    h = all_test_merge.iat[i,0]\n",
    "    b = all_test_merge.iat[i,3]\n",
    "    lm1 = create_bigram(h)\n",
    "    lm2 = create_bigram(b)\n",
    "    p = lm.lm_vector(h, lm1)\n",
    "    q = lm.lm_vector(h, lm2)\n",
    "    all_test_merge.iat[i,col] = lm.kl_div(p, q)"
   ]
  },
  {
   "cell_type": "markdown",
   "metadata": {},
   "source": [
    "###  subtask 4. Propose and implement alternative features/distances"
   ]
  },
  {
   "cell_type": "markdown",
   "metadata": {},
   "source": [
    "Euclidean distance"
   ]
  },
  {
   "cell_type": "code",
   "execution_count": 80,
   "metadata": {
    "collapsed": true,
    "scrolled": true
   },
   "outputs": [],
   "source": [
    "all_merge['euc_dist'] = 0.0"
   ]
  },
  {
   "cell_type": "code",
   "execution_count": 81,
   "metadata": {
    "collapsed": true
   },
   "outputs": [],
   "source": [
    "col = 9\n",
    "for i in range(len(all_merge)):\n",
    "    h1 = all_merge.iat[i,0]\n",
    "    b1 = all_merge.iat[i,3]\n",
    "    vh1 = ti.calculate_tfidf_vector(h1, idf, inx_voc_all)\n",
    "    vb1 = ti.calculate_tfidf_vector(b1, idf, inx_voc_all)\n",
    "    all_merge.iat[i,col] = fe.euc_dist(vh1,vb1)\n",
    "#     print(cos_similar(vh1,vb1))"
   ]
  },
  {
   "cell_type": "code",
   "execution_count": 82,
   "metadata": {
    "collapsed": true,
    "scrolled": true
   },
   "outputs": [],
   "source": [
    "all_merge['euc_dist_key'] = 0.0"
   ]
  },
  {
   "cell_type": "code",
   "execution_count": 83,
   "metadata": {
    "collapsed": true
   },
   "outputs": [],
   "source": [
    "col = 10\n",
    "for i in range(len(all_merge)):\n",
    "    h1 = all_merge.iat[i,0]\n",
    "    b1 = all_merge.iat[i,3]\n",
    "    vh1 = ti.calculate_tfidf_vector_key(h1, idf, inx_voc_key, voc_key)\n",
    "    vb1 = ti.calculate_tfidf_vector_key(b1, idf, inx_voc_key, voc_key)\n",
    "    all_merge.iat[i,col] = fe.euc_dist(vh1,vb1)"
   ]
  },
  {
   "cell_type": "code",
   "execution_count": 84,
   "metadata": {
    "collapsed": true,
    "scrolled": true
   },
   "outputs": [],
   "source": [
    "all_merge['euc_dist_w2v'] = 0.0"
   ]
  },
  {
   "cell_type": "code",
   "execution_count": 85,
   "metadata": {
    "collapsed": true
   },
   "outputs": [],
   "source": [
    "col = 11\n",
    "for i in range(len(all_merge)):\n",
    "    h1 = all_merge.iat[i,0]\n",
    "    b1 = all_merge.iat[i,3]\n",
    "    vh1 = word2vec_vector(h1, w2v_model,voc_w2v,dim)\n",
    "    vb1 = word2vec_vector(b1, w2v_model,voc_w2v,dim)\n",
    "    all_merge.iat[i,col] = fe.euc_dist(vh1,vb1)"
   ]
  },
  {
   "cell_type": "markdown",
   "metadata": {},
   "source": [
    "Spearman correlation "
   ]
  },
  {
   "cell_type": "code",
   "execution_count": 86,
   "metadata": {
    "collapsed": true,
    "scrolled": true
   },
   "outputs": [],
   "source": [
    "all_merge['spear_corr'] = 0.0"
   ]
  },
  {
   "cell_type": "code",
   "execution_count": 87,
   "metadata": {
    "collapsed": true
   },
   "outputs": [],
   "source": [
    "col = 12\n",
    "for i in range(len(all_merge)):\n",
    "    h1 = all_merge.iat[i,0]\n",
    "    b1 = all_merge.iat[i,3]\n",
    "    vh1 = ti.calculate_tfidf_vector(h1, idf, inx_voc_all)\n",
    "    vb1 = ti.calculate_tfidf_vector(b1, idf, inx_voc_all)\n",
    "    all_merge.iat[i,col] = fe.spearman_corr(vh1,vb1)\n",
    "#     print(cos_similar(vh1,vb1))"
   ]
  },
  {
   "cell_type": "code",
   "execution_count": 88,
   "metadata": {
    "collapsed": true,
    "scrolled": true
   },
   "outputs": [],
   "source": [
    "all_merge['spear_corr_key'] = 0.0"
   ]
  },
  {
   "cell_type": "code",
   "execution_count": 89,
   "metadata": {
    "collapsed": true
   },
   "outputs": [],
   "source": [
    "col = 13\n",
    "for i in range(len(all_merge)):\n",
    "    h1 = all_merge.iat[i,0]\n",
    "    b1 = all_merge.iat[i,3]\n",
    "    vh1 = ti.calculate_tfidf_vector_key(h1, idf, inx_voc_key, voc_key)\n",
    "    vb1 = ti.calculate_tfidf_vector_key(b1, idf, inx_voc_key, voc_key)\n",
    "    all_merge.iat[i,col] = fe.spearman_corr(vh1,vb1)"
   ]
  },
  {
   "cell_type": "code",
   "execution_count": 90,
   "metadata": {
    "collapsed": true,
    "scrolled": true
   },
   "outputs": [],
   "source": [
    "all_merge['spear_corr_w2v'] = 0.0"
   ]
  },
  {
   "cell_type": "code",
   "execution_count": 91,
   "metadata": {
    "collapsed": true
   },
   "outputs": [],
   "source": [
    "col = 14\n",
    "for i in range(len(all_merge)):\n",
    "    h1 = all_merge.iat[i,0]\n",
    "    b1 = all_merge.iat[i,3]\n",
    "    vh1 = word2vec_vector(h1, w2v_model,voc_w2v,dim)\n",
    "    vb1 = word2vec_vector(b1, w2v_model,voc_w2v,dim)\n",
    "    all_merge.iat[i,col] = fe.spearman_corr(vh1,vb1)"
   ]
  },
  {
   "cell_type": "markdown",
   "metadata": {},
   "source": [
    "same words"
   ]
  },
  {
   "cell_type": "code",
   "execution_count": 92,
   "metadata": {
    "collapsed": true
   },
   "outputs": [],
   "source": [
    "all_merge['same_word'] = 0.0"
   ]
  },
  {
   "cell_type": "code",
   "execution_count": 93,
   "metadata": {
    "collapsed": true
   },
   "outputs": [],
   "source": [
    "col = 15\n",
    "for i in range(len(all_merge)):\n",
    "    h1 = all_merge.iat[i,0]\n",
    "    b1 = all_merge.iat[i,3]\n",
    "    all_merge.iat[i,col] = fe.same_word(h1,b1)"
   ]
  },
  {
   "cell_type": "markdown",
   "metadata": {},
   "source": [
    "test set"
   ]
  },
  {
   "cell_type": "markdown",
   "metadata": {},
   "source": [
    "Euclidean distance"
   ]
  },
  {
   "cell_type": "code",
   "execution_count": 94,
   "metadata": {
    "collapsed": true,
    "scrolled": true
   },
   "outputs": [],
   "source": [
    "all_test_merge['euc_dist'] = 0.0"
   ]
  },
  {
   "cell_type": "code",
   "execution_count": 95,
   "metadata": {
    "collapsed": true
   },
   "outputs": [],
   "source": [
    "col = 9\n",
    "for i in range(len(all_test_merge)):\n",
    "    h1 = all_test_merge.iat[i,0]\n",
    "    b1 = all_test_merge.iat[i,3]\n",
    "    vh1 = ti.calculate_tfidf_vector_key(h1, idf, inx_voc_all, voc_all)\n",
    "    vb1 = ti.calculate_tfidf_vector_key(b1, idf, inx_voc_all, voc_all)\n",
    "    all_test_merge.iat[i,col] = fe.euc_dist(vh1,vb1)\n",
    "#     print(cos_similar(vh1,vb1))"
   ]
  },
  {
   "cell_type": "code",
   "execution_count": 96,
   "metadata": {
    "collapsed": true,
    "scrolled": true
   },
   "outputs": [],
   "source": [
    "all_test_merge['euc_dist_key'] = 0.0"
   ]
  },
  {
   "cell_type": "code",
   "execution_count": 97,
   "metadata": {
    "collapsed": true
   },
   "outputs": [],
   "source": [
    "col = 10\n",
    "for i in range(len(all_test_merge)):\n",
    "    h1 = all_test_merge.iat[i,0]\n",
    "    b1 = all_test_merge.iat[i,3]\n",
    "    vh1 = ti.calculate_tfidf_vector_key(h1, idf, inx_voc_key, voc_key)\n",
    "    vb1 = ti.calculate_tfidf_vector_key(b1, idf, inx_voc_key, voc_key)\n",
    "    all_test_merge.iat[i,col] = fe.euc_dist(vh1,vb1)"
   ]
  },
  {
   "cell_type": "code",
   "execution_count": 98,
   "metadata": {
    "collapsed": true,
    "scrolled": true
   },
   "outputs": [],
   "source": [
    "all_test_merge['euc_dist_w2v'] = 0.0"
   ]
  },
  {
   "cell_type": "code",
   "execution_count": 99,
   "metadata": {},
   "outputs": [
    {
     "name": "stderr",
     "output_type": "stream",
     "text": [
      "/Applications/anaconda3/lib/python3.6/site-packages/ipykernel_launcher.py:6: RuntimeWarning: invalid value encountered in true_divide\n",
      "  \n"
     ]
    }
   ],
   "source": [
    "col = 11\n",
    "for i in range(len(all_test_merge)):\n",
    "    h1 = all_test_merge.iat[i,0]\n",
    "    b1 = all_test_merge.iat[i,3]\n",
    "    vh1 = word2vec_vector(h1, w2v_model,voc_w2v,dim)\n",
    "    vb1 = word2vec_vector(b1, w2v_model,voc_w2v,dim)\n",
    "    all_test_merge.iat[i,col] = fe.euc_dist(vh1,vb1)"
   ]
  },
  {
   "cell_type": "markdown",
   "metadata": {},
   "source": [
    "Spearman correlation "
   ]
  },
  {
   "cell_type": "code",
   "execution_count": 100,
   "metadata": {
    "collapsed": true,
    "scrolled": true
   },
   "outputs": [],
   "source": [
    "all_test_merge['spear_corr'] = 0.0"
   ]
  },
  {
   "cell_type": "code",
   "execution_count": 101,
   "metadata": {
    "collapsed": true
   },
   "outputs": [],
   "source": [
    "col = 12\n",
    "for i in range(len(all_test_merge)):\n",
    "    h1 = all_test_merge.iat[i,0]\n",
    "    b1 = all_test_merge.iat[i,3]\n",
    "    vh1 = ti.calculate_tfidf_vector_key(h1, idf, inx_voc_all, voc_all)\n",
    "    vb1 = ti.calculate_tfidf_vector_key(b1, idf, inx_voc_all, voc_all)\n",
    "    all_test_merge.iat[i,col] = fe.spearman_corr(vh1,vb1)\n",
    "#     print(cos_similar(vh1,vb1))"
   ]
  },
  {
   "cell_type": "code",
   "execution_count": 102,
   "metadata": {
    "collapsed": true,
    "scrolled": true
   },
   "outputs": [],
   "source": [
    "all_test_merge['spear_corr_key'] = 0.0"
   ]
  },
  {
   "cell_type": "code",
   "execution_count": 103,
   "metadata": {
    "collapsed": true
   },
   "outputs": [],
   "source": [
    "col = 13\n",
    "for i in range(len(all_test_merge)):\n",
    "    h1 = all_test_merge.iat[i,0]\n",
    "    b1 = all_test_merge.iat[i,3]\n",
    "    vh1 = ti.calculate_tfidf_vector_key(h1, idf, inx_voc_key, voc_key)\n",
    "    vb1 = ti.calculate_tfidf_vector_key(b1, idf, inx_voc_key, voc_key)\n",
    "    all_test_merge.iat[i,col] = fe.spearman_corr(vh1,vb1)"
   ]
  },
  {
   "cell_type": "code",
   "execution_count": 104,
   "metadata": {
    "collapsed": true,
    "scrolled": true
   },
   "outputs": [],
   "source": [
    "all_test_merge['spear_corr_w2v'] = 0.0"
   ]
  },
  {
   "cell_type": "code",
   "execution_count": 105,
   "metadata": {},
   "outputs": [
    {
     "name": "stderr",
     "output_type": "stream",
     "text": [
      "/Applications/anaconda3/lib/python3.6/site-packages/ipykernel_launcher.py:6: RuntimeWarning: invalid value encountered in true_divide\n",
      "  \n"
     ]
    }
   ],
   "source": [
    "col = 14\n",
    "for i in range(len(all_test_merge)):\n",
    "    h1 = all_test_merge.iat[i,0]\n",
    "    b1 = all_test_merge.iat[i,3]\n",
    "    vh1 = word2vec_vector(h1, w2v_model,voc_w2v,dim)\n",
    "    vb1 = word2vec_vector(b1, w2v_model,voc_w2v,dim)\n",
    "    all_test_merge.iat[i,col] = fe.spearman_corr(vh1,vb1)"
   ]
  },
  {
   "cell_type": "markdown",
   "metadata": {},
   "source": [
    "same words"
   ]
  },
  {
   "cell_type": "code",
   "execution_count": 106,
   "metadata": {
    "collapsed": true
   },
   "outputs": [],
   "source": [
    "all_test_merge['same_word'] = 0.0"
   ]
  },
  {
   "cell_type": "code",
   "execution_count": 107,
   "metadata": {
    "collapsed": true
   },
   "outputs": [],
   "source": [
    "col = 15\n",
    "for i in range(len(all_test_merge)):\n",
    "    h1 = all_test_merge.iat[i,0]\n",
    "    b1 = all_test_merge.iat[i,3]\n",
    "    all_test_merge.iat[i,col] = fe.same_word(h1,b1)"
   ]
  },
  {
   "cell_type": "markdown",
   "metadata": {},
   "source": [
    "###  subtask 5.analysis the distributions"
   ]
  },
  {
   "cell_type": "code",
   "execution_count": 108,
   "metadata": {},
   "outputs": [],
   "source": [
    "# all_merge = pd.read_csv('all_merge.csv')"
   ]
  },
  {
   "cell_type": "code",
   "execution_count": 109,
   "metadata": {
    "collapsed": true
   },
   "outputs": [
    {
     "data": {
      "text/html": [
       "<div>\n",
       "<style>\n",
       "    .dataframe thead tr:only-child th {\n",
       "        text-align: right;\n",
       "    }\n",
       "\n",
       "    .dataframe thead th {\n",
       "        text-align: left;\n",
       "    }\n",
       "\n",
       "    .dataframe tbody tr th {\n",
       "        vertical-align: top;\n",
       "    }\n",
       "</style>\n",
       "<table border=\"1\" class=\"dataframe\">\n",
       "  <thead>\n",
       "    <tr style=\"text-align: right;\">\n",
       "      <th></th>\n",
       "      <th>Headline</th>\n",
       "      <th>Body ID</th>\n",
       "      <th>Stance</th>\n",
       "      <th>articleBody</th>\n",
       "      <th>cos_sim</th>\n",
       "      <th>cos_sim_key</th>\n",
       "      <th>cos_sim_w2v</th>\n",
       "      <th>kl_head_uni</th>\n",
       "      <th>kl_head_bi</th>\n",
       "      <th>euc_dist</th>\n",
       "      <th>euc_dist_key</th>\n",
       "      <th>euc_dist_w2v</th>\n",
       "      <th>spear_corr</th>\n",
       "      <th>spear_corr_key</th>\n",
       "      <th>spear_corr_w2v</th>\n",
       "      <th>same_word</th>\n",
       "    </tr>\n",
       "  </thead>\n",
       "  <tbody>\n",
       "    <tr>\n",
       "      <th>0</th>\n",
       "      <td>[police, find, mass, graf, least, body, near, ...</td>\n",
       "      <td>712</td>\n",
       "      <td>unrelated</td>\n",
       "      <td>[danny, boyle, direct, untitled, film, seth, r...</td>\n",
       "      <td>0.000000</td>\n",
       "      <td>0.000000</td>\n",
       "      <td>-0.132897</td>\n",
       "      <td>12.274821</td>\n",
       "      <td>107.867233</td>\n",
       "      <td>1.110189</td>\n",
       "      <td>0.956684</td>\n",
       "      <td>1.505255</td>\n",
       "      <td>-0.001715</td>\n",
       "      <td>-0.005329</td>\n",
       "      <td>-0.148394</td>\n",
       "      <td>0.0</td>\n",
       "    </tr>\n",
       "    <tr>\n",
       "      <th>1</th>\n",
       "      <td>[hundreds, palestinians, flee, flood, gaza, is...</td>\n",
       "      <td>158</td>\n",
       "      <td>agree</td>\n",
       "      <td>[hundreds, palestinians, evacuate, home, sunda...</td>\n",
       "      <td>0.525937</td>\n",
       "      <td>0.658249</td>\n",
       "      <td>0.764779</td>\n",
       "      <td>3.443514</td>\n",
       "      <td>20.116824</td>\n",
       "      <td>1.508805</td>\n",
       "      <td>1.388314</td>\n",
       "      <td>0.685887</td>\n",
       "      <td>0.193569</td>\n",
       "      <td>0.368627</td>\n",
       "      <td>0.733944</td>\n",
       "      <td>7.0</td>\n",
       "    </tr>\n",
       "  </tbody>\n",
       "</table>\n",
       "</div>"
      ],
      "text/plain": [
       "                                            Headline  Body ID     Stance  \\\n",
       "0  [police, find, mass, graf, least, body, near, ...      712  unrelated   \n",
       "1  [hundreds, palestinians, flee, flood, gaza, is...      158      agree   \n",
       "\n",
       "                                         articleBody   cos_sim  cos_sim_key  \\\n",
       "0  [danny, boyle, direct, untitled, film, seth, r...  0.000000     0.000000   \n",
       "1  [hundreds, palestinians, evacuate, home, sunda...  0.525937     0.658249   \n",
       "\n",
       "   cos_sim_w2v  kl_head_uni  kl_head_bi  euc_dist  euc_dist_key  euc_dist_w2v  \\\n",
       "0    -0.132897    12.274821  107.867233  1.110189      0.956684      1.505255   \n",
       "1     0.764779     3.443514   20.116824  1.508805      1.388314      0.685887   \n",
       "\n",
       "   spear_corr  spear_corr_key  spear_corr_w2v  same_word  \n",
       "0   -0.001715       -0.005329       -0.148394        0.0  \n",
       "1    0.193569        0.368627        0.733944        7.0  "
      ]
     },
     "execution_count": 109,
     "metadata": {},
     "output_type": "execute_result"
    }
   ],
   "source": [
    "all_merge[0:2]"
   ]
  },
  {
   "cell_type": "code",
   "execution_count": 126,
   "metadata": {
    "collapsed": true
   },
   "outputs": [
    {
     "data": {
      "text/html": [
       "<div>\n",
       "<style>\n",
       "    .dataframe thead tr:only-child th {\n",
       "        text-align: right;\n",
       "    }\n",
       "\n",
       "    .dataframe thead th {\n",
       "        text-align: left;\n",
       "    }\n",
       "\n",
       "    .dataframe tbody tr th {\n",
       "        vertical-align: top;\n",
       "    }\n",
       "</style>\n",
       "<table border=\"1\" class=\"dataframe\">\n",
       "  <thead>\n",
       "    <tr style=\"text-align: right;\">\n",
       "      <th></th>\n",
       "      <th>Stance</th>\n",
       "      <th>euc_dist</th>\n",
       "      <th>euc_dist_key</th>\n",
       "      <th>euc_dist_w2v</th>\n",
       "      <th>spear_corr</th>\n",
       "      <th>spear_corr_key</th>\n",
       "      <th>spear_corr_w2v</th>\n",
       "      <th>same_word</th>\n",
       "    </tr>\n",
       "  </thead>\n",
       "  <tbody>\n",
       "    <tr>\n",
       "      <th>0</th>\n",
       "      <td>unrelated</td>\n",
       "      <td>1.110189</td>\n",
       "      <td>0.956684</td>\n",
       "      <td>1.505255</td>\n",
       "      <td>-0.001715</td>\n",
       "      <td>-0.005329</td>\n",
       "      <td>-0.148394</td>\n",
       "      <td>0.0</td>\n",
       "    </tr>\n",
       "    <tr>\n",
       "      <th>1</th>\n",
       "      <td>agree</td>\n",
       "      <td>1.508805</td>\n",
       "      <td>1.388314</td>\n",
       "      <td>0.685887</td>\n",
       "      <td>0.193569</td>\n",
       "      <td>0.368627</td>\n",
       "      <td>0.733944</td>\n",
       "      <td>7.0</td>\n",
       "    </tr>\n",
       "  </tbody>\n",
       "</table>\n",
       "</div>"
      ],
      "text/plain": [
       "      Stance  euc_dist  euc_dist_key  euc_dist_w2v  spear_corr  \\\n",
       "0  unrelated  1.110189      0.956684      1.505255   -0.001715   \n",
       "1      agree  1.508805      1.388314      0.685887    0.193569   \n",
       "\n",
       "   spear_corr_key  spear_corr_w2v  same_word  \n",
       "0       -0.005329       -0.148394        0.0  \n",
       "1        0.368627        0.733944        7.0  "
      ]
     },
     "execution_count": 126,
     "metadata": {},
     "output_type": "execute_result"
    }
   ],
   "source": [
    "all_merge[['Stance','euc_dist','euc_dist_key','euc_dist_w2v','spear_corr','spear_corr_key','spear_corr_w2v','same_word']][0:2]\n"
   ]
  },
  {
   "cell_type": "code",
   "execution_count": 110,
   "metadata": {
    "collapsed": true
   },
   "outputs": [
    {
     "data": {
      "text/plain": [
       "(49972, 16)"
      ]
     },
     "execution_count": 110,
     "metadata": {},
     "output_type": "execute_result"
    }
   ],
   "source": [
    "all_merge.shape"
   ]
  },
  {
   "cell_type": "code",
   "execution_count": 111,
   "metadata": {},
   "outputs": [],
   "source": [
    "# all_merge.to_csv('all_merge.csv')"
   ]
  },
  {
   "cell_type": "code",
   "execution_count": 112,
   "metadata": {
    "scrolled": true
   },
   "outputs": [],
   "source": [
    "all_merge_unrelated = all_merge[all_merge['Stance'] == 'unrelated']\n",
    "all_merge_agree = all_merge[all_merge['Stance'] == 'agree']\n",
    "all_merge_disagree = all_merge[all_merge['Stance'] == 'disagree']\n",
    "all_merge_discuss = all_merge[all_merge['Stance'] == 'discuss']"
   ]
  },
  {
   "cell_type": "code",
   "execution_count": 113,
   "metadata": {
    "collapsed": true
   },
   "outputs": [
    {
     "data": {
      "text/plain": [
       "49972"
      ]
     },
     "execution_count": 113,
     "metadata": {},
     "output_type": "execute_result"
    }
   ],
   "source": [
    "all_merge_unrelated.shape[0]+all_merge_agree.shape[0]+all_merge_disagree.shape[0]+all_merge_discuss.shape[0]"
   ]
  },
  {
   "cell_type": "code",
   "execution_count": 114,
   "metadata": {
    "collapsed": true
   },
   "outputs": [
    {
     "data": {
      "text/html": [
       "<div>\n",
       "<style>\n",
       "    .dataframe thead tr:only-child th {\n",
       "        text-align: right;\n",
       "    }\n",
       "\n",
       "    .dataframe thead th {\n",
       "        text-align: left;\n",
       "    }\n",
       "\n",
       "    .dataframe tbody tr th {\n",
       "        vertical-align: top;\n",
       "    }\n",
       "</style>\n",
       "<table border=\"1\" class=\"dataframe\">\n",
       "  <thead>\n",
       "    <tr style=\"text-align: right;\">\n",
       "      <th></th>\n",
       "      <th>Body ID</th>\n",
       "      <th>cos_sim</th>\n",
       "      <th>cos_sim_key</th>\n",
       "      <th>cos_sim_w2v</th>\n",
       "      <th>kl_head_uni</th>\n",
       "      <th>kl_head_bi</th>\n",
       "      <th>euc_dist</th>\n",
       "      <th>euc_dist_key</th>\n",
       "      <th>euc_dist_w2v</th>\n",
       "      <th>spear_corr</th>\n",
       "      <th>spear_corr_key</th>\n",
       "      <th>spear_corr_w2v</th>\n",
       "      <th>same_word</th>\n",
       "    </tr>\n",
       "  </thead>\n",
       "  <tbody>\n",
       "    <tr>\n",
       "      <th>count</th>\n",
       "      <td>49972.000000</td>\n",
       "      <td>49972.000000</td>\n",
       "      <td>49972.000000</td>\n",
       "      <td>49972.000000</td>\n",
       "      <td>49972.000000</td>\n",
       "      <td>49972.000000</td>\n",
       "      <td>49972.000000</td>\n",
       "      <td>49972.000000</td>\n",
       "      <td>49972.000000</td>\n",
       "      <td>49972.000000</td>\n",
       "      <td>49972.000000</td>\n",
       "      <td>49972.000000</td>\n",
       "      <td>49972.000000</td>\n",
       "    </tr>\n",
       "    <tr>\n",
       "      <th>mean</th>\n",
       "      <td>1366.254863</td>\n",
       "      <td>0.076719</td>\n",
       "      <td>0.095342</td>\n",
       "      <td>0.201601</td>\n",
       "      <td>10.007430</td>\n",
       "      <td>54.586197</td>\n",
       "      <td>1.518974</td>\n",
       "      <td>1.447056</td>\n",
       "      <td>1.228708</td>\n",
       "      <td>0.056715</td>\n",
       "      <td>0.074765</td>\n",
       "      <td>0.197068</td>\n",
       "      <td>1.808353</td>\n",
       "    </tr>\n",
       "    <tr>\n",
       "      <th>std</th>\n",
       "      <td>730.086644</td>\n",
       "      <td>0.134850</td>\n",
       "      <td>0.169336</td>\n",
       "      <td>0.326349</td>\n",
       "      <td>2.939138</td>\n",
       "      <td>26.444770</td>\n",
       "      <td>0.378991</td>\n",
       "      <td>0.390291</td>\n",
       "      <td>0.295087</td>\n",
       "      <td>0.083599</td>\n",
       "      <td>0.120500</td>\n",
       "      <td>0.318461</td>\n",
       "      <td>2.469642</td>\n",
       "    </tr>\n",
       "    <tr>\n",
       "      <th>min</th>\n",
       "      <td>0.000000</td>\n",
       "      <td>0.000000</td>\n",
       "      <td>0.000000</td>\n",
       "      <td>-0.456376</td>\n",
       "      <td>0.000000</td>\n",
       "      <td>-0.068484</td>\n",
       "      <td>0.000000</td>\n",
       "      <td>0.000000</td>\n",
       "      <td>0.000000</td>\n",
       "      <td>-0.004291</td>\n",
       "      <td>-0.014024</td>\n",
       "      <td>-0.437141</td>\n",
       "      <td>0.000000</td>\n",
       "    </tr>\n",
       "    <tr>\n",
       "      <th>25%</th>\n",
       "      <td>737.750000</td>\n",
       "      <td>0.000000</td>\n",
       "      <td>0.000000</td>\n",
       "      <td>-0.049389</td>\n",
       "      <td>8.557981</td>\n",
       "      <td>36.416955</td>\n",
       "      <td>1.265413</td>\n",
       "      <td>1.184090</td>\n",
       "      <td>0.977928</td>\n",
       "      <td>-0.001443</td>\n",
       "      <td>-0.005240</td>\n",
       "      <td>-0.046986</td>\n",
       "      <td>0.000000</td>\n",
       "    </tr>\n",
       "    <tr>\n",
       "      <th>50%</th>\n",
       "      <td>1419.000000</td>\n",
       "      <td>0.004306</td>\n",
       "      <td>0.000000</td>\n",
       "      <td>0.083461</td>\n",
       "      <td>10.739856</td>\n",
       "      <td>52.517115</td>\n",
       "      <td>1.459713</td>\n",
       "      <td>1.388581</td>\n",
       "      <td>1.353912</td>\n",
       "      <td>0.023993</td>\n",
       "      <td>-0.003218</td>\n",
       "      <td>0.081521</td>\n",
       "      <td>1.000000</td>\n",
       "    </tr>\n",
       "    <tr>\n",
       "      <th>75%</th>\n",
       "      <td>2002.000000</td>\n",
       "      <td>0.096210</td>\n",
       "      <td>0.119524</td>\n",
       "      <td>0.521828</td>\n",
       "      <td>12.023751</td>\n",
       "      <td>70.370038</td>\n",
       "      <td>1.712290</td>\n",
       "      <td>1.648207</td>\n",
       "      <td>1.448716</td>\n",
       "      <td>0.090773</td>\n",
       "      <td>0.130799</td>\n",
       "      <td>0.504237</td>\n",
       "      <td>3.000000</td>\n",
       "    </tr>\n",
       "    <tr>\n",
       "      <th>max</th>\n",
       "      <td>2532.000000</td>\n",
       "      <td>1.000000</td>\n",
       "      <td>1.000000</td>\n",
       "      <td>1.000000</td>\n",
       "      <td>23.269342</td>\n",
       "      <td>251.686866</td>\n",
       "      <td>5.157308</td>\n",
       "      <td>5.157308</td>\n",
       "      <td>1.706679</td>\n",
       "      <td>1.000000</td>\n",
       "      <td>1.000000</td>\n",
       "      <td>1.000000</td>\n",
       "      <td>21.000000</td>\n",
       "    </tr>\n",
       "  </tbody>\n",
       "</table>\n",
       "</div>"
      ],
      "text/plain": [
       "            Body ID       cos_sim   cos_sim_key   cos_sim_w2v   kl_head_uni  \\\n",
       "count  49972.000000  49972.000000  49972.000000  49972.000000  49972.000000   \n",
       "mean    1366.254863      0.076719      0.095342      0.201601     10.007430   \n",
       "std      730.086644      0.134850      0.169336      0.326349      2.939138   \n",
       "min        0.000000      0.000000      0.000000     -0.456376      0.000000   \n",
       "25%      737.750000      0.000000      0.000000     -0.049389      8.557981   \n",
       "50%     1419.000000      0.004306      0.000000      0.083461     10.739856   \n",
       "75%     2002.000000      0.096210      0.119524      0.521828     12.023751   \n",
       "max     2532.000000      1.000000      1.000000      1.000000     23.269342   \n",
       "\n",
       "         kl_head_bi      euc_dist  euc_dist_key  euc_dist_w2v    spear_corr  \\\n",
       "count  49972.000000  49972.000000  49972.000000  49972.000000  49972.000000   \n",
       "mean      54.586197      1.518974      1.447056      1.228708      0.056715   \n",
       "std       26.444770      0.378991      0.390291      0.295087      0.083599   \n",
       "min       -0.068484      0.000000      0.000000      0.000000     -0.004291   \n",
       "25%       36.416955      1.265413      1.184090      0.977928     -0.001443   \n",
       "50%       52.517115      1.459713      1.388581      1.353912      0.023993   \n",
       "75%       70.370038      1.712290      1.648207      1.448716      0.090773   \n",
       "max      251.686866      5.157308      5.157308      1.706679      1.000000   \n",
       "\n",
       "       spear_corr_key  spear_corr_w2v     same_word  \n",
       "count    49972.000000    49972.000000  49972.000000  \n",
       "mean         0.074765        0.197068      1.808353  \n",
       "std          0.120500        0.318461      2.469642  \n",
       "min         -0.014024       -0.437141      0.000000  \n",
       "25%         -0.005240       -0.046986      0.000000  \n",
       "50%         -0.003218        0.081521      1.000000  \n",
       "75%          0.130799        0.504237      3.000000  \n",
       "max          1.000000        1.000000     21.000000  "
      ]
     },
     "execution_count": 114,
     "metadata": {},
     "output_type": "execute_result"
    }
   ],
   "source": [
    "all_merge.describe()"
   ]
  },
  {
   "cell_type": "code",
   "execution_count": 115,
   "metadata": {
    "collapsed": true
   },
   "outputs": [
    {
     "data": {
      "text/html": [
       "<div>\n",
       "<style>\n",
       "    .dataframe thead tr:only-child th {\n",
       "        text-align: right;\n",
       "    }\n",
       "\n",
       "    .dataframe thead th {\n",
       "        text-align: left;\n",
       "    }\n",
       "\n",
       "    .dataframe tbody tr th {\n",
       "        vertical-align: top;\n",
       "    }\n",
       "</style>\n",
       "<table border=\"1\" class=\"dataframe\">\n",
       "  <thead>\n",
       "    <tr style=\"text-align: right;\">\n",
       "      <th></th>\n",
       "      <th>Body ID</th>\n",
       "      <th>cos_sim</th>\n",
       "      <th>cos_sim_key</th>\n",
       "      <th>cos_sim_w2v</th>\n",
       "      <th>kl_head_uni</th>\n",
       "      <th>kl_head_bi</th>\n",
       "      <th>euc_dist</th>\n",
       "      <th>euc_dist_key</th>\n",
       "      <th>euc_dist_w2v</th>\n",
       "      <th>spear_corr</th>\n",
       "      <th>spear_corr_key</th>\n",
       "      <th>spear_corr_w2v</th>\n",
       "      <th>same_word</th>\n",
       "    </tr>\n",
       "  </thead>\n",
       "  <tbody>\n",
       "    <tr>\n",
       "      <th>count</th>\n",
       "      <td>36545.000000</td>\n",
       "      <td>36545.000000</td>\n",
       "      <td>36545.000000</td>\n",
       "      <td>36545.000000</td>\n",
       "      <td>36545.000000</td>\n",
       "      <td>36545.000000</td>\n",
       "      <td>36545.000000</td>\n",
       "      <td>36545.000000</td>\n",
       "      <td>36545.000000</td>\n",
       "      <td>36545.000000</td>\n",
       "      <td>36545.000000</td>\n",
       "      <td>36545.000000</td>\n",
       "      <td>36545.000000</td>\n",
       "    </tr>\n",
       "    <tr>\n",
       "      <th>mean</th>\n",
       "      <td>1266.395321</td>\n",
       "      <td>0.007755</td>\n",
       "      <td>0.008087</td>\n",
       "      <td>0.027588</td>\n",
       "      <td>11.464380</td>\n",
       "      <td>61.916234</td>\n",
       "      <td>1.552472</td>\n",
       "      <td>1.479881</td>\n",
       "      <td>1.388772</td>\n",
       "      <td>0.015764</td>\n",
       "      <td>0.012225</td>\n",
       "      <td>0.027335</td>\n",
       "      <td>0.596497</td>\n",
       "    </tr>\n",
       "    <tr>\n",
       "      <th>std</th>\n",
       "      <td>741.034239</td>\n",
       "      <td>0.021893</td>\n",
       "      <td>0.027490</td>\n",
       "      <td>0.166256</td>\n",
       "      <td>1.409034</td>\n",
       "      <td>24.949357</td>\n",
       "      <td>0.369195</td>\n",
       "      <td>0.380963</td>\n",
       "      <td>0.127024</td>\n",
       "      <td>0.027095</td>\n",
       "      <td>0.035771</td>\n",
       "      <td>0.161300</td>\n",
       "      <td>0.933158</td>\n",
       "    </tr>\n",
       "    <tr>\n",
       "      <th>min</th>\n",
       "      <td>0.000000</td>\n",
       "      <td>0.000000</td>\n",
       "      <td>0.000000</td>\n",
       "      <td>-0.456376</td>\n",
       "      <td>2.020001</td>\n",
       "      <td>2.528340</td>\n",
       "      <td>0.728317</td>\n",
       "      <td>0.621010</td>\n",
       "      <td>0.504589</td>\n",
       "      <td>-0.004291</td>\n",
       "      <td>-0.014024</td>\n",
       "      <td>-0.437141</td>\n",
       "      <td>0.000000</td>\n",
       "    </tr>\n",
       "    <tr>\n",
       "      <th>25%</th>\n",
       "      <td>626.000000</td>\n",
       "      <td>0.000000</td>\n",
       "      <td>0.000000</td>\n",
       "      <td>-0.085553</td>\n",
       "      <td>10.608495</td>\n",
       "      <td>43.347939</td>\n",
       "      <td>1.305252</td>\n",
       "      <td>1.226499</td>\n",
       "      <td>1.328411</td>\n",
       "      <td>-0.001616</td>\n",
       "      <td>-0.005726</td>\n",
       "      <td>-0.081806</td>\n",
       "      <td>0.000000</td>\n",
       "    </tr>\n",
       "    <tr>\n",
       "      <th>50%</th>\n",
       "      <td>1295.000000</td>\n",
       "      <td>0.000000</td>\n",
       "      <td>0.000000</td>\n",
       "      <td>0.008530</td>\n",
       "      <td>11.736069</td>\n",
       "      <td>57.519004</td>\n",
       "      <td>1.491785</td>\n",
       "      <td>1.419741</td>\n",
       "      <td>1.408169</td>\n",
       "      <td>-0.001101</td>\n",
       "      <td>-0.004508</td>\n",
       "      <td>0.009774</td>\n",
       "      <td>0.000000</td>\n",
       "    </tr>\n",
       "    <tr>\n",
       "      <th>75%</th>\n",
       "      <td>1906.000000</td>\n",
       "      <td>0.007377</td>\n",
       "      <td>0.003202</td>\n",
       "      <td>0.117663</td>\n",
       "      <td>12.023751</td>\n",
       "      <td>72.788644</td>\n",
       "      <td>1.739632</td>\n",
       "      <td>1.677530</td>\n",
       "      <td>1.473467</td>\n",
       "      <td>0.029472</td>\n",
       "      <td>0.021798</td>\n",
       "      <td>0.114718</td>\n",
       "      <td>1.000000</td>\n",
       "    </tr>\n",
       "    <tr>\n",
       "      <th>max</th>\n",
       "      <td>2531.000000</td>\n",
       "      <td>0.521277</td>\n",
       "      <td>0.726229</td>\n",
       "      <td>0.872695</td>\n",
       "      <td>23.269342</td>\n",
       "      <td>251.686866</td>\n",
       "      <td>4.559303</td>\n",
       "      <td>4.540617</td>\n",
       "      <td>1.706679</td>\n",
       "      <td>0.332984</td>\n",
       "      <td>0.436573</td>\n",
       "      <td>0.864541</td>\n",
       "      <td>10.000000</td>\n",
       "    </tr>\n",
       "  </tbody>\n",
       "</table>\n",
       "</div>"
      ],
      "text/plain": [
       "            Body ID       cos_sim   cos_sim_key   cos_sim_w2v   kl_head_uni  \\\n",
       "count  36545.000000  36545.000000  36545.000000  36545.000000  36545.000000   \n",
       "mean    1266.395321      0.007755      0.008087      0.027588     11.464380   \n",
       "std      741.034239      0.021893      0.027490      0.166256      1.409034   \n",
       "min        0.000000      0.000000      0.000000     -0.456376      2.020001   \n",
       "25%      626.000000      0.000000      0.000000     -0.085553     10.608495   \n",
       "50%     1295.000000      0.000000      0.000000      0.008530     11.736069   \n",
       "75%     1906.000000      0.007377      0.003202      0.117663     12.023751   \n",
       "max     2531.000000      0.521277      0.726229      0.872695     23.269342   \n",
       "\n",
       "         kl_head_bi      euc_dist  euc_dist_key  euc_dist_w2v    spear_corr  \\\n",
       "count  36545.000000  36545.000000  36545.000000  36545.000000  36545.000000   \n",
       "mean      61.916234      1.552472      1.479881      1.388772      0.015764   \n",
       "std       24.949357      0.369195      0.380963      0.127024      0.027095   \n",
       "min        2.528340      0.728317      0.621010      0.504589     -0.004291   \n",
       "25%       43.347939      1.305252      1.226499      1.328411     -0.001616   \n",
       "50%       57.519004      1.491785      1.419741      1.408169     -0.001101   \n",
       "75%       72.788644      1.739632      1.677530      1.473467      0.029472   \n",
       "max      251.686866      4.559303      4.540617      1.706679      0.332984   \n",
       "\n",
       "       spear_corr_key  spear_corr_w2v     same_word  \n",
       "count    36545.000000    36545.000000  36545.000000  \n",
       "mean         0.012225        0.027335      0.596497  \n",
       "std          0.035771        0.161300      0.933158  \n",
       "min         -0.014024       -0.437141      0.000000  \n",
       "25%         -0.005726       -0.081806      0.000000  \n",
       "50%         -0.004508        0.009774      0.000000  \n",
       "75%          0.021798        0.114718      1.000000  \n",
       "max          0.436573        0.864541     10.000000  "
      ]
     },
     "execution_count": 115,
     "metadata": {},
     "output_type": "execute_result"
    }
   ],
   "source": [
    "all_merge_unrelated.describe()"
   ]
  },
  {
   "cell_type": "code",
   "execution_count": 116,
   "metadata": {
    "collapsed": true
   },
   "outputs": [
    {
     "data": {
      "text/html": [
       "<div>\n",
       "<style>\n",
       "    .dataframe thead tr:only-child th {\n",
       "        text-align: right;\n",
       "    }\n",
       "\n",
       "    .dataframe thead th {\n",
       "        text-align: left;\n",
       "    }\n",
       "\n",
       "    .dataframe tbody tr th {\n",
       "        vertical-align: top;\n",
       "    }\n",
       "</style>\n",
       "<table border=\"1\" class=\"dataframe\">\n",
       "  <thead>\n",
       "    <tr style=\"text-align: right;\">\n",
       "      <th></th>\n",
       "      <th>Body ID</th>\n",
       "      <th>cos_sim</th>\n",
       "      <th>cos_sim_key</th>\n",
       "      <th>cos_sim_w2v</th>\n",
       "      <th>kl_head_uni</th>\n",
       "      <th>kl_head_bi</th>\n",
       "      <th>euc_dist</th>\n",
       "      <th>euc_dist_key</th>\n",
       "      <th>euc_dist_w2v</th>\n",
       "      <th>spear_corr</th>\n",
       "      <th>spear_corr_key</th>\n",
       "      <th>spear_corr_w2v</th>\n",
       "      <th>same_word</th>\n",
       "    </tr>\n",
       "  </thead>\n",
       "  <tbody>\n",
       "    <tr>\n",
       "      <th>count</th>\n",
       "      <td>3678.000000</td>\n",
       "      <td>3678.000000</td>\n",
       "      <td>3678.000000</td>\n",
       "      <td>3678.000000</td>\n",
       "      <td>3678.000000</td>\n",
       "      <td>3678.000000</td>\n",
       "      <td>3678.000000</td>\n",
       "      <td>3678.000000</td>\n",
       "      <td>3678.000000</td>\n",
       "      <td>3678.000000</td>\n",
       "      <td>3678.000000</td>\n",
       "      <td>3678.000000</td>\n",
       "      <td>3678.000000</td>\n",
       "    </tr>\n",
       "    <tr>\n",
       "      <th>mean</th>\n",
       "      <td>1620.734638</td>\n",
       "      <td>0.277867</td>\n",
       "      <td>0.347652</td>\n",
       "      <td>0.657687</td>\n",
       "      <td>5.932320</td>\n",
       "      <td>33.165614</td>\n",
       "      <td>1.507171</td>\n",
       "      <td>1.426165</td>\n",
       "      <td>0.813687</td>\n",
       "      <td>0.177172</td>\n",
       "      <td>0.255908</td>\n",
       "      <td>0.640433</td>\n",
       "      <td>5.091082</td>\n",
       "    </tr>\n",
       "    <tr>\n",
       "      <th>std</th>\n",
       "      <td>643.666111</td>\n",
       "      <td>0.141945</td>\n",
       "      <td>0.171961</td>\n",
       "      <td>0.126879</td>\n",
       "      <td>2.382016</td>\n",
       "      <td>19.105463</td>\n",
       "      <td>0.400723</td>\n",
       "      <td>0.417755</td>\n",
       "      <td>0.150153</td>\n",
       "      <td>0.092468</td>\n",
       "      <td>0.112563</td>\n",
       "      <td>0.128994</td>\n",
       "      <td>2.413163</td>\n",
       "    </tr>\n",
       "    <tr>\n",
       "      <th>min</th>\n",
       "      <td>0.000000</td>\n",
       "      <td>0.000000</td>\n",
       "      <td>0.000000</td>\n",
       "      <td>-0.100401</td>\n",
       "      <td>0.000000</td>\n",
       "      <td>-0.068484</td>\n",
       "      <td>0.000000</td>\n",
       "      <td>0.000000</td>\n",
       "      <td>0.000000</td>\n",
       "      <td>-0.002916</td>\n",
       "      <td>-0.009152</td>\n",
       "      <td>-0.102538</td>\n",
       "      <td>0.000000</td>\n",
       "    </tr>\n",
       "    <tr>\n",
       "      <th>25%</th>\n",
       "      <td>1174.000000</td>\n",
       "      <td>0.175697</td>\n",
       "      <td>0.223672</td>\n",
       "      <td>0.595486</td>\n",
       "      <td>4.193017</td>\n",
       "      <td>19.956815</td>\n",
       "      <td>1.223479</td>\n",
       "      <td>1.137801</td>\n",
       "      <td>0.716697</td>\n",
       "      <td>0.122948</td>\n",
       "      <td>0.183684</td>\n",
       "      <td>0.575816</td>\n",
       "      <td>3.000000</td>\n",
       "    </tr>\n",
       "    <tr>\n",
       "      <th>50%</th>\n",
       "      <td>1743.000000</td>\n",
       "      <td>0.267838</td>\n",
       "      <td>0.342448</td>\n",
       "      <td>0.677931</td>\n",
       "      <td>5.694893</td>\n",
       "      <td>30.054241</td>\n",
       "      <td>1.445163</td>\n",
       "      <td>1.361497</td>\n",
       "      <td>0.802582</td>\n",
       "      <td>0.166653</td>\n",
       "      <td>0.249048</td>\n",
       "      <td>0.659471</td>\n",
       "      <td>5.000000</td>\n",
       "    </tr>\n",
       "    <tr>\n",
       "      <th>75%</th>\n",
       "      <td>2165.000000</td>\n",
       "      <td>0.365434</td>\n",
       "      <td>0.463400</td>\n",
       "      <td>0.743173</td>\n",
       "      <td>7.515361</td>\n",
       "      <td>42.759490</td>\n",
       "      <td>1.720592</td>\n",
       "      <td>1.654635</td>\n",
       "      <td>0.899460</td>\n",
       "      <td>0.217144</td>\n",
       "      <td>0.321335</td>\n",
       "      <td>0.727835</td>\n",
       "      <td>6.000000</td>\n",
       "    </tr>\n",
       "    <tr>\n",
       "      <th>max</th>\n",
       "      <td>2532.000000</td>\n",
       "      <td>1.000000</td>\n",
       "      <td>1.000000</td>\n",
       "      <td>1.000000</td>\n",
       "      <td>17.643009</td>\n",
       "      <td>152.236599</td>\n",
       "      <td>5.157308</td>\n",
       "      <td>5.157308</td>\n",
       "      <td>1.483510</td>\n",
       "      <td>1.000000</td>\n",
       "      <td>1.000000</td>\n",
       "      <td>1.000000</td>\n",
       "      <td>20.000000</td>\n",
       "    </tr>\n",
       "  </tbody>\n",
       "</table>\n",
       "</div>"
      ],
      "text/plain": [
       "           Body ID      cos_sim  cos_sim_key  cos_sim_w2v  kl_head_uni  \\\n",
       "count  3678.000000  3678.000000  3678.000000  3678.000000  3678.000000   \n",
       "mean   1620.734638     0.277867     0.347652     0.657687     5.932320   \n",
       "std     643.666111     0.141945     0.171961     0.126879     2.382016   \n",
       "min       0.000000     0.000000     0.000000    -0.100401     0.000000   \n",
       "25%    1174.000000     0.175697     0.223672     0.595486     4.193017   \n",
       "50%    1743.000000     0.267838     0.342448     0.677931     5.694893   \n",
       "75%    2165.000000     0.365434     0.463400     0.743173     7.515361   \n",
       "max    2532.000000     1.000000     1.000000     1.000000    17.643009   \n",
       "\n",
       "        kl_head_bi     euc_dist  euc_dist_key  euc_dist_w2v   spear_corr  \\\n",
       "count  3678.000000  3678.000000   3678.000000   3678.000000  3678.000000   \n",
       "mean     33.165614     1.507171      1.426165      0.813687     0.177172   \n",
       "std      19.105463     0.400723      0.417755      0.150153     0.092468   \n",
       "min      -0.068484     0.000000      0.000000      0.000000    -0.002916   \n",
       "25%      19.956815     1.223479      1.137801      0.716697     0.122948   \n",
       "50%      30.054241     1.445163      1.361497      0.802582     0.166653   \n",
       "75%      42.759490     1.720592      1.654635      0.899460     0.217144   \n",
       "max     152.236599     5.157308      5.157308      1.483510     1.000000   \n",
       "\n",
       "       spear_corr_key  spear_corr_w2v    same_word  \n",
       "count     3678.000000     3678.000000  3678.000000  \n",
       "mean         0.255908        0.640433     5.091082  \n",
       "std          0.112563        0.128994     2.413163  \n",
       "min         -0.009152       -0.102538     0.000000  \n",
       "25%          0.183684        0.575816     3.000000  \n",
       "50%          0.249048        0.659471     5.000000  \n",
       "75%          0.321335        0.727835     6.000000  \n",
       "max          1.000000        1.000000    20.000000  "
      ]
     },
     "execution_count": 116,
     "metadata": {},
     "output_type": "execute_result"
    }
   ],
   "source": [
    "all_merge_agree.describe()"
   ]
  },
  {
   "cell_type": "code",
   "execution_count": 117,
   "metadata": {
    "collapsed": true
   },
   "outputs": [
    {
     "data": {
      "text/html": [
       "<div>\n",
       "<style>\n",
       "    .dataframe thead tr:only-child th {\n",
       "        text-align: right;\n",
       "    }\n",
       "\n",
       "    .dataframe thead th {\n",
       "        text-align: left;\n",
       "    }\n",
       "\n",
       "    .dataframe tbody tr th {\n",
       "        vertical-align: top;\n",
       "    }\n",
       "</style>\n",
       "<table border=\"1\" class=\"dataframe\">\n",
       "  <thead>\n",
       "    <tr style=\"text-align: right;\">\n",
       "      <th></th>\n",
       "      <th>Body ID</th>\n",
       "      <th>cos_sim</th>\n",
       "      <th>cos_sim_key</th>\n",
       "      <th>cos_sim_w2v</th>\n",
       "      <th>kl_head_uni</th>\n",
       "      <th>kl_head_bi</th>\n",
       "      <th>euc_dist</th>\n",
       "      <th>euc_dist_key</th>\n",
       "      <th>euc_dist_w2v</th>\n",
       "      <th>spear_corr</th>\n",
       "      <th>spear_corr_key</th>\n",
       "      <th>spear_corr_w2v</th>\n",
       "      <th>same_word</th>\n",
       "    </tr>\n",
       "  </thead>\n",
       "  <tbody>\n",
       "    <tr>\n",
       "      <th>count</th>\n",
       "      <td>840.000000</td>\n",
       "      <td>840.000000</td>\n",
       "      <td>840.000000</td>\n",
       "      <td>840.000000</td>\n",
       "      <td>840.000000</td>\n",
       "      <td>840.000000</td>\n",
       "      <td>840.000000</td>\n",
       "      <td>840.000000</td>\n",
       "      <td>840.000000</td>\n",
       "      <td>840.000000</td>\n",
       "      <td>840.000000</td>\n",
       "      <td>840.000000</td>\n",
       "      <td>840.000000</td>\n",
       "    </tr>\n",
       "    <tr>\n",
       "      <th>mean</th>\n",
       "      <td>1633.051190</td>\n",
       "      <td>0.259224</td>\n",
       "      <td>0.330234</td>\n",
       "      <td>0.638779</td>\n",
       "      <td>6.270128</td>\n",
       "      <td>34.338053</td>\n",
       "      <td>1.522978</td>\n",
       "      <td>1.439883</td>\n",
       "      <td>0.836211</td>\n",
       "      <td>0.155557</td>\n",
       "      <td>0.234888</td>\n",
       "      <td>0.623715</td>\n",
       "      <td>4.683333</td>\n",
       "    </tr>\n",
       "    <tr>\n",
       "      <th>std</th>\n",
       "      <td>554.813595</td>\n",
       "      <td>0.130243</td>\n",
       "      <td>0.165055</td>\n",
       "      <td>0.134029</td>\n",
       "      <td>2.281297</td>\n",
       "      <td>20.081742</td>\n",
       "      <td>0.339181</td>\n",
       "      <td>0.360864</td>\n",
       "      <td>0.152386</td>\n",
       "      <td>0.069055</td>\n",
       "      <td>0.094568</td>\n",
       "      <td>0.136101</td>\n",
       "      <td>2.059822</td>\n",
       "    </tr>\n",
       "    <tr>\n",
       "      <th>min</th>\n",
       "      <td>78.000000</td>\n",
       "      <td>0.000000</td>\n",
       "      <td>0.000000</td>\n",
       "      <td>0.082112</td>\n",
       "      <td>1.482879</td>\n",
       "      <td>0.543532</td>\n",
       "      <td>0.726629</td>\n",
       "      <td>0.632735</td>\n",
       "      <td>0.484930</td>\n",
       "      <td>-0.002376</td>\n",
       "      <td>-0.005878</td>\n",
       "      <td>0.053829</td>\n",
       "      <td>0.000000</td>\n",
       "    </tr>\n",
       "    <tr>\n",
       "      <th>25%</th>\n",
       "      <td>1227.000000</td>\n",
       "      <td>0.157207</td>\n",
       "      <td>0.205584</td>\n",
       "      <td>0.568724</td>\n",
       "      <td>4.542633</td>\n",
       "      <td>20.827990</td>\n",
       "      <td>1.277437</td>\n",
       "      <td>1.176042</td>\n",
       "      <td>0.726655</td>\n",
       "      <td>0.110541</td>\n",
       "      <td>0.168397</td>\n",
       "      <td>0.551516</td>\n",
       "      <td>3.000000</td>\n",
       "    </tr>\n",
       "    <tr>\n",
       "      <th>50%</th>\n",
       "      <td>1776.500000</td>\n",
       "      <td>0.253802</td>\n",
       "      <td>0.325959</td>\n",
       "      <td>0.665124</td>\n",
       "      <td>6.204210</td>\n",
       "      <td>30.868624</td>\n",
       "      <td>1.485226</td>\n",
       "      <td>1.372311</td>\n",
       "      <td>0.818384</td>\n",
       "      <td>0.145190</td>\n",
       "      <td>0.228042</td>\n",
       "      <td>0.647292</td>\n",
       "      <td>5.000000</td>\n",
       "    </tr>\n",
       "    <tr>\n",
       "      <th>75%</th>\n",
       "      <td>2042.000000</td>\n",
       "      <td>0.352548</td>\n",
       "      <td>0.458798</td>\n",
       "      <td>0.735986</td>\n",
       "      <td>7.761542</td>\n",
       "      <td>43.914492</td>\n",
       "      <td>1.715160</td>\n",
       "      <td>1.655035</td>\n",
       "      <td>0.928737</td>\n",
       "      <td>0.191767</td>\n",
       "      <td>0.291788</td>\n",
       "      <td>0.719942</td>\n",
       "      <td>6.000000</td>\n",
       "    </tr>\n",
       "    <tr>\n",
       "      <th>max</th>\n",
       "      <td>2529.000000</td>\n",
       "      <td>0.688945</td>\n",
       "      <td>0.797404</td>\n",
       "      <td>0.882422</td>\n",
       "      <td>17.406393</td>\n",
       "      <td>132.571293</td>\n",
       "      <td>2.786060</td>\n",
       "      <td>2.781260</td>\n",
       "      <td>1.354908</td>\n",
       "      <td>0.462736</td>\n",
       "      <td>0.564241</td>\n",
       "      <td>0.881944</td>\n",
       "      <td>11.000000</td>\n",
       "    </tr>\n",
       "  </tbody>\n",
       "</table>\n",
       "</div>"
      ],
      "text/plain": [
       "           Body ID     cos_sim  cos_sim_key  cos_sim_w2v  kl_head_uni  \\\n",
       "count   840.000000  840.000000   840.000000   840.000000   840.000000   \n",
       "mean   1633.051190    0.259224     0.330234     0.638779     6.270128   \n",
       "std     554.813595    0.130243     0.165055     0.134029     2.281297   \n",
       "min      78.000000    0.000000     0.000000     0.082112     1.482879   \n",
       "25%    1227.000000    0.157207     0.205584     0.568724     4.542633   \n",
       "50%    1776.500000    0.253802     0.325959     0.665124     6.204210   \n",
       "75%    2042.000000    0.352548     0.458798     0.735986     7.761542   \n",
       "max    2529.000000    0.688945     0.797404     0.882422    17.406393   \n",
       "\n",
       "       kl_head_bi    euc_dist  euc_dist_key  euc_dist_w2v  spear_corr  \\\n",
       "count  840.000000  840.000000    840.000000    840.000000  840.000000   \n",
       "mean    34.338053    1.522978      1.439883      0.836211    0.155557   \n",
       "std     20.081742    0.339181      0.360864      0.152386    0.069055   \n",
       "min      0.543532    0.726629      0.632735      0.484930   -0.002376   \n",
       "25%     20.827990    1.277437      1.176042      0.726655    0.110541   \n",
       "50%     30.868624    1.485226      1.372311      0.818384    0.145190   \n",
       "75%     43.914492    1.715160      1.655035      0.928737    0.191767   \n",
       "max    132.571293    2.786060      2.781260      1.354908    0.462736   \n",
       "\n",
       "       spear_corr_key  spear_corr_w2v   same_word  \n",
       "count      840.000000      840.000000  840.000000  \n",
       "mean         0.234888        0.623715    4.683333  \n",
       "std          0.094568        0.136101    2.059822  \n",
       "min         -0.005878        0.053829    0.000000  \n",
       "25%          0.168397        0.551516    3.000000  \n",
       "50%          0.228042        0.647292    5.000000  \n",
       "75%          0.291788        0.719942    6.000000  \n",
       "max          0.564241        0.881944   11.000000  "
      ]
     },
     "execution_count": 117,
     "metadata": {},
     "output_type": "execute_result"
    }
   ],
   "source": [
    "all_merge_disagree.describe()"
   ]
  },
  {
   "cell_type": "code",
   "execution_count": 118,
   "metadata": {
    "collapsed": true
   },
   "outputs": [
    {
     "data": {
      "text/html": [
       "<div>\n",
       "<style>\n",
       "    .dataframe thead tr:only-child th {\n",
       "        text-align: right;\n",
       "    }\n",
       "\n",
       "    .dataframe thead th {\n",
       "        text-align: left;\n",
       "    }\n",
       "\n",
       "    .dataframe tbody tr th {\n",
       "        vertical-align: top;\n",
       "    }\n",
       "</style>\n",
       "<table border=\"1\" class=\"dataframe\">\n",
       "  <thead>\n",
       "    <tr style=\"text-align: right;\">\n",
       "      <th></th>\n",
       "      <th>Body ID</th>\n",
       "      <th>cos_sim</th>\n",
       "      <th>cos_sim_key</th>\n",
       "      <th>cos_sim_w2v</th>\n",
       "      <th>kl_head_uni</th>\n",
       "      <th>kl_head_bi</th>\n",
       "      <th>euc_dist</th>\n",
       "      <th>euc_dist_key</th>\n",
       "      <th>euc_dist_w2v</th>\n",
       "      <th>spear_corr</th>\n",
       "      <th>spear_corr_key</th>\n",
       "      <th>spear_corr_w2v</th>\n",
       "      <th>same_word</th>\n",
       "    </tr>\n",
       "  </thead>\n",
       "  <tbody>\n",
       "    <tr>\n",
       "      <th>count</th>\n",
       "      <td>8909.000000</td>\n",
       "      <td>8909.000000</td>\n",
       "      <td>8909.000000</td>\n",
       "      <td>8909.000000</td>\n",
       "      <td>8909.000000</td>\n",
       "      <td>8909.000000</td>\n",
       "      <td>8909.000000</td>\n",
       "      <td>8909.000000</td>\n",
       "      <td>8909.000000</td>\n",
       "      <td>8909.000000</td>\n",
       "      <td>8909.000000</td>\n",
       "      <td>8909.000000</td>\n",
       "      <td>8909.000000</td>\n",
       "    </tr>\n",
       "    <tr>\n",
       "      <th>mean</th>\n",
       "      <td>1645.666854</td>\n",
       "      <td>0.259361</td>\n",
       "      <td>0.326954</td>\n",
       "      <td>0.685896</td>\n",
       "      <td>6.065728</td>\n",
       "      <td>35.270575</td>\n",
       "      <td>1.386061</td>\n",
       "      <td>1.321706</td>\n",
       "      <td>0.780464</td>\n",
       "      <td>0.165650</td>\n",
       "      <td>0.241426</td>\n",
       "      <td>0.670055</td>\n",
       "      <td>5.153104</td>\n",
       "    </tr>\n",
       "    <tr>\n",
       "      <th>std</th>\n",
       "      <td>620.412812</td>\n",
       "      <td>0.131940</td>\n",
       "      <td>0.163134</td>\n",
       "      <td>0.114102</td>\n",
       "      <td>2.249777</td>\n",
       "      <td>18.948836</td>\n",
       "      <td>0.383558</td>\n",
       "      <td>0.393059</td>\n",
       "      <td>0.138153</td>\n",
       "      <td>0.080957</td>\n",
       "      <td>0.101698</td>\n",
       "      <td>0.115378</td>\n",
       "      <td>2.322968</td>\n",
       "    </tr>\n",
       "    <tr>\n",
       "      <th>min</th>\n",
       "      <td>4.000000</td>\n",
       "      <td>0.000000</td>\n",
       "      <td>0.000000</td>\n",
       "      <td>-0.145385</td>\n",
       "      <td>0.000000</td>\n",
       "      <td>-0.045147</td>\n",
       "      <td>0.000000</td>\n",
       "      <td>0.000000</td>\n",
       "      <td>0.000000</td>\n",
       "      <td>-0.002305</td>\n",
       "      <td>-0.007832</td>\n",
       "      <td>-0.151121</td>\n",
       "      <td>0.000000</td>\n",
       "    </tr>\n",
       "    <tr>\n",
       "      <th>25%</th>\n",
       "      <td>1175.000000</td>\n",
       "      <td>0.162061</td>\n",
       "      <td>0.204690</td>\n",
       "      <td>0.628071</td>\n",
       "      <td>4.463821</td>\n",
       "      <td>22.794705</td>\n",
       "      <td>1.135848</td>\n",
       "      <td>1.071846</td>\n",
       "      <td>0.687884</td>\n",
       "      <td>0.114334</td>\n",
       "      <td>0.172256</td>\n",
       "      <td>0.609681</td>\n",
       "      <td>4.000000</td>\n",
       "    </tr>\n",
       "    <tr>\n",
       "      <th>50%</th>\n",
       "      <td>1747.000000</td>\n",
       "      <td>0.244872</td>\n",
       "      <td>0.312456</td>\n",
       "      <td>0.705217</td>\n",
       "      <td>5.855980</td>\n",
       "      <td>32.184147</td>\n",
       "      <td>1.320395</td>\n",
       "      <td>1.250322</td>\n",
       "      <td>0.767832</td>\n",
       "      <td>0.153093</td>\n",
       "      <td>0.230361</td>\n",
       "      <td>0.688973</td>\n",
       "      <td>5.000000</td>\n",
       "    </tr>\n",
       "    <tr>\n",
       "      <th>75%</th>\n",
       "      <td>2162.000000</td>\n",
       "      <td>0.345240</td>\n",
       "      <td>0.437658</td>\n",
       "      <td>0.763408</td>\n",
       "      <td>7.478376</td>\n",
       "      <td>44.745900</td>\n",
       "      <td>1.548451</td>\n",
       "      <td>1.495589</td>\n",
       "      <td>0.862472</td>\n",
       "      <td>0.202151</td>\n",
       "      <td>0.299193</td>\n",
       "      <td>0.748864</td>\n",
       "      <td>7.000000</td>\n",
       "    </tr>\n",
       "    <tr>\n",
       "      <th>max</th>\n",
       "      <td>2531.000000</td>\n",
       "      <td>1.000000</td>\n",
       "      <td>1.000000</td>\n",
       "      <td>1.000000</td>\n",
       "      <td>17.643010</td>\n",
       "      <td>166.320804</td>\n",
       "      <td>4.592485</td>\n",
       "      <td>4.588555</td>\n",
       "      <td>1.513529</td>\n",
       "      <td>1.000000</td>\n",
       "      <td>1.000000</td>\n",
       "      <td>1.000000</td>\n",
       "      <td>21.000000</td>\n",
       "    </tr>\n",
       "  </tbody>\n",
       "</table>\n",
       "</div>"
      ],
      "text/plain": [
       "           Body ID      cos_sim  cos_sim_key  cos_sim_w2v  kl_head_uni  \\\n",
       "count  8909.000000  8909.000000  8909.000000  8909.000000  8909.000000   \n",
       "mean   1645.666854     0.259361     0.326954     0.685896     6.065728   \n",
       "std     620.412812     0.131940     0.163134     0.114102     2.249777   \n",
       "min       4.000000     0.000000     0.000000    -0.145385     0.000000   \n",
       "25%    1175.000000     0.162061     0.204690     0.628071     4.463821   \n",
       "50%    1747.000000     0.244872     0.312456     0.705217     5.855980   \n",
       "75%    2162.000000     0.345240     0.437658     0.763408     7.478376   \n",
       "max    2531.000000     1.000000     1.000000     1.000000    17.643010   \n",
       "\n",
       "        kl_head_bi     euc_dist  euc_dist_key  euc_dist_w2v   spear_corr  \\\n",
       "count  8909.000000  8909.000000   8909.000000   8909.000000  8909.000000   \n",
       "mean     35.270575     1.386061      1.321706      0.780464     0.165650   \n",
       "std      18.948836     0.383558      0.393059      0.138153     0.080957   \n",
       "min      -0.045147     0.000000      0.000000      0.000000    -0.002305   \n",
       "25%      22.794705     1.135848      1.071846      0.687884     0.114334   \n",
       "50%      32.184147     1.320395      1.250322      0.767832     0.153093   \n",
       "75%      44.745900     1.548451      1.495589      0.862472     0.202151   \n",
       "max     166.320804     4.592485      4.588555      1.513529     1.000000   \n",
       "\n",
       "       spear_corr_key  spear_corr_w2v    same_word  \n",
       "count     8909.000000     8909.000000  8909.000000  \n",
       "mean         0.241426        0.670055     5.153104  \n",
       "std          0.101698        0.115378     2.322968  \n",
       "min         -0.007832       -0.151121     0.000000  \n",
       "25%          0.172256        0.609681     4.000000  \n",
       "50%          0.230361        0.688973     5.000000  \n",
       "75%          0.299193        0.748864     7.000000  \n",
       "max          1.000000        1.000000    21.000000  "
      ]
     },
     "execution_count": 118,
     "metadata": {},
     "output_type": "execute_result"
    }
   ],
   "source": [
    "all_merge_discuss.describe()"
   ]
  },
  {
   "cell_type": "code",
   "execution_count": 293,
   "metadata": {
    "collapsed": true
   },
   "outputs": [
    {
     "data": {
      "image/png": "[encoded data removed]",
      "text/plain": [
       "<matplotlib.figure.Figure at 0x11cf560b8>"
      ]
     },
     "metadata": {},
     "output_type": "display_data"
    }
   ],
   "source": [
    "feature_name = 'cos_sim'\n",
    "# Plot the frequency distribution (Pearson Correlation Coefficient)\n",
    "plt.figure(figsize = (10, 10))\n",
    "\n",
    "sns.distplot(all_merge_unrelated[feature_name], kde=False,  bins=100, color=\"blue\",  label = 'Unrelated')\n",
    "sns.distplot(all_merge_discuss[feature_name], kde=False,  bins=100, color=\"yellow\",  label = 'Discuss')\n",
    "sns.distplot(all_merge_agree[feature_name], kde=False,  bins=100, color=\"pink\", label='Agree')\n",
    "sns.distplot(all_merge_disagree[feature_name], kde=False,  bins=100, color=\"red\", label = 'Disagree')\n",
    "\n",
    "plt.ylim(0,1500)\n",
    "# plt.title('The Distribution of the Pearson Correlation Coefficients for the Four Class')\n",
    "plt.xlabel(feature_name)\n",
    "plt.ylabel('Frequency')\n",
    "plt.legend()\n",
    "plt.show()"
   ]
  },
  {
   "cell_type": "code",
   "execution_count": 298,
   "metadata": {
    "collapsed": true
   },
   "outputs": [
    {
     "data": {
      "image/png": "[encoded data removed]",
      "text/plain": [
       "<matplotlib.figure.Figure at 0x12310b2e8>"
      ]
     },
     "metadata": {},
     "output_type": "display_data"
    }
   ],
   "source": [
    "feature_name = 'cos_sim_key'\n",
    "# Plot the frequency distribution (Pearson Correlation Coefficient)\n",
    "plt.figure(figsize = (10, 10))\n",
    "\n",
    "sns.distplot(all_merge_unrelated[feature_name], kde=False,  bins=100, color=\"blue\",  label = 'Unrelated')\n",
    "sns.distplot(all_merge_discuss[feature_name], kde=False,  bins=100, color=\"yellow\",  label = 'Discuss')\n",
    "sns.distplot(all_merge_agree[feature_name], kde=False,  bins=100, color=\"pink\", label='Agree')\n",
    "sns.distplot(all_merge_disagree[feature_name], kde=False,  bins=100, color=\"red\", label = 'Disagree')\n",
    "\n",
    "plt.ylim(0,1000)\n",
    "# plt.title('The Distribution of the Pearson Correlation Coefficients for the Four Class')\n",
    "plt.xlabel(feature_name)\n",
    "plt.ylabel('Frequency')\n",
    "plt.legend()\n",
    "plt.show()"
   ]
  },
  {
   "cell_type": "code",
   "execution_count": 296,
   "metadata": {
    "collapsed": true
   },
   "outputs": [
    {
     "data": {
      "image/png": "[encoded data removed]",
      "text/plain": [
       "<matplotlib.figure.Figure at 0x1227c7c88>"
      ]
     },
     "metadata": {},
     "output_type": "display_data"
    }
   ],
   "source": [
    "feature_name = 'cos_sim_w2v'\n",
    "# Plot the frequency distribution (Pearson Correlation Coefficient)\n",
    "plt.figure(figsize = (10, 10))\n",
    "\n",
    "sns.distplot(all_merge_unrelated[feature_name], kde=False,  bins=100, color=\"blue\",  label = 'Unrelated')\n",
    "sns.distplot(all_merge_discuss[feature_name], kde=False,  bins=100, color=\"yellow\",  label = 'Discuss')\n",
    "sns.distplot(all_merge_agree[feature_name], kde=False,  bins=100, color=\"pink\", label='Agree')\n",
    "sns.distplot(all_merge_disagree[feature_name], kde=False,  bins=100, color=\"red\", label = 'Disagree')\n",
    "\n",
    "# plt.title('The Distribution of the Pearson Correlation Coefficients for the Four Class')\n",
    "plt.xlabel(feature_name)\n",
    "plt.ylabel('Frequency')\n",
    "plt.legend()\n",
    "plt.show()"
   ]
  },
  {
   "cell_type": "code",
   "execution_count": 297,
   "metadata": {
    "collapsed": true
   },
   "outputs": [
    {
     "data": {
      "image/png": "[encoded data removed]",
      "text/plain": [
       "<matplotlib.figure.Figure at 0x121fdf400>"
      ]
     },
     "metadata": {},
     "output_type": "display_data"
    }
   ],
   "source": [
    "feature_name = 'kl_head_uni'\n",
    "# Plot the frequency distribution (Pearson Correlation Coefficient)\n",
    "plt.figure(figsize = (10, 10))\n",
    "\n",
    "sns.distplot(all_merge_unrelated[feature_name], kde=False,  bins=100, color=\"blue\",  label = 'Unrelated')\n",
    "sns.distplot(all_merge_discuss[feature_name], kde=False,  bins=100, color=\"yellow\",  label = 'Discuss')\n",
    "sns.distplot(all_merge_agree[feature_name], kde=False,  bins=100, color=\"pink\", label='Agree')\n",
    "sns.distplot(all_merge_disagree[feature_name], kde=False,  bins=100, color=\"red\", label = 'Disagree')\n",
    "plt.ylim(0,1000)\n",
    "# plt.title('The Distribution of the Pearson Correlation Coefficients for the Four Class')\n",
    "plt.xlabel(feature_name)\n",
    "plt.ylabel('Frequency')\n",
    "plt.legend()\n",
    "plt.show()"
   ]
  },
  {
   "cell_type": "code",
   "execution_count": 123,
   "metadata": {
    "collapsed": true
   },
   "outputs": [
    {
     "data": {
      "image/png": "[encoded data removed]",
      "text/plain": [
       "<matplotlib.figure.Figure at 0x122702f60>"
      ]
     },
     "metadata": {},
     "output_type": "display_data"
    }
   ],
   "source": [
    "feature_name = 'kl_head_bi'\n",
    "# Plot the frequency distribution (Pearson Correlation Coefficient)\n",
    "plt.figure(figsize = (10, 10))\n",
    "\n",
    "sns.distplot(all_merge_unrelated[feature_name], kde=False,  bins=100, color=\"blue\",  label = 'Unrelated')\n",
    "sns.distplot(all_merge_discuss[feature_name], kde=False,  bins=100, color=\"yellow\",  label = 'Discuss')\n",
    "sns.distplot(all_merge_agree[feature_name], kde=False,  bins=100, color=\"pink\", label='Agree')\n",
    "sns.distplot(all_merge_disagree[feature_name], kde=False,  bins=100, color=\"red\", label = 'Disagree')\n",
    "\n",
    "plt.ylim(0,1500)\n",
    "# plt.title('The Distribution of the Pearson Correlation Coefficients for the Four Class')\n",
    "plt.xlabel(feature_name)\n",
    "plt.ylabel('Frequency')\n",
    "plt.legend()\n",
    "plt.show()"
   ]
  },
  {
   "cell_type": "code",
   "execution_count": 127,
   "metadata": {
    "collapsed": true
   },
   "outputs": [
    {
     "data": {
      "text/plain": [
       "<matplotlib.figure.Figure at 0x1222be9b0>"
      ]
     },
     "metadata": {},
     "output_type": "display_data"
    },
    {
     "data": {
      "image/png": "[encoded data removed]",
      "text/plain": [
       "<matplotlib.figure.Figure at 0x11e0eec18>"
      ]
     },
     "metadata": {},
     "output_type": "display_data"
    }
   ],
   "source": [
    "feature_name = 'euc_dist'\n",
    "# Plot the frequency distribution (Pearson Correlation Coefficient)\n",
    "plt.figure(figsize = (10, 10))\n",
    "\n",
    "sns.distplot(all_merge_unrelated[feature_name], kde=False,  bins=100, color=\"blue\",  label = 'Unrelated')\n",
    "sns.distplot(all_merge_discuss[feature_name], kde=False,  bins=100, color=\"yellow\",  label = 'Discuss')\n",
    "sns.distplot(all_merge_agree[feature_name], kde=False,  bins=100, color=\"pink\", label='Agree')\n",
    "sns.distplot(all_merge_disagree[feature_name], kde=False,  bins=100, color=\"red\", label = 'Disagree')\n",
    "\n",
    "plt.ylim(0,1500)\n",
    "# plt.title('The Distribution of the Pearson Correlation Coefficients for the Four Class')\n",
    "plt.xlabel(feature_name)\n",
    "plt.ylabel('Frequency')\n",
    "plt.legend()\n",
    "plt.show()"
   ]
  },
  {
   "cell_type": "code",
   "execution_count": 128,
   "metadata": {
    "collapsed": true
   },
   "outputs": [
    {
     "data": {
      "image/png": "[encoded data removed]",
      "text/plain": [
       "<matplotlib.figure.Figure at 0x11f1ab208>"
      ]
     },
     "metadata": {},
     "output_type": "display_data"
    }
   ],
   "source": [
    "feature_name = 'euc_dist_key'\n",
    "# Plot the frequency distribution (Pearson Correlation Coefficient)\n",
    "plt.figure(figsize = (10, 10))\n",
    "\n",
    "sns.distplot(all_merge_unrelated[feature_name], kde=False,  bins=100, color=\"blue\",  label = 'Unrelated')\n",
    "sns.distplot(all_merge_discuss[feature_name], kde=False,  bins=100, color=\"yellow\",  label = 'Discuss')\n",
    "sns.distplot(all_merge_agree[feature_name], kde=False,  bins=100, color=\"pink\", label='Agree')\n",
    "sns.distplot(all_merge_disagree[feature_name], kde=False,  bins=100, color=\"red\", label = 'Disagree')\n",
    "\n",
    "plt.ylim(0,1500)\n",
    "# plt.title('The Distribution of the Pearson Correlation Coefficients for the Four Class')\n",
    "plt.xlabel(feature_name)\n",
    "plt.ylabel('Frequency')\n",
    "plt.legend()\n",
    "plt.show()"
   ]
  },
  {
   "cell_type": "code",
   "execution_count": 129,
   "metadata": {
    "collapsed": true
   },
   "outputs": [
    {
     "data": {
      "image/png": "[encoded data removed]",
      "text/plain": [
       "<matplotlib.figure.Figure at 0x121ec8f28>"
      ]
     },
     "metadata": {},
     "output_type": "display_data"
    }
   ],
   "source": [
    "feature_name = 'euc_dist_w2v'\n",
    "# Plot the frequency distribution (Pearson Correlation Coefficient)\n",
    "plt.figure(figsize = (10, 10))\n",
    "\n",
    "sns.distplot(all_merge_unrelated[feature_name], kde=False,  bins=100, color=\"blue\",  label = 'Unrelated')\n",
    "sns.distplot(all_merge_discuss[feature_name], kde=False,  bins=100, color=\"yellow\",  label = 'Discuss')\n",
    "sns.distplot(all_merge_agree[feature_name], kde=False,  bins=100, color=\"pink\", label='Agree')\n",
    "sns.distplot(all_merge_disagree[feature_name], kde=False,  bins=100, color=\"red\", label = 'Disagree')\n",
    "\n",
    "plt.ylim(0,1500)\n",
    "# plt.title('The Distribution of the Pearson Correlation Coefficients for the Four Class')\n",
    "plt.xlabel(feature_name)\n",
    "plt.ylabel('Frequency')\n",
    "plt.legend()\n",
    "plt.show()"
   ]
  },
  {
   "cell_type": "code",
   "execution_count": 130,
   "metadata": {
    "collapsed": true
   },
   "outputs": [
    {
     "data": {
      "image/png": "[encoded data removed]",
      "text/plain": [
       "<matplotlib.figure.Figure at 0x11ce11550>"
      ]
     },
     "metadata": {},
     "output_type": "display_data"
    }
   ],
   "source": [
    "feature_name = 'spear_corr'\n",
    "# Plot the frequency distribution (Pearson Correlation Coefficient)\n",
    "plt.figure(figsize = (10, 10))\n",
    "\n",
    "sns.distplot(all_merge_unrelated[feature_name], kde=False,  bins=100, color=\"blue\",  label = 'Unrelated')\n",
    "sns.distplot(all_merge_discuss[feature_name], kde=False,  bins=100, color=\"yellow\",  label = 'Discuss')\n",
    "sns.distplot(all_merge_agree[feature_name], kde=False,  bins=100, color=\"pink\", label='Agree')\n",
    "sns.distplot(all_merge_disagree[feature_name], kde=False,  bins=100, color=\"red\", label = 'Disagree')\n",
    "\n",
    "plt.ylim(0,1500)\n",
    "# plt.title('The Distribution of the Pearson Correlation Coefficients for the Four Class')\n",
    "plt.xlabel(feature_name)\n",
    "plt.ylabel('Frequency')\n",
    "plt.legend()\n",
    "plt.show()"
   ]
  },
  {
   "cell_type": "code",
   "execution_count": 131,
   "metadata": {
    "collapsed": true
   },
   "outputs": [
    {
     "data": {
      "image/png": "[encoded data removed]",
      "text/plain": [
       "<matplotlib.figure.Figure at 0x1222de0b8>"
      ]
     },
     "metadata": {},
     "output_type": "display_data"
    }
   ],
   "source": [
    "feature_name = 'spear_corr_key'\n",
    "# Plot the frequency distribution (Pearson Correlation Coefficient)\n",
    "plt.figure(figsize = (10, 10))\n",
    "\n",
    "sns.distplot(all_merge_unrelated[feature_name], kde=False,  bins=100, color=\"blue\",  label = 'Unrelated')\n",
    "sns.distplot(all_merge_discuss[feature_name], kde=False,  bins=100, color=\"yellow\",  label = 'Discuss')\n",
    "sns.distplot(all_merge_agree[feature_name], kde=False,  bins=100, color=\"olive\", label='Agree')\n",
    "sns.distplot(all_merge_disagree[feature_name], kde=False,  bins=100, color=\"red\", label = 'Disagree')\n",
    "\n",
    "# plt.title('The Distribution of the Pearson Correlation Coefficients for the Four Class')\n",
    "plt.xlabel(feature_name)\n",
    "plt.ylabel('Frequency')\n",
    "plt.legend()\n",
    "plt.show()"
   ]
  },
  {
   "cell_type": "code",
   "execution_count": 132,
   "metadata": {
    "collapsed": true
   },
   "outputs": [
    {
     "data": {
      "image/png": "[encoded data removed]",
      "text/plain": [
       "<matplotlib.figure.Figure at 0x11de31e80>"
      ]
     },
     "metadata": {},
     "output_type": "display_data"
    }
   ],
   "source": [
    "feature_name = 'spear_corr_w2v'\n",
    "# Plot the frequency distribution (Pearson Correlation Coefficient)\n",
    "plt.figure(figsize = (10, 10))\n",
    "\n",
    "sns.distplot(all_merge_unrelated[feature_name], kde=False,  bins=100, color=\"blue\",  label = 'Unrelated')\n",
    "sns.distplot(all_merge_discuss[feature_name], kde=False,  bins=100, color=\"yellow\",  label = 'Discuss')\n",
    "sns.distplot(all_merge_agree[feature_name], kde=False,  bins=100, color=\"pink\", label='Agree')\n",
    "sns.distplot(all_merge_disagree[feature_name], kde=False,  bins=100, color=\"red\", label = 'Disagree')\n",
    "\n",
    "plt.ylim(0,1500)\n",
    "# plt.title('The Distribution of the Pearson Correlation Coefficients for the Four Class')\n",
    "plt.xlabel(feature_name)\n",
    "plt.ylabel('Frequency')\n",
    "plt.legend()\n",
    "plt.show()"
   ]
  },
  {
   "cell_type": "code",
   "execution_count": 133,
   "metadata": {
    "collapsed": true
   },
   "outputs": [
    {
     "data": {
      "image/png": "[encoded data removed]",
      "text/plain": [
       "<matplotlib.figure.Figure at 0x12264acc0>"
      ]
     },
     "metadata": {},
     "output_type": "display_data"
    }
   ],
   "source": [
    "feature_name = 'same_word'\n",
    "# Plot the frequency distribution (Pearson Correlation Coefficient)\n",
    "plt.figure(figsize = (10, 10))\n",
    "\n",
    "sns.distplot(all_merge_unrelated[feature_name], kde=False,  bins=100, color=\"blue\",  label = 'Unrelated')\n",
    "sns.distplot(all_merge_discuss[feature_name], kde=False,  bins=100, color=\"yellow\",  label = 'Discuss')\n",
    "sns.distplot(all_merge_agree[feature_name], kde=False,  bins=100, color=\"olive\", label='Agree')\n",
    "sns.distplot(all_merge_disagree[feature_name], kde=False,  bins=100, color=\"red\", label = 'Disagree')\n",
    "\n",
    "# plt.title('The Distribution of the Pearson Correlation Coefficients for the Four Class')\n",
    "plt.xlabel(feature_name)\n",
    "plt.ylabel('Frequency')\n",
    "plt.legend()\n",
    "plt.show()"
   ]
  },
  {
   "cell_type": "markdown",
   "metadata": {},
   "source": [
    "test set"
   ]
  },
  {
   "cell_type": "code",
   "execution_count": 134,
   "metadata": {
    "collapsed": true
   },
   "outputs": [
    {
     "data": {
      "text/html": [
       "<div>\n",
       "<style>\n",
       "    .dataframe thead tr:only-child th {\n",
       "        text-align: right;\n",
       "    }\n",
       "\n",
       "    .dataframe thead th {\n",
       "        text-align: left;\n",
       "    }\n",
       "\n",
       "    .dataframe tbody tr th {\n",
       "        vertical-align: top;\n",
       "    }\n",
       "</style>\n",
       "<table border=\"1\" class=\"dataframe\">\n",
       "  <thead>\n",
       "    <tr style=\"text-align: right;\">\n",
       "      <th></th>\n",
       "      <th>Headline</th>\n",
       "      <th>Body ID</th>\n",
       "      <th>Stance</th>\n",
       "      <th>articleBody</th>\n",
       "      <th>cos_sim</th>\n",
       "      <th>cos_sim_key</th>\n",
       "      <th>cos_sim_w2v</th>\n",
       "      <th>kl_head_uni</th>\n",
       "      <th>kl_head_bi</th>\n",
       "      <th>euc_dist</th>\n",
       "      <th>euc_dist_key</th>\n",
       "      <th>euc_dist_w2v</th>\n",
       "      <th>spear_corr</th>\n",
       "      <th>spear_corr_key</th>\n",
       "      <th>spear_corr_w2v</th>\n",
       "      <th>same_word</th>\n",
       "    </tr>\n",
       "  </thead>\n",
       "  <tbody>\n",
       "    <tr>\n",
       "      <th>0</th>\n",
       "      <td>[ferguson, riot, pregnant, woman, lose, eye, c...</td>\n",
       "      <td>2008</td>\n",
       "      <td>unrelated</td>\n",
       "      <td>[respected, senior, french, police, officer, i...</td>\n",
       "      <td>0.008402</td>\n",
       "      <td>0.018119</td>\n",
       "      <td>0.019486</td>\n",
       "      <td>10.613435</td>\n",
       "      <td>102.068682</td>\n",
       "      <td>1.280021</td>\n",
       "      <td>0.887168</td>\n",
       "      <td>1.400367</td>\n",
       "      <td>0.023827</td>\n",
       "      <td>0.047571</td>\n",
       "      <td>0.005300</td>\n",
       "      <td>1.0</td>\n",
       "    </tr>\n",
       "    <tr>\n",
       "      <th>1</th>\n",
       "      <td>[crazy, conservatives, sure, gitmo, detainee, ...</td>\n",
       "      <td>1550</td>\n",
       "      <td>unrelated</td>\n",
       "      <td>[dave, morin, social, network, company, path, ...</td>\n",
       "      <td>0.000000</td>\n",
       "      <td>0.000000</td>\n",
       "      <td>-0.087034</td>\n",
       "      <td>11.869600</td>\n",
       "      <td>61.788162</td>\n",
       "      <td>1.617679</td>\n",
       "      <td>1.380690</td>\n",
       "      <td>1.474472</td>\n",
       "      <td>-0.001332</td>\n",
       "      <td>-0.003562</td>\n",
       "      <td>-0.105342</td>\n",
       "      <td>0.0</td>\n",
       "    </tr>\n",
       "  </tbody>\n",
       "</table>\n",
       "</div>"
      ],
      "text/plain": [
       "                                            Headline  Body ID     Stance  \\\n",
       "0  [ferguson, riot, pregnant, woman, lose, eye, c...     2008  unrelated   \n",
       "1  [crazy, conservatives, sure, gitmo, detainee, ...     1550  unrelated   \n",
       "\n",
       "                                         articleBody   cos_sim  cos_sim_key  \\\n",
       "0  [respected, senior, french, police, officer, i...  0.008402     0.018119   \n",
       "1  [dave, morin, social, network, company, path, ...  0.000000     0.000000   \n",
       "\n",
       "   cos_sim_w2v  kl_head_uni  kl_head_bi  euc_dist  euc_dist_key  euc_dist_w2v  \\\n",
       "0     0.019486    10.613435  102.068682  1.280021      0.887168      1.400367   \n",
       "1    -0.087034    11.869600   61.788162  1.617679      1.380690      1.474472   \n",
       "\n",
       "   spear_corr  spear_corr_key  spear_corr_w2v  same_word  \n",
       "0    0.023827        0.047571        0.005300        1.0  \n",
       "1   -0.001332       -0.003562       -0.105342        0.0  "
      ]
     },
     "execution_count": 134,
     "metadata": {},
     "output_type": "execute_result"
    }
   ],
   "source": [
    "all_test_merge[0:2]"
   ]
  },
  {
   "cell_type": "code",
   "execution_count": 135,
   "metadata": {},
   "outputs": [],
   "source": [
    "all_test_merge_copy = all_test_merge.copy()"
   ]
  },
  {
   "cell_type": "code",
   "execution_count": 136,
   "metadata": {
    "collapsed": true
   },
   "outputs": [
    {
     "data": {
      "text/plain": [
       "(25413, 16)"
      ]
     },
     "execution_count": 136,
     "metadata": {},
     "output_type": "execute_result"
    }
   ],
   "source": [
    "all_test_merge.shape"
   ]
  },
  {
   "cell_type": "code",
   "execution_count": 137,
   "metadata": {
    "collapsed": true
   },
   "outputs": [
    {
     "data": {
      "text/plain": [
       "(24535, 16)"
      ]
     },
     "execution_count": 137,
     "metadata": {},
     "output_type": "execute_result"
    }
   ],
   "source": [
    "(all_test_merge.dropna()).shape"
   ]
  },
  {
   "cell_type": "code",
   "execution_count": 138,
   "metadata": {},
   "outputs": [],
   "source": [
    "#There are some out of vocabulary words are reset to 0\n",
    "all_test_merge = all_test_merge.fillna(value=0)"
   ]
  },
  {
   "cell_type": "code",
   "execution_count": 139,
   "metadata": {
    "collapsed": true
   },
   "outputs": [
    {
     "data": {
      "text/plain": [
       "(25413, 16)"
      ]
     },
     "execution_count": 139,
     "metadata": {},
     "output_type": "execute_result"
    }
   ],
   "source": [
    "all_test_merge.shape"
   ]
  },
  {
   "cell_type": "code",
   "execution_count": 140,
   "metadata": {
    "collapsed": true
   },
   "outputs": [
    {
     "data": {
      "text/plain": [
       "(25413, 16)"
      ]
     },
     "execution_count": 140,
     "metadata": {},
     "output_type": "execute_result"
    }
   ],
   "source": [
    "(all_test_merge.dropna()).shape"
   ]
  },
  {
   "cell_type": "code",
   "execution_count": 141,
   "metadata": {},
   "outputs": [],
   "source": [
    "# all_test_merge.to_csv('all_test_merge.csv')"
   ]
  },
  {
   "cell_type": "code",
   "execution_count": 142,
   "metadata": {},
   "outputs": [],
   "source": [
    "# all_test_merge = pd.read_csv('all_test_merge.csv')"
   ]
  },
  {
   "cell_type": "code",
   "execution_count": 143,
   "metadata": {
    "scrolled": true
   },
   "outputs": [],
   "source": [
    "all_test_merge_unrelated = all_test_merge[all_test_merge['Stance'] == 'unrelated']\n",
    "all_test_merge_agree = all_test_merge[all_test_merge['Stance'] == 'agree']\n",
    "all_test_merge_disagree = all_test_merge[all_test_merge['Stance'] == 'disagree']\n",
    "all_test_merge_discuss = all_test_merge[all_test_merge['Stance'] == 'discuss']"
   ]
  },
  {
   "cell_type": "code",
   "execution_count": 144,
   "metadata": {
    "collapsed": true
   },
   "outputs": [
    {
     "data": {
      "text/html": [
       "<div>\n",
       "<style>\n",
       "    .dataframe thead tr:only-child th {\n",
       "        text-align: right;\n",
       "    }\n",
       "\n",
       "    .dataframe thead th {\n",
       "        text-align: left;\n",
       "    }\n",
       "\n",
       "    .dataframe tbody tr th {\n",
       "        vertical-align: top;\n",
       "    }\n",
       "</style>\n",
       "<table border=\"1\" class=\"dataframe\">\n",
       "  <thead>\n",
       "    <tr style=\"text-align: right;\">\n",
       "      <th></th>\n",
       "      <th>Body ID</th>\n",
       "      <th>cos_sim</th>\n",
       "      <th>cos_sim_key</th>\n",
       "      <th>cos_sim_w2v</th>\n",
       "      <th>kl_head_uni</th>\n",
       "      <th>kl_head_bi</th>\n",
       "      <th>euc_dist</th>\n",
       "      <th>euc_dist_key</th>\n",
       "      <th>euc_dist_w2v</th>\n",
       "      <th>spear_corr</th>\n",
       "      <th>spear_corr_key</th>\n",
       "      <th>spear_corr_w2v</th>\n",
       "      <th>same_word</th>\n",
       "    </tr>\n",
       "  </thead>\n",
       "  <tbody>\n",
       "    <tr>\n",
       "      <th>count</th>\n",
       "      <td>25413.000000</td>\n",
       "      <td>25413.000000</td>\n",
       "      <td>25413.000000</td>\n",
       "      <td>25413.000000</td>\n",
       "      <td>25413.000000</td>\n",
       "      <td>25413.000000</td>\n",
       "      <td>25413.000000</td>\n",
       "      <td>25413.000000</td>\n",
       "      <td>25413.000000</td>\n",
       "      <td>25413.000000</td>\n",
       "      <td>25413.000000</td>\n",
       "      <td>25413.000000</td>\n",
       "      <td>25413.000000</td>\n",
       "    </tr>\n",
       "    <tr>\n",
       "      <th>mean</th>\n",
       "      <td>1407.471373</td>\n",
       "      <td>0.086492</td>\n",
       "      <td>0.085931</td>\n",
       "      <td>0.151785</td>\n",
       "      <td>10.011110</td>\n",
       "      <td>53.843079</td>\n",
       "      <td>1.518958</td>\n",
       "      <td>0.993637</td>\n",
       "      <td>1.282096</td>\n",
       "      <td>0.060320</td>\n",
       "      <td>0.065818</td>\n",
       "      <td>0.144868</td>\n",
       "      <td>1.778224</td>\n",
       "    </tr>\n",
       "    <tr>\n",
       "      <th>std</th>\n",
       "      <td>734.781119</td>\n",
       "      <td>0.153986</td>\n",
       "      <td>0.163356</td>\n",
       "      <td>0.248411</td>\n",
       "      <td>2.906798</td>\n",
       "      <td>26.459637</td>\n",
       "      <td>0.400606</td>\n",
       "      <td>0.346303</td>\n",
       "      <td>0.220920</td>\n",
       "      <td>0.090064</td>\n",
       "      <td>0.112752</td>\n",
       "      <td>0.243014</td>\n",
       "      <td>2.467019</td>\n",
       "    </tr>\n",
       "    <tr>\n",
       "      <th>min</th>\n",
       "      <td>1.000000</td>\n",
       "      <td>0.000000</td>\n",
       "      <td>0.000000</td>\n",
       "      <td>-0.380626</td>\n",
       "      <td>0.000000</td>\n",
       "      <td>-0.069253</td>\n",
       "      <td>0.000000</td>\n",
       "      <td>0.000000</td>\n",
       "      <td>0.000000</td>\n",
       "      <td>-0.004196</td>\n",
       "      <td>-0.014760</td>\n",
       "      <td>-0.388804</td>\n",
       "      <td>0.000000</td>\n",
       "    </tr>\n",
       "    <tr>\n",
       "      <th>25%</th>\n",
       "      <td>823.000000</td>\n",
       "      <td>0.000000</td>\n",
       "      <td>0.000000</td>\n",
       "      <td>-0.029644</td>\n",
       "      <td>8.548193</td>\n",
       "      <td>34.524956</td>\n",
       "      <td>1.248952</td>\n",
       "      <td>0.781783</td>\n",
       "      <td>1.180696</td>\n",
       "      <td>-0.001214</td>\n",
       "      <td>-0.003514</td>\n",
       "      <td>-0.031508</td>\n",
       "      <td>0.000000</td>\n",
       "    </tr>\n",
       "    <tr>\n",
       "      <th>50%</th>\n",
       "      <td>1449.000000</td>\n",
       "      <td>0.003650</td>\n",
       "      <td>0.000000</td>\n",
       "      <td>0.095094</td>\n",
       "      <td>11.247777</td>\n",
       "      <td>52.517115</td>\n",
       "      <td>1.476111</td>\n",
       "      <td>0.977870</td>\n",
       "      <td>1.344354</td>\n",
       "      <td>0.024834</td>\n",
       "      <td>-0.001703</td>\n",
       "      <td>0.090562</td>\n",
       "      <td>1.000000</td>\n",
       "    </tr>\n",
       "    <tr>\n",
       "      <th>75%</th>\n",
       "      <td>2049.000000</td>\n",
       "      <td>0.101192</td>\n",
       "      <td>0.088542</td>\n",
       "      <td>0.300749</td>\n",
       "      <td>12.023751</td>\n",
       "      <td>69.128214</td>\n",
       "      <td>1.721468</td>\n",
       "      <td>1.201824</td>\n",
       "      <td>1.435022</td>\n",
       "      <td>0.095383</td>\n",
       "      <td>0.110002</td>\n",
       "      <td>0.289069</td>\n",
       "      <td>3.000000</td>\n",
       "    </tr>\n",
       "    <tr>\n",
       "      <th>max</th>\n",
       "      <td>2586.000000</td>\n",
       "      <td>1.000000</td>\n",
       "      <td>1.000000</td>\n",
       "      <td>1.000000</td>\n",
       "      <td>22.608669</td>\n",
       "      <td>222.198159</td>\n",
       "      <td>4.211132</td>\n",
       "      <td>2.570658</td>\n",
       "      <td>1.661701</td>\n",
       "      <td>1.000000</td>\n",
       "      <td>1.000000</td>\n",
       "      <td>1.000000</td>\n",
       "      <td>18.000000</td>\n",
       "    </tr>\n",
       "  </tbody>\n",
       "</table>\n",
       "</div>"
      ],
      "text/plain": [
       "            Body ID       cos_sim   cos_sim_key   cos_sim_w2v   kl_head_uni  \\\n",
       "count  25413.000000  25413.000000  25413.000000  25413.000000  25413.000000   \n",
       "mean    1407.471373      0.086492      0.085931      0.151785     10.011110   \n",
       "std      734.781119      0.153986      0.163356      0.248411      2.906798   \n",
       "min        1.000000      0.000000      0.000000     -0.380626      0.000000   \n",
       "25%      823.000000      0.000000      0.000000     -0.029644      8.548193   \n",
       "50%     1449.000000      0.003650      0.000000      0.095094     11.247777   \n",
       "75%     2049.000000      0.101192      0.088542      0.300749     12.023751   \n",
       "max     2586.000000      1.000000      1.000000      1.000000     22.608669   \n",
       "\n",
       "         kl_head_bi      euc_dist  euc_dist_key  euc_dist_w2v    spear_corr  \\\n",
       "count  25413.000000  25413.000000  25413.000000  25413.000000  25413.000000   \n",
       "mean      53.843079      1.518958      0.993637      1.282096      0.060320   \n",
       "std       26.459637      0.400606      0.346303      0.220920      0.090064   \n",
       "min       -0.069253      0.000000      0.000000      0.000000     -0.004196   \n",
       "25%       34.524956      1.248952      0.781783      1.180696     -0.001214   \n",
       "50%       52.517115      1.476111      0.977870      1.344354      0.024834   \n",
       "75%       69.128214      1.721468      1.201824      1.435022      0.095383   \n",
       "max      222.198159      4.211132      2.570658      1.661701      1.000000   \n",
       "\n",
       "       spear_corr_key  spear_corr_w2v     same_word  \n",
       "count    25413.000000    25413.000000  25413.000000  \n",
       "mean         0.065818        0.144868      1.778224  \n",
       "std          0.112752        0.243014      2.467019  \n",
       "min         -0.014760       -0.388804      0.000000  \n",
       "25%         -0.003514       -0.031508      0.000000  \n",
       "50%         -0.001703        0.090562      1.000000  \n",
       "75%          0.110002        0.289069      3.000000  \n",
       "max          1.000000        1.000000     18.000000  "
      ]
     },
     "execution_count": 144,
     "metadata": {},
     "output_type": "execute_result"
    }
   ],
   "source": [
    "all_test_merge.describe()"
   ]
  },
  {
   "cell_type": "code",
   "execution_count": 145,
   "metadata": {
    "collapsed": true
   },
   "outputs": [
    {
     "data": {
      "text/html": [
       "<div>\n",
       "<style>\n",
       "    .dataframe thead tr:only-child th {\n",
       "        text-align: right;\n",
       "    }\n",
       "\n",
       "    .dataframe thead th {\n",
       "        text-align: left;\n",
       "    }\n",
       "\n",
       "    .dataframe tbody tr th {\n",
       "        vertical-align: top;\n",
       "    }\n",
       "</style>\n",
       "<table border=\"1\" class=\"dataframe\">\n",
       "  <thead>\n",
       "    <tr style=\"text-align: right;\">\n",
       "      <th></th>\n",
       "      <th>Body ID</th>\n",
       "      <th>cos_sim</th>\n",
       "      <th>cos_sim_key</th>\n",
       "      <th>cos_sim_w2v</th>\n",
       "      <th>kl_head_uni</th>\n",
       "      <th>kl_head_bi</th>\n",
       "      <th>euc_dist</th>\n",
       "      <th>euc_dist_key</th>\n",
       "      <th>euc_dist_w2v</th>\n",
       "      <th>spear_corr</th>\n",
       "      <th>spear_corr_key</th>\n",
       "      <th>spear_corr_w2v</th>\n",
       "      <th>same_word</th>\n",
       "    </tr>\n",
       "  </thead>\n",
       "  <tbody>\n",
       "    <tr>\n",
       "      <th>count</th>\n",
       "      <td>18349.000000</td>\n",
       "      <td>18349.000000</td>\n",
       "      <td>18349.000000</td>\n",
       "      <td>18349.000000</td>\n",
       "      <td>18349.000000</td>\n",
       "      <td>18349.000000</td>\n",
       "      <td>18349.000000</td>\n",
       "      <td>18349.000000</td>\n",
       "      <td>18349.000000</td>\n",
       "      <td>18349.000000</td>\n",
       "      <td>18349.000000</td>\n",
       "      <td>18349.000000</td>\n",
       "      <td>18349.000000</td>\n",
       "    </tr>\n",
       "    <tr>\n",
       "      <th>mean</th>\n",
       "      <td>1302.505804</td>\n",
       "      <td>0.008374</td>\n",
       "      <td>0.012448</td>\n",
       "      <td>0.042794</td>\n",
       "      <td>11.492997</td>\n",
       "      <td>61.125415</td>\n",
       "      <td>1.563762</td>\n",
       "      <td>1.023521</td>\n",
       "      <td>1.375923</td>\n",
       "      <td>0.016741</td>\n",
       "      <td>0.015198</td>\n",
       "      <td>0.038567</td>\n",
       "      <td>0.536705</td>\n",
       "    </tr>\n",
       "    <tr>\n",
       "      <th>std</th>\n",
       "      <td>738.253438</td>\n",
       "      <td>0.023172</td>\n",
       "      <td>0.040966</td>\n",
       "      <td>0.162750</td>\n",
       "      <td>1.250382</td>\n",
       "      <td>25.164607</td>\n",
       "      <td>0.405633</td>\n",
       "      <td>0.347066</td>\n",
       "      <td>0.135296</td>\n",
       "      <td>0.029752</td>\n",
       "      <td>0.044382</td>\n",
       "      <td>0.158998</td>\n",
       "      <td>0.885182</td>\n",
       "    </tr>\n",
       "    <tr>\n",
       "      <th>min</th>\n",
       "      <td>1.000000</td>\n",
       "      <td>0.000000</td>\n",
       "      <td>0.000000</td>\n",
       "      <td>-0.380626</td>\n",
       "      <td>2.060428</td>\n",
       "      <td>0.000000</td>\n",
       "      <td>0.271651</td>\n",
       "      <td>0.139767</td>\n",
       "      <td>0.000000</td>\n",
       "      <td>-0.004196</td>\n",
       "      <td>-0.014760</td>\n",
       "      <td>-0.388804</td>\n",
       "      <td>0.000000</td>\n",
       "    </tr>\n",
       "    <tr>\n",
       "      <th>25%</th>\n",
       "      <td>710.000000</td>\n",
       "      <td>0.000000</td>\n",
       "      <td>0.000000</td>\n",
       "      <td>-0.067178</td>\n",
       "      <td>10.633783</td>\n",
       "      <td>43.299354</td>\n",
       "      <td>1.289387</td>\n",
       "      <td>0.814449</td>\n",
       "      <td>1.317586</td>\n",
       "      <td>-0.001388</td>\n",
       "      <td>-0.003988</td>\n",
       "      <td>-0.069009</td>\n",
       "      <td>0.000000</td>\n",
       "    </tr>\n",
       "    <tr>\n",
       "      <th>50%</th>\n",
       "      <td>1326.000000</td>\n",
       "      <td>0.000000</td>\n",
       "      <td>0.000000</td>\n",
       "      <td>0.025980</td>\n",
       "      <td>11.736069</td>\n",
       "      <td>61.788162</td>\n",
       "      <td>1.516474</td>\n",
       "      <td>1.013102</td>\n",
       "      <td>1.395394</td>\n",
       "      <td>-0.000852</td>\n",
       "      <td>-0.002758</td>\n",
       "      <td>0.022675</td>\n",
       "      <td>0.000000</td>\n",
       "    </tr>\n",
       "    <tr>\n",
       "      <th>75%</th>\n",
       "      <td>1928.000000</td>\n",
       "      <td>0.006845</td>\n",
       "      <td>0.000000</td>\n",
       "      <td>0.131219</td>\n",
       "      <td>12.023751</td>\n",
       "      <td>71.094222</td>\n",
       "      <td>1.767939</td>\n",
       "      <td>1.231160</td>\n",
       "      <td>1.460943</td>\n",
       "      <td>0.031916</td>\n",
       "      <td>-0.000948</td>\n",
       "      <td>0.125373</td>\n",
       "      <td>1.000000</td>\n",
       "    </tr>\n",
       "    <tr>\n",
       "      <th>max</th>\n",
       "      <td>2527.000000</td>\n",
       "      <td>0.562486</td>\n",
       "      <td>0.797962</td>\n",
       "      <td>0.854976</td>\n",
       "      <td>22.608669</td>\n",
       "      <td>222.198159</td>\n",
       "      <td>4.211132</td>\n",
       "      <td>2.570658</td>\n",
       "      <td>1.661701</td>\n",
       "      <td>0.380965</td>\n",
       "      <td>0.707213</td>\n",
       "      <td>0.849380</td>\n",
       "      <td>10.000000</td>\n",
       "    </tr>\n",
       "  </tbody>\n",
       "</table>\n",
       "</div>"
      ],
      "text/plain": [
       "            Body ID       cos_sim   cos_sim_key   cos_sim_w2v   kl_head_uni  \\\n",
       "count  18349.000000  18349.000000  18349.000000  18349.000000  18349.000000   \n",
       "mean    1302.505804      0.008374      0.012448      0.042794     11.492997   \n",
       "std      738.253438      0.023172      0.040966      0.162750      1.250382   \n",
       "min        1.000000      0.000000      0.000000     -0.380626      2.060428   \n",
       "25%      710.000000      0.000000      0.000000     -0.067178     10.633783   \n",
       "50%     1326.000000      0.000000      0.000000      0.025980     11.736069   \n",
       "75%     1928.000000      0.006845      0.000000      0.131219     12.023751   \n",
       "max     2527.000000      0.562486      0.797962      0.854976     22.608669   \n",
       "\n",
       "         kl_head_bi      euc_dist  euc_dist_key  euc_dist_w2v    spear_corr  \\\n",
       "count  18349.000000  18349.000000  18349.000000  18349.000000  18349.000000   \n",
       "mean      61.125415      1.563762      1.023521      1.375923      0.016741   \n",
       "std       25.164607      0.405633      0.347066      0.135296      0.029752   \n",
       "min        0.000000      0.271651      0.139767      0.000000     -0.004196   \n",
       "25%       43.299354      1.289387      0.814449      1.317586     -0.001388   \n",
       "50%       61.788162      1.516474      1.013102      1.395394     -0.000852   \n",
       "75%       71.094222      1.767939      1.231160      1.460943      0.031916   \n",
       "max      222.198159      4.211132      2.570658      1.661701      0.380965   \n",
       "\n",
       "       spear_corr_key  spear_corr_w2v     same_word  \n",
       "count    18349.000000    18349.000000  18349.000000  \n",
       "mean         0.015198        0.038567      0.536705  \n",
       "std          0.044382        0.158998      0.885182  \n",
       "min         -0.014760       -0.388804      0.000000  \n",
       "25%         -0.003988       -0.069009      0.000000  \n",
       "50%         -0.002758        0.022675      0.000000  \n",
       "75%         -0.000948        0.125373      1.000000  \n",
       "max          0.707213        0.849380     10.000000  "
      ]
     },
     "execution_count": 145,
     "metadata": {},
     "output_type": "execute_result"
    }
   ],
   "source": [
    "all_test_merge_unrelated.describe()"
   ]
  },
  {
   "cell_type": "code",
   "execution_count": 146,
   "metadata": {
    "collapsed": true
   },
   "outputs": [
    {
     "data": {
      "text/html": [
       "<div>\n",
       "<style>\n",
       "    .dataframe thead tr:only-child th {\n",
       "        text-align: right;\n",
       "    }\n",
       "\n",
       "    .dataframe thead th {\n",
       "        text-align: left;\n",
       "    }\n",
       "\n",
       "    .dataframe tbody tr th {\n",
       "        vertical-align: top;\n",
       "    }\n",
       "</style>\n",
       "<table border=\"1\" class=\"dataframe\">\n",
       "  <thead>\n",
       "    <tr style=\"text-align: right;\">\n",
       "      <th></th>\n",
       "      <th>Body ID</th>\n",
       "      <th>cos_sim</th>\n",
       "      <th>cos_sim_key</th>\n",
       "      <th>cos_sim_w2v</th>\n",
       "      <th>kl_head_uni</th>\n",
       "      <th>kl_head_bi</th>\n",
       "      <th>euc_dist</th>\n",
       "      <th>euc_dist_key</th>\n",
       "      <th>euc_dist_w2v</th>\n",
       "      <th>spear_corr</th>\n",
       "      <th>spear_corr_key</th>\n",
       "      <th>spear_corr_w2v</th>\n",
       "      <th>same_word</th>\n",
       "    </tr>\n",
       "  </thead>\n",
       "  <tbody>\n",
       "    <tr>\n",
       "      <th>count</th>\n",
       "      <td>1903.000000</td>\n",
       "      <td>1903.000000</td>\n",
       "      <td>1903.000000</td>\n",
       "      <td>1903.000000</td>\n",
       "      <td>1903.000000</td>\n",
       "      <td>1903.000000</td>\n",
       "      <td>1903.000000</td>\n",
       "      <td>1903.000000</td>\n",
       "      <td>1903.000000</td>\n",
       "      <td>1903.000000</td>\n",
       "      <td>1903.000000</td>\n",
       "      <td>1903.000000</td>\n",
       "      <td>1903.000000</td>\n",
       "    </tr>\n",
       "    <tr>\n",
       "      <th>mean</th>\n",
       "      <td>1684.186022</td>\n",
       "      <td>0.313454</td>\n",
       "      <td>0.302954</td>\n",
       "      <td>0.414171</td>\n",
       "      <td>5.962540</td>\n",
       "      <td>32.926027</td>\n",
       "      <td>1.443511</td>\n",
       "      <td>0.923500</td>\n",
       "      <td>1.065971</td>\n",
       "      <td>0.180036</td>\n",
       "      <td>0.203715</td>\n",
       "      <td>0.399485</td>\n",
       "      <td>5.207042</td>\n",
       "    </tr>\n",
       "    <tr>\n",
       "      <th>std</th>\n",
       "      <td>668.944643</td>\n",
       "      <td>0.164722</td>\n",
       "      <td>0.213214</td>\n",
       "      <td>0.177991</td>\n",
       "      <td>2.508317</td>\n",
       "      <td>17.636426</td>\n",
       "      <td>0.351942</td>\n",
       "      <td>0.337130</td>\n",
       "      <td>0.179519</td>\n",
       "      <td>0.092189</td>\n",
       "      <td>0.123275</td>\n",
       "      <td>0.176537</td>\n",
       "      <td>2.477706</td>\n",
       "    </tr>\n",
       "    <tr>\n",
       "      <th>min</th>\n",
       "      <td>1.000000</td>\n",
       "      <td>0.000000</td>\n",
       "      <td>0.000000</td>\n",
       "      <td>-0.091695</td>\n",
       "      <td>0.000000</td>\n",
       "      <td>0.000000</td>\n",
       "      <td>0.000000</td>\n",
       "      <td>0.000000</td>\n",
       "      <td>0.000000</td>\n",
       "      <td>-0.001733</td>\n",
       "      <td>-0.006320</td>\n",
       "      <td>-0.129384</td>\n",
       "      <td>0.000000</td>\n",
       "    </tr>\n",
       "    <tr>\n",
       "      <th>25%</th>\n",
       "      <td>1232.000000</td>\n",
       "      <td>0.194767</td>\n",
       "      <td>0.132009</td>\n",
       "      <td>0.285612</td>\n",
       "      <td>4.245302</td>\n",
       "      <td>20.656423</td>\n",
       "      <td>1.201175</td>\n",
       "      <td>0.695649</td>\n",
       "      <td>0.970124</td>\n",
       "      <td>0.126277</td>\n",
       "      <td>0.124563</td>\n",
       "      <td>0.274018</td>\n",
       "      <td>4.000000</td>\n",
       "    </tr>\n",
       "    <tr>\n",
       "      <th>50%</th>\n",
       "      <td>1767.000000</td>\n",
       "      <td>0.308095</td>\n",
       "      <td>0.281913</td>\n",
       "      <td>0.416982</td>\n",
       "      <td>5.658005</td>\n",
       "      <td>30.952503</td>\n",
       "      <td>1.416789</td>\n",
       "      <td>0.903497</td>\n",
       "      <td>1.079082</td>\n",
       "      <td>0.170915</td>\n",
       "      <td>0.197820</td>\n",
       "      <td>0.397472</td>\n",
       "      <td>5.000000</td>\n",
       "    </tr>\n",
       "    <tr>\n",
       "      <th>75%</th>\n",
       "      <td>2289.000000</td>\n",
       "      <td>0.428032</td>\n",
       "      <td>0.445727</td>\n",
       "      <td>0.529024</td>\n",
       "      <td>7.211417</td>\n",
       "      <td>41.807287</td>\n",
       "      <td>1.639234</td>\n",
       "      <td>1.132098</td>\n",
       "      <td>1.194894</td>\n",
       "      <td>0.221537</td>\n",
       "      <td>0.272921</td>\n",
       "      <td>0.512450</td>\n",
       "      <td>7.000000</td>\n",
       "    </tr>\n",
       "    <tr>\n",
       "      <th>max</th>\n",
       "      <td>2586.000000</td>\n",
       "      <td>1.000000</td>\n",
       "      <td>1.000000</td>\n",
       "      <td>1.000000</td>\n",
       "      <td>17.643019</td>\n",
       "      <td>134.909104</td>\n",
       "      <td>3.787335</td>\n",
       "      <td>2.527678</td>\n",
       "      <td>1.477630</td>\n",
       "      <td>1.000000</td>\n",
       "      <td>1.000000</td>\n",
       "      <td>1.000000</td>\n",
       "      <td>18.000000</td>\n",
       "    </tr>\n",
       "  </tbody>\n",
       "</table>\n",
       "</div>"
      ],
      "text/plain": [
       "           Body ID      cos_sim  cos_sim_key  cos_sim_w2v  kl_head_uni  \\\n",
       "count  1903.000000  1903.000000  1903.000000  1903.000000  1903.000000   \n",
       "mean   1684.186022     0.313454     0.302954     0.414171     5.962540   \n",
       "std     668.944643     0.164722     0.213214     0.177991     2.508317   \n",
       "min       1.000000     0.000000     0.000000    -0.091695     0.000000   \n",
       "25%    1232.000000     0.194767     0.132009     0.285612     4.245302   \n",
       "50%    1767.000000     0.308095     0.281913     0.416982     5.658005   \n",
       "75%    2289.000000     0.428032     0.445727     0.529024     7.211417   \n",
       "max    2586.000000     1.000000     1.000000     1.000000    17.643019   \n",
       "\n",
       "        kl_head_bi     euc_dist  euc_dist_key  euc_dist_w2v   spear_corr  \\\n",
       "count  1903.000000  1903.000000   1903.000000   1903.000000  1903.000000   \n",
       "mean     32.926027     1.443511      0.923500      1.065971     0.180036   \n",
       "std      17.636426     0.351942      0.337130      0.179519     0.092189   \n",
       "min       0.000000     0.000000      0.000000      0.000000    -0.001733   \n",
       "25%      20.656423     1.201175      0.695649      0.970124     0.126277   \n",
       "50%      30.952503     1.416789      0.903497      1.079082     0.170915   \n",
       "75%      41.807287     1.639234      1.132098      1.194894     0.221537   \n",
       "max     134.909104     3.787335      2.527678      1.477630     1.000000   \n",
       "\n",
       "       spear_corr_key  spear_corr_w2v    same_word  \n",
       "count     1903.000000     1903.000000  1903.000000  \n",
       "mean         0.203715        0.399485     5.207042  \n",
       "std          0.123275        0.176537     2.477706  \n",
       "min         -0.006320       -0.129384     0.000000  \n",
       "25%          0.124563        0.274018     4.000000  \n",
       "50%          0.197820        0.397472     5.000000  \n",
       "75%          0.272921        0.512450     7.000000  \n",
       "max          1.000000        1.000000    18.000000  "
      ]
     },
     "execution_count": 146,
     "metadata": {},
     "output_type": "execute_result"
    }
   ],
   "source": [
    "all_test_merge_agree.describe()"
   ]
  },
  {
   "cell_type": "code",
   "execution_count": 147,
   "metadata": {
    "collapsed": true
   },
   "outputs": [
    {
     "data": {
      "text/html": [
       "<div>\n",
       "<style>\n",
       "    .dataframe thead tr:only-child th {\n",
       "        text-align: right;\n",
       "    }\n",
       "\n",
       "    .dataframe thead th {\n",
       "        text-align: left;\n",
       "    }\n",
       "\n",
       "    .dataframe tbody tr th {\n",
       "        vertical-align: top;\n",
       "    }\n",
       "</style>\n",
       "<table border=\"1\" class=\"dataframe\">\n",
       "  <thead>\n",
       "    <tr style=\"text-align: right;\">\n",
       "      <th></th>\n",
       "      <th>Body ID</th>\n",
       "      <th>cos_sim</th>\n",
       "      <th>cos_sim_key</th>\n",
       "      <th>cos_sim_w2v</th>\n",
       "      <th>kl_head_uni</th>\n",
       "      <th>kl_head_bi</th>\n",
       "      <th>euc_dist</th>\n",
       "      <th>euc_dist_key</th>\n",
       "      <th>euc_dist_w2v</th>\n",
       "      <th>spear_corr</th>\n",
       "      <th>spear_corr_key</th>\n",
       "      <th>spear_corr_w2v</th>\n",
       "      <th>same_word</th>\n",
       "    </tr>\n",
       "  </thead>\n",
       "  <tbody>\n",
       "    <tr>\n",
       "      <th>count</th>\n",
       "      <td>697.000000</td>\n",
       "      <td>697.000000</td>\n",
       "      <td>697.000000</td>\n",
       "      <td>697.000000</td>\n",
       "      <td>697.000000</td>\n",
       "      <td>697.000000</td>\n",
       "      <td>697.000000</td>\n",
       "      <td>697.000000</td>\n",
       "      <td>697.000000</td>\n",
       "      <td>697.000000</td>\n",
       "      <td>697.000000</td>\n",
       "      <td>697.000000</td>\n",
       "      <td>697.000000</td>\n",
       "    </tr>\n",
       "    <tr>\n",
       "      <th>mean</th>\n",
       "      <td>1828.215208</td>\n",
       "      <td>0.255816</td>\n",
       "      <td>0.197299</td>\n",
       "      <td>0.292052</td>\n",
       "      <td>7.031484</td>\n",
       "      <td>36.333264</td>\n",
       "      <td>1.517110</td>\n",
       "      <td>0.932404</td>\n",
       "      <td>1.178574</td>\n",
       "      <td>0.144806</td>\n",
       "      <td>0.146739</td>\n",
       "      <td>0.279743</td>\n",
       "      <td>4.054519</td>\n",
       "    </tr>\n",
       "    <tr>\n",
       "      <th>std</th>\n",
       "      <td>644.377609</td>\n",
       "      <td>0.177417</td>\n",
       "      <td>0.191374</td>\n",
       "      <td>0.148829</td>\n",
       "      <td>2.547027</td>\n",
       "      <td>20.114618</td>\n",
       "      <td>0.371663</td>\n",
       "      <td>0.336238</td>\n",
       "      <td>0.145436</td>\n",
       "      <td>0.097713</td>\n",
       "      <td>0.122718</td>\n",
       "      <td>0.144291</td>\n",
       "      <td>2.044733</td>\n",
       "    </tr>\n",
       "    <tr>\n",
       "      <th>min</th>\n",
       "      <td>157.000000</td>\n",
       "      <td>0.000000</td>\n",
       "      <td>0.000000</td>\n",
       "      <td>-0.128326</td>\n",
       "      <td>1.588125</td>\n",
       "      <td>-0.066061</td>\n",
       "      <td>0.252743</td>\n",
       "      <td>0.117140</td>\n",
       "      <td>0.000000</td>\n",
       "      <td>-0.001500</td>\n",
       "      <td>-0.005159</td>\n",
       "      <td>-0.105403</td>\n",
       "      <td>0.000000</td>\n",
       "    </tr>\n",
       "    <tr>\n",
       "      <th>25%</th>\n",
       "      <td>1345.000000</td>\n",
       "      <td>0.107718</td>\n",
       "      <td>0.041765</td>\n",
       "      <td>0.192033</td>\n",
       "      <td>5.123749</td>\n",
       "      <td>23.096228</td>\n",
       "      <td>1.281076</td>\n",
       "      <td>0.759352</td>\n",
       "      <td>1.104261</td>\n",
       "      <td>0.081659</td>\n",
       "      <td>0.079556</td>\n",
       "      <td>0.188406</td>\n",
       "      <td>2.000000</td>\n",
       "    </tr>\n",
       "    <tr>\n",
       "      <th>50%</th>\n",
       "      <td>1945.000000</td>\n",
       "      <td>0.229517</td>\n",
       "      <td>0.142684</td>\n",
       "      <td>0.292235</td>\n",
       "      <td>6.853017</td>\n",
       "      <td>34.816780</td>\n",
       "      <td>1.472566</td>\n",
       "      <td>0.900840</td>\n",
       "      <td>1.189330</td>\n",
       "      <td>0.124303</td>\n",
       "      <td>0.134276</td>\n",
       "      <td>0.282658</td>\n",
       "      <td>4.000000</td>\n",
       "    </tr>\n",
       "    <tr>\n",
       "      <th>75%</th>\n",
       "      <td>2392.000000</td>\n",
       "      <td>0.371420</td>\n",
       "      <td>0.297018</td>\n",
       "      <td>0.388243</td>\n",
       "      <td>8.676032</td>\n",
       "      <td>45.602466</td>\n",
       "      <td>1.688382</td>\n",
       "      <td>1.152151</td>\n",
       "      <td>1.269842</td>\n",
       "      <td>0.176536</td>\n",
       "      <td>0.189635</td>\n",
       "      <td>0.373758</td>\n",
       "      <td>5.000000</td>\n",
       "    </tr>\n",
       "    <tr>\n",
       "      <th>max</th>\n",
       "      <td>2586.000000</td>\n",
       "      <td>0.862049</td>\n",
       "      <td>1.000000</td>\n",
       "      <td>0.906331</td>\n",
       "      <td>17.643019</td>\n",
       "      <td>150.267953</td>\n",
       "      <td>3.779440</td>\n",
       "      <td>2.343364</td>\n",
       "      <td>1.502216</td>\n",
       "      <td>0.632207</td>\n",
       "      <td>1.000000</td>\n",
       "      <td>0.879965</td>\n",
       "      <td>12.000000</td>\n",
       "    </tr>\n",
       "  </tbody>\n",
       "</table>\n",
       "</div>"
      ],
      "text/plain": [
       "           Body ID     cos_sim  cos_sim_key  cos_sim_w2v  kl_head_uni  \\\n",
       "count   697.000000  697.000000   697.000000   697.000000   697.000000   \n",
       "mean   1828.215208    0.255816     0.197299     0.292052     7.031484   \n",
       "std     644.377609    0.177417     0.191374     0.148829     2.547027   \n",
       "min     157.000000    0.000000     0.000000    -0.128326     1.588125   \n",
       "25%    1345.000000    0.107718     0.041765     0.192033     5.123749   \n",
       "50%    1945.000000    0.229517     0.142684     0.292235     6.853017   \n",
       "75%    2392.000000    0.371420     0.297018     0.388243     8.676032   \n",
       "max    2586.000000    0.862049     1.000000     0.906331    17.643019   \n",
       "\n",
       "       kl_head_bi    euc_dist  euc_dist_key  euc_dist_w2v  spear_corr  \\\n",
       "count  697.000000  697.000000    697.000000    697.000000  697.000000   \n",
       "mean    36.333264    1.517110      0.932404      1.178574    0.144806   \n",
       "std     20.114618    0.371663      0.336238      0.145436    0.097713   \n",
       "min     -0.066061    0.252743      0.117140      0.000000   -0.001500   \n",
       "25%     23.096228    1.281076      0.759352      1.104261    0.081659   \n",
       "50%     34.816780    1.472566      0.900840      1.189330    0.124303   \n",
       "75%     45.602466    1.688382      1.152151      1.269842    0.176536   \n",
       "max    150.267953    3.779440      2.343364      1.502216    0.632207   \n",
       "\n",
       "       spear_corr_key  spear_corr_w2v   same_word  \n",
       "count      697.000000      697.000000  697.000000  \n",
       "mean         0.146739        0.279743    4.054519  \n",
       "std          0.122718        0.144291    2.044733  \n",
       "min         -0.005159       -0.105403    0.000000  \n",
       "25%          0.079556        0.188406    2.000000  \n",
       "50%          0.134276        0.282658    4.000000  \n",
       "75%          0.189635        0.373758    5.000000  \n",
       "max          1.000000        0.879965   12.000000  "
      ]
     },
     "execution_count": 147,
     "metadata": {},
     "output_type": "execute_result"
    }
   ],
   "source": [
    "all_test_merge_disagree.describe()"
   ]
  },
  {
   "cell_type": "code",
   "execution_count": 148,
   "metadata": {
    "collapsed": true
   },
   "outputs": [
    {
     "data": {
      "text/html": [
       "<div>\n",
       "<style>\n",
       "    .dataframe thead tr:only-child th {\n",
       "        text-align: right;\n",
       "    }\n",
       "\n",
       "    .dataframe thead th {\n",
       "        text-align: left;\n",
       "    }\n",
       "\n",
       "    .dataframe tbody tr th {\n",
       "        vertical-align: top;\n",
       "    }\n",
       "</style>\n",
       "<table border=\"1\" class=\"dataframe\">\n",
       "  <thead>\n",
       "    <tr style=\"text-align: right;\">\n",
       "      <th></th>\n",
       "      <th>Body ID</th>\n",
       "      <th>cos_sim</th>\n",
       "      <th>cos_sim_key</th>\n",
       "      <th>cos_sim_w2v</th>\n",
       "      <th>kl_head_uni</th>\n",
       "      <th>kl_head_bi</th>\n",
       "      <th>euc_dist</th>\n",
       "      <th>euc_dist_key</th>\n",
       "      <th>euc_dist_w2v</th>\n",
       "      <th>spear_corr</th>\n",
       "      <th>spear_corr_key</th>\n",
       "      <th>spear_corr_w2v</th>\n",
       "      <th>same_word</th>\n",
       "    </tr>\n",
       "  </thead>\n",
       "  <tbody>\n",
       "    <tr>\n",
       "      <th>count</th>\n",
       "      <td>4464.000000</td>\n",
       "      <td>4464.000000</td>\n",
       "      <td>4464.000000</td>\n",
       "      <td>4464.000000</td>\n",
       "      <td>4464.000000</td>\n",
       "      <td>4464.000000</td>\n",
       "      <td>4464.000000</td>\n",
       "      <td>4464.000000</td>\n",
       "      <td>4464.000000</td>\n",
       "      <td>4464.000000</td>\n",
       "      <td>4464.000000</td>\n",
       "      <td>4464.000000</td>\n",
       "      <td>4464.000000</td>\n",
       "    </tr>\n",
       "    <tr>\n",
       "      <th>mean</th>\n",
       "      <td>1655.268593</td>\n",
       "      <td>0.284404</td>\n",
       "      <td>0.278071</td>\n",
       "      <td>0.466030</td>\n",
       "      <td>6.111040</td>\n",
       "      <td>35.560352</td>\n",
       "      <td>1.367247</td>\n",
       "      <td>0.910264</td>\n",
       "      <td>1.004721</td>\n",
       "      <td>0.175218</td>\n",
       "      <td>0.202468</td>\n",
       "      <td>0.452210</td>\n",
       "      <td>5.064292</td>\n",
       "    </tr>\n",
       "    <tr>\n",
       "      <th>std</th>\n",
       "      <td>641.136547</td>\n",
       "      <td>0.160074</td>\n",
       "      <td>0.197007</td>\n",
       "      <td>0.213238</td>\n",
       "      <td>2.317780</td>\n",
       "      <td>20.013000</td>\n",
       "      <td>0.359614</td>\n",
       "      <td>0.329039</td>\n",
       "      <td>0.225541</td>\n",
       "      <td>0.095909</td>\n",
       "      <td>0.130847</td>\n",
       "      <td>0.210657</td>\n",
       "      <td>2.281380</td>\n",
       "    </tr>\n",
       "    <tr>\n",
       "      <th>min</th>\n",
       "      <td>3.000000</td>\n",
       "      <td>0.000000</td>\n",
       "      <td>0.000000</td>\n",
       "      <td>-0.137996</td>\n",
       "      <td>0.000000</td>\n",
       "      <td>-0.069253</td>\n",
       "      <td>0.000000</td>\n",
       "      <td>0.000000</td>\n",
       "      <td>0.000000</td>\n",
       "      <td>-0.002292</td>\n",
       "      <td>-0.006600</td>\n",
       "      <td>-0.135050</td>\n",
       "      <td>0.000000</td>\n",
       "    </tr>\n",
       "    <tr>\n",
       "      <th>25%</th>\n",
       "      <td>1199.750000</td>\n",
       "      <td>0.164590</td>\n",
       "      <td>0.114956</td>\n",
       "      <td>0.307652</td>\n",
       "      <td>4.439471</td>\n",
       "      <td>22.615320</td>\n",
       "      <td>1.131114</td>\n",
       "      <td>0.706438</td>\n",
       "      <td>0.832641</td>\n",
       "      <td>0.118113</td>\n",
       "      <td>0.120922</td>\n",
       "      <td>0.294858</td>\n",
       "      <td>4.000000</td>\n",
       "    </tr>\n",
       "    <tr>\n",
       "      <th>50%</th>\n",
       "      <td>1763.000000</td>\n",
       "      <td>0.275544</td>\n",
       "      <td>0.261318</td>\n",
       "      <td>0.452491</td>\n",
       "      <td>5.849794</td>\n",
       "      <td>31.543802</td>\n",
       "      <td>1.318902</td>\n",
       "      <td>0.890652</td>\n",
       "      <td>1.045097</td>\n",
       "      <td>0.160975</td>\n",
       "      <td>0.192694</td>\n",
       "      <td>0.432895</td>\n",
       "      <td>5.000000</td>\n",
       "    </tr>\n",
       "    <tr>\n",
       "      <th>75%</th>\n",
       "      <td>2194.000000</td>\n",
       "      <td>0.385038</td>\n",
       "      <td>0.424738</td>\n",
       "      <td>0.650801</td>\n",
       "      <td>7.488404</td>\n",
       "      <td>44.119631</td>\n",
       "      <td>1.559478</td>\n",
       "      <td>1.117356</td>\n",
       "      <td>1.175299</td>\n",
       "      <td>0.213577</td>\n",
       "      <td>0.272963</td>\n",
       "      <td>0.632900</td>\n",
       "      <td>6.000000</td>\n",
       "    </tr>\n",
       "    <tr>\n",
       "      <th>max</th>\n",
       "      <td>2583.000000</td>\n",
       "      <td>1.000000</td>\n",
       "      <td>1.000000</td>\n",
       "      <td>1.000000</td>\n",
       "      <td>17.643019</td>\n",
       "      <td>157.725662</td>\n",
       "      <td>3.930642</td>\n",
       "      <td>2.421600</td>\n",
       "      <td>1.508639</td>\n",
       "      <td>1.000000</td>\n",
       "      <td>1.000000</td>\n",
       "      <td>1.000000</td>\n",
       "      <td>17.000000</td>\n",
       "    </tr>\n",
       "  </tbody>\n",
       "</table>\n",
       "</div>"
      ],
      "text/plain": [
       "           Body ID      cos_sim  cos_sim_key  cos_sim_w2v  kl_head_uni  \\\n",
       "count  4464.000000  4464.000000  4464.000000  4464.000000  4464.000000   \n",
       "mean   1655.268593     0.284404     0.278071     0.466030     6.111040   \n",
       "std     641.136547     0.160074     0.197007     0.213238     2.317780   \n",
       "min       3.000000     0.000000     0.000000    -0.137996     0.000000   \n",
       "25%    1199.750000     0.164590     0.114956     0.307652     4.439471   \n",
       "50%    1763.000000     0.275544     0.261318     0.452491     5.849794   \n",
       "75%    2194.000000     0.385038     0.424738     0.650801     7.488404   \n",
       "max    2583.000000     1.000000     1.000000     1.000000    17.643019   \n",
       "\n",
       "        kl_head_bi     euc_dist  euc_dist_key  euc_dist_w2v   spear_corr  \\\n",
       "count  4464.000000  4464.000000   4464.000000   4464.000000  4464.000000   \n",
       "mean     35.560352     1.367247      0.910264      1.004721     0.175218   \n",
       "std      20.013000     0.359614      0.329039      0.225541     0.095909   \n",
       "min      -0.069253     0.000000      0.000000      0.000000    -0.002292   \n",
       "25%      22.615320     1.131114      0.706438      0.832641     0.118113   \n",
       "50%      31.543802     1.318902      0.890652      1.045097     0.160975   \n",
       "75%      44.119631     1.559478      1.117356      1.175299     0.213577   \n",
       "max     157.725662     3.930642      2.421600      1.508639     1.000000   \n",
       "\n",
       "       spear_corr_key  spear_corr_w2v    same_word  \n",
       "count     4464.000000     4464.000000  4464.000000  \n",
       "mean         0.202468        0.452210     5.064292  \n",
       "std          0.130847        0.210657     2.281380  \n",
       "min         -0.006600       -0.135050     0.000000  \n",
       "25%          0.120922        0.294858     4.000000  \n",
       "50%          0.192694        0.432895     5.000000  \n",
       "75%          0.272963        0.632900     6.000000  \n",
       "max          1.000000        1.000000    17.000000  "
      ]
     },
     "execution_count": 148,
     "metadata": {},
     "output_type": "execute_result"
    }
   ],
   "source": [
    "all_test_merge_discuss.describe()"
   ]
  },
  {
   "cell_type": "code",
   "execution_count": 149,
   "metadata": {
    "collapsed": true
   },
   "outputs": [
    {
     "data": {
      "image/png": "[encoded data removed]",
      "text/plain": [
       "<matplotlib.figure.Figure at 0x12210c3c8>"
      ]
     },
     "metadata": {},
     "output_type": "display_data"
    }
   ],
   "source": [
    "feature_name = 'cos_sim'\n",
    "# Plot the frequency distribution (Pearson Correlation Coefficient)\n",
    "plt.figure(figsize = (10, 10))\n",
    "\n",
    "sns.distplot(np.nan_to_num(all_test_merge_unrelated[feature_name]), kde=False,  bins=100, color=\"blue\",  label = 'Unrelated')\n",
    "sns.distplot(all_test_merge_discuss[feature_name], kde=False,  bins=100, color=\"yellow\",  label = 'Discuss')\n",
    "sns.distplot(all_test_merge_agree[feature_name], kde=False,  bins=100, color=\"pink\", label='Agree')\n",
    "sns.distplot(all_test_merge_disagree[feature_name], kde=False,  bins=100, color=\"red\", label = 'Disagree')\n",
    "\n",
    "plt.ylim(0,1500)\n",
    "# plt.title('The Distribution of the Pearson Correlation Coefficients for the Four Class')\n",
    "plt.xlabel(feature_name)\n",
    "plt.ylabel('Frequency')\n",
    "plt.legend()\n",
    "plt.show()"
   ]
  },
  {
   "cell_type": "code",
   "execution_count": 150,
   "metadata": {
    "collapsed": true
   },
   "outputs": [
    {
     "data": {
      "image/png": "[encoded data removed]",
      "text/plain": [
       "<matplotlib.figure.Figure at 0x11cd07a58>"
      ]
     },
     "metadata": {},
     "output_type": "display_data"
    }
   ],
   "source": [
    "#bad feature\n",
    "feature_name = 'cos_sim_key'\n",
    "# Plot the frequency distribution (Pearson Correlation Coefficient)\n",
    "plt.figure(figsize = (10, 10))\n",
    "\n",
    "sns.distplot(all_test_merge_unrelated[feature_name], kde=False,  bins=100, color=\"blue\",  label = 'Unrelated')\n",
    "sns.distplot(all_test_merge_discuss[feature_name], kde=False,  bins=100, color=\"yellow\",  label = 'Discuss')\n",
    "sns.distplot(all_test_merge_agree[feature_name], kde=False,  bins=100, color=\"pink\", label='Agree')\n",
    "sns.distplot(all_test_merge_disagree[feature_name], kde=False,  bins=100, color=\"red\", label = 'Disagree')\n",
    "\n",
    "plt.ylim(0,1500)\n",
    "# plt.title('The Distribution of the Pearson Correlation Coefficients for the Four Class')\n",
    "plt.xlabel(feature_name)\n",
    "plt.ylabel('Frequency')\n",
    "plt.legend()\n",
    "plt.show()"
   ]
  },
  {
   "cell_type": "code",
   "execution_count": 151,
   "metadata": {
    "collapsed": true
   },
   "outputs": [
    {
     "data": {
      "image/png": "[encoded data removed]",
      "text/plain": [
       "<matplotlib.figure.Figure at 0x122b98f60>"
      ]
     },
     "metadata": {},
     "output_type": "display_data"
    }
   ],
   "source": [
    "feature_name = 'cos_sim_w2v'\n",
    "# Plot the frequency distribution (Pearson Correlation Coefficient)\n",
    "plt.figure(figsize = (10, 10))\n",
    "\n",
    "sns.distplot(all_test_merge_unrelated[feature_name], kde=False,  bins=100, color=\"blue\",  label = 'Unrelated')\n",
    "sns.distplot(all_test_merge_discuss[feature_name], kde=False,  bins=100, color=\"yellow\",  label = 'Discuss')\n",
    "sns.distplot(all_test_merge_agree[feature_name], kde=False,  bins=100, color=\"pink\", label='Agree')\n",
    "sns.distplot(all_test_merge_disagree[feature_name], kde=False,  bins=100, color=\"red\", label = 'Disagree')\n",
    "\n",
    "plt.ylim(0,1500)\n",
    "# plt.title('The Distribution of the Pearson Correlation Coefficients for the Four Class')\n",
    "plt.xlabel(feature_name)\n",
    "plt.ylabel('Frequency')\n",
    "plt.legend()\n",
    "plt.show()"
   ]
  },
  {
   "cell_type": "code",
   "execution_count": 153,
   "metadata": {
    "collapsed": true
   },
   "outputs": [
    {
     "data": {
      "text/plain": [
       "<matplotlib.figure.Figure at 0x122821c88>"
      ]
     },
     "metadata": {},
     "output_type": "display_data"
    },
    {
     "data": {
      "image/png": "[encoded data removed]",
      "text/plain": [
       "<matplotlib.figure.Figure at 0x122170048>"
      ]
     },
     "metadata": {},
     "output_type": "display_data"
    }
   ],
   "source": [
    "feature_name = 'kl_head_uni'\n",
    "# Plot the frequency distribution (Pearson Correlation Coefficient)\n",
    "plt.figure(figsize = (10, 10))\n",
    "\n",
    "sns.distplot(all_test_merge_unrelated[feature_name], kde=False,  bins=100, color=\"blue\",  label = 'Unrelated')\n",
    "sns.distplot(all_test_merge_discuss[feature_name], kde=False,  bins=100, color=\"yellow\",  label = 'Discuss')\n",
    "sns.distplot(all_test_merge_agree[feature_name], kde=False,  bins=100, color=\"pink\", label='Agree')\n",
    "sns.distplot(all_test_merge_disagree[feature_name], kde=False,  bins=100, color=\"red\", label = 'Disagree')\n",
    "\n",
    "plt.ylim(0,1500)\n",
    "# plt.title('The Distribution of the Pearson Correlation Coefficients for the Four Class')\n",
    "plt.xlabel(feature_name)\n",
    "plt.ylabel('Frequency')\n",
    "plt.legend()\n",
    "plt.show()"
   ]
  },
  {
   "cell_type": "code",
   "execution_count": 154,
   "metadata": {
    "collapsed": true
   },
   "outputs": [
    {
     "data": {
      "image/png": "[encoded data removed]",
      "text/plain": [
       "<matplotlib.figure.Figure at 0x11ed93c18>"
      ]
     },
     "metadata": {},
     "output_type": "display_data"
    }
   ],
   "source": [
    "feature_name = 'kl_head_bi'\n",
    "# Plot the frequency distribution (Pearson Correlation Coefficient)\n",
    "plt.figure(figsize = (10, 10))\n",
    "\n",
    "sns.distplot(all_test_merge_unrelated[feature_name], kde=False,  bins=100, color=\"blue\",  label = 'Unrelated')\n",
    "sns.distplot(all_test_merge_discuss[feature_name], kde=False,  bins=100, color=\"yellow\",  label = 'Discuss')\n",
    "sns.distplot(all_test_merge_agree[feature_name], kde=False,  bins=100, color=\"pink\", label='Agree')\n",
    "sns.distplot(all_test_merge_disagree[feature_name], kde=False,  bins=100, color=\"red\", label = 'Disagree')\n",
    "\n",
    "plt.ylim(0,1500)\n",
    "# plt.title('The Distribution of the Pearson Correlation Coefficients for the Four Class')\n",
    "plt.xlabel(feature_name)\n",
    "plt.ylabel('Frequency')\n",
    "plt.legend()\n",
    "plt.show()"
   ]
  },
  {
   "cell_type": "code",
   "execution_count": 155,
   "metadata": {
    "collapsed": true
   },
   "outputs": [
    {
     "data": {
      "image/png": "[encoded data removed]",
      "text/plain": [
       "<matplotlib.figure.Figure at 0x11d95a048>"
      ]
     },
     "metadata": {},
     "output_type": "display_data"
    }
   ],
   "source": [
    "#bad feature\n",
    "feature_name = 'euc_dist'\n",
    "plt.figure(figsize = (10, 10))\n",
    "\n",
    "sns.distplot(all_test_merge_unrelated[feature_name], kde=False,  bins=100, color=\"blue\",  label = 'Unrelated')\n",
    "sns.distplot(all_test_merge_discuss[feature_name], kde=False,  bins=100, color=\"yellow\",  label = 'Discuss')\n",
    "sns.distplot(all_test_merge_agree[feature_name], kde=False,  bins=100, color=\"olive\", label='Agree')\n",
    "sns.distplot(all_test_merge_disagree[feature_name], kde=False,  bins=100, color=\"red\", label = 'Disagree')\n",
    "\n",
    "plt.ylim(0,1500)\n",
    "# plt.title('The Distribution of the Pearson Correlation Coefficients for the Four Class')\n",
    "plt.xlabel(feature_name)\n",
    "plt.ylabel('Frequency')\n",
    "plt.legend()\n",
    "plt.show()"
   ]
  },
  {
   "cell_type": "code",
   "execution_count": 156,
   "metadata": {
    "collapsed": true
   },
   "outputs": [
    {
     "data": {
      "image/png": "[encoded data removed]",
      "text/plain": [
       "<matplotlib.figure.Figure at 0x122139898>"
      ]
     },
     "metadata": {},
     "output_type": "display_data"
    }
   ],
   "source": [
    "#bad feature\n",
    "feature_name = 'euc_dist_key'\n",
    "# Plot the frequency distribution (Pearson Correlation Coefficient)\n",
    "plt.figure(figsize = (10, 10))\n",
    "\n",
    "sns.distplot(all_test_merge_unrelated[feature_name], kde=False,  bins=100, color=\"blue\",  label = 'Unrelated')\n",
    "sns.distplot(all_test_merge_discuss[feature_name], kde=False,  bins=100, color=\"yellow\",  label = 'Discuss')\n",
    "sns.distplot(all_test_merge_agree[feature_name], kde=False,  bins=100, color=\"olive\", label='Agree')\n",
    "sns.distplot(all_test_merge_disagree[feature_name], kde=False,  bins=100, color=\"red\", label = 'Disagree')\n",
    "\n",
    "plt.ylim(0,1500)\n",
    "# plt.title('The Distribution of the Pearson Correlation Coefficients for the Four Class')\n",
    "plt.xlabel(feature_name)\n",
    "plt.ylabel('Frequency')\n",
    "plt.legend()\n",
    "plt.show()"
   ]
  },
  {
   "cell_type": "code",
   "execution_count": 157,
   "metadata": {
    "collapsed": true
   },
   "outputs": [
    {
     "data": {
      "image/png": "[encoded data removed]",
      "text/plain": [
       "<matplotlib.figure.Figure at 0x106af75c0>"
      ]
     },
     "metadata": {},
     "output_type": "display_data"
    }
   ],
   "source": [
    "feature_name = 'euc_dist_w2v'\n",
    "# Plot the frequency distribution (Pearson Correlation Coefficient)\n",
    "plt.figure(figsize = (10, 10))\n",
    "\n",
    "sns.distplot(all_test_merge_unrelated[feature_name], kde=False,  bins=100, color=\"blue\",  label = 'Unrelated')\n",
    "sns.distplot(all_test_merge_discuss[feature_name], kde=False,  bins=100, color=\"yellow\",  label = 'Discuss')\n",
    "sns.distplot(all_test_merge_agree[feature_name], kde=False,  bins=100, color=\"pink\", label='Agree')\n",
    "sns.distplot(all_test_merge_disagree[feature_name], kde=False,  bins=100, color=\"red\", label = 'Disagree')\n",
    "\n",
    "plt.ylim(0,1500)\n",
    "# plt.title('The Distribution of the Pearson Correlation Coefficients for the Four Class')\n",
    "plt.xlabel(feature_name)\n",
    "plt.ylabel('Frequency')\n",
    "plt.legend()\n",
    "plt.show()"
   ]
  },
  {
   "cell_type": "code",
   "execution_count": 158,
   "metadata": {
    "collapsed": true
   },
   "outputs": [
    {
     "data": {
      "image/png": "[encoded data removed]",
      "text/plain": [
       "<matplotlib.figure.Figure at 0x11cd00ac8>"
      ]
     },
     "metadata": {},
     "output_type": "display_data"
    }
   ],
   "source": [
    "feature_name = 'spear_corr'\n",
    "# Plot the frequency distribution (Pearson Correlation Coefficient)\n",
    "plt.figure(figsize = (10, 10))\n",
    "\n",
    "sns.distplot(all_test_merge_unrelated[feature_name], kde=False,  bins=100, color=\"blue\",  label = 'Unrelated')\n",
    "sns.distplot(all_test_merge_discuss[feature_name], kde=False,  bins=100, color=\"yellow\",  label = 'Discuss')\n",
    "sns.distplot(all_test_merge_agree[feature_name], kde=False,  bins=100, color=\"pink\", label='Agree')\n",
    "sns.distplot(all_test_merge_disagree[feature_name], kde=False,  bins=100, color=\"red\", label = 'Disagree')\n",
    "\n",
    "plt.ylim(0,1500)\n",
    "# plt.title('The Distribution of the Pearson Correlation Coefficients for the Four Class')\n",
    "plt.xlabel(feature_name)\n",
    "plt.ylabel('Frequency')\n",
    "plt.legend()\n",
    "plt.show()"
   ]
  },
  {
   "cell_type": "code",
   "execution_count": 159,
   "metadata": {
    "collapsed": true
   },
   "outputs": [
    {
     "data": {
      "image/png": "[encoded data removed]",
      "text/plain": [
       "<matplotlib.figure.Figure at 0x121744860>"
      ]
     },
     "metadata": {},
     "output_type": "display_data"
    }
   ],
   "source": [
    "#bad feature\n",
    "feature_name = 'spear_corr_key'\n",
    "# Plot the frequency distribution (Pearson Correlation Coefficient)\n",
    "plt.figure(figsize = (10, 10))\n",
    "\n",
    "sns.distplot(all_test_merge_unrelated[feature_name], kde=False,  bins=100, color=\"blue\",  label = 'Unrelated')\n",
    "sns.distplot(all_test_merge_discuss[feature_name], kde=False,  bins=100, color=\"yellow\",  label = 'Discuss')\n",
    "sns.distplot(all_test_merge_agree[feature_name], kde=False,  bins=100, color=\"pink\", label='Agree')\n",
    "sns.distplot(all_test_merge_disagree[feature_name], kde=False,  bins=100, color=\"red\", label = 'Disagree')\n",
    "\n",
    "plt.ylim(0,1500)\n",
    "# plt.title('The Distribution of the Pearson Correlation Coefficients for the Four Class')\n",
    "plt.xlabel(feature_name)\n",
    "plt.ylabel('Frequency')\n",
    "plt.legend()\n",
    "plt.show()"
   ]
  },
  {
   "cell_type": "code",
   "execution_count": 160,
   "metadata": {
    "collapsed": true
   },
   "outputs": [
    {
     "data": {
      "image/png": "[encoded data removed]",
      "text/plain": [
       "<matplotlib.figure.Figure at 0x12237d7f0>"
      ]
     },
     "metadata": {},
     "output_type": "display_data"
    }
   ],
   "source": [
    "feature_name = 'spear_corr_w2v'\n",
    "# Plot the frequency distribution (Pearson Correlation Coefficient)\n",
    "plt.figure(figsize = (10, 10))\n",
    "\n",
    "sns.distplot(all_test_merge_unrelated[feature_name], kde=False,  bins=100, color=\"blue\",  label = 'Unrelated')\n",
    "sns.distplot(all_test_merge_discuss[feature_name], kde=False,  bins=100, color=\"yellow\",  label = 'Discuss')\n",
    "sns.distplot(all_test_merge_agree[feature_name], kde=False,  bins=100, color=\"pink\", label='Agree')\n",
    "sns.distplot(all_test_merge_disagree[feature_name], kde=False,  bins=100, color=\"red\", label = 'Disagree')\n",
    "\n",
    "plt.ylim(0,1500)\n",
    "# plt.title('The Distribution of the Pearson Correlation Coefficients for the Four Class')\n",
    "plt.xlabel(feature_name)\n",
    "plt.ylabel('Frequency')\n",
    "plt.legend()\n",
    "plt.show()"
   ]
  },
  {
   "cell_type": "code",
   "execution_count": 161,
   "metadata": {
    "collapsed": true
   },
   "outputs": [
    {
     "data": {
      "image/png": "[encoded data removed]",
      "text/plain": [
       "<matplotlib.figure.Figure at 0x12317c1d0>"
      ]
     },
     "metadata": {},
     "output_type": "display_data"
    }
   ],
   "source": [
    "feature_name = 'same_word'\n",
    "# Plot the frequency distribution (Pearson Correlation Coefficient)\n",
    "plt.figure(figsize = (10, 10))\n",
    "\n",
    "sns.distplot(all_test_merge_unrelated[feature_name], kde=False,  bins=100, color=\"blue\",  label = 'Unrelated')\n",
    "sns.distplot(all_test_merge_discuss[feature_name], kde=False,  bins=100, color=\"yellow\",  label = 'Discuss')\n",
    "sns.distplot(all_test_merge_agree[feature_name], kde=False,  bins=100, color=\"olive\", label='Agree')\n",
    "sns.distplot(all_test_merge_disagree[feature_name], kde=False,  bins=100, color=\"red\", label = 'Disagree')\n",
    "\n",
    "plt.ylim(0,1500)\n",
    "# plt.title('The Distribution of the Pearson Correlation Coefficients for the Four Class')\n",
    "plt.xlabel(feature_name)\n",
    "plt.ylabel('Frequency')\n",
    "plt.legend()\n",
    "plt.show()"
   ]
  },
  {
   "cell_type": "markdown",
   "metadata": {},
   "source": [
    "Insert one vs all label"
   ]
  },
  {
   "cell_type": "code",
   "execution_count": 162,
   "metadata": {},
   "outputs": [],
   "source": [
    "data = all_merge.copy()"
   ]
  },
  {
   "cell_type": "code",
   "execution_count": 163,
   "metadata": {
    "collapsed": true
   },
   "outputs": [
    {
     "data": {
      "text/html": [
       "<div>\n",
       "<style>\n",
       "    .dataframe thead tr:only-child th {\n",
       "        text-align: right;\n",
       "    }\n",
       "\n",
       "    .dataframe thead th {\n",
       "        text-align: left;\n",
       "    }\n",
       "\n",
       "    .dataframe tbody tr th {\n",
       "        vertical-align: top;\n",
       "    }\n",
       "</style>\n",
       "<table border=\"1\" class=\"dataframe\">\n",
       "  <thead>\n",
       "    <tr style=\"text-align: right;\">\n",
       "      <th></th>\n",
       "      <th>Headline</th>\n",
       "      <th>Body ID</th>\n",
       "      <th>Stance</th>\n",
       "      <th>articleBody</th>\n",
       "      <th>cos_sim</th>\n",
       "      <th>cos_sim_key</th>\n",
       "      <th>cos_sim_w2v</th>\n",
       "      <th>kl_head_uni</th>\n",
       "      <th>kl_head_bi</th>\n",
       "      <th>euc_dist</th>\n",
       "      <th>euc_dist_key</th>\n",
       "      <th>euc_dist_w2v</th>\n",
       "      <th>spear_corr</th>\n",
       "      <th>spear_corr_key</th>\n",
       "      <th>spear_corr_w2v</th>\n",
       "      <th>same_word</th>\n",
       "    </tr>\n",
       "  </thead>\n",
       "  <tbody>\n",
       "    <tr>\n",
       "      <th>0</th>\n",
       "      <td>[police, find, mass, graf, least, body, near, ...</td>\n",
       "      <td>712</td>\n",
       "      <td>unrelated</td>\n",
       "      <td>[danny, boyle, direct, untitled, film, seth, r...</td>\n",
       "      <td>0.000000</td>\n",
       "      <td>0.000000</td>\n",
       "      <td>-0.132897</td>\n",
       "      <td>12.274821</td>\n",
       "      <td>107.867233</td>\n",
       "      <td>1.110189</td>\n",
       "      <td>0.956684</td>\n",
       "      <td>1.505255</td>\n",
       "      <td>-0.001715</td>\n",
       "      <td>-0.005329</td>\n",
       "      <td>-0.148394</td>\n",
       "      <td>0.0</td>\n",
       "    </tr>\n",
       "    <tr>\n",
       "      <th>1</th>\n",
       "      <td>[hundreds, palestinians, flee, flood, gaza, is...</td>\n",
       "      <td>158</td>\n",
       "      <td>agree</td>\n",
       "      <td>[hundreds, palestinians, evacuate, home, sunda...</td>\n",
       "      <td>0.525937</td>\n",
       "      <td>0.658249</td>\n",
       "      <td>0.764779</td>\n",
       "      <td>3.443514</td>\n",
       "      <td>20.116824</td>\n",
       "      <td>1.508805</td>\n",
       "      <td>1.388314</td>\n",
       "      <td>0.685887</td>\n",
       "      <td>0.193569</td>\n",
       "      <td>0.368627</td>\n",
       "      <td>0.733944</td>\n",
       "      <td>7.0</td>\n",
       "    </tr>\n",
       "  </tbody>\n",
       "</table>\n",
       "</div>"
      ],
      "text/plain": [
       "                                            Headline  Body ID     Stance  \\\n",
       "0  [police, find, mass, graf, least, body, near, ...      712  unrelated   \n",
       "1  [hundreds, palestinians, flee, flood, gaza, is...      158      agree   \n",
       "\n",
       "                                         articleBody   cos_sim  cos_sim_key  \\\n",
       "0  [danny, boyle, direct, untitled, film, seth, r...  0.000000     0.000000   \n",
       "1  [hundreds, palestinians, evacuate, home, sunda...  0.525937     0.658249   \n",
       "\n",
       "   cos_sim_w2v  kl_head_uni  kl_head_bi  euc_dist  euc_dist_key  euc_dist_w2v  \\\n",
       "0    -0.132897    12.274821  107.867233  1.110189      0.956684      1.505255   \n",
       "1     0.764779     3.443514   20.116824  1.508805      1.388314      0.685887   \n",
       "\n",
       "   spear_corr  spear_corr_key  spear_corr_w2v  same_word  \n",
       "0   -0.001715       -0.005329       -0.148394        0.0  \n",
       "1    0.193569        0.368627        0.733944        7.0  "
      ]
     },
     "execution_count": 163,
     "metadata": {},
     "output_type": "execute_result"
    }
   ],
   "source": [
    "data[0:2]"
   ]
  },
  {
   "cell_type": "code",
   "execution_count": 164,
   "metadata": {},
   "outputs": [],
   "source": [
    "data['lin_unrelated'] = -1\n",
    "data['lin_agree'] = -1\n",
    "data['lin_disagree'] = -1\n",
    "data['lin_discuss'] = -1"
   ]
  },
  {
   "cell_type": "code",
   "execution_count": 165,
   "metadata": {},
   "outputs": [],
   "source": [
    "data['lr_unrelated'] = 0\n",
    "data['lr_agree'] = 0\n",
    "data['lr_disagree'] = 0\n",
    "data['lr_discuss'] = 0"
   ]
  },
  {
   "cell_type": "code",
   "execution_count": 166,
   "metadata": {
    "collapsed": true
   },
   "outputs": [
    {
     "name": "stderr",
     "output_type": "stream",
     "text": [
      "/Applications/anaconda3/lib/python3.6/site-packages/ipykernel_launcher.py:1: SettingWithCopyWarning: \n",
      "A value is trying to be set on a copy of a slice from a DataFrame\n",
      "\n",
      "See the caveats in the documentation: http://pandas.pydata.org/pandas-docs/stable/indexing.html#indexing-view-versus-copy\n",
      "  \"\"\"Entry point for launching an IPython kernel.\n",
      "/Applications/anaconda3/lib/python3.6/site-packages/ipykernel_launcher.py:2: SettingWithCopyWarning: \n",
      "A value is trying to be set on a copy of a slice from a DataFrame\n",
      "\n",
      "See the caveats in the documentation: http://pandas.pydata.org/pandas-docs/stable/indexing.html#indexing-view-versus-copy\n",
      "  \n",
      "/Applications/anaconda3/lib/python3.6/site-packages/ipykernel_launcher.py:3: SettingWithCopyWarning: \n",
      "A value is trying to be set on a copy of a slice from a DataFrame\n",
      "\n",
      "See the caveats in the documentation: http://pandas.pydata.org/pandas-docs/stable/indexing.html#indexing-view-versus-copy\n",
      "  This is separate from the ipykernel package so we can avoid doing imports until\n",
      "/Applications/anaconda3/lib/python3.6/site-packages/ipykernel_launcher.py:4: SettingWithCopyWarning: \n",
      "A value is trying to be set on a copy of a slice from a DataFrame\n",
      "\n",
      "See the caveats in the documentation: http://pandas.pydata.org/pandas-docs/stable/indexing.html#indexing-view-versus-copy\n",
      "  after removing the cwd from sys.path.\n",
      "/Applications/anaconda3/lib/python3.6/site-packages/ipykernel_launcher.py:6: SettingWithCopyWarning: \n",
      "A value is trying to be set on a copy of a slice from a DataFrame\n",
      "\n",
      "See the caveats in the documentation: http://pandas.pydata.org/pandas-docs/stable/indexing.html#indexing-view-versus-copy\n",
      "  \n",
      "/Applications/anaconda3/lib/python3.6/site-packages/ipykernel_launcher.py:7: SettingWithCopyWarning: \n",
      "A value is trying to be set on a copy of a slice from a DataFrame\n",
      "\n",
      "See the caveats in the documentation: http://pandas.pydata.org/pandas-docs/stable/indexing.html#indexing-view-versus-copy\n",
      "  import sys\n",
      "/Applications/anaconda3/lib/python3.6/site-packages/ipykernel_launcher.py:8: SettingWithCopyWarning: \n",
      "A value is trying to be set on a copy of a slice from a DataFrame\n",
      "\n",
      "See the caveats in the documentation: http://pandas.pydata.org/pandas-docs/stable/indexing.html#indexing-view-versus-copy\n",
      "  \n",
      "/Applications/anaconda3/lib/python3.6/site-packages/ipykernel_launcher.py:9: SettingWithCopyWarning: \n",
      "A value is trying to be set on a copy of a slice from a DataFrame\n",
      "\n",
      "See the caveats in the documentation: http://pandas.pydata.org/pandas-docs/stable/indexing.html#indexing-view-versus-copy\n",
      "  if __name__ == '__main__':\n"
     ]
    }
   ],
   "source": [
    "data['lin_unrelated'][data['Stance'] == 'unrelated'] = 1\n",
    "data['lin_agree'][data['Stance'] == 'agree'] = 1\n",
    "data['lin_disagree'][data['Stance'] == 'disagree'] = 1\n",
    "data['lin_discuss'][data['Stance'] == 'discuss'] = 1\n",
    "\n",
    "data['lr_unrelated'][data['Stance'] == 'unrelated'] = 1\n",
    "data['lr_agree'][data['Stance'] == 'agree'] = 1\n",
    "data['lr_disagree'][data['Stance'] == 'disagree'] = 1\n",
    "data['lr_discuss'][data['Stance'] == 'discuss'] = 1"
   ]
  },
  {
   "cell_type": "code",
   "execution_count": 167,
   "metadata": {},
   "outputs": [],
   "source": [
    "# data.to_csv('data.csv')"
   ]
  },
  {
   "cell_type": "code",
   "execution_count": 168,
   "metadata": {},
   "outputs": [],
   "source": [
    "# data = pd.read_csv('data.csv')"
   ]
  },
  {
   "cell_type": "code",
   "execution_count": 169,
   "metadata": {},
   "outputs": [],
   "source": [
    "test_data = all_test_merge.copy()"
   ]
  },
  {
   "cell_type": "code",
   "execution_count": 170,
   "metadata": {
    "collapsed": true
   },
   "outputs": [
    {
     "data": {
      "text/html": [
       "<div>\n",
       "<style>\n",
       "    .dataframe thead tr:only-child th {\n",
       "        text-align: right;\n",
       "    }\n",
       "\n",
       "    .dataframe thead th {\n",
       "        text-align: left;\n",
       "    }\n",
       "\n",
       "    .dataframe tbody tr th {\n",
       "        vertical-align: top;\n",
       "    }\n",
       "</style>\n",
       "<table border=\"1\" class=\"dataframe\">\n",
       "  <thead>\n",
       "    <tr style=\"text-align: right;\">\n",
       "      <th></th>\n",
       "      <th>Headline</th>\n",
       "      <th>Body ID</th>\n",
       "      <th>Stance</th>\n",
       "      <th>articleBody</th>\n",
       "      <th>cos_sim</th>\n",
       "      <th>cos_sim_key</th>\n",
       "      <th>cos_sim_w2v</th>\n",
       "      <th>kl_head_uni</th>\n",
       "      <th>kl_head_bi</th>\n",
       "      <th>euc_dist</th>\n",
       "      <th>euc_dist_key</th>\n",
       "      <th>euc_dist_w2v</th>\n",
       "      <th>spear_corr</th>\n",
       "      <th>spear_corr_key</th>\n",
       "      <th>spear_corr_w2v</th>\n",
       "      <th>same_word</th>\n",
       "    </tr>\n",
       "  </thead>\n",
       "  <tbody>\n",
       "    <tr>\n",
       "      <th>0</th>\n",
       "      <td>[ferguson, riot, pregnant, woman, lose, eye, c...</td>\n",
       "      <td>2008</td>\n",
       "      <td>unrelated</td>\n",
       "      <td>[respected, senior, french, police, officer, i...</td>\n",
       "      <td>0.008402</td>\n",
       "      <td>0.018119</td>\n",
       "      <td>0.019486</td>\n",
       "      <td>10.613435</td>\n",
       "      <td>102.068682</td>\n",
       "      <td>1.280021</td>\n",
       "      <td>0.887168</td>\n",
       "      <td>1.400367</td>\n",
       "      <td>0.023827</td>\n",
       "      <td>0.047571</td>\n",
       "      <td>0.005300</td>\n",
       "      <td>1.0</td>\n",
       "    </tr>\n",
       "    <tr>\n",
       "      <th>1</th>\n",
       "      <td>[crazy, conservatives, sure, gitmo, detainee, ...</td>\n",
       "      <td>1550</td>\n",
       "      <td>unrelated</td>\n",
       "      <td>[dave, morin, social, network, company, path, ...</td>\n",
       "      <td>0.000000</td>\n",
       "      <td>0.000000</td>\n",
       "      <td>-0.087034</td>\n",
       "      <td>11.869600</td>\n",
       "      <td>61.788162</td>\n",
       "      <td>1.617679</td>\n",
       "      <td>1.380690</td>\n",
       "      <td>1.474472</td>\n",
       "      <td>-0.001332</td>\n",
       "      <td>-0.003562</td>\n",
       "      <td>-0.105342</td>\n",
       "      <td>0.0</td>\n",
       "    </tr>\n",
       "  </tbody>\n",
       "</table>\n",
       "</div>"
      ],
      "text/plain": [
       "                                            Headline  Body ID     Stance  \\\n",
       "0  [ferguson, riot, pregnant, woman, lose, eye, c...     2008  unrelated   \n",
       "1  [crazy, conservatives, sure, gitmo, detainee, ...     1550  unrelated   \n",
       "\n",
       "                                         articleBody   cos_sim  cos_sim_key  \\\n",
       "0  [respected, senior, french, police, officer, i...  0.008402     0.018119   \n",
       "1  [dave, morin, social, network, company, path, ...  0.000000     0.000000   \n",
       "\n",
       "   cos_sim_w2v  kl_head_uni  kl_head_bi  euc_dist  euc_dist_key  euc_dist_w2v  \\\n",
       "0     0.019486    10.613435  102.068682  1.280021      0.887168      1.400367   \n",
       "1    -0.087034    11.869600   61.788162  1.617679      1.380690      1.474472   \n",
       "\n",
       "   spear_corr  spear_corr_key  spear_corr_w2v  same_word  \n",
       "0    0.023827        0.047571        0.005300        1.0  \n",
       "1   -0.001332       -0.003562       -0.105342        0.0  "
      ]
     },
     "execution_count": 170,
     "metadata": {},
     "output_type": "execute_result"
    }
   ],
   "source": [
    "test_data[0:2]"
   ]
  },
  {
   "cell_type": "code",
   "execution_count": 171,
   "metadata": {},
   "outputs": [],
   "source": [
    "test_data['lin_unrelated'] = -1\n",
    "test_data['lin_agree'] = -1\n",
    "test_data['lin_disagree'] = -1\n",
    "test_data['lin_discuss'] = -1"
   ]
  },
  {
   "cell_type": "code",
   "execution_count": 172,
   "metadata": {},
   "outputs": [],
   "source": [
    "test_data['lr_unrelated'] = 0\n",
    "test_data['lr_agree'] = 0\n",
    "test_data['lr_disagree'] = 0\n",
    "test_data['lr_discuss'] = 0"
   ]
  },
  {
   "cell_type": "code",
   "execution_count": 173,
   "metadata": {
    "collapsed": true
   },
   "outputs": [
    {
     "name": "stderr",
     "output_type": "stream",
     "text": [
      "/Applications/anaconda3/lib/python3.6/site-packages/ipykernel_launcher.py:1: SettingWithCopyWarning: \n",
      "A value is trying to be set on a copy of a slice from a DataFrame\n",
      "\n",
      "See the caveats in the documentation: http://pandas.pydata.org/pandas-docs/stable/indexing.html#indexing-view-versus-copy\n",
      "  \"\"\"Entry point for launching an IPython kernel.\n",
      "/Applications/anaconda3/lib/python3.6/site-packages/ipykernel_launcher.py:2: SettingWithCopyWarning: \n",
      "A value is trying to be set on a copy of a slice from a DataFrame\n",
      "\n",
      "See the caveats in the documentation: http://pandas.pydata.org/pandas-docs/stable/indexing.html#indexing-view-versus-copy\n",
      "  \n",
      "/Applications/anaconda3/lib/python3.6/site-packages/ipykernel_launcher.py:3: SettingWithCopyWarning: \n",
      "A value is trying to be set on a copy of a slice from a DataFrame\n",
      "\n",
      "See the caveats in the documentation: http://pandas.pydata.org/pandas-docs/stable/indexing.html#indexing-view-versus-copy\n",
      "  This is separate from the ipykernel package so we can avoid doing imports until\n",
      "/Applications/anaconda3/lib/python3.6/site-packages/ipykernel_launcher.py:4: SettingWithCopyWarning: \n",
      "A value is trying to be set on a copy of a slice from a DataFrame\n",
      "\n",
      "See the caveats in the documentation: http://pandas.pydata.org/pandas-docs/stable/indexing.html#indexing-view-versus-copy\n",
      "  after removing the cwd from sys.path.\n",
      "/Applications/anaconda3/lib/python3.6/site-packages/ipykernel_launcher.py:6: SettingWithCopyWarning: \n",
      "A value is trying to be set on a copy of a slice from a DataFrame\n",
      "\n",
      "See the caveats in the documentation: http://pandas.pydata.org/pandas-docs/stable/indexing.html#indexing-view-versus-copy\n",
      "  \n",
      "/Applications/anaconda3/lib/python3.6/site-packages/ipykernel_launcher.py:7: SettingWithCopyWarning: \n",
      "A value is trying to be set on a copy of a slice from a DataFrame\n",
      "\n",
      "See the caveats in the documentation: http://pandas.pydata.org/pandas-docs/stable/indexing.html#indexing-view-versus-copy\n",
      "  import sys\n",
      "/Applications/anaconda3/lib/python3.6/site-packages/ipykernel_launcher.py:8: SettingWithCopyWarning: \n",
      "A value is trying to be set on a copy of a slice from a DataFrame\n",
      "\n",
      "See the caveats in the documentation: http://pandas.pydata.org/pandas-docs/stable/indexing.html#indexing-view-versus-copy\n",
      "  \n",
      "/Applications/anaconda3/lib/python3.6/site-packages/ipykernel_launcher.py:9: SettingWithCopyWarning: \n",
      "A value is trying to be set on a copy of a slice from a DataFrame\n",
      "\n",
      "See the caveats in the documentation: http://pandas.pydata.org/pandas-docs/stable/indexing.html#indexing-view-versus-copy\n",
      "  if __name__ == '__main__':\n"
     ]
    }
   ],
   "source": [
    "test_data['lin_unrelated'][test_data['Stance'] == 'unrelated'] = 1\n",
    "test_data['lin_agree'][test_data['Stance'] == 'agree'] = 1\n",
    "test_data['lin_disagree'][test_data['Stance'] == 'disagree'] = 1\n",
    "test_data['lin_discuss'][test_data['Stance'] == 'discuss'] = 1\n",
    "\n",
    "test_data['lr_unrelated'][test_data['Stance'] == 'unrelated'] = 1\n",
    "test_data['lr_agree'][test_data['Stance'] == 'agree'] = 1\n",
    "test_data['lr_disagree'][test_data['Stance'] == 'disagree'] = 1\n",
    "test_data['lr_discuss'][test_data['Stance'] == 'discuss'] = 1"
   ]
  },
  {
   "cell_type": "code",
   "execution_count": 174,
   "metadata": {},
   "outputs": [],
   "source": [
    "# test_data.to_csv('test_data.csv')"
   ]
  },
  {
   "cell_type": "code",
   "execution_count": 175,
   "metadata": {},
   "outputs": [],
   "source": [
    "# test_data = pd.read_csv('test_data.csv')"
   ]
  },
  {
   "cell_type": "markdown",
   "metadata": {},
   "source": [
    "###  subtask 1. training set and validation subset split"
   ]
  },
  {
   "cell_type": "code",
   "execution_count": 176,
   "metadata": {
    "collapsed": true
   },
   "outputs": [],
   "source": [
    "#shuffle the data\n",
    "data = data.sample(frac=1)"
   ]
  },
  {
   "cell_type": "code",
   "execution_count": 177,
   "metadata": {
    "scrolled": true
   },
   "outputs": [
    {
     "data": {
      "text/html": [
       "<div>\n",
       "<style>\n",
       "    .dataframe thead tr:only-child th {\n",
       "        text-align: right;\n",
       "    }\n",
       "\n",
       "    .dataframe thead th {\n",
       "        text-align: left;\n",
       "    }\n",
       "\n",
       "    .dataframe tbody tr th {\n",
       "        vertical-align: top;\n",
       "    }\n",
       "</style>\n",
       "<table border=\"1\" class=\"dataframe\">\n",
       "  <thead>\n",
       "    <tr style=\"text-align: right;\">\n",
       "      <th></th>\n",
       "      <th>Headline</th>\n",
       "      <th>Body ID</th>\n",
       "      <th>Stance</th>\n",
       "      <th>articleBody</th>\n",
       "      <th>cos_sim</th>\n",
       "      <th>cos_sim_key</th>\n",
       "      <th>cos_sim_w2v</th>\n",
       "      <th>kl_head_uni</th>\n",
       "      <th>kl_head_bi</th>\n",
       "      <th>euc_dist</th>\n",
       "      <th>...</th>\n",
       "      <th>spear_corr_w2v</th>\n",
       "      <th>same_word</th>\n",
       "      <th>lin_unrelated</th>\n",
       "      <th>lin_agree</th>\n",
       "      <th>lin_disagree</th>\n",
       "      <th>lin_discuss</th>\n",
       "      <th>lr_unrelated</th>\n",
       "      <th>lr_agree</th>\n",
       "      <th>lr_disagree</th>\n",
       "      <th>lr_discuss</th>\n",
       "    </tr>\n",
       "  </thead>\n",
       "  <tbody>\n",
       "    <tr>\n",
       "      <th>48160</th>\n",
       "      <td>[jihadi, john, name, mohammed, emwazi, west, l...</td>\n",
       "      <td>1660</td>\n",
       "      <td>unrelated</td>\n",
       "      <td>[years, ago, job, china, evaluate, spoken, eng...</td>\n",
       "      <td>0.144693</td>\n",
       "      <td>0.18644</td>\n",
       "      <td>0.220222</td>\n",
       "      <td>10.093431</td>\n",
       "      <td>44.632611</td>\n",
       "      <td>1.303171</td>\n",
       "      <td>...</td>\n",
       "      <td>0.235311</td>\n",
       "      <td>1.0</td>\n",
       "      <td>1</td>\n",
       "      <td>-1</td>\n",
       "      <td>-1</td>\n",
       "      <td>-1</td>\n",
       "      <td>1</td>\n",
       "      <td>0</td>\n",
       "      <td>0</td>\n",
       "      <td>0</td>\n",
       "    </tr>\n",
       "    <tr>\n",
       "      <th>31884</th>\n",
       "      <td>[vladimir, putin, get, pooped, bird, first, wo...</td>\n",
       "      <td>1155</td>\n",
       "      <td>unrelated</td>\n",
       "      <td>[man, head, slap, people, carlisle, sneeze, cu...</td>\n",
       "      <td>0.000000</td>\n",
       "      <td>0.00000</td>\n",
       "      <td>-0.072145</td>\n",
       "      <td>11.736069</td>\n",
       "      <td>71.094222</td>\n",
       "      <td>1.509020</td>\n",
       "      <td>...</td>\n",
       "      <td>-0.099656</td>\n",
       "      <td>0.0</td>\n",
       "      <td>1</td>\n",
       "      <td>-1</td>\n",
       "      <td>-1</td>\n",
       "      <td>-1</td>\n",
       "      <td>1</td>\n",
       "      <td>0</td>\n",
       "      <td>0</td>\n",
       "      <td>0</td>\n",
       "    </tr>\n",
       "  </tbody>\n",
       "</table>\n",
       "<p>2 rows × 24 columns</p>\n",
       "</div>"
      ],
      "text/plain": [
       "                                                Headline  Body ID     Stance  \\\n",
       "48160  [jihadi, john, name, mohammed, emwazi, west, l...     1660  unrelated   \n",
       "31884  [vladimir, putin, get, pooped, bird, first, wo...     1155  unrelated   \n",
       "\n",
       "                                             articleBody   cos_sim  \\\n",
       "48160  [years, ago, job, china, evaluate, spoken, eng...  0.144693   \n",
       "31884  [man, head, slap, people, carlisle, sneeze, cu...  0.000000   \n",
       "\n",
       "       cos_sim_key  cos_sim_w2v  kl_head_uni  kl_head_bi  euc_dist  \\\n",
       "48160      0.18644     0.220222    10.093431   44.632611  1.303171   \n",
       "31884      0.00000    -0.072145    11.736069   71.094222  1.509020   \n",
       "\n",
       "          ...      spear_corr_w2v  same_word  lin_unrelated  lin_agree  \\\n",
       "48160     ...            0.235311        1.0              1         -1   \n",
       "31884     ...           -0.099656        0.0              1         -1   \n",
       "\n",
       "       lin_disagree  lin_discuss  lr_unrelated  lr_agree  lr_disagree  \\\n",
       "48160            -1           -1             1         0            0   \n",
       "31884            -1           -1             1         0            0   \n",
       "\n",
       "       lr_discuss  \n",
       "48160           0  \n",
       "31884           0  \n",
       "\n",
       "[2 rows x 24 columns]"
      ]
     },
     "execution_count": 177,
     "metadata": {},
     "output_type": "execute_result"
    }
   ],
   "source": [
    "data[0:2]"
   ]
  },
  {
   "cell_type": "code",
   "execution_count": 178,
   "metadata": {
    "scrolled": true
   },
   "outputs": [
    {
     "data": {
      "text/plain": [
       "(49972, 24)"
      ]
     },
     "execution_count": 178,
     "metadata": {},
     "output_type": "execute_result"
    }
   ],
   "source": [
    "data.shape"
   ]
  },
  {
   "cell_type": "code",
   "execution_count": 179,
   "metadata": {
    "collapsed": true
   },
   "outputs": [],
   "source": [
    "#split the training set and validation set\n",
    "cut = round(49972*0.9)\n",
    "train = data[0:cut]\n",
    "valid = data[cut:49972]"
   ]
  },
  {
   "cell_type": "code",
   "execution_count": 180,
   "metadata": {},
   "outputs": [
    {
     "data": {
      "text/plain": [
       "(44975, 24)"
      ]
     },
     "execution_count": 180,
     "metadata": {},
     "output_type": "execute_result"
    }
   ],
   "source": [
    "train.shape"
   ]
  },
  {
   "cell_type": "code",
   "execution_count": 181,
   "metadata": {
    "scrolled": false
   },
   "outputs": [
    {
     "data": {
      "text/plain": [
       "(4997, 24)"
      ]
     },
     "execution_count": 181,
     "metadata": {},
     "output_type": "execute_result"
    }
   ],
   "source": [
    "valid.shape"
   ]
  },
  {
   "cell_type": "markdown",
   "metadata": {
    "collapsed": true
   },
   "source": [
    "ratios of the four classes"
   ]
  },
  {
   "cell_type": "markdown",
   "metadata": {
    "collapsed": true
   },
   "source": [
    "ratios of the four classes in the whole set"
   ]
  },
  {
   "cell_type": "code",
   "execution_count": 182,
   "metadata": {},
   "outputs": [
    {
     "data": {
      "text/plain": [
       "0.07360121668134155"
      ]
     },
     "execution_count": 182,
     "metadata": {},
     "output_type": "execute_result"
    }
   ],
   "source": [
    "train_stances[train_stances['Stance'] == 'agree'].shape[0]/train_stances.shape[0]"
   ]
  },
  {
   "cell_type": "code",
   "execution_count": 183,
   "metadata": {},
   "outputs": [
    {
     "data": {
      "text/plain": [
       "0.016809413271432"
      ]
     },
     "execution_count": 183,
     "metadata": {},
     "output_type": "execute_result"
    }
   ],
   "source": [
    "train_stances[train_stances['Stance'] == 'disagree'].shape[0]/train_stances.shape[0]"
   ]
  },
  {
   "cell_type": "code",
   "execution_count": 184,
   "metadata": {},
   "outputs": [
    {
     "data": {
      "text/plain": [
       "0.1782798367085568"
      ]
     },
     "execution_count": 184,
     "metadata": {},
     "output_type": "execute_result"
    }
   ],
   "source": [
    "train_stances[train_stances['Stance'] == 'discuss'].shape[0]/train_stances.shape[0]"
   ]
  },
  {
   "cell_type": "code",
   "execution_count": 185,
   "metadata": {
    "scrolled": false
   },
   "outputs": [
    {
     "data": {
      "text/plain": [
       "0.7313095333386697"
      ]
     },
     "execution_count": 185,
     "metadata": {},
     "output_type": "execute_result"
    }
   ],
   "source": [
    "train_stances[train_stances['Stance'] == 'unrelated'].shape[0]/train_stances.shape[0]"
   ]
  },
  {
   "cell_type": "markdown",
   "metadata": {
    "collapsed": true
   },
   "source": [
    "ratios of the four classes in the training set"
   ]
  },
  {
   "cell_type": "code",
   "execution_count": 186,
   "metadata": {},
   "outputs": [
    {
     "data": {
      "text/plain": [
       "0.07321845469705392"
      ]
     },
     "execution_count": 186,
     "metadata": {},
     "output_type": "execute_result"
    }
   ],
   "source": [
    "train[train['Stance'] == 'agree'].shape[0]/train.shape[0]"
   ]
  },
  {
   "cell_type": "code",
   "execution_count": 187,
   "metadata": {},
   "outputs": [
    {
     "data": {
      "text/plain": [
       "0.01698721511951084"
      ]
     },
     "execution_count": 187,
     "metadata": {},
     "output_type": "execute_result"
    }
   ],
   "source": [
    "train[train['Stance'] == 'disagree'].shape[0]/train.shape[0]"
   ]
  },
  {
   "cell_type": "code",
   "execution_count": 188,
   "metadata": {},
   "outputs": [
    {
     "data": {
      "text/plain": [
       "0.17881045025013897"
      ]
     },
     "execution_count": 188,
     "metadata": {},
     "output_type": "execute_result"
    }
   ],
   "source": [
    "train[train['Stance'] == 'discuss'].shape[0]/train.shape[0]"
   ]
  },
  {
   "cell_type": "code",
   "execution_count": 189,
   "metadata": {
    "scrolled": true
   },
   "outputs": [
    {
     "data": {
      "text/plain": [
       "0.7309838799332963"
      ]
     },
     "execution_count": 189,
     "metadata": {},
     "output_type": "execute_result"
    }
   ],
   "source": [
    "train[train['Stance'] == 'unrelated'].shape[0]/train.shape[0]"
   ]
  },
  {
   "cell_type": "markdown",
   "metadata": {
    "collapsed": true
   },
   "source": [
    "ratios of the four classes in the validation set"
   ]
  },
  {
   "cell_type": "code",
   "execution_count": 190,
   "metadata": {},
   "outputs": [
    {
     "data": {
      "text/plain": [
       "0.07704622773664198"
      ]
     },
     "execution_count": 190,
     "metadata": {},
     "output_type": "execute_result"
    }
   ],
   "source": [
    "valid[valid['Stance'] == 'agree'].shape[0]/valid.shape[0]"
   ]
  },
  {
   "cell_type": "code",
   "execution_count": 191,
   "metadata": {},
   "outputs": [
    {
     "data": {
      "text/plain": [
       "0.015209125475285171"
      ]
     },
     "execution_count": 191,
     "metadata": {},
     "output_type": "execute_result"
    }
   ],
   "source": [
    "valid[valid['Stance'] == 'disagree'].shape[0]/valid.shape[0]"
   ]
  },
  {
   "cell_type": "code",
   "execution_count": 192,
   "metadata": {},
   "outputs": [
    {
     "data": {
      "text/plain": [
       "0.17350410246147688"
      ]
     },
     "execution_count": 192,
     "metadata": {},
     "output_type": "execute_result"
    }
   ],
   "source": [
    "valid[valid['Stance'] == 'discuss'].shape[0]/valid.shape[0]"
   ]
  },
  {
   "cell_type": "code",
   "execution_count": 193,
   "metadata": {
    "scrolled": false
   },
   "outputs": [
    {
     "data": {
      "text/plain": [
       "0.7342405443265959"
      ]
     },
     "execution_count": 193,
     "metadata": {},
     "output_type": "execute_result"
    }
   ],
   "source": [
    "valid[valid['Stance'] == 'unrelated'].shape[0]/valid.shape[0]"
   ]
  },
  {
   "cell_type": "markdown",
   "metadata": {},
   "source": [
    "###  subtask 6-10. model implementation, evaluation and improvement (Linear, LR, XGBoost)"
   ]
  },
  {
   "cell_type": "code",
   "execution_count": 194,
   "metadata": {
    "collapsed": true
   },
   "outputs": [],
   "source": [
    "def downsampling(df, model_name, r = 0.1):\n",
    "    df1 = df[df[model_name]>0]\n",
    "    df0 = df[df[model_name] <= 0]\n",
    "    dfs = df0.sample(frac=r)\n",
    "    sample = pd.concat([df1, dfs],axis=0)\n",
    "    return sample"
   ]
  },
  {
   "cell_type": "code",
   "execution_count": 195,
   "metadata": {
    "collapsed": true
   },
   "outputs": [],
   "source": [
    "def onevsall(y_pred):\n",
    "    result = []\n",
    "    _,m = y_pred.shape\n",
    "    y_pred_class = (y_pred == np.max(y_pred, axis = 0))\n",
    "    for i in range(m):\n",
    "        label = ''\n",
    "        if y_pred_class[0,i]:\n",
    "            label = 'unrelated'\n",
    "        elif y_pred_class[1,i]:\n",
    "            label = 'agree'\n",
    "        elif y_pred_class[2,i]:\n",
    "            label = 'disagree'\n",
    "        elif y_pred_class[3,i]:\n",
    "            label = 'discuss'\n",
    "        result.append(label)\n",
    "        \n",
    "    assert len(result) == m\n",
    "    return result"
   ]
  },
  {
   "cell_type": "code",
   "execution_count": 196,
   "metadata": {
    "collapsed": true
   },
   "outputs": [],
   "source": [
    "def onevsall_new(y_pred,t=[0,0,0,0]):\n",
    "    result = []\n",
    "    _,m = y_pred.shape #(4,m)\n",
    "    for i in range(m):\n",
    "        is_unrelated = False\n",
    "        is_agree = False\n",
    "        is_disagree = False\n",
    "        is_discuss = False\n",
    "        if y_pred[0,i] > t[0]:\n",
    "            is_unrelated = True\n",
    "        if y_pred[1,i] > t[1]:\n",
    "            is_agree = True\n",
    "        if y_pred[2,i] > t[2]:\n",
    "            is_disagree = True\n",
    "        if y_pred[3,i] > t[3]:\n",
    "            is_discuss = True\n",
    "        \n",
    "        if is_disagree:\n",
    "            label = 'disagree'\n",
    "        elif is_agree:\n",
    "            label = 'agree'\n",
    "        elif is_discuss:\n",
    "            label = 'discuss'\n",
    "        elif is_unrelated:\n",
    "            label = 'unrelated'\n",
    "        \n",
    "        result.append(label)\n",
    "        \n",
    "    assert len(result) == m\n",
    "    return result"
   ]
  },
  {
   "cell_type": "code",
   "execution_count": 197,
   "metadata": {
    "scrolled": true
   },
   "outputs": [
    {
     "data": {
      "text/html": [
       "<div>\n",
       "<style>\n",
       "    .dataframe thead tr:only-child th {\n",
       "        text-align: right;\n",
       "    }\n",
       "\n",
       "    .dataframe thead th {\n",
       "        text-align: left;\n",
       "    }\n",
       "\n",
       "    .dataframe tbody tr th {\n",
       "        vertical-align: top;\n",
       "    }\n",
       "</style>\n",
       "<table border=\"1\" class=\"dataframe\">\n",
       "  <thead>\n",
       "    <tr style=\"text-align: right;\">\n",
       "      <th></th>\n",
       "      <th>Headline</th>\n",
       "      <th>Body ID</th>\n",
       "      <th>Stance</th>\n",
       "      <th>articleBody</th>\n",
       "      <th>cos_sim</th>\n",
       "      <th>cos_sim_key</th>\n",
       "      <th>cos_sim_w2v</th>\n",
       "      <th>kl_head_uni</th>\n",
       "      <th>kl_head_bi</th>\n",
       "      <th>euc_dist</th>\n",
       "      <th>...</th>\n",
       "      <th>spear_corr_w2v</th>\n",
       "      <th>same_word</th>\n",
       "      <th>lin_unrelated</th>\n",
       "      <th>lin_agree</th>\n",
       "      <th>lin_disagree</th>\n",
       "      <th>lin_discuss</th>\n",
       "      <th>lr_unrelated</th>\n",
       "      <th>lr_agree</th>\n",
       "      <th>lr_disagree</th>\n",
       "      <th>lr_discuss</th>\n",
       "    </tr>\n",
       "  </thead>\n",
       "  <tbody>\n",
       "    <tr>\n",
       "      <th>48160</th>\n",
       "      <td>[jihadi, john, name, mohammed, emwazi, west, l...</td>\n",
       "      <td>1660</td>\n",
       "      <td>unrelated</td>\n",
       "      <td>[years, ago, job, china, evaluate, spoken, eng...</td>\n",
       "      <td>0.144693</td>\n",
       "      <td>0.18644</td>\n",
       "      <td>0.220222</td>\n",
       "      <td>10.093431</td>\n",
       "      <td>44.632611</td>\n",
       "      <td>1.303171</td>\n",
       "      <td>...</td>\n",
       "      <td>0.235311</td>\n",
       "      <td>1.0</td>\n",
       "      <td>1</td>\n",
       "      <td>-1</td>\n",
       "      <td>-1</td>\n",
       "      <td>-1</td>\n",
       "      <td>1</td>\n",
       "      <td>0</td>\n",
       "      <td>0</td>\n",
       "      <td>0</td>\n",
       "    </tr>\n",
       "    <tr>\n",
       "      <th>31884</th>\n",
       "      <td>[vladimir, putin, get, pooped, bird, first, wo...</td>\n",
       "      <td>1155</td>\n",
       "      <td>unrelated</td>\n",
       "      <td>[man, head, slap, people, carlisle, sneeze, cu...</td>\n",
       "      <td>0.000000</td>\n",
       "      <td>0.00000</td>\n",
       "      <td>-0.072145</td>\n",
       "      <td>11.736069</td>\n",
       "      <td>71.094222</td>\n",
       "      <td>1.509020</td>\n",
       "      <td>...</td>\n",
       "      <td>-0.099656</td>\n",
       "      <td>0.0</td>\n",
       "      <td>1</td>\n",
       "      <td>-1</td>\n",
       "      <td>-1</td>\n",
       "      <td>-1</td>\n",
       "      <td>1</td>\n",
       "      <td>0</td>\n",
       "      <td>0</td>\n",
       "      <td>0</td>\n",
       "    </tr>\n",
       "  </tbody>\n",
       "</table>\n",
       "<p>2 rows × 24 columns</p>\n",
       "</div>"
      ],
      "text/plain": [
       "                                                Headline  Body ID     Stance  \\\n",
       "48160  [jihadi, john, name, mohammed, emwazi, west, l...     1660  unrelated   \n",
       "31884  [vladimir, putin, get, pooped, bird, first, wo...     1155  unrelated   \n",
       "\n",
       "                                             articleBody   cos_sim  \\\n",
       "48160  [years, ago, job, china, evaluate, spoken, eng...  0.144693   \n",
       "31884  [man, head, slap, people, carlisle, sneeze, cu...  0.000000   \n",
       "\n",
       "       cos_sim_key  cos_sim_w2v  kl_head_uni  kl_head_bi  euc_dist  \\\n",
       "48160      0.18644     0.220222    10.093431   44.632611  1.303171   \n",
       "31884      0.00000    -0.072145    11.736069   71.094222  1.509020   \n",
       "\n",
       "          ...      spear_corr_w2v  same_word  lin_unrelated  lin_agree  \\\n",
       "48160     ...            0.235311        1.0              1         -1   \n",
       "31884     ...           -0.099656        0.0              1         -1   \n",
       "\n",
       "       lin_disagree  lin_discuss  lr_unrelated  lr_agree  lr_disagree  \\\n",
       "48160            -1           -1             1         0            0   \n",
       "31884            -1           -1             1         0            0   \n",
       "\n",
       "       lr_discuss  \n",
       "48160           0  \n",
       "31884           0  \n",
       "\n",
       "[2 rows x 24 columns]"
      ]
     },
     "execution_count": 197,
     "metadata": {},
     "output_type": "execute_result"
    }
   ],
   "source": [
    "train[0:2]"
   ]
  },
  {
   "cell_type": "markdown",
   "metadata": {},
   "source": [
    "prepare X"
   ]
  },
  {
   "cell_type": "code",
   "execution_count": 198,
   "metadata": {},
   "outputs": [
    {
     "data": {
      "text/plain": [
       "['Headline',\n",
       " 'Body ID',\n",
       " 'Stance',\n",
       " 'articleBody',\n",
       " 'cos_sim',\n",
       " 'cos_sim_key',\n",
       " 'cos_sim_w2v',\n",
       " 'kl_head_uni',\n",
       " 'kl_head_bi',\n",
       " 'euc_dist',\n",
       " 'euc_dist_key',\n",
       " 'euc_dist_w2v',\n",
       " 'spear_corr',\n",
       " 'spear_corr_key',\n",
       " 'spear_corr_w2v',\n",
       " 'same_word',\n",
       " 'lin_unrelated',\n",
       " 'lin_agree',\n",
       " 'lin_disagree',\n",
       " 'lin_discuss',\n",
       " 'lr_unrelated',\n",
       " 'lr_agree',\n",
       " 'lr_disagree',\n",
       " 'lr_discuss']"
      ]
     },
     "execution_count": 198,
     "metadata": {},
     "output_type": "execute_result"
    }
   ],
   "source": [
    "list(train.columns)"
   ]
  },
  {
   "cell_type": "code",
   "execution_count": 199,
   "metadata": {
    "collapsed": true
   },
   "outputs": [],
   "source": [
    "col = list(train.columns)[4:16]"
   ]
  },
  {
   "cell_type": "code",
   "execution_count": 200,
   "metadata": {
    "scrolled": false
   },
   "outputs": [
    {
     "data": {
      "text/plain": [
       "['cos_sim',\n",
       " 'cos_sim_key',\n",
       " 'cos_sim_w2v',\n",
       " 'kl_head_uni',\n",
       " 'kl_head_bi',\n",
       " 'euc_dist',\n",
       " 'euc_dist_key',\n",
       " 'euc_dist_w2v',\n",
       " 'spear_corr',\n",
       " 'spear_corr_key',\n",
       " 'spear_corr_w2v',\n",
       " 'same_word']"
      ]
     },
     "execution_count": 200,
     "metadata": {},
     "output_type": "execute_result"
    }
   ],
   "source": [
    "col"
   ]
  },
  {
   "cell_type": "code",
   "execution_count": 373,
   "metadata": {
    "collapsed": true
   },
   "outputs": [],
   "source": [
    "# xcols = ['cos_sim_key','cos_sim_w2v','kl_head_uni','euc_dist_w2v','spear_corr_w2v']\n",
    "xcols = col"
   ]
  },
  {
   "cell_type": "code",
   "execution_count": 374,
   "metadata": {
    "collapsed": true
   },
   "outputs": [],
   "source": [
    "train_X = train[xcols].as_matrix()\n",
    "valid_X = valid[xcols].as_matrix()\n",
    "test_X = test_data[xcols].as_matrix()\n",
    "\n",
    "train_X = md.preprocess_X(train_X)\n",
    "valid_X = md.preprocess_X(valid_X)\n",
    "test_X = md.preprocess_X(test_X)"
   ]
  },
  {
   "cell_type": "code",
   "execution_count": 375,
   "metadata": {
    "collapsed": true
   },
   "outputs": [],
   "source": [
    "m,n = train_X.shape\n",
    "learning_rate = 0.1\n",
    "iters = 500\n",
    "ini_theta = np.zeros([n,1])"
   ]
  },
  {
   "cell_type": "markdown",
   "metadata": {},
   "source": [
    "linear models"
   ]
  },
  {
   "cell_type": "code",
   "execution_count": 376,
   "metadata": {
    "collapsed": true
   },
   "outputs": [],
   "source": [
    "theta_lin = []\n",
    "cost_lin = []\n",
    "model_names_lin = ['lin_unrelated','lin_agree','lin_disagree','lin_discuss']\n",
    "#restore prediction on validation\n",
    "y_pred_lin = np.zeros([4,len(valid_X)]) "
   ]
  },
  {
   "cell_type": "code",
   "execution_count": 377,
   "metadata": {
    "scrolled": true
   },
   "outputs": [
    {
     "name": "stdout",
     "output_type": "stream",
     "text": [
      "lin_unrelated\n"
     ]
    }
   ],
   "source": [
    "#build 4 models\n",
    "#unrelated\n",
    "i = 0\n",
    "model_name = model_names_lin[i]\n",
    "print(model_name)\n",
    "X = train_X\n",
    "y = train[model_name].values.reshape([len(X),1])\n",
    "#training...\n",
    "theta, cost = md.gradient_linear(X, y, ini_theta, learning_rate, iters)\n",
    "# print(theta)\n",
    "theta_lin.append(theta)\n",
    "cost_lin.append(cost)\n",
    "y_pred_lin[i] = (valid_X@theta).reshape(len(valid_X))\n",
    "valid_y = valid[model_name].values.reshape([len(valid),1])"
   ]
  },
  {
   "cell_type": "code",
   "execution_count": 378,
   "metadata": {},
   "outputs": [
    {
     "name": "stdout",
     "output_type": "stream",
     "text": [
      "[[1301   27]\n",
      " [  87 3582]]\n",
      "Accuracy: 0.9771863117870723\n",
      "Recall: 0.9762878168438267\n",
      "Precision: 0.9925187032418953\n",
      "F1 score: 0.9843363561417973\n",
      "AUC: 0.977978245771311\n"
     ]
    }
   ],
   "source": [
    "threshold = 0.2\n",
    "y_pred_class = y_pred_lin[i] > threshold\n",
    "valid_y_class = valid_y > 0\n",
    "md.evaluate(valid_y_class, y_pred_class)"
   ]
  },
  {
   "cell_type": "code",
   "execution_count": 379,
   "metadata": {
    "scrolled": true
   },
   "outputs": [
    {
     "name": "stdout",
     "output_type": "stream",
     "text": [
      "AUC: 0.9952670452866248\n"
     ]
    },
    {
     "data": {
      "image/png": "[encoded data removed]",
      "text/plain": [
       "<matplotlib.figure.Figure at 0x12210cb38>"
      ]
     },
     "metadata": {},
     "output_type": "display_data"
    }
   ],
   "source": [
    "md.roc(valid_y, y_pred_lin[i])"
   ]
  },
  {
   "cell_type": "code",
   "execution_count": 380,
   "metadata": {},
   "outputs": [
    {
     "name": "stdout",
     "output_type": "stream",
     "text": [
      "lin_agree\n"
     ]
    }
   ],
   "source": [
    "#agree\n",
    "i = 1\n",
    "model_name = model_names_lin[i]\n",
    "print(model_name)\n",
    "#downsampling\n",
    "# sample = downsampling(train, model_name, r = 1)\n",
    "sample = downsampling(train, model_name, r = 0.3)\n",
    "X = sample[xcols].as_matrix()\n",
    "X = md.preprocess_X(X)\n",
    "y = sample[model_name].values.reshape([len(X),1])\n",
    "#training...\n",
    "theta, cost = md.gradient_linear(X, y, ini_theta, learning_rate, iters)\n",
    "# print(theta)\n",
    "theta_lin.append(theta)\n",
    "cost_lin.append(cost)\n",
    "y_pred_lin[i] = (valid_X@theta).reshape(len(valid_X))\n",
    "valid_y = valid[model_name].values.reshape([len(valid),1])"
   ]
  },
  {
   "cell_type": "code",
   "execution_count": 381,
   "metadata": {},
   "outputs": [
    {
     "name": "stdout",
     "output_type": "stream",
     "text": [
      "[[3945  667]\n",
      " [  92  293]]\n",
      "Accuracy: 0.8481088653191915\n",
      "Recall: 0.7610389610389611\n",
      "Precision: 0.30520833333333336\n",
      "F1 score: 0.4356877323420074\n",
      "AUC: 0.8082081188542592\n"
     ]
    }
   ],
   "source": [
    "threshold = 0\n",
    "y_pred_class = y_pred_lin[i] > threshold\n",
    "valid_y_class = valid_y > 0\n",
    "md.evaluate(valid_y_class, y_pred_class)"
   ]
  },
  {
   "cell_type": "code",
   "execution_count": 382,
   "metadata": {
    "scrolled": false
   },
   "outputs": [
    {
     "name": "stdout",
     "output_type": "stream",
     "text": [
      "AUC: 0.8981995021457294\n"
     ]
    },
    {
     "data": {
      "image/png": "[encoded data removed]",
      "text/plain": [
       "<matplotlib.figure.Figure at 0x122770a20>"
      ]
     },
     "metadata": {},
     "output_type": "display_data"
    }
   ],
   "source": [
    "md.roc(valid_y, y_pred_lin[i])"
   ]
  },
  {
   "cell_type": "code",
   "execution_count": 383,
   "metadata": {},
   "outputs": [
    {
     "name": "stdout",
     "output_type": "stream",
     "text": [
      "lin_disagree\n"
     ]
    }
   ],
   "source": [
    "#disagree\n",
    "i = 2\n",
    "model_name = model_names_lin[i]\n",
    "print(model_name)\n",
    "#downsampling\n",
    "# sample = downsampling(train, model_name, r = 1)\n",
    "sample = downsampling(train, model_name, r = 0.05)\n",
    "X = sample[xcols].as_matrix()\n",
    "X = md.preprocess_X(X)\n",
    "y = sample[model_name].values.reshape([len(X),1])\n",
    "#training...\n",
    "theta, cost = md.gradient_linear(X, y, ini_theta, learning_rate, iters)\n",
    "# print(theta)\n",
    "theta_lin.append(theta)\n",
    "cost_lin.append(cost)\n",
    "y_pred_lin[i] = (valid_X@theta).reshape(len(valid_X))"
   ]
  },
  {
   "cell_type": "code",
   "execution_count": 384,
   "metadata": {},
   "outputs": [
    {
     "name": "stdout",
     "output_type": "stream",
     "text": [
      "[[3618  994]\n",
      " [  15  370]]\n",
      "Accuracy: 0.7980788473083851\n",
      "Recall: 0.961038961038961\n",
      "Precision: 0.27126099706744866\n",
      "F1 score: 0.4230989136649514\n",
      "AUC: 0.8727571214561675\n"
     ]
    }
   ],
   "source": [
    "threshold = -0.3\n",
    "y_pred_class = y_pred_lin[i] > threshold\n",
    "valid_y_class = valid_y > 0\n",
    "md.evaluate(valid_y_class, y_pred_class)"
   ]
  },
  {
   "cell_type": "code",
   "execution_count": 385,
   "metadata": {
    "scrolled": false
   },
   "outputs": [
    {
     "name": "stdout",
     "output_type": "stream",
     "text": [
      "AUC: 0.8970263907818115\n"
     ]
    },
    {
     "data": {
      "image/png": "[encoded data removed]",
      "text/plain": [
       "<matplotlib.figure.Figure at 0x122173d68>"
      ]
     },
     "metadata": {},
     "output_type": "display_data"
    }
   ],
   "source": [
    "md.roc(valid_y, y_pred_lin[i])"
   ]
  },
  {
   "cell_type": "code",
   "execution_count": 386,
   "metadata": {},
   "outputs": [
    {
     "name": "stdout",
     "output_type": "stream",
     "text": [
      "lin_discuss\n"
     ]
    }
   ],
   "source": [
    "#discuss\n",
    "i = 3\n",
    "model_name = model_names_lin[i]\n",
    "print(model_name)\n",
    "X = train_X\n",
    "y = train[model_name].values.reshape([len(X),1])\n",
    "#training...\n",
    "theta, cost = md.gradient_linear(X, y, ini_theta, learning_rate, iters)\n",
    "# print(theta)\n",
    "theta_lin.append(theta)\n",
    "cost_lin.append(cost)\n",
    "y_pred_lin[i] = (valid_X@theta).reshape(len(valid_X))"
   ]
  },
  {
   "cell_type": "code",
   "execution_count": 387,
   "metadata": {},
   "outputs": [
    {
     "name": "stdout",
     "output_type": "stream",
     "text": [
      "[[3750  862]\n",
      " [  49  336]]\n",
      "Accuracy: 0.8176906143686212\n",
      "Recall: 0.8727272727272727\n",
      "Precision: 0.28046744574290483\n",
      "F1 score: 0.42451042324699934\n",
      "AUC: 0.8429117716628557\n"
     ]
    }
   ],
   "source": [
    "threshold = -0.1\n",
    "y_pred_class = y_pred_lin[i] > threshold\n",
    "valid_y_class = valid_y > 0\n",
    "md.evaluate(valid_y_class, y_pred_class)"
   ]
  },
  {
   "cell_type": "code",
   "execution_count": 388,
   "metadata": {
    "scrolled": true
   },
   "outputs": [
    {
     "name": "stdout",
     "output_type": "stream",
     "text": [
      "AUC: 0.8882058098016468\n"
     ]
    },
    {
     "data": {
      "image/png": "[encoded data removed]",
      "text/plain": [
       "<matplotlib.figure.Figure at 0x106b44828>"
      ]
     },
     "metadata": {},
     "output_type": "display_data"
    }
   ],
   "source": [
    "md.roc(valid_y, y_pred_lin[i])"
   ]
  },
  {
   "cell_type": "code",
   "execution_count": 389,
   "metadata": {},
   "outputs": [
    {
     "data": {
      "image/png": "[encoded data removed]",
      "text/plain": [
       "<matplotlib.figure.Figure at 0x11ce87dd8>"
      ]
     },
     "metadata": {},
     "output_type": "display_data"
    }
   ],
   "source": [
    "plt.figure(figsize = (15, 5))\n",
    "plt.scatter(range(len(theta_lin[0])-1),np.abs(theta_lin[0][1:]), color = 'blue', label = 'unrelated')\n",
    "plt.scatter(range(len(theta_lin[1])-1),np.abs(theta_lin[1][1:]), color = 'pink', label = 'agree')\n",
    "plt.scatter(range(len(theta_lin[1])-1),np.abs(theta_lin[2][1:]), color = 'yellow', label = 'disagree')\n",
    "plt.scatter(range(len(theta_lin[1])-1),np.abs(theta_lin[3][1:]), color = 'orange', label = 'discuss')\n",
    "plt.xlabel('Features')\n",
    "plt.ylabel('Theta Values of Linear Models')\n",
    "plt.legend()\n",
    "plt.show()"
   ]
  },
  {
   "cell_type": "code",
   "execution_count": 390,
   "metadata": {
    "collapsed": true
   },
   "outputs": [],
   "source": [
    "t = [0.2, 0, -0.3, -0.1]"
   ]
  },
  {
   "cell_type": "code",
   "execution_count": 391,
   "metadata": {
    "collapsed": true
   },
   "outputs": [],
   "source": [
    "valid_pred_lin = onevsall(y_pred_lin)"
   ]
  },
  {
   "cell_type": "code",
   "execution_count": 392,
   "metadata": {
    "scrolled": false
   },
   "outputs": [
    {
     "data": {
      "text/plain": [
       "0.8515109065439264"
      ]
     },
     "execution_count": 392,
     "metadata": {},
     "output_type": "execute_result"
    }
   ],
   "source": [
    "sum(valid_pred_lin == valid['Stance'])/ 4997"
   ]
  },
  {
   "cell_type": "code",
   "execution_count": 393,
   "metadata": {
    "scrolled": false
   },
   "outputs": [
    {
     "name": "stdout",
     "output_type": "stream",
     "text": [
      "             precision    recall  f1-score   support\n",
      "\n",
      "      agree       0.60      0.01      0.02       385\n",
      "   disagree       0.07      0.39      0.12        76\n",
      "    discuss       0.69      0.68      0.68       867\n",
      "  unrelated       0.98      0.99      0.98      3669\n",
      "\n",
      "avg / total       0.89      0.85      0.84      4997\n",
      "\n"
     ]
    }
   ],
   "source": [
    "from sklearn.metrics import classification_report,confusion_matrix\n",
    "y_true = valid['Stance']\n",
    "y_pred = valid_pred_lin\n",
    "print(classification_report(y_true, y_pred))"
   ]
  },
  {
   "cell_type": "code",
   "execution_count": 321,
   "metadata": {
    "collapsed": true
   },
   "outputs": [],
   "source": [
    "valid_pred_lin = onevsall_new(y_pred_lin,t)"
   ]
  },
  {
   "cell_type": "code",
   "execution_count": 322,
   "metadata": {
    "scrolled": true
   },
   "outputs": [
    {
     "data": {
      "text/plain": [
       "0.8841304782869722"
      ]
     },
     "execution_count": 322,
     "metadata": {},
     "output_type": "execute_result"
    }
   ],
   "source": [
    "sum(valid_pred_lin == valid['Stance'])/ 4997"
   ]
  },
  {
   "cell_type": "code",
   "execution_count": 323,
   "metadata": {
    "scrolled": false
   },
   "outputs": [
    {
     "name": "stdout",
     "output_type": "stream",
     "text": [
      "             precision    recall  f1-score   support\n",
      "\n",
      "      agree       0.67      0.01      0.01       385\n",
      "   disagree       0.00      0.00      0.00        76\n",
      "    discuss       0.64      0.90      0.75       867\n",
      "  unrelated       0.97      0.99      0.98      3669\n",
      "\n",
      "avg / total       0.87      0.88      0.85      4997\n",
      "\n"
     ]
    },
    {
     "name": "stderr",
     "output_type": "stream",
     "text": [
      "/Applications/anaconda3/lib/python3.6/site-packages/sklearn/metrics/classification.py:1135: UndefinedMetricWarning: Precision and F-score are ill-defined and being set to 0.0 in labels with no predicted samples.\n",
      "  'precision', 'predicted', average, warn_for)\n"
     ]
    }
   ],
   "source": [
    "from sklearn.metrics import classification_report,confusion_matrix\n",
    "y_true = valid['Stance']\n",
    "y_pred = valid_pred_lin\n",
    "print(classification_report(y_true, y_pred))"
   ]
  },
  {
   "cell_type": "code",
   "execution_count": 324,
   "metadata": {
    "scrolled": true
   },
   "outputs": [
    {
     "data": {
      "text/plain": [
       "array([[   2,    0,  343,   40],\n",
       "       [   0,    0,   70,    6],\n",
       "       [   1,    0,  784,   82],\n",
       "       [   0,    0,   37, 3632]])"
      ]
     },
     "execution_count": 324,
     "metadata": {},
     "output_type": "execute_result"
    }
   ],
   "source": [
    "confusion_matrix(y_true, y_pred, sample_weight=None)"
   ]
  },
  {
   "cell_type": "markdown",
   "metadata": {},
   "source": [
    "result on test set"
   ]
  },
  {
   "cell_type": "code",
   "execution_count": 394,
   "metadata": {
    "collapsed": true
   },
   "outputs": [],
   "source": [
    "#restore test results\n",
    "ts_pred_lin = np.zeros([4,len(test_X)]) "
   ]
  },
  {
   "cell_type": "code",
   "execution_count": 395,
   "metadata": {
    "collapsed": true
   },
   "outputs": [],
   "source": [
    "for i in range(4):\n",
    "    theta = theta_lin[i]\n",
    "    ts_pred_lin[i] = (test_X@theta).reshape(len(test_X))"
   ]
  },
  {
   "cell_type": "code",
   "execution_count": 396,
   "metadata": {
    "collapsed": true
   },
   "outputs": [],
   "source": [
    "test_pred_lin = onevsall(ts_pred_lin)"
   ]
  },
  {
   "cell_type": "code",
   "execution_count": 397,
   "metadata": {
    "scrolled": true
   },
   "outputs": [
    {
     "data": {
      "text/plain": [
       "0.7892810766143312"
      ]
     },
     "execution_count": 397,
     "metadata": {},
     "output_type": "execute_result"
    }
   ],
   "source": [
    "sum(test_pred_lin == test_data['Stance'])/ len(test_data)"
   ]
  },
  {
   "cell_type": "code",
   "execution_count": 398,
   "metadata": {
    "scrolled": false
   },
   "outputs": [
    {
     "name": "stdout",
     "output_type": "stream",
     "text": [
      "             precision    recall  f1-score   support\n",
      "\n",
      "      agree       0.31      0.03      0.06      1903\n",
      "   disagree       0.09      0.31      0.14       697\n",
      "    discuss       0.71      0.38      0.50      4464\n",
      "  unrelated       0.89      0.99      0.93     18349\n",
      "\n",
      "avg / total       0.79      0.79      0.77     25413\n",
      "\n"
     ]
    }
   ],
   "source": [
    "from sklearn.metrics import classification_report,confusion_matrix\n",
    "y_true = test_data['Stance']\n",
    "y_pred = test_pred_lin\n",
    "print(classification_report(y_true, y_pred))"
   ]
  },
  {
   "cell_type": "code",
   "execution_count": 330,
   "metadata": {
    "collapsed": true
   },
   "outputs": [],
   "source": [
    "test_pred_lin = onevsall_new(ts_pred_lin,t)"
   ]
  },
  {
   "cell_type": "code",
   "execution_count": 331,
   "metadata": {
    "scrolled": true
   },
   "outputs": [
    {
     "data": {
      "text/plain": [
       "0.8236729233069688"
      ]
     },
     "execution_count": 331,
     "metadata": {},
     "output_type": "execute_result"
    }
   ],
   "source": [
    "sum(test_pred_lin == test_data['Stance'])/ len(test_data)"
   ]
  },
  {
   "cell_type": "code",
   "execution_count": 332,
   "metadata": {
    "scrolled": false
   },
   "outputs": [
    {
     "name": "stdout",
     "output_type": "stream",
     "text": [
      "             precision    recall  f1-score   support\n",
      "\n",
      "      agree       0.45      0.00      0.01      1903\n",
      "   disagree       0.00      0.00      0.00       697\n",
      "    discuss       0.62      0.63      0.63      4464\n",
      "  unrelated       0.87      0.99      0.92     18349\n",
      "\n",
      "avg / total       0.77      0.82      0.78     25413\n",
      "\n"
     ]
    },
    {
     "name": "stderr",
     "output_type": "stream",
     "text": [
      "/Applications/anaconda3/lib/python3.6/site-packages/sklearn/metrics/classification.py:1135: UndefinedMetricWarning: Precision and F-score are ill-defined and being set to 0.0 in labels with no predicted samples.\n",
      "  'precision', 'predicted', average, warn_for)\n"
     ]
    }
   ],
   "source": [
    "from sklearn.metrics import classification_report,confusion_matrix\n",
    "y_true = test_data['Stance']\n",
    "y_pred = test_pred_lin\n",
    "print(classification_report(y_true, y_pred))"
   ]
  },
  {
   "cell_type": "code",
   "execution_count": 333,
   "metadata": {
    "scrolled": false
   },
   "outputs": [
    {
     "data": {
      "text/plain": [
       "array([[    5,     0,  1192,   706],\n",
       "       [    0,     0,   262,   435],\n",
       "       [    6,     0,  2833,  1625],\n",
       "       [    0,     0,   255, 18094]])"
      ]
     },
     "execution_count": 333,
     "metadata": {},
     "output_type": "execute_result"
    }
   ],
   "source": [
    "confusion_matrix(y_true, y_pred, sample_weight=None)"
   ]
  },
  {
   "cell_type": "code",
   "execution_count": 371,
   "metadata": {},
   "outputs": [
    {
     "data": {
      "text/plain": [
       "'euc_dist_key'"
      ]
     },
     "execution_count": 371,
     "metadata": {},
     "output_type": "execute_result"
    }
   ],
   "source": [
    "col[6]"
   ]
  },
  {
   "cell_type": "markdown",
   "metadata": {},
   "source": [
    "LR models"
   ]
  },
  {
   "cell_type": "code",
   "execution_count": 399,
   "metadata": {
    "collapsed": true
   },
   "outputs": [],
   "source": [
    "theta_lr = []\n",
    "cost_lr = []\n",
    "lam = 0.1\n",
    "model_names_lr = ['lr_unrelated','lr_agree','lr_disagree','lr_discuss']\n",
    "#restore prediction on validation\n",
    "y_pred_lr = np.zeros([4,len(valid_X)]) "
   ]
  },
  {
   "cell_type": "code",
   "execution_count": 400,
   "metadata": {},
   "outputs": [
    {
     "name": "stdout",
     "output_type": "stream",
     "text": [
      "lr_unrelated\n"
     ]
    }
   ],
   "source": [
    "#build 4 models\n",
    "#unrelated\n",
    "i = 0\n",
    "model_name = model_names_lr[i]\n",
    "print(model_name)\n",
    "X = train_X\n",
    "y = train[model_name].values.reshape([len(X),1])\n",
    "#training...\n",
    "theta, cost = md.gradient_lr(X, y, ini_theta, learning_rate, iters, lam)\n",
    "theta_lr.append(theta)\n",
    "cost_lr.append(cost)\n",
    "y_pred_lr[i] = (md.sigmoid(valid_X@theta)).reshape(len(valid_X))\n",
    "valid_y = valid[model_name].values.reshape([len(valid),1])"
   ]
  },
  {
   "cell_type": "code",
   "execution_count": 401,
   "metadata": {},
   "outputs": [
    {
     "name": "stdout",
     "output_type": "stream",
     "text": [
      "[[1303   25]\n",
      " [ 103 3566]]\n",
      "Accuracy: 0.974384630778467\n",
      "Recall: 0.9719269555737258\n",
      "Precision: 0.9930381509328877\n",
      "F1 score: 0.9823691460055096\n",
      "AUC: 0.9765508271844533\n"
     ]
    }
   ],
   "source": [
    "threshold = 0.7\n",
    "y_pred_class = y_pred_lr[i] > threshold\n",
    "valid_y_class = valid_y > 0.5\n",
    "md.evaluate(valid_y_class, y_pred_class)"
   ]
  },
  {
   "cell_type": "code",
   "execution_count": 402,
   "metadata": {
    "scrolled": true
   },
   "outputs": [
    {
     "name": "stdout",
     "output_type": "stream",
     "text": [
      "AUC: 0.9944149040971736\n"
     ]
    },
    {
     "data": {
      "image/png": "[encoded data removed]",
      "text/plain": [
       "<matplotlib.figure.Figure at 0x12264a4e0>"
      ]
     },
     "metadata": {},
     "output_type": "display_data"
    }
   ],
   "source": [
    "md.roc(valid_y, y_pred_lr[i])"
   ]
  },
  {
   "cell_type": "code",
   "execution_count": 403,
   "metadata": {},
   "outputs": [
    {
     "name": "stdout",
     "output_type": "stream",
     "text": [
      "lr_agree\n"
     ]
    }
   ],
   "source": [
    "#agree\n",
    "i = 1\n",
    "model_name = model_names_lr[i]\n",
    "print(model_name)\n",
    "#downsampling\n",
    "# sample = downsampling(train, model_name, r = 1)\n",
    "sample = downsampling(train, model_name, r = 0.3)\n",
    "X = sample[xcols].as_matrix()\n",
    "X = md.preprocess_X(X)\n",
    "y = sample[model_name].values.reshape([len(X),1])\n",
    "#training...\n",
    "theta, cost = md.gradient_lr(X, y, ini_theta, learning_rate, iters, lam)\n",
    "theta_lr.append(theta)\n",
    "cost_lr.append(cost)\n",
    "y_pred_lr[i] = (md.sigmoid(valid_X@theta)).reshape(len(valid_X))\n",
    "valid_y = valid[model_name].values.reshape([len(valid),1])"
   ]
  },
  {
   "cell_type": "code",
   "execution_count": 404,
   "metadata": {},
   "outputs": [
    {
     "name": "stdout",
     "output_type": "stream",
     "text": [
      "[[3684  928]\n",
      " [  30  355]]\n",
      "Accuracy: 0.8082849709825896\n",
      "Recall: 0.922077922077922\n",
      "Precision: 0.2766952455183164\n",
      "F1 score: 0.42565947242206226\n",
      "AUC: 0.8604318491569142\n"
     ]
    }
   ],
   "source": [
    "threshold = 0.3\n",
    "y_pred_class = y_pred_lr[i] > threshold\n",
    "valid_y_class = valid_y > 0.5\n",
    "md.evaluate(valid_y_class, y_pred_class)"
   ]
  },
  {
   "cell_type": "code",
   "execution_count": 405,
   "metadata": {
    "scrolled": false
   },
   "outputs": [
    {
     "name": "stdout",
     "output_type": "stream",
     "text": [
      "AUC: 0.8919081785517171\n"
     ]
    },
    {
     "data": {
      "image/png": "[encoded data removed]",
      "text/plain": [
       "<matplotlib.figure.Figure at 0x11ce8e438>"
      ]
     },
     "metadata": {},
     "output_type": "display_data"
    }
   ],
   "source": [
    "md.roc(valid_y, y_pred_lr[i])"
   ]
  },
  {
   "cell_type": "code",
   "execution_count": 407,
   "metadata": {},
   "outputs": [
    {
     "name": "stdout",
     "output_type": "stream",
     "text": [
      "lr_disagree\n"
     ]
    }
   ],
   "source": [
    "#disagree\n",
    "i = 2\n",
    "model_name = model_names_lr[i]\n",
    "print(model_name)\n",
    "#downsampling\n",
    "# sample = downsampling(train, model_name, r = 1)\n",
    "sample = downsampling(train, model_name, r = 0.1)\n",
    "X = sample[xcols].as_matrix()\n",
    "X = md.preprocess_X(X)\n",
    "y = sample[model_name].values.reshape([len(X),1])\n",
    "#training...\n",
    "theta, cost = md.gradient_lr(X, y, ini_theta, learning_rate, iters, lam)\n",
    "theta_lr.append(theta)\n",
    "cost_lr.append(cost)\n",
    "y_pred_lr[i] = (md.sigmoid(valid_X@theta)).reshape(len(valid_X))\n",
    "valid_y = valid[model_name].values.reshape([len(valid),1])"
   ]
  },
  {
   "cell_type": "code",
   "execution_count": 408,
   "metadata": {},
   "outputs": [
    {
     "name": "stdout",
     "output_type": "stream",
     "text": [
      "[[3699 1222]\n",
      " [   3   73]]\n",
      "Accuracy: 0.7548529117470483\n",
      "Recall: 0.9605263157894737\n",
      "Precision: 0.05637065637065637\n",
      "F1 score: 0.10649161196207148\n",
      "AUC: 0.8561014021540337\n"
     ]
    }
   ],
   "source": [
    "threshold = 0.2\n",
    "y_pred_class = y_pred_lr[i] > threshold\n",
    "valid_y_class = valid_y > 0.5\n",
    "md.evaluate(valid_y_class, y_pred_class)"
   ]
  },
  {
   "cell_type": "code",
   "execution_count": 409,
   "metadata": {
    "scrolled": true
   },
   "outputs": [
    {
     "name": "stdout",
     "output_type": "stream",
     "text": [
      "AUC: 0.8569770799687697\n"
     ]
    },
    {
     "data": {
      "image/png": "[encoded data removed]",
      "text/plain": [
       "<matplotlib.figure.Figure at 0x122540390>"
      ]
     },
     "metadata": {},
     "output_type": "display_data"
    }
   ],
   "source": [
    "md.roc(valid_y, y_pred_lr[i])"
   ]
  },
  {
   "cell_type": "code",
   "execution_count": 410,
   "metadata": {},
   "outputs": [
    {
     "name": "stdout",
     "output_type": "stream",
     "text": [
      "lr_discuss\n"
     ]
    }
   ],
   "source": [
    "#discuss\n",
    "i = 3\n",
    "model_name = model_names_lr[i]\n",
    "print(model_name)\n",
    "X = train_X\n",
    "y = train[model_name].values.reshape([len(X),1])\n",
    "#training...\n",
    "theta, cost = md.gradient_lr(X, y, ini_theta, learning_rate, iters, lam)\n",
    "theta_lr.append(theta)\n",
    "cost_lr.append(cost)\n",
    "y_pred_lr[i] = (md.sigmoid(valid_X@theta)).reshape(len(valid_X))\n",
    "valid_y = valid[model_name].values.reshape([len(valid),1])"
   ]
  },
  {
   "cell_type": "code",
   "execution_count": 411,
   "metadata": {},
   "outputs": [
    {
     "name": "stdout",
     "output_type": "stream",
     "text": [
      "[[3608  522]\n",
      " [  16  851]]\n",
      "Accuracy: 0.8923354012407444\n",
      "Recall: 0.9815455594002307\n",
      "Precision: 0.619810633648944\n",
      "F1 score: 0.7598214285714285\n",
      "AUC: 0.9275766537921252\n"
     ]
    }
   ],
   "source": [
    "threshold = 0.2\n",
    "y_pred_class = y_pred_lr[i] > threshold\n",
    "valid_y_class = valid_y > 0.5\n",
    "md.evaluate(valid_y_class, y_pred_class)"
   ]
  },
  {
   "cell_type": "code",
   "execution_count": 412,
   "metadata": {
    "scrolled": true
   },
   "outputs": [
    {
     "name": "stdout",
     "output_type": "stream",
     "text": [
      "AUC: 0.9423653409519341\n"
     ]
    },
    {
     "data": {
      "image/png": "[encoded data removed]",
      "text/plain": [
       "<matplotlib.figure.Figure at 0x11cfa29e8>"
      ]
     },
     "metadata": {},
     "output_type": "display_data"
    }
   ],
   "source": [
    "md.roc(valid_y, y_pred_lr[i])"
   ]
  },
  {
   "cell_type": "code",
   "execution_count": 413,
   "metadata": {},
   "outputs": [
    {
     "data": {
      "image/png": "[encoded data removed]",
      "text/plain": [
       "<matplotlib.figure.Figure at 0x121f87f60>"
      ]
     },
     "metadata": {},
     "output_type": "display_data"
    }
   ],
   "source": [
    "plt.figure(figsize = (15, 5))\n",
    "plt.scatter(range(len(theta_lin[0])-1),np.abs(theta_lr[0][1:]), color = 'blue', label = 'unrelated')\n",
    "plt.scatter(range(len(theta_lin[1])-1),np.abs(theta_lr[1][1:]), color = 'pink', label = 'agree')\n",
    "plt.scatter(range(len(theta_lin[1])-1),np.abs(theta_lr[2][1:]), color = 'yellow', label = 'disagree')\n",
    "plt.scatter(range(len(theta_lin[1])-1),np.abs(theta_lr[3][1:]), color = 'orange', label = 'discuss')\n",
    "plt.xlabel('Features')\n",
    "plt.ylabel('Theta Values of LR Models')\n",
    "plt.legend()\n",
    "plt.show()"
   ]
  },
  {
   "cell_type": "code",
   "execution_count": 414,
   "metadata": {
    "collapsed": true
   },
   "outputs": [],
   "source": [
    "t = [0.7,0.3,0.2,0.2]"
   ]
  },
  {
   "cell_type": "code",
   "execution_count": 349,
   "metadata": {
    "collapsed": true
   },
   "outputs": [],
   "source": [
    "valid_pred_lr = onevsall(y_pred_lr)"
   ]
  },
  {
   "cell_type": "code",
   "execution_count": 350,
   "metadata": {
    "scrolled": true
   },
   "outputs": [
    {
     "data": {
      "text/plain": [
       "0.8817290374224535"
      ]
     },
     "execution_count": 350,
     "metadata": {},
     "output_type": "execute_result"
    }
   ],
   "source": [
    "sum(valid_pred_lr == valid['Stance'])/ 4997"
   ]
  },
  {
   "cell_type": "code",
   "execution_count": 351,
   "metadata": {
    "scrolled": false
   },
   "outputs": [
    {
     "name": "stdout",
     "output_type": "stream",
     "text": [
      "             precision    recall  f1-score   support\n",
      "\n",
      "      agree       0.00      0.00      0.00       385\n",
      "   disagree       0.00      0.00      0.00        76\n",
      "    discuss       0.65      0.88      0.74       867\n",
      "  unrelated       0.95      0.99      0.97      3669\n",
      "\n",
      "avg / total       0.81      0.88      0.84      4997\n",
      "\n"
     ]
    },
    {
     "name": "stderr",
     "output_type": "stream",
     "text": [
      "/Applications/anaconda3/lib/python3.6/site-packages/sklearn/metrics/classification.py:1135: UndefinedMetricWarning: Precision and F-score are ill-defined and being set to 0.0 in labels with no predicted samples.\n",
      "  'precision', 'predicted', average, warn_for)\n"
     ]
    }
   ],
   "source": [
    "from sklearn.metrics import classification_report,confusion_matrix\n",
    "y_true = valid['Stance']\n",
    "y_pred = valid_pred_lr\n",
    "print(classification_report(y_true, y_pred))"
   ]
  },
  {
   "cell_type": "code",
   "execution_count": 352,
   "metadata": {
    "collapsed": true
   },
   "outputs": [],
   "source": [
    "valid_pred_lr = onevsall_new(y_pred_lr,t)"
   ]
  },
  {
   "cell_type": "code",
   "execution_count": 353,
   "metadata": {
    "scrolled": true
   },
   "outputs": [
    {
     "data": {
      "text/plain": [
       "0.8789273564138483"
      ]
     },
     "execution_count": 353,
     "metadata": {},
     "output_type": "execute_result"
    }
   ],
   "source": [
    "sum(valid_pred_lr == valid['Stance'])/ 4997"
   ]
  },
  {
   "cell_type": "code",
   "execution_count": 354,
   "metadata": {
    "scrolled": false
   },
   "outputs": [
    {
     "name": "stdout",
     "output_type": "stream",
     "text": [
      "             precision    recall  f1-score   support\n",
      "\n",
      "      agree       0.27      0.08      0.12       385\n",
      "   disagree       0.00      0.00      0.00        76\n",
      "    discuss       0.61      0.89      0.73       867\n",
      "  unrelated       0.99      0.98      0.98      3669\n",
      "\n",
      "avg / total       0.85      0.88      0.86      4997\n",
      "\n"
     ]
    },
    {
     "name": "stderr",
     "output_type": "stream",
     "text": [
      "/Applications/anaconda3/lib/python3.6/site-packages/sklearn/metrics/classification.py:1135: UndefinedMetricWarning: Precision and F-score are ill-defined and being set to 0.0 in labels with no predicted samples.\n",
      "  'precision', 'predicted', average, warn_for)\n"
     ]
    }
   ],
   "source": [
    "from sklearn.metrics import classification_report,confusion_matrix\n",
    "y_true = valid['Stance']\n",
    "y_pred = valid_pred_lr\n",
    "print(classification_report(y_true, y_pred))"
   ]
  },
  {
   "cell_type": "code",
   "execution_count": 355,
   "metadata": {
    "scrolled": false
   },
   "outputs": [
    {
     "data": {
      "text/plain": [
       "array([[  31,    0,  338,   16],\n",
       "       [   7,    0,   68,    1],\n",
       "       [  76,    0,  775,   16],\n",
       "       [   1,    0,   82, 3586]])"
      ]
     },
     "execution_count": 355,
     "metadata": {},
     "output_type": "execute_result"
    }
   ],
   "source": [
    "confusion_matrix(y_true, y_pred, sample_weight=None)"
   ]
  },
  {
   "cell_type": "markdown",
   "metadata": {},
   "source": [
    "result on test set"
   ]
  },
  {
   "cell_type": "code",
   "execution_count": 415,
   "metadata": {
    "collapsed": true
   },
   "outputs": [],
   "source": [
    "#restore test results\n",
    "ts_pred_lr = np.zeros([4,len(test_X)]) "
   ]
  },
  {
   "cell_type": "code",
   "execution_count": 416,
   "metadata": {
    "collapsed": true
   },
   "outputs": [],
   "source": [
    "for i in range(4):\n",
    "    theta = theta_lr[i]\n",
    "    ts_pred_lr[i] = (md.sigmoid(test_X@theta)).reshape(len(test_X))"
   ]
  },
  {
   "cell_type": "code",
   "execution_count": 417,
   "metadata": {
    "collapsed": true
   },
   "outputs": [],
   "source": [
    "test_pred_lr = onevsall(ts_pred_lr)"
   ]
  },
  {
   "cell_type": "code",
   "execution_count": 418,
   "metadata": {
    "scrolled": true
   },
   "outputs": [
    {
     "data": {
      "text/plain": [
       "0.7593357730295518"
      ]
     },
     "execution_count": 418,
     "metadata": {},
     "output_type": "execute_result"
    }
   ],
   "source": [
    "sum(test_pred_lr == test_data['Stance'])/ len(test_data)"
   ]
  },
  {
   "cell_type": "code",
   "execution_count": 419,
   "metadata": {
    "scrolled": false
   },
   "outputs": [
    {
     "name": "stdout",
     "output_type": "stream",
     "text": [
      "             precision    recall  f1-score   support\n",
      "\n",
      "      agree       0.27      0.57      0.36      1903\n",
      "   disagree       0.00      0.00      0.00       697\n",
      "    discuss       0.00      0.00      0.00      4464\n",
      "  unrelated       0.85      0.99      0.92     18349\n",
      "\n",
      "avg / total       0.64      0.76      0.69     25413\n",
      "\n"
     ]
    },
    {
     "name": "stderr",
     "output_type": "stream",
     "text": [
      "/Applications/anaconda3/lib/python3.6/site-packages/sklearn/metrics/classification.py:1135: UndefinedMetricWarning: Precision and F-score are ill-defined and being set to 0.0 in labels with no predicted samples.\n",
      "  'precision', 'predicted', average, warn_for)\n"
     ]
    }
   ],
   "source": [
    "from sklearn.metrics import classification_report,confusion_matrix\n",
    "y_true = test_data['Stance']\n",
    "y_pred = test_pred_lr\n",
    "print(classification_report(y_true, y_pred))"
   ]
  },
  {
   "cell_type": "code",
   "execution_count": 420,
   "metadata": {
    "collapsed": true
   },
   "outputs": [],
   "source": [
    "test_pred_lr = onevsall_new(ts_pred_lr,t)"
   ]
  },
  {
   "cell_type": "code",
   "execution_count": 421,
   "metadata": {
    "scrolled": true
   },
   "outputs": [
    {
     "data": {
      "text/plain": [
       "0.7638216660764175"
      ]
     },
     "execution_count": 421,
     "metadata": {},
     "output_type": "execute_result"
    }
   ],
   "source": [
    "sum(test_pred_lr == test_data['Stance'])/ len(test_data)"
   ]
  },
  {
   "cell_type": "code",
   "execution_count": 422,
   "metadata": {
    "scrolled": false
   },
   "outputs": [
    {
     "name": "stdout",
     "output_type": "stream",
     "text": [
      "             precision    recall  f1-score   support\n",
      "\n",
      "      agree       0.26      0.77      0.39      1903\n",
      "   disagree       0.00      0.00      0.00       697\n",
      "    discuss       0.32      0.01      0.01      4464\n",
      "  unrelated       0.91      0.98      0.94     18349\n",
      "\n",
      "avg / total       0.73      0.76      0.71     25413\n",
      "\n"
     ]
    },
    {
     "name": "stderr",
     "output_type": "stream",
     "text": [
      "/Applications/anaconda3/lib/python3.6/site-packages/sklearn/metrics/classification.py:1135: UndefinedMetricWarning: Precision and F-score are ill-defined and being set to 0.0 in labels with no predicted samples.\n",
      "  'precision', 'predicted', average, warn_for)\n"
     ]
    }
   ],
   "source": [
    "from sklearn.metrics import classification_report,confusion_matrix\n",
    "y_true = test_data['Stance']\n",
    "y_pred = test_pred_lr\n",
    "print(classification_report(y_true, y_pred))"
   ]
  },
  {
   "cell_type": "code",
   "execution_count": 364,
   "metadata": {
    "scrolled": false
   },
   "outputs": [
    {
     "data": {
      "text/plain": [
       "array([[   33,     0,  1598,   272],\n",
       "       [    5,     0,   470,   222],\n",
       "       [  119,     0,  3720,   625],\n",
       "       [    4,     0,   720, 17625]])"
      ]
     },
     "execution_count": 364,
     "metadata": {},
     "output_type": "execute_result"
    }
   ],
   "source": [
    "confusion_matrix(y_true, y_pred, sample_weight=None)"
   ]
  },
  {
   "cell_type": "markdown",
   "metadata": {
    "collapsed": true
   },
   "source": [
    "Xgboost model"
   ]
  },
  {
   "cell_type": "code",
   "execution_count": 266,
   "metadata": {
    "collapsed": true
   },
   "outputs": [],
   "source": [
    "import xgboost as xgb  "
   ]
  },
  {
   "cell_type": "code",
   "execution_count": 267,
   "metadata": {
    "collapsed": true
   },
   "outputs": [],
   "source": [
    "sample0 = (train[train['Stance'] == 'unrelated'].copy()).sample(frac = 0.2)\n",
    "sample1 = train[train['Stance'] != 'unrelated'].copy()"
   ]
  },
  {
   "cell_type": "code",
   "execution_count": 268,
   "metadata": {
    "collapsed": true
   },
   "outputs": [],
   "source": [
    "sample = pd.concat([sample0, sample1],axis=0)"
   ]
  },
  {
   "cell_type": "code",
   "execution_count": 269,
   "metadata": {},
   "outputs": [
    {
     "data": {
      "text/plain": [
       "(18674, 24)"
      ]
     },
     "execution_count": 269,
     "metadata": {},
     "output_type": "execute_result"
    }
   ],
   "source": [
    "sample.shape"
   ]
  },
  {
   "cell_type": "code",
   "execution_count": 270,
   "metadata": {
    "collapsed": true
   },
   "outputs": [],
   "source": [
    "col = list(sample.columns)[4:16]"
   ]
  },
  {
   "cell_type": "code",
   "execution_count": 271,
   "metadata": {
    "scrolled": false
   },
   "outputs": [
    {
     "data": {
      "text/plain": [
       "['cos_sim',\n",
       " 'cos_sim_key',\n",
       " 'cos_sim_w2v',\n",
       " 'kl_head_uni',\n",
       " 'kl_head_bi',\n",
       " 'euc_dist',\n",
       " 'euc_dist_key',\n",
       " 'euc_dist_w2v',\n",
       " 'spear_corr',\n",
       " 'spear_corr_key',\n",
       " 'spear_corr_w2v',\n",
       " 'same_word']"
      ]
     },
     "execution_count": 271,
     "metadata": {},
     "output_type": "execute_result"
    }
   ],
   "source": [
    "col"
   ]
  },
  {
   "cell_type": "code",
   "execution_count": 272,
   "metadata": {
    "collapsed": true
   },
   "outputs": [],
   "source": [
    "tr_X = sample[col].values.copy()\n",
    "vl_X = valid[col].values.copy()\n",
    "ts_X = test_data[col].values.copy()"
   ]
  },
  {
   "cell_type": "code",
   "execution_count": 273,
   "metadata": {
    "collapsed": true
   },
   "outputs": [],
   "source": [
    "tr_Y = sample['Stance'].values.copy()\n",
    "vl_Y = valid['Stance'].values.copy()\n",
    "ts_Y = test_data['Stance'].values.copy()"
   ]
  },
  {
   "cell_type": "code",
   "execution_count": 274,
   "metadata": {
    "collapsed": true
   },
   "outputs": [],
   "source": [
    "for i in range(len(tr_Y)):\n",
    "    if tr_Y[i] == 'unrelated':\n",
    "        tr_Y[i] = 0\n",
    "    elif tr_Y[i] == 'agree':\n",
    "        tr_Y[i] = 1\n",
    "    elif tr_Y[i] == 'disagree':\n",
    "        tr_Y[i] = 2\n",
    "    elif tr_Y[i] == 'discuss':\n",
    "        tr_Y[i] = 3"
   ]
  },
  {
   "cell_type": "code",
   "execution_count": 275,
   "metadata": {
    "collapsed": true
   },
   "outputs": [],
   "source": [
    "for i in range(len(vl_Y)):\n",
    "    if vl_Y[i] == 'unrelated':\n",
    "        vl_Y[i] = 0\n",
    "    elif vl_Y[i] == 'agree':\n",
    "        vl_Y[i] = 1\n",
    "    elif vl_Y[i] == 'disagree':\n",
    "        vl_Y[i] = 2\n",
    "    elif vl_Y[i] == 'discuss':\n",
    "        vl_Y[i] = 3"
   ]
  },
  {
   "cell_type": "code",
   "execution_count": 276,
   "metadata": {
    "collapsed": true
   },
   "outputs": [
    {
     "name": "stdout",
     "output_type": "stream",
     "text": [
      "[0]\ttrain-merror:0.209007\tval-merror:0.125876\n",
      "Multiple eval metrics have been passed: 'val-merror' will be used for early stopping.\n",
      "\n",
      "Will train until val-merror hasn't improved in 100 rounds.\n",
      "[1]\ttrain-merror:0.181804\tval-merror:0.109466\n",
      "[2]\ttrain-merror:0.167506\tval-merror:0.109065\n",
      "[3]\ttrain-merror:0.162311\tval-merror:0.108665\n",
      "[4]\ttrain-merror:0.153957\tval-merror:0.107264\n",
      "[5]\ttrain-merror:0.148656\tval-merror:0.107464\n",
      "[6]\ttrain-merror:0.145229\tval-merror:0.106064\n",
      "[7]\ttrain-merror:0.141909\tval-merror:0.107665\n",
      "[8]\ttrain-merror:0.13891\tval-merror:0.103462\n",
      "[9]\ttrain-merror:0.134144\tval-merror:0.105063\n",
      "[10]\ttrain-merror:0.130288\tval-merror:0.105463\n",
      "[11]\ttrain-merror:0.127718\tval-merror:0.104062\n",
      "[12]\ttrain-merror:0.122952\tval-merror:0.102461\n",
      "[13]\ttrain-merror:0.11931\tval-merror:0.102261\n",
      "[14]\ttrain-merror:0.115722\tval-merror:0.104863\n",
      "[15]\ttrain-merror:0.112563\tval-merror:0.102461\n",
      "[16]\ttrain-merror:0.109832\tval-merror:0.102061\n",
      "[17]\ttrain-merror:0.107958\tval-merror:0.100861\n",
      "[18]\ttrain-merror:0.104584\tval-merror:0.102261\n",
      "[19]\ttrain-merror:0.102924\tval-merror:0.101461\n",
      "[20]\ttrain-merror:0.097783\tval-merror:0.102061\n",
      "[21]\ttrain-merror:0.094249\tval-merror:0.101061\n",
      "[22]\ttrain-merror:0.091036\tval-merror:0.101661\n",
      "[23]\ttrain-merror:0.088251\tval-merror:0.102061\n",
      "[24]\ttrain-merror:0.085627\tval-merror:0.102662\n",
      "[25]\ttrain-merror:0.082039\tval-merror:0.101261\n",
      "[26]\ttrain-merror:0.080272\tval-merror:0.102261\n",
      "[27]\ttrain-merror:0.079255\tval-merror:0.103062\n",
      "[28]\ttrain-merror:0.076256\tval-merror:0.103062\n",
      "[29]\ttrain-merror:0.073685\tval-merror:0.102662\n",
      "[30]\ttrain-merror:0.068437\tval-merror:0.104062\n",
      "[31]\ttrain-merror:0.065385\tval-merror:0.102061\n",
      "[32]\ttrain-merror:0.063404\tval-merror:0.102862\n",
      "[33]\ttrain-merror:0.062011\tval-merror:0.102061\n",
      "[34]\ttrain-merror:0.06003\tval-merror:0.103862\n",
      "[35]\ttrain-merror:0.057513\tval-merror:0.101861\n",
      "[36]\ttrain-merror:0.054996\tval-merror:0.102261\n",
      "[37]\ttrain-merror:0.053604\tval-merror:0.102261\n",
      "[38]\ttrain-merror:0.050926\tval-merror:0.101461\n",
      "[39]\ttrain-merror:0.048731\tval-merror:0.101661\n",
      "[40]\ttrain-merror:0.046482\tval-merror:0.102061\n",
      "[41]\ttrain-merror:0.044447\tval-merror:0.102461\n",
      "[42]\ttrain-merror:0.042947\tval-merror:0.102862\n",
      "[43]\ttrain-merror:0.040216\tval-merror:0.101861\n",
      "[44]\ttrain-merror:0.039145\tval-merror:0.102862\n",
      "[45]\ttrain-merror:0.037485\tval-merror:0.103262\n",
      "[46]\ttrain-merror:0.035825\tval-merror:0.103662\n",
      "[47]\ttrain-merror:0.034647\tval-merror:0.102862\n",
      "[48]\ttrain-merror:0.032291\tval-merror:0.102061\n",
      "[49]\ttrain-merror:0.031113\tval-merror:0.100861\n",
      "[50]\ttrain-merror:0.029613\tval-merror:0.101661\n",
      "[51]\ttrain-merror:0.02806\tval-merror:0.101261\n",
      "[52]\ttrain-merror:0.026989\tval-merror:0.101661\n",
      "[53]\ttrain-merror:0.025383\tval-merror:0.10066\n",
      "[54]\ttrain-merror:0.024044\tval-merror:0.10026\n",
      "[55]\ttrain-merror:0.023294\tval-merror:0.101461\n",
      "[56]\ttrain-merror:0.021634\tval-merror:0.101661\n",
      "[57]\ttrain-merror:0.020135\tval-merror:0.100861\n",
      "[58]\ttrain-merror:0.018957\tval-merror:0.101261\n",
      "[59]\ttrain-merror:0.017993\tval-merror:0.10046\n",
      "[60]\ttrain-merror:0.017404\tval-merror:0.101261\n",
      "[61]\ttrain-merror:0.01644\tval-merror:0.09986\n",
      "[62]\ttrain-merror:0.016065\tval-merror:0.10006\n",
      "[63]\ttrain-merror:0.015208\tval-merror:0.100861\n",
      "[64]\ttrain-merror:0.014298\tval-merror:0.10046\n",
      "[65]\ttrain-merror:0.014352\tval-merror:0.09966\n",
      "[66]\ttrain-merror:0.013066\tval-merror:0.099059\n",
      "[67]\ttrain-merror:0.012317\tval-merror:0.09946\n",
      "[68]\ttrain-merror:0.011888\tval-merror:0.098659\n",
      "[69]\ttrain-merror:0.011138\tval-merror:0.09926\n",
      "[70]\ttrain-merror:0.011031\tval-merror:0.09926\n",
      "[71]\ttrain-merror:0.01071\tval-merror:0.099059\n",
      "[72]\ttrain-merror:0.009639\tval-merror:0.09946\n",
      "[73]\ttrain-merror:0.009211\tval-merror:0.099059\n",
      "[74]\ttrain-merror:0.009211\tval-merror:0.099059\n",
      "[75]\ttrain-merror:0.008461\tval-merror:0.099059\n",
      "[76]\ttrain-merror:0.00814\tval-merror:0.098659\n",
      "[77]\ttrain-merror:0.007818\tval-merror:0.098659\n",
      "[78]\ttrain-merror:0.007497\tval-merror:0.09926\n",
      "[79]\ttrain-merror:0.006962\tval-merror:0.09986\n",
      "[80]\ttrain-merror:0.00664\tval-merror:0.10006\n",
      "[81]\ttrain-merror:0.006587\tval-merror:0.10026\n",
      "[82]\ttrain-merror:0.006051\tval-merror:0.09986\n",
      "[83]\ttrain-merror:0.005676\tval-merror:0.098659\n",
      "[84]\ttrain-merror:0.005837\tval-merror:0.098659\n",
      "[85]\ttrain-merror:0.005623\tval-merror:0.098859\n",
      "[86]\ttrain-merror:0.005194\tval-merror:0.098859\n",
      "[87]\ttrain-merror:0.00498\tval-merror:0.09946\n",
      "[88]\ttrain-merror:0.00482\tval-merror:0.10006\n",
      "[89]\ttrain-merror:0.00482\tval-merror:0.098859\n",
      "[90]\ttrain-merror:0.00482\tval-merror:0.098659\n",
      "[91]\ttrain-merror:0.004284\tval-merror:0.09926\n",
      "[92]\ttrain-merror:0.004177\tval-merror:0.098659\n",
      "[93]\ttrain-merror:0.003802\tval-merror:0.09946\n",
      "[94]\ttrain-merror:0.003534\tval-merror:0.098059\n",
      "[95]\ttrain-merror:0.003534\tval-merror:0.097258\n",
      "[96]\ttrain-merror:0.00332\tval-merror:0.098059\n",
      "[97]\ttrain-merror:0.002999\tval-merror:0.098459\n",
      "[98]\ttrain-merror:0.002678\tval-merror:0.098059\n",
      "[99]\ttrain-merror:0.002463\tval-merror:0.098659\n"
     ]
    }
   ],
   "source": [
    "params={\n",
    "'booster':'gbtree',\n",
    "'objective': 'multi:softmax', \n",
    "'num_class':4, \n",
    "'gamma':0.05, \n",
    "'max_depth':15, \n",
    "# 'lambda':50, \n",
    "'subsample':0.3, \n",
    "'colsample_bytree':0.7, \n",
    "'silent':1 ,\n",
    "'eta': 0.2, \n",
    "'seed':710,\n",
    "'nthread':4,\n",
    "}\n",
    "\n",
    "plst = list(params.items())\n",
    "\n",
    "num_rounds = 100 \n",
    "xg_train = xgb.DMatrix(tr_X, label=tr_Y)\n",
    "xg_val = xgb.DMatrix(vl_X, label=vl_Y)\n",
    "xg_test = xgb.DMatrix(ts_X)\n",
    "watchlist = [(xg_train, 'train'),(xg_val, 'val')]\n",
    "\n",
    "# training...\n",
    "model = xgb.train(plst, xg_train, num_rounds, watchlist,early_stopping_rounds=100)\n",
    "preds = model.predict(xg_test,ntree_limit=model.best_iteration)"
   ]
  },
  {
   "cell_type": "code",
   "execution_count": 277,
   "metadata": {},
   "outputs": [
    {
     "data": {
      "text/plain": [
       "{0.0, 1.0, 2.0, 3.0}"
      ]
     },
     "execution_count": 277,
     "metadata": {},
     "output_type": "execute_result"
    }
   ],
   "source": [
    "set(preds)"
   ]
  },
  {
   "cell_type": "code",
   "execution_count": 278,
   "metadata": {
    "collapsed": true
   },
   "outputs": [],
   "source": [
    "pred_class = []\n",
    "for i in range(len(preds)):\n",
    "    if preds[i] == 0:\n",
    "        pred_class.append('unrelated')\n",
    "    elif preds[i] == 1:\n",
    "        pred_class.append('agree')\n",
    "    elif preds[i] == 2:\n",
    "        pred_class.append('disagree')\n",
    "    elif preds[i] == 3:\n",
    "        pred_class.append('discuss')\n",
    "assert len(pred_class) == len(preds)"
   ]
  },
  {
   "cell_type": "code",
   "execution_count": 279,
   "metadata": {
    "scrolled": false
   },
   "outputs": [
    {
     "name": "stdout",
     "output_type": "stream",
     "text": [
      "             precision    recall  f1-score   support\n",
      "\n",
      "      agree       0.32      0.37      0.34      1903\n",
      "   disagree       0.09      0.03      0.04       697\n",
      "    discuss       0.58      0.54      0.56      4464\n",
      "  unrelated       0.94      0.96      0.95     18349\n",
      "\n",
      "avg / total       0.81      0.82      0.81     25413\n",
      "\n"
     ]
    }
   ],
   "source": [
    "from sklearn.metrics import classification_report,confusion_matrix\n",
    "y_true = ts_Y\n",
    "y_pred = pred_class\n",
    "print(classification_report(y_true, y_pred))"
   ]
  },
  {
   "cell_type": "code",
   "execution_count": 280,
   "metadata": {
    "scrolled": true
   },
   "outputs": [
    {
     "data": {
      "text/plain": [
       "array([[  712,    80,   864,   247],\n",
       "       [  166,    20,   267,   244],\n",
       "       [ 1283,   112,  2415,   654],\n",
       "       [   99,     6,   595, 17649]])"
      ]
     },
     "execution_count": 280,
     "metadata": {},
     "output_type": "execute_result"
    }
   ],
   "source": [
    "confusion_matrix(y_true, y_pred, sample_weight=None)"
   ]
  },
  {
   "cell_type": "code",
   "execution_count": 281,
   "metadata": {
    "scrolled": false
   },
   "outputs": [
    {
     "data": {
      "text/plain": [
       "0.818321331601936"
      ]
     },
     "execution_count": 281,
     "metadata": {},
     "output_type": "execute_result"
    }
   ],
   "source": [
    "sum(y_pred == y_true)/len(y_true)"
   ]
  },
  {
   "cell_type": "code",
   "execution_count": 372,
   "metadata": {
    "scrolled": false
   },
   "outputs": [
    {
     "data": {
      "image/png": "[encoded data removed]",
      "text/plain": [
       "<matplotlib.figure.Figure at 0x11f19e358>"
      ]
     },
     "metadata": {},
     "output_type": "display_data"
    }
   ],
   "source": [
    "fig, ax = plt.subplots(figsize=(5, 8))\n",
    "xgb.plot_importance(model, ax=ax, max_num_features=20)\n",
    "plt.show()"
   ]
  },
  {
   "cell_type": "code",
   "execution_count": 289,
   "metadata": {
    "scrolled": true
   },
   "outputs": [
    {
     "data": {
      "text/plain": [
       "'spear_corr'"
      ]
     },
     "execution_count": 289,
     "metadata": {},
     "output_type": "execute_result"
    }
   ],
   "source": [
    "col[8]"
   ]
  },
  {
   "cell_type": "code",
   "execution_count": 290,
   "metadata": {
    "scrolled": true
   },
   "outputs": [
    {
     "data": {
      "text/plain": [
       "'kl_head_uni'"
      ]
     },
     "execution_count": 290,
     "metadata": {},
     "output_type": "execute_result"
    }
   ],
   "source": [
    "col[3]"
   ]
  },
  {
   "cell_type": "code",
   "execution_count": 285,
   "metadata": {},
   "outputs": [
    {
     "data": {
      "text/plain": [
       "'spear_corr_key'"
      ]
     },
     "execution_count": 285,
     "metadata": {},
     "output_type": "execute_result"
    }
   ],
   "source": [
    "col[9]"
   ]
  },
  {
   "cell_type": "code",
   "execution_count": 283,
   "metadata": {},
   "outputs": [
    {
     "data": {
      "text/plain": [
       "'euc_dist'"
      ]
     },
     "execution_count": 283,
     "metadata": {},
     "output_type": "execute_result"
    }
   ],
   "source": [
    "col[5]"
   ]
  },
  {
   "cell_type": "code",
   "execution_count": 284,
   "metadata": {},
   "outputs": [
    {
     "data": {
      "text/plain": [
       "'cos_sim_w2v'"
      ]
     },
     "execution_count": 284,
     "metadata": {},
     "output_type": "execute_result"
    }
   ],
   "source": [
    "col[2]"
   ]
  },
  {
   "cell_type": "code",
   "execution_count": 286,
   "metadata": {},
   "outputs": [
    {
     "data": {
      "text/plain": [
       "'kl_head_bi'"
      ]
     },
     "execution_count": 286,
     "metadata": {},
     "output_type": "execute_result"
    }
   ],
   "source": [
    "col[4]"
   ]
  },
  {
   "cell_type": "code",
   "execution_count": 287,
   "metadata": {},
   "outputs": [
    {
     "data": {
      "text/plain": [
       "'euc_dist_w2v'"
      ]
     },
     "execution_count": 287,
     "metadata": {},
     "output_type": "execute_result"
    }
   ],
   "source": [
    "col[7]"
   ]
  },
  {
   "cell_type": "code",
   "execution_count": 288,
   "metadata": {},
   "outputs": [
    {
     "data": {
      "text/plain": [
       "'same_word'"
      ]
     },
     "execution_count": 288,
     "metadata": {},
     "output_type": "execute_result"
    }
   ],
   "source": [
    "col[11]"
   ]
  },
  {
   "cell_type": "code",
   "execution_count": null,
   "metadata": {
    "collapsed": true
   },
   "outputs": [],
   "source": []
  }
 ],
 "metadata": {
  "kernelspec": {
   "display_name": "Python 3",
   "language": "python",
   "name": "python3"
  },
  "language_info": {
   "codemirror_mode": {
    "name": "ipython",
    "version": 3
   },
   "file_extension": ".py",
   "mimetype": "text/x-python",
   "name": "python",
   "nbconvert_exporter": "python",
   "pygments_lexer": "ipython3",
   "version": "3.6.2"
  }
 },
 "nbformat": 4,
 "nbformat_minor": 2
}
